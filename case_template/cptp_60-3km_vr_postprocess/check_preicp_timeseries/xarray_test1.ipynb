{
 "metadata": {
  "language_info": {
   "codemirror_mode": {
    "name": "ipython",
    "version": 3
   },
   "file_extension": ".py",
   "mimetype": "text/x-python",
   "name": "python",
   "nbconvert_exporter": "python",
   "pygments_lexer": "ipython3",
   "version": "3.7.3-final"
  },
  "orig_nbformat": 2,
  "kernelspec": {
   "name": "python37364bitanaconda3virtualenv727956bfde954726a1657561bf3d3763",
   "display_name": "Python 3.7.3 64-bit ('anaconda3': virtualenv)",
   "language": "python"
  }
 },
 "nbformat": 4,
 "nbformat_minor": 2,
 "cells": [
  {
   "cell_type": "code",
   "execution_count": 6,
   "metadata": {},
   "outputs": [],
   "source": [
    "import xarray as xr\n",
    "import numpy  as np\n",
    "import seaborn as sns\n",
    "import pandas as pd\n",
    "import matplotlib.pyplot as plt\n",
    "import pymannkendall as mk"
   ]
  },
  {
   "cell_type": "code",
   "execution_count": 7,
   "metadata": {},
   "outputs": [
    {
     "output_type": "execute_result",
     "data": {
      "text/plain": [
       "<xarray.Dataset>\n",
       "Dimensions:  (lat: 160, lon: 280, time: 8262)\n",
       "Coordinates:\n",
       "  * time     (time) datetime64[ns] 1961-04-01 1961-04-02 ... 2014-08-31\n",
       "  * lon      (lon) float32 70.125 70.375 70.625 ... 139.375 139.625 139.875\n",
       "  * lat      (lat) float32 15.125 15.375 15.625 15.875 ... 54.375 54.625 54.875\n",
       "Data variables:\n",
       "    pre      (time, lat, lon) float32 ...\n",
       "Attributes:\n",
       "    CDI:          Climate Data Interface version 1.9.2 (http://mpimet.mpg.de/...\n",
       "    Conventions:  CF-1.4\n",
       "    history:      Thu Jan 21 18:46:56 2021: cdo -L -remapbil,grid_info -selmo...\n",
       "    CDO:          Climate Data Operators version 1.9.2 (http://mpimet.mpg.de/..."
      ],
      "text/html": "<pre>&lt;xarray.Dataset&gt;\nDimensions:  (lat: 160, lon: 280, time: 8262)\nCoordinates:\n  * time     (time) datetime64[ns] 1961-04-01 1961-04-02 ... 2014-08-31\n  * lon      (lon) float32 70.125 70.375 70.625 ... 139.375 139.625 139.875\n  * lat      (lat) float32 15.125 15.375 15.625 15.875 ... 54.375 54.625 54.875\nData variables:\n    pre      (time, lat, lon) float32 ...\nAttributes:\n    CDI:          Climate Data Interface version 1.9.2 (http://mpimet.mpg.de/...\n    Conventions:  CF-1.4\n    history:      Thu Jan 21 18:46:56 2021: cdo -L -remapbil,grid_info -selmo...\n    CDO:          Climate Data Operators version 1.9.2 (http://mpimet.mpg.de/...</pre>"
     },
     "metadata": {},
     "execution_count": 7
    }
   ],
   "source": [
    "# time series dir: /raid52/yycheng/MPAS/REFERENCE/CMORPH/DAILY/spatialmean\n",
    "# year   = \"2003\"\n",
    "dirin  = \"/raid52/yycheng/MPAS/REFERENCE/CN05.1/1961-2014\" \n",
    "filein = \"sel_CM05.1.nc\"\n",
    "ds_disk = xr.open_dataset(dirin + \"/\" + filein)\n",
    "ds_disk"
   ]
  },
  {
   "cell_type": "code",
   "execution_count": 8,
   "metadata": {
    "tags": []
   },
   "outputs": [
    {
     "output_type": "execute_result",
     "data": {
      "text/plain": [
       "<xarray.DataArray 'pre' (time: 30, lat: 140, lon: 160)>\n",
       "[672000 values with dtype=float32]\n",
       "Coordinates:\n",
       "  * time     (time) datetime64[ns] 2003-04-01 2003-04-02 ... 2003-04-30\n",
       "  * lon      (lon) float32 70.125 70.375 70.625 ... 109.375 109.625 109.875\n",
       "  * lat      (lat) float32 20.125 20.375 20.625 20.875 ... 54.375 54.625 54.875\n",
       "Attributes:\n",
       "    long_name:  CN05.1 daily, precipitation,mm/day                           ..."
      ],
      "text/html": "<pre>&lt;xarray.DataArray &#x27;pre&#x27; (time: 30, lat: 140, lon: 160)&gt;\n[672000 values with dtype=float32]\nCoordinates:\n  * time     (time) datetime64[ns] 2003-04-01 2003-04-02 ... 2003-04-30\n  * lon      (lon) float32 70.125 70.375 70.625 ... 109.375 109.625 109.875\n  * lat      (lat) float32 20.125 20.375 20.625 20.875 ... 54.375 54.625 54.875\nAttributes:\n    long_name:  CN05.1 daily, precipitation,mm/day                           ...</pre>"
     },
     "metadata": {},
     "execution_count": 8
    }
   ],
   "source": [
    "# ds_disk['pre'].sel(time=\"1964\")\n",
    "# time_idx = pd.date_range(start = \"2003-04\", end = \"2003-08\",freq='m')\n",
    "# time_idx = pd.period_range(start = \"2004-04-01\", end = \"2004-08-01\",freq='m')\n",
    "# time_idx.month\n",
    "# ds_disk.sel(time=time_idx)\n",
    "# for i in ds_disk['time.year']:\n",
    "lc  = ds_disk.lon\n",
    "la  = ds_disk.lat\n",
    "time= ds_disk.time\n",
    "# ds_disk.coords\n",
    "select_dict = {}\n",
    "# select_dict = dict(time = (ds_disk.time.dt.year==2003) & (ds_disk.time.dt.month==4))\n",
    "# time 使用这个也可\n",
    "# select_dict['time']=time[(time.dt.year==2003) & (time.dt.month==4)]\n",
    "\n",
    "select_dict['time']=(ds_disk.time.dt.year==2003) & (ds_disk.time.dt.month==4)\n",
    "select_dict['lon'] = lc[(lc > 70) & (lc < 110)]\n",
    "select_dict['lat'] = la[(la > 20) & (la < 60) ]\n",
    "ds_disk['pre'].loc[select_dict]\n",
    "\n",
    "\n",
    "# time_idx   \n",
    "# ds_disk['pre'].sel(time = time_idx)\n",
    "# ds_disk.time"
   ]
  },
  {
   "cell_type": "code",
   "execution_count": 9,
   "metadata": {},
   "outputs": [
    {
     "output_type": "execute_result",
     "data": {
      "text/plain": [
       "<xarray.DataArray 'time' (time: 1620)>\n",
       "array(['1961-04-01T00:00:00.000000000', '1961-04-02T00:00:00.000000000',\n",
       "       '1961-04-03T00:00:00.000000000', ..., '2014-04-28T00:00:00.000000000',\n",
       "       '2014-04-29T00:00:00.000000000', '2014-04-30T00:00:00.000000000'],\n",
       "      dtype='datetime64[ns]')\n",
       "Coordinates:\n",
       "  * time     (time) datetime64[ns] 1961-04-01 1961-04-02 ... 2014-04-30\n",
       "Attributes:\n",
       "    standard_name:  time\n",
       "    axis:           T"
      ],
      "text/html": "<pre>&lt;xarray.DataArray &#x27;time&#x27; (time: 1620)&gt;\narray([&#x27;1961-04-01T00:00:00.000000000&#x27;, &#x27;1961-04-02T00:00:00.000000000&#x27;,\n       &#x27;1961-04-03T00:00:00.000000000&#x27;, ..., &#x27;2014-04-28T00:00:00.000000000&#x27;,\n       &#x27;2014-04-29T00:00:00.000000000&#x27;, &#x27;2014-04-30T00:00:00.000000000&#x27;],\n      dtype=&#x27;datetime64[ns]&#x27;)\nCoordinates:\n  * time     (time) datetime64[ns] 1961-04-01 1961-04-02 ... 2014-04-30\nAttributes:\n    standard_name:  time\n    axis:           T</pre>"
     },
     "metadata": {},
     "execution_count": 9
    }
   ],
   "source": [
    "ds_disk['pre'].time[ds_disk.time.dt.month==4]"
   ]
  },
  {
   "cell_type": "code",
   "execution_count": 10,
   "metadata": {},
   "outputs": [
    {
     "output_type": "execute_result",
     "data": {
      "text/plain": [
       "<xarray.DataArray (time: 8262)>\n",
       "array([False, False, False, ..., False, False, False])\n",
       "Coordinates:\n",
       "  * time     (time) datetime64[ns] 1961-04-01 1961-04-02 ... 2014-08-31"
      ],
      "text/html": "<pre>&lt;xarray.DataArray (time: 8262)&gt;\narray([False, False, False, ..., False, False, False])\nCoordinates:\n  * time     (time) datetime64[ns] 1961-04-01 1961-04-02 ... 2014-08-31</pre>"
     },
     "metadata": {},
     "execution_count": 10
    }
   ],
   "source": [
    "(ds_disk.time.dt.year==2003) & (ds_disk.time.dt.month==4)"
   ]
  },
  {
   "cell_type": "code",
   "execution_count": 34,
   "metadata": {},
   "outputs": [
    {
     "output_type": "execute_result",
     "data": {
      "text/plain": [
       "DatasetGroupBy, grouped over 'lat' \n",
       "160 groups with labels 15.125, 15.375, ..., 54.875."
      ]
     },
     "metadata": {},
     "execution_count": 34
    }
   ],
   "source": [
    "ds_disk.groupby('lat')\n"
   ]
  }
 ]
}
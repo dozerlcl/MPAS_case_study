{
 "metadata": {
  "language_info": {
   "codemirror_mode": {
    "name": "ipython",
    "version": 3
   },
   "file_extension": ".py",
   "mimetype": "text/x-python",
   "name": "python",
   "nbconvert_exporter": "python",
   "pygments_lexer": "ipython3",
   "version": "3.7.3-final"
  },
  "orig_nbformat": 2,
  "kernelspec": {
   "name": "python3",
   "display_name": "Python 3"
  }
 },
 "nbformat": 4,
 "nbformat_minor": 2,
 "cells": [
  {
   "cell_type": "code",
   "execution_count": 1,
   "metadata": {},
   "outputs": [],
   "source": [
    "import xarray as xr\n",
    "import numpy  as np\n",
    "import seaborn as sns\n",
    "import pandas as pd\n",
    "import matplotlib.pyplot as plt\n",
    "import skill_metrics as sm"
   ]
  },
  {
   "source": [
    "尝试用python统计极端事件"
   ],
   "cell_type": "markdown",
   "metadata": {}
  },
  {
   "cell_type": "code",
   "execution_count": 2,
   "metadata": {},
   "outputs": [],
   "source": [
    "# year = [\"2003\",\"2004\",\"2005\",\"2006\",\"2007\",\"2008\",\"2009\"]\n",
    "year = [\"2009\"]\n",
    "months = [\"4\",\"5\",\"6\",\"7\",\"8\"]\n",
    "ordata = {} # 当年的统计量\n",
    "for year_ind in year:\n",
    "    # xarray 读取数据\n",
    "    diri = \"/m2data2/yycheng/yycheng/MPAS/92-25km_VR_\"+year_ind+\"/postprocess/temp_data/\"\n",
    "    fili = year_ind+\"_daily_precip_combine_CMORPH_MPAS.nc\"\n",
    "    ds_disk = xr.open_dataset(diri + fili)\n",
    "    precip_obs = ds_disk[\"precip_CMORPH\"]\n",
    "    precip_mod = ds_disk[\"precip_MPAS\"]\n",
    "    ordata[year_ind] = {'obs':precip_obs,'mod':precip_mod}\n",
    "    # 计算逐年05-08序列\n",
    "    # year_obs_mean = precip_obs.mean(dim=[\"time\"])\n",
    "    # year_mod_mean = precip_mod.mean(dim=[\"Time\"])\n",
    "    # year_stats[year_ind] = sm.taylor_statistics( np.array(year_obs_mean).ravel() , np.array(year_mod_mean).ravel() )\n",
    "    # 拆分逐月，计算统计量\n",
    "    # month_stats = {} # 逐月的统计量\n",
    "        #  taylor_stats1.append( sm.taylor_statistics(np.array(obs_mean),np.array(mod_mean)) )\n",
    "        # months_obs_mean = year_obs_mean.sel(time = slice(year_ind+\"-\"+month_ind))\n",
    "        # months_mod_mean = year_mod_mean.sel(Time = slice(year_ind+\"-\"+month_ind)) # MPAS中奇怪的时间坐标名称Time\n",
    "        # month_stats[month_ind] = sm.taylor_statistics(np.array(months_obs_mean),np.array(months_mod_mean))\n",
    "    # 逐月合并进逐年\n",
    "    # year_stats[year_ind] = sm.taylor_statistics\n"
   ]
  },
  {
   "cell_type": "code",
   "execution_count": 3,
   "metadata": {},
   "outputs": [],
   "source": [
    "obs_exterme = ordata[year[0]]['obs'][0,:,:].copy(deep = True)\n",
    "mod_exterme = ordata[year[0]]['mod'][0,:,:].copy(deep = True)\n",
    "obs_exterme[:,:] = 0.0\n",
    "mod_exterme[:,:] = 0.0\n",
    "threhold = 95\n",
    "for i in range(0,ordata[year[0]]['obs'].shape[1]):\n",
    "    for j in range(0,ordata[year[0]]['obs'].shape[2]):\n",
    "        obs_exterme[i,j] = np.percentile(ordata[year[0]]['obs'][:,i,j], threhold)\n",
    "        mod_exterme[i,j] = np.percentile(ordata[year[0]]['mod'][:,i,j], threhold)"
   ]
  },
  {
   "source": [
    "merge to netcdf and output"
   ],
   "cell_type": "markdown",
   "metadata": {}
  },
  {
   "cell_type": "code",
   "execution_count": 4,
   "metadata": {},
   "outputs": [
    {
     "output_type": "execute_result",
     "data": {
      "text/plain": [
       "<xarray.Dataset>\n",
       "Dimensions:        (lat: 160, latitude: 160, lon: 320, longitude: 320)\n",
       "Coordinates:\n",
       "    time           datetime64[ns] 2009-04-01\n",
       "  * lat            (lat) float32 15.125 15.375 15.625 ... 54.375 54.625 54.875\n",
       "  * lon            (lon) float32 60.125 60.375 60.625 ... 139.625 139.875\n",
       "    Time           datetime64[ns] 2009-04-01\n",
       "  * latitude       (latitude) float32 15.124999 15.374997 ... 54.874992\n",
       "  * longitude      (longitude) float32 60.124992 60.374996 ... 139.87498\n",
       "Data variables:\n",
       "    precip_CMORPH  (lat, lon) float32 0.5446 0.66400003 ... 6.6438003 7.7274003\n",
       "    precip_MPAS    (latitude, longitude) float64 3.149 3.29 ... 9.992 9.056"
      ],
      "text/html": "<pre>&lt;xarray.Dataset&gt;\nDimensions:        (lat: 160, latitude: 160, lon: 320, longitude: 320)\nCoordinates:\n    time           datetime64[ns] 2009-04-01\n  * lat            (lat) float32 15.125 15.375 15.625 ... 54.375 54.625 54.875\n  * lon            (lon) float32 60.125 60.375 60.625 ... 139.625 139.875\n    Time           datetime64[ns] 2009-04-01\n  * latitude       (latitude) float32 15.124999 15.374997 ... 54.874992\n  * longitude      (longitude) float32 60.124992 60.374996 ... 139.87498\nData variables:\n    precip_CMORPH  (lat, lon) float32 0.5446 0.66400003 ... 6.6438003 7.7274003\n    precip_MPAS    (latitude, longitude) float64 3.149 3.29 ... 9.992 9.056</pre>"
     },
     "metadata": {},
     "execution_count": 4
    }
   ],
   "source": [
    "exterme_output = xr.merge([obs_exterme, mod_exterme])\n",
    "exterme_output"
   ]
  },
  {
   "cell_type": "code",
   "execution_count": 5,
   "metadata": {},
   "outputs": [],
   "source": [
    "exterme_output.to_netcdf(path = diri + year[0] + \"_exterme_precip.nc\",mode = 'w')"
   ]
  }
 ]
}
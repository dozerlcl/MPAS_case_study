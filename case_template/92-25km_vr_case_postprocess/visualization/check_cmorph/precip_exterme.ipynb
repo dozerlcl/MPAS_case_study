{
 "metadata": {
  "language_info": {
   "codemirror_mode": {
    "name": "ipython",
    "version": 3
   },
   "file_extension": ".py",
   "mimetype": "text/x-python",
   "name": "python",
   "nbconvert_exporter": "python",
   "pygments_lexer": "ipython3",
   "version": "3.7.3-final"
  },
  "orig_nbformat": 2,
  "kernelspec": {
   "name": "python3",
   "display_name": "Python 3"
  }
 },
 "nbformat": 4,
 "nbformat_minor": 2,
 "cells": [
  {
   "cell_type": "code",
   "execution_count": 1,
   "metadata": {},
   "outputs": [],
   "source": [
    "import xarray as xr\n",
    "import numpy  as np\n",
    "import seaborn as sns\n",
    "import pandas as pd\n",
    "import matplotlib.pyplot as plt\n",
    "import skill_metrics as sm"
   ]
  },
  {
   "source": [
    "尝试用python统计极端事件"
   ],
   "cell_type": "markdown",
   "metadata": {}
  },
  {
   "cell_type": "code",
   "execution_count": 2,
   "metadata": {},
   "outputs": [],
   "source": [
    "# year = [\"2003\",\"2004\",\"2005\",\"2006\",\"2007\",\"2008\",\"2009\"]\n",
    "year = [\"2003\"]\n",
    "months = [\"4\",\"5\",\"6\",\"7\",\"8\"]\n",
    "ordata = {} # 当年的统计量\n",
    "for year_ind in year:\n",
    "    # xarray 读取数据\n",
    "    diri = \"/m2data2/yycheng/yycheng/MPAS/92-25km_VR_\"+year_ind+\"/postprocess/temp_data/\"\n",
    "    fili = year_ind+\"_daily_precip_combine_CMORPH_MPAS.nc\"\n",
    "    ds_disk = xr.open_dataset(diri + fili)\n",
    "    precip_obs = ds_disk[\"precip_CMORPH\"]\n",
    "    precip_mod = ds_disk[\"precip_MPAS\"]\n",
    "    ordata[year_ind] = {'obs':precip_obs,'mod':precip_mod}\n",
    "    # 计算逐年05-08序列\n",
    "    # year_obs_mean = precip_obs.mean(dim=[\"time\"])\n",
    "    # year_mod_mean = precip_mod.mean(dim=[\"Time\"])\n",
    "    # year_stats[year_ind] = sm.taylor_statistics( np.array(year_obs_mean).ravel() , np.array(year_mod_mean).ravel() )\n",
    "    # 拆分逐月，计算统计量\n",
    "    # month_stats = {} # 逐月的统计量\n",
    "        #  taylor_stats1.append( sm.taylor_statistics(np.array(obs_mean),np.array(mod_mean)) )\n",
    "        # months_obs_mean = year_obs_mean.sel(time = slice(year_ind+\"-\"+month_ind))\n",
    "        # months_mod_mean = year_mod_mean.sel(Time = slice(year_ind+\"-\"+month_ind)) # MPAS中奇怪的时间坐标名称Time\n",
    "        # month_stats[month_ind] = sm.taylor_statistics(np.array(months_obs_mean),np.array(months_mod_mean))\n",
    "    # 逐月合并进逐年\n",
    "    # year_stats[year_ind] = sm.taylor_statistics\n"
   ]
  },
  {
   "cell_type": "code",
   "execution_count": 3,
   "metadata": {},
   "outputs": [],
   "source": [
    "obs_exterme = ordata['2003']['obs'][0,:,:].copy(deep = True)\n",
    "mod_exterme = ordata['2003']['mod'][0,:,:].copy(deep = True)\n",
    "obs_exterme[:,:] = 0.0\n",
    "mod_exterme[:,:] = 0.0\n",
    "threhold = 95\n",
    "for i in range(0,ordata['2003']['obs'].shape[1]):\n",
    "    for j in range(0,ordata['2003']['obs'].shape[2]):\n",
    "        obs_exterme[i,j] = np.percentile(ordata['2003']['obs'][:,i,j], threhold)\n",
    "        mod_exterme[i,j] = np.percentile(ordata['2003']['mod'][:,i,j], threhold)"
   ]
  },
  {
   "cell_type": "code",
   "execution_count": 7,
   "metadata": {},
   "outputs": [
    {
     "output_type": "execute_result",
     "data": {
      "text/plain": [
       "<xarray.DataArray 'precip_MPAS' (latitude: 160, longitude: 320)>\n",
       "array([[21.97663819, 19.28852786, 19.06814891, ..., 38.51951501,\n",
       "        36.94388786, 37.87373641],\n",
       "       [17.40199211, 15.57762878, 17.26193823, ..., 42.1832622 ,\n",
       "        39.85342854, 38.48482896],\n",
       "       [14.83821216, 14.72561179, 15.7321585 , ..., 43.27698728,\n",
       "        40.40407894, 37.81426044],\n",
       "       ...,\n",
       "       [ 6.15112454,  5.7360795 ,  6.63269186, ..., 11.94859412,\n",
       "        13.15327594, 13.30079292],\n",
       "       [ 6.97034672,  7.44323363,  7.3748526 , ..., 10.75486415,\n",
       "        12.27829347, 12.82181833],\n",
       "       [ 6.92664127,  6.82605666,  8.22892277, ...,  9.3159488 ,\n",
       "        10.72068771, 10.98188807]])\n",
       "Coordinates:\n",
       "    Time       datetime64[ns] 2003-04-01\n",
       "  * latitude   (latitude) float32 15.124999 15.374997 ... 54.624992 54.874992\n",
       "  * longitude  (longitude) float32 60.124992 60.374996 ... 139.62498 139.87498\n",
       "Attributes:\n",
       "    Time:       [116112. 116136. 116160. 116184. 116208. 116232. 116256. 1162...\n",
       "    long_name:  daily total precipitation from MPAS\n",
       "    units:      mm"
      ],
      "text/html": "<pre>&lt;xarray.DataArray &#x27;precip_MPAS&#x27; (latitude: 160, longitude: 320)&gt;\narray([[21.97663819, 19.28852786, 19.06814891, ..., 38.51951501,\n        36.94388786, 37.87373641],\n       [17.40199211, 15.57762878, 17.26193823, ..., 42.1832622 ,\n        39.85342854, 38.48482896],\n       [14.83821216, 14.72561179, 15.7321585 , ..., 43.27698728,\n        40.40407894, 37.81426044],\n       ...,\n       [ 6.15112454,  5.7360795 ,  6.63269186, ..., 11.94859412,\n        13.15327594, 13.30079292],\n       [ 6.97034672,  7.44323363,  7.3748526 , ..., 10.75486415,\n        12.27829347, 12.82181833],\n       [ 6.92664127,  6.82605666,  8.22892277, ...,  9.3159488 ,\n        10.72068771, 10.98188807]])\nCoordinates:\n    Time       datetime64[ns] 2003-04-01\n  * latitude   (latitude) float32 15.124999 15.374997 ... 54.624992 54.874992\n  * longitude  (longitude) float32 60.124992 60.374996 ... 139.62498 139.87498\nAttributes:\n    Time:       [116112. 116136. 116160. 116184. 116208. 116232. 116256. 1162...\n    long_name:  daily total precipitation from MPAS\n    units:      mm</pre>"
     },
     "metadata": {},
     "execution_count": 7
    }
   ],
   "source": [
    "mod_exterme"
   ]
  }
 ]
}
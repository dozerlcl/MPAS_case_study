{
 "metadata": {
  "language_info": {
   "codemirror_mode": {
    "name": "ipython",
    "version": 3
   },
   "file_extension": ".py",
   "mimetype": "text/x-python",
   "name": "python",
   "nbconvert_exporter": "python",
   "pygments_lexer": "ipython3",
   "version": "3.7.3-final"
  },
  "orig_nbformat": 2,
  "kernelspec": {
   "name": "python37364bitanaconda3virtualenv727956bfde954726a1657561bf3d3763",
   "display_name": "Python 3.7.3 64-bit ('anaconda3': virtualenv)",
   "language": "python"
  }
 },
 "nbformat": 4,
 "nbformat_minor": 2,
 "cells": [
  {
   "cell_type": "code",
   "execution_count": 2,
   "metadata": {},
   "outputs": [],
   "source": [
    "import xarray as xr\n",
    "import numpy  as np\n",
    "import seaborn as sns\n",
    "import pandas as pd\n",
    "import matplotlib.pyplot as plt\n",
    "import pymannkendall as mk"
   ]
  },
  {
   "cell_type": "code",
   "execution_count": 3,
   "metadata": {},
   "outputs": [
    {
     "output_type": "execute_result",
     "data": {
      "text/plain": [
       "<xarray.Dataset>\n",
       "Dimensions:  (lat: 160, lon: 280, time: 8262)\n",
       "Coordinates:\n",
       "  * time     (time) datetime64[ns] 1961-04-01 1961-04-02 ... 2014-08-31\n",
       "  * lon      (lon) float32 70.125 70.375 70.625 ... 139.375 139.625 139.875\n",
       "  * lat      (lat) float32 15.125 15.375 15.625 15.875 ... 54.375 54.625 54.875\n",
       "Data variables:\n",
       "    pre      (time, lat, lon) float32 ...\n",
       "Attributes:\n",
       "    CDI:          Climate Data Interface version 1.9.2 (http://mpimet.mpg.de/...\n",
       "    Conventions:  CF-1.4\n",
       "    history:      Thu Jan 21 18:46:56 2021: cdo -L -remapbil,grid_info -selmo...\n",
       "    CDO:          Climate Data Operators version 1.9.2 (http://mpimet.mpg.de/..."
      ],
      "text/html": "<pre>&lt;xarray.Dataset&gt;\nDimensions:  (lat: 160, lon: 280, time: 8262)\nCoordinates:\n  * time     (time) datetime64[ns] 1961-04-01 1961-04-02 ... 2014-08-31\n  * lon      (lon) float32 70.125 70.375 70.625 ... 139.375 139.625 139.875\n  * lat      (lat) float32 15.125 15.375 15.625 15.875 ... 54.375 54.625 54.875\nData variables:\n    pre      (time, lat, lon) float32 ...\nAttributes:\n    CDI:          Climate Data Interface version 1.9.2 (http://mpimet.mpg.de/...\n    Conventions:  CF-1.4\n    history:      Thu Jan 21 18:46:56 2021: cdo -L -remapbil,grid_info -selmo...\n    CDO:          Climate Data Operators version 1.9.2 (http://mpimet.mpg.de/...</pre>"
     },
     "metadata": {},
     "execution_count": 3
    }
   ],
   "source": [
    "# time series dir: /raid52/yycheng/MPAS/REFERENCE/CMORPH/DAILY/spatialmean\n",
    "# year   = \"2003\"\n",
    "dirin  = \"/raid52/yycheng/MPAS/REFERENCE/CN05.1/1961-2014\" \n",
    "filein = \"sel_CM05.1.nc\"\n",
    "ds_disk = xr.open_dataset(dirin + \"/\" + filein)\n",
    "ds_disk"
   ]
  },
  {
   "cell_type": "code",
   "execution_count": 97,
   "metadata": {},
   "outputs": [
    {
     "output_type": "execute_result",
     "data": {
      "text/plain": [
       "<xarray.DataArray 'pre' (time: 121, lat: 160, lon: 280)>\n",
       "[5420800 values with dtype=float32]\n",
       "Coordinates:\n",
       "  * time     (time) datetime64[ns] 2014-04-02 2014-04-03 ... 2014-07-31\n",
       "  * lon      (lon) float32 70.125 70.375 70.625 ... 139.375 139.625 139.875\n",
       "  * lat      (lat) float32 15.125 15.375 15.625 15.875 ... 54.375 54.625 54.875\n",
       "Attributes:\n",
       "    long_name:  CN05.1 daily, precipitation,mm/day                           ..."
      ],
      "text/html": "<pre>&lt;xarray.DataArray &#x27;pre&#x27; (time: 121, lat: 160, lon: 280)&gt;\n[5420800 values with dtype=float32]\nCoordinates:\n  * time     (time) datetime64[ns] 2014-04-02 2014-04-03 ... 2014-07-31\n  * lon      (lon) float32 70.125 70.375 70.625 ... 139.375 139.625 139.875\n  * lat      (lat) float32 15.125 15.375 15.625 15.875 ... 54.375 54.625 54.875\nAttributes:\n    long_name:  CN05.1 daily, precipitation,mm/day                           ...</pre>"
     },
     "metadata": {},
     "execution_count": 97
    }
   ],
   "source": [
    "# 使用pandas的时间索引来处理，创建，并再ds中引用\n",
    "\n",
    "# 直接用数字来选取\n",
    "ds_disk['pre'].sel(time=\"1964\")\n",
    "\n",
    "# 创建pd时间序列来选取\n",
    "time_idx_long = pd.date_range(start = \"1961-04-01\", end = \"2018-08-01\",freq='d') # dtype datetime64\n",
    "time_idx_short = pd.date_range(start = \"2014-04-01\", end = \"2014-08-01\",freq='d') # dtype datetime64\n",
    "# time_idx = pd.period_range(start = \"2004-04-01\", end = \"2004-08-01\",freq='m') # dtype period\n",
    "\n",
    "# 直接用 time_idx 进行索引,这里使用一个稍短的数组来尝试\n",
    "ds_disk['pre'].sel(time = time_idx_short)\n",
    "\n",
    "# 也可以直接转换成 pandas 的日期格式，然后进行大小的比较\n",
    "pd_time = pd.to_datetime(ds_disk.time.values)\n",
    "time_idx_short_loc = (pd_time > \"2014-04-01\") & (pd_time < \"2014-08-01\")\n",
    "ds_disk['pre'][time_idx_short_loc]"
   ]
  },
  {
   "cell_type": "code",
   "execution_count": 106,
   "metadata": {},
   "outputs": [
    {
     "output_type": "execute_result",
     "data": {
      "text/plain": [
       "<xarray.DataArray 'second' (time: 8262)>\n",
       "array([0, 0, 0, ..., 0, 0, 0])\n",
       "Coordinates:\n",
       "  * time     (time) datetime64[ns] 1961-04-01 1961-04-02 ... 2014-08-31"
      ],
      "text/html": "<pre>&lt;xarray.DataArray &#x27;second&#x27; (time: 8262)&gt;\narray([0, 0, 0, ..., 0, 0, 0])\nCoordinates:\n  * time     (time) datetime64[ns] 1961-04-01 1961-04-02 ... 2014-08-31</pre>"
     },
     "metadata": {},
     "execution_count": 106
    }
   ],
   "source": [
    "ds_disk.time # 直接查看变量的坐标 （ 用属性的方法查询 time.dt 大概是每个时间的拆分方法，具体到年月日时分秒\n",
    "ds_disk.time.dt.year\n",
    "ds_disk.time.dt.month\n",
    "ds_disk.time.dt.day\n",
    "ds_disk.time.dt.hour\n",
    "ds_disk.time.dt.minute\n",
    "ds_disk.time.dt.second"
   ]
  },
  {
   "cell_type": "code",
   "execution_count": 118,
   "metadata": {
    "tags": []
   },
   "outputs": [
    {
     "output_type": "execute_result",
     "data": {
      "text/plain": [
       "<xarray.DataArray 'pre' (time: 30, lat: 140, lon: 160)>\n",
       "[672000 values with dtype=float32]\n",
       "Coordinates:\n",
       "  * time     (time) datetime64[ns] 2003-04-01 2003-04-02 ... 2003-04-30\n",
       "  * lon      (lon) float32 70.125 70.375 70.625 ... 109.375 109.625 109.875\n",
       "  * lat      (lat) float32 20.125 20.375 20.625 20.875 ... 54.375 54.625 54.875\n",
       "Attributes:\n",
       "    long_name:  CN05.1 daily, precipitation,mm/day                           ..."
      ],
      "text/html": "<pre>&lt;xarray.DataArray &#x27;pre&#x27; (time: 30, lat: 140, lon: 160)&gt;\n[672000 values with dtype=float32]\nCoordinates:\n  * time     (time) datetime64[ns] 2003-04-01 2003-04-02 ... 2003-04-30\n  * lon      (lon) float32 70.125 70.375 70.625 ... 109.375 109.625 109.875\n  * lat      (lat) float32 20.125 20.375 20.625 20.875 ... 54.375 54.625 54.875\nAttributes:\n    long_name:  CN05.1 daily, precipitation,mm/day                           ...</pre>"
     },
     "metadata": {},
     "execution_count": 118
    }
   ],
   "source": [
    "# 设置一个 dict 存放进行数据选取的相关信息，然后用 dict 进行索引\n",
    "# for i in ds_disk['time.year']:\n",
    "lc  = ds_disk.lon\n",
    "la  = ds_disk.lat\n",
    "time= ds_disk.time\n",
    "# ds_disk.coords\n",
    "select_dict = {}\n",
    "# select_dict = dict(time = (ds_disk.time.dt.year==2003) & (ds_disk.time.dt.month==4))\n",
    "# time 使用这个也可\n",
    "# select_dict['time']=time[(time.dt.year==2003) & (time.dt.month==4)]\n",
    "\n",
    "select_dict['time']=(ds_disk.time.dt.year==2003) & (ds_disk.time.dt.month==4)\n",
    "select_dict['lon'] = lc[(lc > 70) & (lc < 110)]\n",
    "select_dict['lat'] = la[(la > 20) & (la < 60) ]\n",
    "# select_dict 存放的是确切的值，因此 对于坐标是 name 索引， 对于 index lookup 是值索引\n",
    "ds_disk['pre'].loc[select_dict]"
   ]
  },
  {
   "cell_type": "code",
   "execution_count": 127,
   "metadata": {},
   "outputs": [
    {
     "output_type": "execute_result",
     "data": {
      "text/plain": [
       "<xarray.DataArray 'pre' (time: 30, lat: 140, lon: 160)>\n",
       "[672000 values with dtype=float32]\n",
       "Coordinates:\n",
       "  * time     (time) datetime64[ns] 2003-04-01 2003-04-02 ... 2003-04-30\n",
       "  * lon      (lon) float32 70.125 70.375 70.625 ... 109.375 109.625 109.875\n",
       "  * lat      (lat) float32 20.125 20.375 20.625 20.875 ... 54.375 54.625 54.875\n",
       "Attributes:\n",
       "    long_name:  CN05.1 daily, precipitation,mm/day                           ..."
      ],
      "text/html": "<pre>&lt;xarray.DataArray &#x27;pre&#x27; (time: 30, lat: 140, lon: 160)&gt;\n[672000 values with dtype=float32]\nCoordinates:\n  * time     (time) datetime64[ns] 2003-04-01 2003-04-02 ... 2003-04-30\n  * lon      (lon) float32 70.125 70.375 70.625 ... 109.375 109.625 109.875\n  * lat      (lat) float32 20.125 20.375 20.625 20.875 ... 54.375 54.625 54.875\nAttributes:\n    long_name:  CN05.1 daily, precipitation,mm/day                           ...</pre>"
     },
     "metadata": {},
     "execution_count": 127
    }
   ],
   "source": [
    "# 下面是一个用位置进行索引的例子，这里的 select_dict_isel 保存的就是位置的信息\n",
    "select_dict_isel = {}\n",
    "select_dict_isel['time'] = (ds_disk.time.dt.year==2003) & (ds_disk.time.dt.month==4)\n",
    "select_dict_isel['lon'] = (lc > 70) & (lc < 110)\n",
    "select_dict_isel['lat'] = (la > 20) & (la < 60) \n",
    "ds_disk['pre'][select_dict_isel]\n",
    "ds_disk['pre'].isel(select_dict_isel)\n",
    "# select_dict_isel"
   ]
  },
  {
   "cell_type": "code",
   "execution_count": 112,
   "metadata": {},
   "outputs": [
    {
     "output_type": "execute_result",
     "data": {
      "text/plain": [
       "DatasetGroupBy, grouped over 'lat' \n",
       "160 groups with labels 15.125, 15.375, ..., 54.875."
      ]
     },
     "metadata": {},
     "execution_count": 112
    }
   ],
   "source": [
    "# 尝试一下groupby\n",
    "ds_disk.groupby('lat')\n"
   ]
  }
 ]
}
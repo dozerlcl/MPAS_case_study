{
 "cells": [
  {
   "cell_type": "code",
   "execution_count": 1,
   "id": "f39526e8",
   "metadata": {},
   "outputs": [],
   "source": [
    "from netCDF4 import Dataset\n",
    "from scipy.interpolate import interp1d\n",
    "import sys\n",
    "import numpy as np"
   ]
  },
  {
   "cell_type": "code",
   "execution_count": 2,
   "id": "7821fa4d",
   "metadata": {},
   "outputs": [],
   "source": [
    "filename = \"/raid62/yycheng/MPAS/TPEMIP_92-25km/VR/92-25km_VR_1998/out/history/\\\n",
    "history.1998-04-01_00.00.00.nc\""
   ]
  },
  {
   "cell_type": "code",
   "execution_count": 55,
   "id": "0b9828ba",
   "metadata": {},
   "outputs": [],
   "source": [
    "f.close()"
   ]
  },
  {
   "cell_type": "code",
   "execution_count": 3,
   "id": "80419f26",
   "metadata": {},
   "outputs": [],
   "source": [
    "# era5i所使用的等压面坐标\n",
    "levs_hPa = [1, 2, 3, 5, 7, 10, 20, 30, 50, 70, 100, 125, 150, 175, 200, 225,\n",
    "250, 300, 350, 400, 450, 500, 550, 600, 650, 700, 750, 775, 800, 825,\n",
    "850, 875, 900, 925, 950, 975, 1000]\n",
    "# levs_hPa = [500]\n",
    "# field_names = [ 'uReconstructZonal', 'uReconstructMeridional' ]\n",
    "# field_names = ['zgrid', 'ke','uReconstructZonal', 'uReconstructMeridional']\n",
    "# field_names = ['ke','uReconstructZonal', 'uReconstructMeridional']\n",
    "field_names = ['zgrid']\n",
    "#\n",
    "# Set the fill value to be used for points that are below ground\n",
    "# or above the model top\n",
    "#\n",
    "fill_val = -1.0e30\n",
    "f = Dataset(filename)\n",
    "\n",
    "nCells = f.dimensions['nCells'].size\n",
    "nVertLevels = f.dimensions['nVertLevels'].size\n",
    "\n",
    "pressure = f.variables['pressure'][:]\n",
    "\n",
    "xtime = f.variables['xtime'][:]\n",
    "\n",
    "fields = []\n",
    "for field in field_names:\n",
    "    fields.append(f.variables[field][:])\n",
    "\n",
    "# f.close()"
   ]
  },
  {
   "cell_type": "code",
   "execution_count": 9,
   "id": "9c1c0390",
   "metadata": {},
   "outputs": [
    {
     "data": {
      "text/plain": [
       "<class 'netCDF4._netCDF4.Dimension'>: name = 'StrLen', size = 64"
      ]
     },
     "execution_count": 9,
     "metadata": {},
     "output_type": "execute_result"
    }
   ],
   "source": [
    "# f.variables['xtime'].datatype\n",
    "f.dimensions['StrLen']"
   ]
  },
  {
   "cell_type": "code",
   "execution_count": null,
   "id": "38d11738",
   "metadata": {},
   "outputs": [],
   "source": [
    "# import netCDF4 as nc\n",
    "toexclude = ['ExcludeVar1', 'ExcludeVar2']\n",
    "\n",
    "with netCDF4.Dataset(\"in.nc\") as src, netCDF4.Dataset(\"out.nc\", \"w\") as dst:\n",
    "    # copy global attributes all at once via dictionary\n",
    "    dst.setncatts(src.__dict__)\n",
    "    # copy dimensions\n",
    "    for name, dimension in src.dimensions.items():\n",
    "        dst.createDimension(\n",
    "            name, (len(dimension) if not dimension.isunlimited() else None))\n",
    "    # copy all file data except for the excluded\n",
    "    for name, variable in src.variables.items():\n",
    "        if name not in toexclude:\n",
    "            x = dst.createVariable(name, variable.datatype, variable.dimensions)\n",
    "            dst[name][:] = src[name][:]\n",
    "            # copy variable attributes all at once via dictionary\n",
    "            dst[name].setncatts(src[name].__dict__)"
   ]
  },
  {
   "cell_type": "code",
   "execution_count": 75,
   "id": "efade22d",
   "metadata": {},
   "outputs": [
    {
     "data": {
      "text/plain": [
       "dtype('S1')"
      ]
     },
     "execution_count": 75,
     "metadata": {},
     "output_type": "execute_result"
    }
   ],
   "source": [
    "f_in_xtime = f.variables['xtime']"
   ]
  },
  {
   "cell_type": "markdown",
   "id": "73907ca8",
   "metadata": {},
   "source": [
    "write nc files test contain string"
   ]
  },
  {
   "cell_type": "code",
   "execution_count": 79,
   "id": "9ffb1a08",
   "metadata": {},
   "outputs": [
    {
     "name": "stdout",
     "output_type": "stream",
     "text": [
      "----- deal : zgrid -----\n"
     ]
    }
   ],
   "source": [
    "isobaric_fields = []\n",
    "isobaric_fieldnames = []\n",
    "for field in field_names:\n",
    "    # for lev in levs_hPa:\n",
    "    print(\"----- deal : \" + field + \" -----\")\n",
    "    isobaric_fields.append( np.zeros([1, nCells, nlevs_hPa]) )\n",
    "    isobaric_fieldnames.append(field)\n",
    "\n",
    "levs_hPa = [1, 2, 3, 5, 7, 10, 20, 30, 50, 70, 100, 125, 150, 175, 200, 225,\n",
    "250, 300, 350, 400, 450, 500, 550, 600, 650, 700, 750, 775, 800, 825,\n",
    "850, 875, 900, 925, 950, 975, 1000]\n",
    "\n",
    "nlevs_hPa = np.array(levs_hPa).shape[0]\n",
    "\n",
    "outfile = \"./test_xtime.nc\"\n",
    "f = Dataset(outfile, 'w', clobber=False)\n",
    "\n",
    "f.createDimension('Time', size=None)\n",
    "f.createDimension('nCells', size=nCells)\n",
    "f.createDimension('plevels', size=nlevs_hPa)\n",
    "f.createDimension('StrLen')\n",
    "for field in isobaric_fieldnames:\n",
    "    # print(field.shape)\n",
    "    f.createVariable(field, 'f8', dimensions=('Time','nCells', 'plevels'), fill_value=fill_val)\n",
    "# add pressure coords\n",
    "f.createVariable('plevels', 'f8', dimensions=('plevels'), fill_value=fill_val)\n",
    "f.variables['plevels'][:] = np.array(levs_hPa)\n",
    "f_var_plevels = f.variables['plevels']\n",
    "f_var_plevels.units = \"hPa\"\n",
    "# add xtime variable & convert to Time in NCL scripts\n",
    "f.createVariable('xtime', f_in_xtime.dtype, f_in_xtime.dimensions)\n",
    "f.variables['xtime'][:] = f_in_xtime[:]"
   ]
  },
  {
   "cell_type": "code",
   "execution_count": 80,
   "id": "6a63b99c",
   "metadata": {},
   "outputs": [],
   "source": [
    "f.close()"
   ]
  },
  {
   "cell_type": "code",
   "execution_count": 78,
   "id": "455789ed",
   "metadata": {},
   "outputs": [
    {
     "data": {
      "text/plain": [
       "0"
      ]
     },
     "execution_count": 78,
     "metadata": {},
     "output_type": "execute_result"
    }
   ],
   "source": [
    "import os\n",
    "os.system('rm -rf ./test_xtime.nc')"
   ]
  },
  {
   "cell_type": "markdown",
   "id": "47ce65f3",
   "metadata": {},
   "source": []
  }
 ],
 "metadata": {
  "kernelspec": {
   "display_name": "Python 3",
   "language": "python",
   "name": "python3"
  },
  "language_info": {
   "codemirror_mode": {
    "name": "ipython",
    "version": 3
   },
   "file_extension": ".py",
   "mimetype": "text/x-python",
   "name": "python",
   "nbconvert_exporter": "python",
   "pygments_lexer": "ipython3",
   "version": "3.9.5"
  }
 },
 "nbformat": 4,
 "nbformat_minor": 5
}

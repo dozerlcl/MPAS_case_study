{
 "metadata": {
  "language_info": {
   "codemirror_mode": {
    "name": "ipython",
    "version": 3
   },
   "file_extension": ".py",
   "mimetype": "text/x-python",
   "name": "python",
   "nbconvert_exporter": "python",
   "pygments_lexer": "ipython3",
   "version": "3.9.5"
  },
  "orig_nbformat": 2,
  "kernelspec": {
   "name": "python392jvsc74a57bd0cf76c667a4237489b4b1ec2fcd3b74093597186816c0203f0439927789bdc800",
   "display_name": "Python 3.9.5 64-bit ('pync0326': conda)"
  },
  "metadata": {
   "interpreter": {
    "hash": "cf76c667a4237489b4b1ec2fcd3b74093597186816c0203f0439927789bdc800"
   }
  }
 },
 "nbformat": 4,
 "nbformat_minor": 2,
 "cells": [
  {
   "cell_type": "code",
   "execution_count": 1,
   "metadata": {},
   "outputs": [],
   "source": [
    "from netCDF4 import Dataset\n",
    "from scipy.interpolate import interp1d\n",
    "import sys\n",
    "import numpy as np\n"
   ]
  },
  {
   "source": [
    "进行MPAS垂直插值的测试note脚本"
   ],
   "cell_type": "markdown",
   "metadata": {}
  },
  {
   "cell_type": "code",
   "execution_count": 2,
   "metadata": {},
   "outputs": [],
   "source": [
    "filename = 'history.1998-04-01_00.00.00.nc'\n",
    "outfile = 'isobaric.nc'\n",
    "\n",
    "#\n",
    "# Set list of isobaric levels (in hPa)\n",
    "#\n",
    "levs_hPa = [ 1000.0, 975.0, 950.0, 925.0, 900.0,\n",
    "              850.0, 800.0, 750.0, 700.0, 650.0,\n",
    "              600.0, 550.0, 500.0, 450.0, 400.0,\n",
    "              350.0, 300.0, 250.0, 200.0, 150.0,\n",
    "              100.0,  70.0,  50.0,  30.0,  20.0,\n",
    "               10.0 ]\n",
    "\n",
    "field_names = [ 'uReconstructZonal', 'uReconstructMeridional' ]\n",
    "\n",
    "#\n",
    "# Set the fill value to be used for points that are below ground\n",
    "# or above the model top\n",
    "#\n",
    "fill_val = -1.0e30"
   ]
  },
  {
   "cell_type": "code",
   "execution_count": 3,
   "metadata": {},
   "outputs": [],
   "source": [
    "#\n",
    "# Read 3-d pressure, zonal wind, and meridional wind fields\n",
    "# on model zeta levels\n",
    "#\n",
    "f = Dataset(filename)\n",
    "\n",
    "nCells = f.dimensions['nCells'].size\n",
    "nVertLevels = f.dimensions['nVertLevels'].size\n",
    "\n",
    "pressure = f.variables['pressure'][:]\n",
    "\n",
    "xtime = f.variables['xtime'][:]\n",
    "\n",
    "fields = []\n",
    "for field in field_names:\n",
    "    fields.append(f.variables[field][:])\n",
    "\n",
    "f.close()"
   ]
  },
  {
   "cell_type": "code",
   "execution_count": 5,
   "metadata": {},
   "outputs": [],
   "source": [
    "#\n",
    "# Convert pressure from Pa to hPa\n",
    "#\n",
    "pressure = pressure * 0.01\n",
    "\n",
    "\n",
    "#\n",
    "# Compute logarithm of isobaric level values and 3-d pressure field\n",
    "#\n",
    "pressure = np.log(pressure)\n",
    "levs = np.log(levs_hPa)\n",
    "nlevs_hPa = levs.shape[0]\n",
    "# levs_hPa\n",
    "#\n",
    "# Allocate list of output fields\n",
    "#\n",
    "isobaric_fields = []\n",
    "isobaric_fieldnames = []\n",
    "for field in field_names:\n",
    "    # for lev in levs_hPa:\n",
    "    isobaric_fields.append( np.zeros([1, nCells, nlevs_hPa]) )\n",
    "    isobaric_fieldnames.append(field)\n",
    "\n"
   ]
  },
  {
   "cell_type": "code",
   "execution_count": 7,
   "metadata": {},
   "outputs": [
    {
     "output_type": "execute_result",
     "data": {
      "text/plain": [
       "array([-1.00000000e+30, -1.00000000e+30, -1.00000000e+30, -1.69644935e+00,\n",
       "       -2.33443657e+00, -1.29093947e+00,  1.62345028e+00,  4.01263529e+00,\n",
       "        6.41309163e+00,  1.29645191e+01,  2.13300091e+01,  2.70363041e+01,\n",
       "        3.03460612e+01,  2.99743115e+01,  2.90260636e+01,  2.90997202e+01,\n",
       "        3.24507962e+01,  4.13106362e+01,  4.60601588e+01,  3.96995083e+01,\n",
       "        2.96115501e+01,  2.51929696e+01,  2.61472343e+01,  2.35847630e+01,\n",
       "        2.29389566e+01, -1.00000000e+30])"
      ]
     },
     "metadata": {},
     "execution_count": 7
    }
   ],
   "source": [
    "# 插值测试\n",
    "y = interp1d(pressure[0,0,:], fields[0][0,0,:], bounds_error=False, fill_value=fill_val)\n",
    "levs\n",
    "# levs_hPa[6]\n",
    "scipy_res = y(levs[:])\n",
    "numpy_res = np.interp(levs, pressure[0,0,::-1], fields[0][0,0,::-1] ,left=fill_val, right=fill_val)\n",
    "numpy_res"
   ]
  },
  {
   "cell_type": "code",
   "execution_count": 35,
   "metadata": {},
   "outputs": [],
   "source": [
    "#\n",
    "# Create netCDF output file\n",
    "#\n",
    "\n",
    "\n",
    "f = Dataset(outfile, 'w', clobber=False)\n",
    "\n",
    "f.createDimension('Time', size=None)\n",
    "f.createDimension('nCells', size=nCells)\n",
    "f.createDimension('plevels', size=nlevs_hPa)\n",
    "for field in isobaric_fieldnames:\n",
    "    # print(field.shape)\n",
    "    f.createVariable(field, 'f', dimensions=('Time','nCells', 'plevels'), fill_value=fill_val)\n",
    "\n",
    "\n",
    "#"
   ]
  },
  {
   "cell_type": "code",
   "execution_count": 15,
   "metadata": {},
   "outputs": [],
   "source": [
    "# np.interp(levs, pressure[0,0,::-1], field[0,0,::-1] \\\n",
    "            # ,left=fill_val, right=fill_val)\n",
    "# numpy_res = np.interp(levs, pressure[0,0,::-1], fields[0][0,0,::-1] ,left=fill_val, right=fill_val)\n",
    "# numpy_res\n",
    "# pressure[0,0,::-1]\n",
    "# field[0,0,::-1] "
   ]
  },
  {
   "cell_type": "code",
   "execution_count": 25,
   "metadata": {},
   "outputs": [
    {
     "output_type": "execute_result",
     "data": {
      "text/plain": [
       "(1, 163842, 26)"
      ]
     },
     "metadata": {},
     "execution_count": 25
    }
   ],
   "source": [
    "# isobaric_fields[i][t,iCell,:] = np.interp(levs, pressure[t,iCell,::-1], field[t,iCell,::-1],\\\n",
    "#             left=fill_val, right=fill_val)\n",
    "# isobaric_fields[0].shape"
   ]
  },
  {
   "cell_type": "code",
   "execution_count": 16,
   "metadata": {},
   "outputs": [
    {
     "output_type": "stream",
     "name": "stderr",
     "text": [
      "<ipython-input-16-c8013cd75365>:3: DeprecationWarning: tostring() is deprecated. Use tobytes() instead.\n",
      "  timestring = xtime[t,0:19].tostring()\n",
      "Interpolating fields at time 1998-04-01_00:00:00\n",
      "----- start interpolation -----\n",
      "----- finish interpolation -----\n"
     ]
    }
   ],
   "source": [
    "for t in range(len(xtime)):\n",
    "\n",
    "    timestring = xtime[t,0:19].tostring()\n",
    "    print('Interpolating fields at time '+timestring.decode('utf-8'))\n",
    "\n",
    "    #\n",
    "    # Vertically interpolate\n",
    "    #\n",
    "    print(\"----- start interpolation -----\")\n",
    "    for iCell in range(nCells):\n",
    "\n",
    "        i = 0\n",
    "        for field in fields:\n",
    "            \n",
    "            isobaric_fields[i][t,iCell,:] = np.interp(levs, pressure[t,iCell,::-1], field[t,iCell,::-1],\\\n",
    "            left=fill_val, right=fill_val)\n",
    "            i = i + 1\n",
    "\n",
    "\n",
    "\n",
    "    print(\"----- finish interpolation -----\")\n",
    "\n",
    "\n"
   ]
  },
  {
   "cell_type": "code",
   "execution_count": 34,
   "metadata": {},
   "outputs": [
    {
     "output_type": "execute_result",
     "data": {
      "text/plain": [
       "'uReconstructMeridional'"
      ]
     },
     "metadata": {},
     "execution_count": 34
    }
   ],
   "source": [
    "isobaric_fieldnames[1]\n",
    "# isobaric_fields[i][t,:,:]"
   ]
  },
  {
   "cell_type": "code",
   "execution_count": 40,
   "metadata": {},
   "outputs": [],
   "source": [
    "#\n",
    "# Save interpolated fields\n",
    "#\n",
    "for i in range(len(isobaric_fieldnames)):\n",
    "    # print(\"---write---\")\n",
    "    # print(i)\n",
    "    f.variables[isobaric_fieldnames[i]][t,:,:] = isobaric_fields[i][t,:,:]\n",
    "f.close()"
   ]
  },
  {
   "cell_type": "code",
   "execution_count": 44,
   "metadata": {},
   "outputs": [
    {
     "output_type": "execute_result",
     "data": {
      "text/plain": [
       "masked_array(\n",
       "  data=[[[--, --, --, ..., 23.584762573242188, 22.93895721435547, --],\n",
       "         [--, --, --, ..., 1.5890443325042725, -8.162908554077148, --],\n",
       "         [--, --, -0.8675096035003662, ..., 33.84625244140625,\n",
       "          37.19544982910156, --],\n",
       "         ...,\n",
       "         [-9.631645202636719, -10.157059669494629, -10.559676170349121,\n",
       "          ..., -17.144184112548828, -20.527921676635742, --],\n",
       "         [-9.402924537658691, -9.904973030090332, -9.94972038269043,\n",
       "          ..., -17.126976013183594, -21.53339195251465, --],\n",
       "         [-10.571792602539062, -11.169559478759766, -11.204834938049316,\n",
       "          ..., -17.020889282226562, -21.441513061523438, --]]],\n",
       "  mask=[[[ True,  True,  True, ..., False, False,  True],\n",
       "         [ True,  True,  True, ..., False, False,  True],\n",
       "         [ True,  True, False, ..., False, False,  True],\n",
       "         ...,\n",
       "         [False, False, False, ..., False, False,  True],\n",
       "         [False, False, False, ..., False, False,  True],\n",
       "         [False, False, False, ..., False, False,  True]]],\n",
       "  fill_value=-1e+30,\n",
       "  dtype=float32)"
      ]
     },
     "metadata": {},
     "execution_count": 44
    }
   ],
   "source": [
    "f = Dataset(outfile, 'r', clobber=False)\n",
    "f.variables[isobaric_fieldnames[0]][:]"
   ]
  }
 ]
}
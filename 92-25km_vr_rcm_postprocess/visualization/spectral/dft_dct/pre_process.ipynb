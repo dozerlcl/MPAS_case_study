{
 "metadata": {
  "language_info": {
   "codemirror_mode": {
    "name": "ipython",
    "version": 3
   },
   "file_extension": ".py",
   "mimetype": "text/x-python",
   "name": "python",
   "nbconvert_exporter": "python",
   "pygments_lexer": "ipython3",
   "version": "3.9.5"
  },
  "orig_nbformat": 4,
  "kernelspec": {
   "name": "python3",
   "display_name": "Python 3.9.5 64-bit ('pync0326': conda)"
  },
  "interpreter": {
   "hash": "cf76c667a4237489b4b1ec2fcd3b74093597186816c0203f0439927789bdc800"
  }
 },
 "nbformat": 4,
 "nbformat_minor": 2,
 "cells": [
  {
   "cell_type": "code",
   "execution_count": 2,
   "metadata": {},
   "outputs": [],
   "source": [
    "# %matplotlib inline\n",
    "import numpy as np\n",
    "import matplotlib.pyplot as plt\n",
    "import xarray as xr\n",
    "import pandas as pd\n",
    "from scipy.fftpack import * "
   ]
  },
  {
   "source": [
    "前处理1：进行Ke谱分析的前处理的部分，考虑进行垂向的插值，计算垂直方向的平均值"
   ],
   "cell_type": "markdown",
   "metadata": {}
  },
  {
   "cell_type": "code",
   "execution_count": 11,
   "metadata": {},
   "outputs": [],
   "source": [
    "model_type = \"RCM\"\n",
    "# ke\n",
    "dir_in = \"/raid52/yycheng/MPAS/\"+model_type+\"_postprocess/\"+model_type+\"_merge/ke_daily_vi/\"\n",
    "ds_ke    = xr.open_mfdataset(dir_in + \"*_\"+model_type+\"_ke_daily_vi.nc\") # 自动合并 Time 坐标\n",
    "# zgrid\n",
    "dir_in = \"/raid52/yycheng/MPAS/\"+model_type+\"_postprocess/\"+model_type+\"_merge/hgt_daily_vi/\"\n",
    "ds_zgrid    = xr.open_mfdataset(dir_in + \"*_\"+model_type+\"_hgt_daily_vi.nc\") # 自动合并 Time 坐标\n",
    "# ----- select data range -----\n",
    "lat_sel     = (ds_ke.latitude >= 10) & (ds_ke.latitude <= 60)\n",
    "lon_sel     = (ds_ke.longitude >= 70) & (ds_ke.longitude <= 140)\n",
    "plevels_sel = (ds_ke.plevels >= 100) & (ds_ke.plevels <= 400)\n",
    "# plevels_sel = (ds_ke.plevels == 100)\n",
    "time_sel    = (ds_ke.Time.dt.year >= 1998)\n",
    "sel_dict    = {'longitude':lon_sel, \"latitude\":lat_sel, \"plevels\":plevels_sel, \"Time\":time_sel}"
   ]
  },
  {
   "cell_type": "code",
   "execution_count": null,
   "metadata": {},
   "outputs": [],
   "source": [
    "# 进行垂直积分，求垂直平均值\n",
    "ke_sel = ds_vr_ke.isel(sel_dict)        # 读入选取数据到 ke_sel\n",
    "sel_plevels_val = ke_sel.plevels.values # 转换为np.array\n",
    "ke_sum = np.trapz(ke_sel['ke'].values, sel_plevels_val, axis = 3) / (400. - 100.)\n",
    "# 154 x 160 x 279 3d np array [time,lat,lon]"
   ]
  },
  {
   "cell_type": "code",
   "execution_count": null,
   "metadata": {},
   "outputs": [],
   "source": [
    "# np.isnan(vr_ke_sum).any() # 检查，显然是有NAN的\n",
    "# 将numpy的nan处理为单独的数 -1e30，方便后续写入文件之中\n",
    "# 将RCM的边缘NAN和本身插值造成的NAN一并处理掉了\n",
    "ke_sum_rmnan = np.where(ke_sum>1e10, -1e30, vr_ke_sum)"
   ]
  },
  {
   "cell_type": "code",
   "execution_count": null,
   "metadata": {},
   "outputs": [],
   "source": [
    "# 创建临时输出，方便后面再进行计算\n",
    "dir_out = \"/raid52/yycheng/MPAS/RCM_postprocess/RCM_merge/ke_daily_vi/\"\n",
    "# list(vr_ke_sel.coords)\n",
    "coords_lon  = ke_sel.longitude\n",
    "coords_lat  = ke_sel.latitude\n",
    "coords_Time = ke_sel.Time\n",
    "# xr.DataArray(vr_ke_sum,dims = ['longitude', 'latitude', 'Time'])\n",
    "temp_write = xr.DataArray(ke_sum_rmnan, name = \"vertical integration Ke\", coords = [coords_Time, coords_lat ,coords_lon],attrs={\"caculation\":\"100-400hPa Ke trapz integration ( / 300hPa)\"})\n",
    "# temp_write.values = vr_ke_sum # 直接向values中写入\n",
    "encoding_dict = {\"vertical integration Ke\":{\"_FillValue\":-1e30}}\n",
    "temp_write.to_netcdf(dir_out + \"ke_all_400-100_hPa_vi.nc\",'w',\\\n",
    "    encoding = encoding_dict) # 此处进行NAN的处理：修改encoding方法"
   ]
  }
 ]
}
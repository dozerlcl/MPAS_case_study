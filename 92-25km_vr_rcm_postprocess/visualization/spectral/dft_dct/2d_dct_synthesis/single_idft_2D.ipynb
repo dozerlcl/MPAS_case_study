{
 "cells": [
  {
   "cell_type": "code",
   "execution_count": null,
   "metadata": {},
   "outputs": [],
   "source": [
    "import numpy as np\n",
    "import matplotlib.pyplot as plt\n",
    "import xarray as xr\n",
    "import pandas as pd\n",
    "from scipy.fftpack import * "
   ]
  },
  {
   "cell_type": "markdown",
   "metadata": {},
   "source": [
    "准备使用dft制作2D数字滤波（未完成）"
   ]
  },
  {
   "cell_type": "markdown",
   "metadata": {},
   "source": [
    "准备使用DFT制作x"
   ]
  },
  {
   "cell_type": "markdown",
   "metadata": {},
   "source": [
    "- 3.使用500hPa 位势高度m"
   ]
  },
  {
   "cell_type": "code",
   "execution_count": null,
   "metadata": {},
   "outputs": [],
   "source": [
    "hum = {} # 放置提取出的变量\n",
    "hum_rmnan = {} # 防止进行插值之后处理的变量\n",
    "\n",
    "dir_in = \"/raid52/yycheng/MPAS/VR_postprocess/VR_merge/diag_daily_selected/hgt/\"\n",
    "ds_ke_sum = xr.open_dataset(dir_in + \"hgt_VR_98-17.nc\")\n",
    "hum['vr'] = ds_ke_sum['height_500hPa']\n",
    "hum_rmnan['vr'] = hum['vr'].interpolate_na(dim = 'longitude', method = 'cubic', max_gap = None, fill_value=\"extrapolate\")\n",
    "\n",
    "dir_in = \"/raid52/yycheng/MPAS/RCM_postprocess/RCM_merge/diag_daily_selected/hgt/\"\n",
    "ds_ke_sum = xr.open_dataset(dir_in + \"hgt_RCM_98-17.nc\")\n",
    "hum['rcm'] = ds_ke_sum['height_500hPa']\n",
    "hum_rmnan['rcm'] = hum['rcm'].interpolate_na(dim = 'longitude', method = 'cubic', max_gap = None, fill_value=\"extrapolate\")\n",
    "\n",
    "dir_in = \"/raid52/yycheng/MPAS/REFERENCE/ERA5I_NC/ERA5I_NC_daily/hgt/\"\n",
    "ds_ke_sum = xr.open_dataset(dir_in + \"merge_hgt_daily.nc\")\n",
    "hum['era5i'] = ds_ke_sum['hgt'].sel({'level':500}).drop('level')\n",
    "hum_rmnan['era5i'] = hum['era5i'].interpolate_na(dim = 'lon', method = 'cubic', max_gap = None, fill_value=\"extrapolate\")"
   ]
  }
 ],
 "metadata": {
  "interpreter": {
   "hash": "cf76c667a4237489b4b1ec2fcd3b74093597186816c0203f0439927789bdc800"
  },
  "kernelspec": {
   "display_name": "Python 3.9.5 64-bit ('pync0326': conda)",
   "name": "python3"
  },
  "language_info": {
   "name": "python",
   "version": ""
  },
  "orig_nbformat": 4
 },
 "nbformat": 4,
 "nbformat_minor": 2
}
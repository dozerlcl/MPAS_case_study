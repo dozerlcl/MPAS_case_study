{
 "cells": [
  {
   "cell_type": "code",
   "execution_count": 1,
   "metadata": {},
   "outputs": [],
   "source": [
    "import numpy as np\n",
    "import matplotlib.pyplot as plt\n",
    "import xarray as xr\n",
    "import pandas as pd\n",
    "from scipy.fftpack import * "
   ]
  },
  {
   "cell_type": "markdown",
   "metadata": {},
   "source": [
    "2021.07.02\n",
    "\n",
    "进行谱分析的脚本，读入数据，设置一个余弦平方的idctn的转换函数，之后应用到数据上，进行数字滤波"
   ]
  },
  {
   "cell_type": "markdown",
   "metadata": {},
   "source": [
    "读入数据,根据不同的需求有三部分\n",
    "- 为了进行谱分析制作的KE（高层的平均值）\n",
    "- 此前从diag_daily 中选取的湿度变量\n",
    "- remains：正在制作的湿度变量\n",
    "- hgt\n",
    "\n",
    "处理到最后执行分析的变量是 mean_test"
   ]
  },
  {
   "cell_type": "markdown",
   "metadata": {},
   "source": [
    "- 1.使用的高层的KE"
   ]
  },
  {
   "cell_type": "code",
   "execution_count": null,
   "metadata": {},
   "outputs": [],
   "source": [
    "ke_sum = {}\n",
    "dir_out = \"/raid52/yycheng/MPAS/RCM_postprocess/RCM_merge/ke_daily_vi/\"\n",
    "ds_ke_sum = xr.open_dataset(dir_out + \"ke_all_400-100_hPa_vi.nc\")\n",
    "ke_sum['rcm'] = ds_ke_sum['vertical integration Ke']\n",
    "\n",
    "dir_out = \"/raid52/yycheng/MPAS/VR_postprocess/VR_merge/ke_daily_vi/\"\n",
    "ds_ke_sum = xr.open_dataset(dir_out + \"ke_all_400-100_hPa_vi.nc\")\n",
    "ke_sum['vr'] = ds_ke_sum['vertical integration Ke']"
   ]
  },
  {
   "cell_type": "code",
   "execution_count": null,
   "metadata": {},
   "outputs": [],
   "source": [
    "# 通过外插，去除掉边界上因RCM范围选取问题产生的nan的点\n",
    "ke_sum_rmnan = {}\n",
    "ke_sum_rmnan['vr']  = ke_sum['vr'] = ke_sum['vr'].interpolate_na(dim = 'longitude', method = 'cubic', max_gap = None, fill_value=\"extrapolate\")\n",
    "ke_sum_rmnan['rcm'] = ke_sum['rcm'].interpolate_na(dim = 'longitude', method = 'cubic', max_gap = None, fill_value=\"extrapolate\")"
   ]
  },
  {
   "cell_type": "code",
   "execution_count": null,
   "metadata": {},
   "outputs": [],
   "source": [
    "mean_test = ke_sum_rmnan['vr'].mean('Time')"
   ]
  },
  {
   "cell_type": "markdown",
   "metadata": {},
   "source": [
    "- 2.使用低层的露点温度"
   ]
  },
  {
   "cell_type": "code",
   "execution_count": null,
   "metadata": {},
   "outputs": [],
   "source": [
    "hum = {}\n",
    "hum_rmnan = {}\n",
    "\n",
    "dir_in = \"/raid52/yycheng/MPAS/VR_postprocess/VR_merge/diag_daily_selected/hum/\"\n",
    "ds_ke_sum = xr.open_dataset(dir_in + \"1998_VR_diag.nc\")\n",
    "hum['vr'] = ds_ke_sum['dewpoint_850hPa']\n",
    "hum_rmnan['vr'] = hum['vr'].interpolate_na(dim = 'longitude', method = 'cubic', max_gap = None, fill_value=\"extrapolate\")\n",
    "\n",
    "dir_in = \"/raid52/yycheng/MPAS/RCM_postprocess/RCM_merge/diag_daily_selected/hum/\"\n",
    "ds_ke_sum = xr.open_dataset(dir_in + \"1998_RCM_diag.nc\")\n",
    "hum['rcm'] = ds_ke_sum['dewpoint_850hPa']\n",
    "hum_rmnan['rcm'] = hum['rcm'].interpolate_na(dim = 'longitude', method = 'cubic', max_gap = None, fill_value=\"extrapolate\")"
   ]
  },
  {
   "cell_type": "markdown",
   "metadata": {},
   "source": [
    "- 3.使用500hPa 位势高度"
   ]
  },
  {
   "cell_type": "code",
   "execution_count": null,
   "metadata": {},
   "outputs": [],
   "source": [
    "hum = {} # 放置提取出的变量\n",
    "hum_rmnan = {} # 防止进行插值之后处理的变量\n",
    "\n",
    "dir_in = \"/raid52/yycheng/MPAS/VR_postprocess/VR_merge/diag_daily_selected/hgt/\"\n",
    "ds_ke_sum = xr.open_dataset(dir_in + \"hgt_VR_98-17.nc\")\n",
    "hum['vr'] = ds_ke_sum['height_500hPa']\n",
    "hum_rmnan['vr'] = hum['vr'].interpolate_na(dim = 'longitude', method = 'cubic', max_gap = None, fill_value=\"extrapolate\")\n",
    "\n",
    "dir_in = \"/raid52/yycheng/MPAS/RCM_postprocess/RCM_merge/diag_daily_selected/hgt/\"\n",
    "ds_ke_sum = xr.open_dataset(dir_in + \"hgt_RCM_98-17.nc\")\n",
    "hum['rcm'] = ds_ke_sum['height_500hPa']\n",
    "hum_rmnan['rcm'] = hum['rcm'].interpolate_na(dim = 'longitude', method = 'cubic', max_gap = None, fill_value=\"extrapolate\")\n",
    "\n",
    "dir_in = \"/raid52/yycheng/MPAS/REFERENCE/ERA5I_NC/ERA5I_NC_daily/hgt/\"\n",
    "ds_ke_sum = xr.open_dataset(dir_in + \"merge_hgt_daily.nc\")\n",
    "hum['era5i'] = ds_ke_sum['hgt'].sel({'level':500}).drop('level')\n",
    "hum_rmnan['era5i'] = hum['era5i'].interpolate_na(dim = 'lon', method = 'cubic', max_gap = None, fill_value=\"extrapolate\")"
   ]
  },
  {
   "cell_type": "markdown",
   "metadata": {},
   "source": [
    "- 使用shum"
   ]
  },
  {
   "cell_type": "code",
   "execution_count": 2,
   "metadata": {},
   "outputs": [],
   "source": [
    "hum = {} # 放置提取出的变量\n",
    "hum_rmnan = {} # 防止进行插值之后处理的变量\n",
    "dir_in = \"/raid52/yycheng/MPAS/VR_postprocess/VR_merge/hum_theta_daily_vi/\"\n",
    "ds_ke_sum = xr.open_mfdataset(dir_in + \"*_VR_hum_theta_daily_vi.nc\")\n",
    "hum['vr'] = ds_ke_sum['qv'].sel(plevels=500)\n",
    "hum_rmnan['vr'] = hum['vr'].interpolate_na(dim = 'longitude', method = 'cubic', max_gap = None, fill_value=\"extrapolate\")\n",
    "\n",
    "dir_in = \"/raid52/yycheng/MPAS/RCM_postprocess/RCM_merge/hum_theta_daily_vi/\"\n",
    "ds_ke_sum = xr.open_mfdataset(dir_in + \"*_RCM_hum_theta_daily_vi.nc\")\n",
    "hum['rcm'] = ds_ke_sum['qv'].sel(plevels=500)\n",
    "hum_rmnan['rcm'] = hum['rcm'].interpolate_na(dim = 'longitude', method = 'cubic', max_gap = None, fill_value=\"extrapolate\")\n",
    "\n",
    "dir_in = \"/raid52/yycheng/MPAS/REFERENCE/ERA5I_NC/ERA5I_NC_daily/shum_98-17_daily/\"\n",
    "ds_ke_sum = xr.open_dataset(dir_in + \"merge_shum_daily.nc\")\n",
    "hum['era5i'] = ds_ke_sum['shum'].sel({'level':500}).drop('level')\n",
    "hum_rmnan['era5i'] = hum['era5i'].interpolate_na(dim = 'lon', method = 'cubic', max_gap = None, fill_value=\"extrapolate\")"
   ]
  },
  {
   "cell_type": "markdown",
   "metadata": {},
   "source": [
    "合并到var_3d var_2d（时间平均上）"
   ]
  },
  {
   "cell_type": "code",
   "execution_count": 3,
   "metadata": {},
   "outputs": [],
   "source": [
    "# mean_test = hum_rmnan['rcm'].mean('Time')\n",
    "var_3d = {}\n",
    "var_3d['vr']  = hum_rmnan['vr'].sel({'Time':hum_rmnan['vr'].Time.dt.month.isin([7])})\n",
    "var_3d['rcm'] = hum_rmnan['rcm'].sel({'Time':hum_rmnan['rcm'].Time.dt.month.isin([7])})\n",
    "var_3d['era5i'] = hum_rmnan['era5i'].sel({'time':hum_rmnan['era5i'].time.dt.month.isin([7])})\n",
    "\n",
    "var_2d = {}\n",
    "var_2d['vr']  = var_3d['vr'].mean(\"Time\")\n",
    "var_2d['rcm'] = var_3d['rcm'].mean(\"Time\")\n",
    "var_2d['era5i'] = var_3d['era5i'].mean(\"time\")"
   ]
  },
  {
   "cell_type": "markdown",
   "metadata": {},
   "source": [
    "计算波数等绘图变量，构造cosine squared的滤波窗口\n",
    "\n",
    "暂时修改为3D的情况，先将多个时次进行dctn之后，乘上权重，再对idctn结果进行平均，到一张图上"
   ]
  },
  {
   "cell_type": "code",
   "execution_count": 4,
   "metadata": {},
   "outputs": [],
   "source": [
    "ntime = var_3d['vr'].shape[0]\n",
    "nlat = var_3d['vr'].shape[1]\n",
    "nlon = var_3d['vr'].shape[2]\n",
    "lat_length = 5017 * 1e3 # m\n",
    "lon_length = 7061 * 1e3 # m\n",
    "dlat = lat_length / nlat\n",
    "dlon  = lon_length / nlon\n",
    "all_length = np.sqrt(lat_length**2 + lon_length**2)\n",
    "all_n      = np.sqrt(nlat**2 + nlon **2)\n",
    "\n",
    "# 计算1000km 和 500km对应的无量纲波数（区域内）\n",
    "k_domain_1000 = all_n / (1000*1e3 / np.sqrt(dlat**2 + dlon**2)) \n",
    "k_domain_500  = all_n / (500*1e3 / np.sqrt(dlat**2 + dlon**2))\n",
    "\n",
    "# 进行计算的函数\n",
    "def k_domain_count(x, all_n=all_n, dlat=dlat, dlon=dlon):\n",
    "    '输入变量x 单位km'\n",
    "    k_domain_res  = all_n / (x*1e3 / np.sqrt(dlat**2 + dlon**2))\n",
    "    return k_domain_res"
   ]
  },
  {
   "cell_type": "code",
   "execution_count": 5,
   "metadata": {},
   "outputs": [],
   "source": [
    "def weight_cosine_squared(x, k_s, k_e):\n",
    "    '计算余弦平方的权重，低通滤波'\n",
    "    import numpy as np\n",
    "    res = np.array(x)\n",
    "    if (x<=k_s):\n",
    "        res = 1\n",
    "    if (x>=k_e):\n",
    "        res = 0\n",
    "    if ((x>=k_s) & (x<=k_e)):\n",
    "        res = np.cos(np.pi*(x-k_s) / (2*(k_e - k_s)))**2\n",
    "    return res\n",
    "\n",
    "def weight_cosine_squared_band(x, k_s, k_e, k_inter):\n",
    "    '计算余弦平方的权重，带通滤波'\n",
    "    'k_inter 为进行缓冲的k的大小'\n",
    "    import numpy as np\n",
    "    res = 1.\n",
    "    k_center = (k_s + k_e) / 2.\n",
    "    if (x<=k_s):\n",
    "        res = 0\n",
    "    if (x>=k_e):\n",
    "        res = 0\n",
    "    if ((x>=k_center+k_inter) & (x<=k_e)):\n",
    "        res = np.cos(np.pi*(x-(k_center+k_inter)) / (2*(k_e - (k_center + k_inter))))**2\n",
    "        # res = 1.3#np.cos(np.pi*(x-(k_center+k_inter)) / (2*(k_e - (k_center + k_inter))))**2\n",
    "    if ((x<=k_center-k_inter) & (x>=k_s)):\n",
    "        res = np.cos(np.pi*(x-(k_center - k_inter)) / (2*((k_center-k_inter) - k_s)))**2\n",
    "        # res = 1.2#np.cos(np.pi*(x-(k_center - k_inter)) / (2*(k_e - (k_center-k_inter))))**2\n",
    "    return res"
   ]
  },
  {
   "cell_type": "code",
   "execution_count": 6,
   "metadata": {},
   "outputs": [
    {
     "data": {
      "text/plain": [
       "[<matplotlib.lines.Line2D at 0x2b8c8a8778e0>]"
      ]
     },
     "execution_count": 6,
     "metadata": {},
     "output_type": "execute_result"
    },
    {
     "data": {
      "image/png": "[encoded data removed]",
      "text/plain": [
       "<Figure size 432x288 with 1 Axes>"
      ]
     },
     "metadata": {
      "needs_background": "light"
     },
     "output_type": "display_data"
    }
   ],
   "source": [
    "# 检查转换函数\n",
    "# test_weight_x = np.linspace(k_domain_1000-10, k_domain_500+10,101)\n",
    "test_weight_x = np.linspace(5,55,101)\n",
    "test_weight_y = np.empty(shape = test_weight_x.shape)\n",
    "for i,xi in enumerate(test_weight_x):\n",
    "    # test_weight_y[i] = weight_cosine_squared_band(xi, k_domain_1000, k_domain_500, 2)\n",
    "    test_weight_y[i] = weight_cosine_squared_band(xi, 15, 45, 10)\n",
    "plt.plot(test_weight_x, test_weight_y)"
   ]
  },
  {
   "cell_type": "code",
   "execution_count": 7,
   "metadata": {},
   "outputs": [
    {
     "data": {
      "text/plain": [
       "<matplotlib.colorbar.Colorbar at 0x2b8cc12d39a0>"
      ]
     },
     "execution_count": 7,
     "metadata": {},
     "output_type": "execute_result"
    },
    {
     "data": {
      "image/png": "[encoded data removed]",
      "text/plain": [
       "<Figure size 432x288 with 2 Axes>"
      ]
     },
     "metadata": {
      "needs_background": "light"
     },
     "output_type": "display_data"
    }
   ],
   "source": [
    "# 构造weight array，以便对DCT结果使用\n",
    "weight_array_cosine = np.empty(var_3d['vr'].shape)\n",
    "# DCT 频率是如何对应的？remains\n",
    "# freq_lat = fftfreq(nlat,1./nlat)\n",
    "# freq_lon = fftfreq(nlon,1./nlon)\n",
    "freq_lat = range(0, nlat)\n",
    "freq_lon = range(0, nlon)\n",
    "# for t in range(0, ntime):\n",
    "for i in range(0,nlat):\n",
    "    for j in range(0,nlon):\n",
    "        k_domain_2d = np.sqrt((freq_lat[i])**2 + (freq_lon[j])**2)\n",
    "        weight_array_cosine[:, i, j] = weight_cosine_squared(k_domain_2d, k_domain_count(2000), k_domain_count(1000))\n",
    "        # weight_array_cosine[:, i, j] = weight_cosine_squared(k_domain_2d, k_domain_count(1000), k_domain_count(500))\n",
    "        # weight_array_cosine[:,i,j] = weight_cosine_squared_band(k_domain_2d, k_domain_count(4000), k_domain_count(1000), 5)\n",
    "\n",
    "# 检查权重matrix效果\n",
    "plt.contourf(weight_array_cosine[0,:,:])\n",
    "plt.colorbar()"
   ]
  },
  {
   "cell_type": "markdown",
   "metadata": {},
   "source": [
    "进行DCT & IDCT\n",
    "\n",
    "暂时修改为对3D数据使用"
   ]
  },
  {
   "cell_type": "code",
   "execution_count": null,
   "metadata": {},
   "outputs": [],
   "source": [
    "dctn_3d = {}\n",
    "dctn_3d_weighted = {}\n",
    "dctn_3d['vr']           = dctn(var_3d['vr'].values, type=2,axes=[1,2], norm = 'ortho')\n",
    "dctn_3d_weighted['vr']  = dctn_3d['vr'].copy() * weight_array_cosine\n",
    "\n",
    "dctn_3d['rcm']           = dctn(var_3d['rcm'].values, type=2,axes=[1,2], norm = 'ortho')\n",
    "dctn_3d_weighted['rcm']  = dctn_3d['rcm'].copy() * weight_array_cosine\n",
    "\n",
    "dctn_3d['era5i']           = dctn(var_3d['era5i'].values, type=2,axes=[1,2], norm = 'ortho')\n",
    "dctn_3d_weighted['era5i']  = dctn_3d['era5i'].copy() * weight_array_cosine\n",
    "\n",
    "idctn_3d  = {}\n",
    "idctn_3d['vr'] = idctn(dctn_3d_weighted['vr'], type=2,axes=[1,2], norm = 'ortho')\n",
    "idctn_3d['rcm'] = idctn(dctn_3d_weighted['rcm'], type=2,axes=[1,2], norm = 'ortho')\n",
    "idctn_3d['era5i'] = idctn(dctn_3d_weighted['era5i'], type=2,axes=[1,2], norm = 'ortho')\n",
    "\n",
    "# 再在时间上进行平均\n",
    "idctn_2d  = {}\n",
    "idctn_2d['vr'] = idctn_3d['vr'].mean(axis=0)\n",
    "idctn_2d['rcm'] = idctn_3d['rcm'].mean(axis=0)\n",
    "idctn_2d['era5i'] = idctn_3d['era5i'].mean(axis=0)\n",
    "\n",
    "# 平均态的做差，找到剩余的波动\n",
    "idctn_diff = {}\n",
    "idctn_diff['vr']  = var_2d['vr'].values - idctn_2d['vr']\n",
    "idctn_diff['rcm'] = var_2d['rcm'].values - idctn_2d['rcm']\n",
    "idctn_diff['era5i'] = var_2d['era5i'].values - idctn_2d['era5i']\n"
   ]
  },
  {
   "cell_type": "code",
   "execution_count": null,
   "metadata": {},
   "outputs": [],
   "source": [
    "# import proplot as plot\n",
    "from matplotlib import pyplot as plt\n",
    "import proplot as plot\n",
    "# ----- get filter vars coords-----\n",
    "\n",
    "lon = var_3d['vr'].longitude.values\n",
    "lat = var_3d['vr'].latitude.values\n",
    "\n",
    "#----- create plot -----\n",
    "fig, axs = plot.subplots(ncols=3,nrows=3, proj=('cyl'))\n",
    "m_contour_list = []\n",
    "#-----VR pannel setting-----\n",
    "# 平均态\n",
    "axs[0].format(title='VR mean')\n",
    "mean_ticks = np.linspace(5600,5900, 16)\n",
    "# mean_ticks = np.linspace(var_2d['vr'].min(), var_2d['vr'].max(),11)\n",
    "\n",
    "m_mean = axs[0].contourf(lon, lat, var_2d['vr'].values,\\\n",
    "levels=mean_ticks,cmap='tab20c')\n",
    "# 添加contour，在后续进行\n",
    "m_contour  = axs[0].contour(lon, lat, var_2d['vr'].values,\\\n",
    "levels=mean_ticks,color='k',\n",
    "linewidth = .5)\n",
    "m_contour_list.append(m_contour)\n",
    "\n",
    "# IDCTN的时间平均\n",
    "axs[1].format(title='VR idctn')\n",
    "# idctn_ticks = np.linspace(idctn_2d['vr'].min(), idctn_2d['vr'].max(),16)\n",
    "# idctn_ticks = np.linspace(-10., 10., 21)\n",
    "idctn_ticks = np.linspace(5600,5900,16)\n",
    "\n",
    "m_idctn = axs[1].contourf(lon, lat, idctn_2d['vr'],\\\n",
    "levels=idctn_ticks,cmap='tab20c')\n",
    "# 添加contour\n",
    "m_contour  = axs[1].contour(lon, lat, idctn_2d['vr'],\\\n",
    "levels=idctn_ticks,color='k',\n",
    "linewidth = .5)\n",
    "m_contour_list.append(m_contour)\n",
    "\n",
    "# 做差结果\n",
    "axs[2].format(title='VR diff')\n",
    "# diff_ticks = np.linspace(idctn_diff['vr'].min(), idctn_diff['vr'].max(),21)\n",
    "diff_ticks = np.linspace(-10., 10.,21)\n",
    "# diff_ticks = np.linspace(-2., 2.,21)\n",
    "\n",
    "m_idctn_diff = axs[2].contourf(lon, lat, idctn_diff['vr'],\\\n",
    "levels=diff_ticks,cmap='coolwarm')\n",
    "\n",
    "#-----RCM pannel setting-----\n",
    "# 平均态\n",
    "axs[3].format(title='RCM mean')\n",
    "# mean_ticks = np.arange(240,300,5.)\n",
    "# mean_ticks = np.linspace(var_2d['rcm'].min(), var_2d['rcm'].max(),11)\n",
    "\n",
    "m_mean = axs[3].contourf(lon, lat, var_2d['rcm'].values,\\\n",
    "levels=mean_ticks,cmap='tab20c')\n",
    "m_contour  = axs[3].contour(lon, lat, var_2d['rcm'].values,\\\n",
    "levels=idctn_ticks,color='k',\n",
    "linewidth = .5)\n",
    "m_contour_list.append(m_contour)\n",
    "\n",
    "# dctn平均\n",
    "axs[4].format(title='RCM idctn')\n",
    "# idctn_ticks = np.linspace(idctn['rcm'].min(), idctn['rcm'].max(),11)\n",
    "# idctn_ticks = np.linspace(-10., 10., 21)\n",
    "\n",
    "m_idctn = axs[4].contourf(lon, lat, idctn_2d['rcm'],\\\n",
    "levels=idctn_ticks,cmap='tab20c')\n",
    "m_contour  = axs[4].contour(lon, lat, idctn_2d['rcm'],\\\n",
    "levels=idctn_ticks,color='k',\n",
    "linewidth = .5)\n",
    "m_contour_list.append(m_contour)\n",
    "\n",
    "# 做差结果\n",
    "axs[5].format(title='RCM diff')\n",
    "# diff_ticks = np.linspace(idctn_diff.min(), idctn_diff.max(),21)\n",
    "# diff_ticks = np.linspace(-5., 5.,21)\n",
    "# diff_ticks = np.linspace(-10., 10.,21)\n",
    "\n",
    "m_idctn_diff = axs[5].contourf(lon, lat, idctn_diff['rcm'],\\\n",
    "levels=diff_ticks,cmap='coolwarm')\n",
    "\n",
    "# -----ERA5I pannel -----\n",
    "# 平均态\n",
    "axs[6].format(title='era5i mean')\n",
    "# mean_ticks = np.arange(240,300,5.)\n",
    "# mean_ticks = np.linspace(var_2d['rcm'].min(), var_2d['rcm'].max(),11)\n",
    "\n",
    "m_mean = axs[6].contourf(lon, lat, var_2d['era5i'].values,\\\n",
    "levels=mean_ticks,cmap='tab20c')\n",
    "m_contour  = axs[6].contour(lon, lat, var_2d['era5i'].values,\\\n",
    "levels=idctn_ticks,color='k',\n",
    "linewidth = .5)\n",
    "m_contour_list.append(m_contour)\n",
    "\n",
    "# dctn平均\n",
    "axs[7].format(title='era5i idctn')\n",
    "# idctn_ticks = np.linspace(idctn['rcm'].min(), idctn['rcm'].max(),11)\n",
    "# idctn_ticks = np.linspace(-10., 10., 21)\n",
    "\n",
    "m_idctn = axs[7].contourf(lon, lat, idctn_2d['era5i'],\\\n",
    "levels=idctn_ticks,cmap='tab20c')\n",
    "m_contour  = axs[7].contour(lon, lat, idctn_2d['era5i'],\\\n",
    "levels=idctn_ticks,color='k',\n",
    "linewidth = .5)\n",
    "m_contour_list.append(m_contour)\n",
    "\n",
    "# 做差结果\n",
    "axs[8].format(title='ERA5I diff')\n",
    "# diff_ticks = np.linspace(idctn_diff.min(), idctn_diff.max(),21)\n",
    "# diff_ticks = np.linspace(-5., 5.,21)\n",
    "# diff_ticks = np.linspace(-10., 10.,21)\n",
    "\n",
    "m_idctn_diff = axs[8].contourf(lon, lat, idctn_diff['era5i'],\\\n",
    "levels=diff_ticks,cmap='coolwarm')\n",
    "\n",
    "\n",
    "# ----- format setting -----\n",
    "axs.format(\n",
    "abc=True,\n",
    "lonlim=(70, 140), latlim=(15, 55), coast=True,\n",
    "#-----GEO axis-----\n",
    "borders = True,\n",
    "labels = True,\n",
    "gridlabelsize = 5,\n",
    "gridminor = True,\n",
    "# ticklen = 10,\n",
    "# borderslinewidth=.5,\n",
    "# longridminor= False,\n",
    "# latgridminor= False,\n",
    "# lonminorlocator = \n",
    "longrid  = True,\n",
    "latgrid  = True,\n",
    "# latlines = 10,\n",
    "# lonlines = 10,\n",
    "lonlocator = np.arange(70,150,10),\n",
    "latlocator = np.arange(15,65,10),\n",
    "lonminorlocator = np.arange(70,140+2,2),\n",
    "latminorlocator = np.arange(15,55+2,2),\n",
    "#-----line label-----\n",
    "# linewidth = 0.5,\n",
    "suptitle=\"3000km-2000km damp lowpass 500hPa height\",\n",
    ")\n",
    "#----- add contour tick labels -----\n",
    "for i,axs_ind in enumerate(m_contour_list):\n",
    "    axs[i].clabel(axs_ind, inline=True, fontsize=5, colors = 'k', fmt='%4.0f',use_clabeltext=True, inline_spacing=1)\n",
    "\n",
    "#----- add color bar-----\n",
    "# fig.colorbar(m_overlay, loc='b', cmap=cmap, width=0.1)\n",
    "\n",
    "# fig.colorbar(m_mean, loc='b', width=0.1,\n",
    "# ticklabelsize=5,ticks=mean_ticks)\n",
    "\n",
    "axs[0].colorbar(m_mean, loc='b', width=0.1,\n",
    "ticklabelsize=5,ticks=mean_ticks)\n",
    "\n",
    "axs[1].colorbar(m_idctn, loc='b', width=0.1,\n",
    "ticklabelsize=5,ticks=idctn_ticks)\n",
    "\n",
    "axs[2].colorbar(m_idctn_diff, loc='b',width=0.1,\n",
    "ticklabelsize=5,ticks=diff_ticks)\n",
    "\n",
    "#----- save figure -----\n",
    "# fig.patch.set_facecolor('white')\n",
    "# plt.savefig('./output_pic/hgt_idctn.png', dpi=300, facecolor= \"white\")"
   ]
  }
 ],
 "metadata": {
  "interpreter": {
   "hash": "da0469cb1653dac5810650c6f9c12d7c46a389e85e448c305f1477fdb1af5288"
  },
  "kernelspec": {
   "display_name": "Python 3.8.2 64-bit ('proplot0528': conda)",
   "language": "python",
   "name": "python382jvsc74a57bd0da0469cb1653dac5810650c6f9c12d7c46a389e85e448c305f1477fdb1af5288"
  },
  "language_info": {
   "codemirror_mode": {
    "name": "ipython",
    "version": 3
   },
   "file_extension": ".py",
   "mimetype": "text/x-python",
   "name": "python",
   "nbconvert_exporter": "python",
   "pygments_lexer": "ipython3",
   "version": "3.8.2"
  }
 },
 "nbformat": 4,
 "nbformat_minor": 4
}

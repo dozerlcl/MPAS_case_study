{
 "cells": [
  {
   "cell_type": "code",
   "execution_count": null,
   "metadata": {},
   "outputs": [],
   "source": [
    "import numpy as np\n",
    "import matplotlib.pyplot as plt\n",
    "import xarray as xr\n",
    "import pandas as pd\n",
    "import proplot as pplt\n",
    "from scipy.fftpack import * \n",
    "import metpy"
   ]
  },
  {
   "cell_type": "markdown",
   "metadata": {},
   "source": [
    "# 2021.11.09 unfinished\n",
    "尝试单独将UV插值到等高面上，然后进行速度方差谱的计算绘制，相加得到动能谱\n",
    "\n",
    "分开进行插值部分"
   ]
  },
  {
   "cell_type": "markdown",
   "metadata": {},
   "source": [
    "## 数据读入"
   ]
  },
  {
   "cell_type": "code",
   "execution_count": null,
   "metadata": {},
   "outputs": [],
   "source": [
    "winds = {}\n",
    "hgts  = {}\n",
    "\n",
    "# ERA5I\n",
    "dir_in = \"/raid52/yycheng/MPAS/REFERENCE/ERA5I_NC/ERA5I_NC_daily/u_98-17_daily/\"\n",
    "ds_u    = xr.open_dataset(dir_in + \"merge_u_daily.nc\") # 自动合并 Time 坐标\n",
    "winds['era5i'] = {}\n",
    "origin_time = ds_u.time\n",
    "jja_time    = origin_time.isel(time = origin_time.dt.month.isin([6,7,8]))\n",
    "winds['era5i']['uwnd'] = ds_u['uwnd'].sel(time = jja_time)\n",
    "\n",
    "dir_in = \"/raid52/yycheng/MPAS/REFERENCE/ERA5I_NC/ERA5I_NC_daily/v_98-17_daily/\"\n",
    "ds_v    = xr.open_dataset(dir_in + \"merge_v_daily.nc\") # 自动合并 Time 坐标\n",
    "winds['era5i']['vwnd'] = ds_v['vwnd'].sel(time = jja_time)\n",
    "\n",
    "dir_in = \"/raid52/yycheng/MPAS/REFERENCE/ERA5I_NC/ERA5I_NC_daily/hgt/\"\n",
    "ds_hgt    = xr.open_dataset(dir_in + \"merge_hgt_daily.nc\") # 自动合并 Time 坐标\n",
    "hgts['era5i']      = ds_hgt['hgt'].sel(time = jja_time)\n",
    "\n",
    "# VR & RCM uReconstructZonal uReconstructMeridional\n",
    "model_type = \"VR\"\n",
    "dir_in = \"/raid52/yycheng/MPAS/\"+model_type+\"_postprocess/\"+model_type+\"_merge/ke_daily_vi/\"\n",
    "ds_ke    = xr.open_mfdataset(dir_in + \"*_\"+model_type+\"_ke_daily_vi.nc\") # 自动合并 Time 坐标\n",
    "origin_time = ds_ke.Time\n",
    "jja_time    = origin_time.isel(Time = origin_time.dt.month.isin([6,7,8]))\n",
    "winds['vr'] = {}\n",
    "winds['vr']['uwnd'] = ds_ke['uReconstructZonal'].sel(Time = jja_time)\n",
    "winds['vr']['vwnd'] = ds_ke['uReconstructMeridional'].sel(Time = jja_time)\n",
    "\n",
    "dir_in = \"/raid52/yycheng/MPAS/\"+model_type+\"_postprocess/\"+model_type+\"_merge/hgt_daily_vi/\"\n",
    "ds_hgt = xr.open_mfdataset(dir_in + \"*\" + model_type + \"_hgt_daily_vi.nc\")\n",
    "hgts['vr']      = ds_hgt['zgrid'].sel(Time = jja_time)\n",
    "\n",
    "model_type = \"RCM\"\n",
    "dir_in = \"/raid52/yycheng/MPAS/\"+model_type+\"_postprocess/\"+model_type+\"_merge/ke_daily_vi/\"\n",
    "ds_ke    = xr.open_mfdataset(dir_in + \"*_\"+model_type+\"_ke_daily_vi.nc\") # 自动合并 Time 坐标\n",
    "winds['rcm'] = {}\n",
    "winds['rcm']['uwnd'] = ds_ke['uReconstructZonal'].sel(Time = jja_time)\n",
    "winds['rcm']['vwnd'] = ds_ke['uReconstructMeridional'].sel(Time = jja_time)\n",
    "dir_in = \"/raid52/yycheng/MPAS/\"+model_type+\"_postprocess/\"+model_type+\"_merge/hgt_daily_vi/\"\n",
    "ds_hgt = xr.open_mfdataset(dir_in + \"*\" + model_type + \"_hgt_daily_vi.nc\")\n",
    "hgts['rcm']      = ds_hgt['zgrid'].sel(Time = jja_time)"
   ]
  },
  {
   "cell_type": "markdown",
   "metadata": {},
   "source": [
    "## 垂直插值 & 写出"
   ]
  },
  {
   "cell_type": "markdown",
   "metadata": {},
   "source": [
    "### ERA5I"
   ]
  },
  {
   "cell_type": "code",
   "execution_count": null,
   "metadata": {},
   "outputs": [],
   "source": [
    "from metpy.units import units\n",
    "from metpy.interpolate import * # log_interpolate_1d\n",
    "hgt_test = hgts['era5i'][:,:,:,:]   #['hgt']  #[:,:,:,:]\n",
    "uwnd_test  = winds['era5i']['uwnd'][:,:,:,:]  #[0,:,:,:]\n",
    "vwnd_test  = winds['era5i']['vwnd'][:,:,:,:]  #[0,:,:,:]\n",
    "vi_height = xr.DataArray(np.array([8500,9500,10500,11500]), name = \"height\", dims = 'height')\n",
    "uwnd_height = interpolate_1d(vi_height.values, hgt_test.values, uwnd_test.values, axis= 1) # 1 for ERA5I  3 for MPAS\n",
    "vwnd_height = interpolate_1d(vi_height.values, hgt_test.values, vwnd_test.values, axis= 1) # 1 for ERA5I  3 for MPAS"
   ]
  },
  {
   "cell_type": "code",
   "execution_count": null,
   "metadata": {},
   "outputs": [],
   "source": [
    "uwnd_vi_rmnan = np.where(uwnd_height>1e10, -1e30, uwnd_height)\n",
    "vwnd_vi_rmnan = np.where(vwnd_height>1e10, -1e30, vwnd_height)\n",
    "coords_lon    = uwnd_test.lon\n",
    "coords_lat    = uwnd_test.lat\n",
    "coords_time   = uwnd_test.time\n",
    "uwnd_xr = xr.DataArray(uwnd_vi_rmnan, name = \"uwnd\", coords = [coords_time, vi_height, coords_lat ,coords_lon],attrs={\"caculation\":\"8.5km-10.5km average Ke trapz integration\"})\n",
    "vwnd_xr = xr.DataArray(vwnd_vi_rmnan, name = \"vwnd\", coords = [coords_time, vi_height, coords_lat ,coords_lon],attrs={\"caculation\":\"8.5km-10.5km average Ke trapz integration\"})\n",
    "ds_write = uwnd_xr.to_dataset()\n",
    "ds_write[vwnd_xr.name] = vwnd_xr\n",
    "ds_write\n",
    "# ds_write['vwnd'][10,0,:,:].plot()"
   ]
  },
  {
   "cell_type": "code",
   "execution_count": null,
   "metadata": {},
   "outputs": [],
   "source": [
    "path_out = \"/raid52/yycheng/MPAS/REFERENCE/ERA5I_NC/ERA5I_NC_daily/allwinds_daily/\"\n",
    "encoding_dict = {\"uwnd\":{\"_FillValue\":-1e30},\"vwnd\":{\"_FillValue\":-1e30}}\n",
    "ds_write.to_netcdf(path_out + \"allwinds_vi_8.5-11.5km.nc\",'w',encoding = encoding_dict)"
   ]
  },
  {
   "cell_type": "markdown",
   "metadata": {},
   "source": [
    "### vr & rcm"
   ]
  },
  {
   "cell_type": "code",
   "execution_count": null,
   "metadata": {},
   "outputs": [],
   "source": [
    "from metpy.units import units\n",
    "from metpy.interpolate import * # log_interpolate_1d\n",
    "hgt_test = hgts['rcm'][:,:,:,:]   #['hgt']  #[:,:,:,:]\n",
    "uwnd_test  = winds['rcm']['uwnd'][:,:,:,:]  #[0,:,:,:]\n",
    "vwnd_test  = winds['rcm']['vwnd'][:,:,:,:]  #[0,:,:,:]\n",
    "vi_height = xr.DataArray(np.array([8500,9500,10500,11500]), name = \"height\", dims = 'height')\n",
    "uwnd_height = interpolate_1d(vi_height.values, hgt_test.values, uwnd_test.values, axis= 3) # 1 for ERA5I  3 for MPAS\n",
    "vwnd_height = interpolate_1d(vi_height.values, hgt_test.values, vwnd_test.values, axis= 3) # 1 for ERA5I  3 for MPAS"
   ]
  },
  {
   "cell_type": "code",
   "execution_count": null,
   "metadata": {},
   "outputs": [],
   "source": [
    "uwnd_vi_rmnan = np.where(uwnd_height>1e10, -1e30, uwnd_height)\n",
    "vwnd_vi_rmnan = np.where(vwnd_height>1e10, -1e30, vwnd_height)\n",
    "\n",
    "uwnd_vi_rmnan = np.moveaxis(uwnd_height,3,1)\n",
    "vwnd_vi_rmnan = np.moveaxis(vwnd_height,3,1)\n",
    "\n",
    "coords_lon  = uwnd_test.longitude\n",
    "coords_lat  = uwnd_test.latitude\n",
    "coords_time = uwnd_test.Time\n",
    "uwnd_xr = xr.DataArray(uwnd_vi_rmnan, name = \"uwnd\", coords = [coords_time, vi_height, coords_lat ,coords_lon],attrs={\"caculation\":\"8.5km-10.5km average Ke trapz integration\"})\n",
    "vwnd_xr = xr.DataArray(vwnd_vi_rmnan, name = \"vwnd\", coords = [coords_time, vi_height, coords_lat ,coords_lon],attrs={\"caculation\":\"8.5km-10.5km average Ke trapz integration\"})\n",
    "ds_write = uwnd_xr.to_dataset()\n",
    "ds_write[vwnd_xr.name] = vwnd_xr\n",
    "ds_write"
   ]
  },
  {
   "cell_type": "code",
   "execution_count": null,
   "metadata": {},
   "outputs": [],
   "source": [
    "path_out = \"/raid52/yycheng/MPAS/RCM_postprocess/RCM_merge/allwinds_daily/\"\n",
    "encoding_dict = {\"uwnd\":{\"_FillValue\":-1e30},\"vwnd\":{\"_FillValue\":-1e30}}\n",
    "ds_write.to_netcdf(path_out + \"allwinds_vi_8.5-11.5km.nc\",'w',encoding = encoding_dict)"
   ]
  }
 ],
 "metadata": {
  "interpreter": {
   "hash": "e7370f93d1d0cde622a1f8e1c04877d8463912d04d973331ad4851f04de6915a"
  },
  "kernelspec": {
   "display_name": "Python 2.7.5 64-bit",
   "language": "python",
   "name": "python3"
  },
  "language_info": {
   "codemirror_mode": {
    "name": "ipython",
    "version": 3
   },
   "file_extension": ".py",
   "mimetype": "text/x-python",
   "name": "python",
   "nbconvert_exporter": "python",
   "pygments_lexer": "ipython3",
   "version": "3.8.2"
  },
  "orig_nbformat": 4
 },
 "nbformat": 4,
 "nbformat_minor": 2
}

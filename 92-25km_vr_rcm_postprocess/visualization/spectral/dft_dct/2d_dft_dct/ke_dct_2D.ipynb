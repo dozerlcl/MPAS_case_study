{
 "cells": [
  {
   "cell_type": "code",
   "execution_count": 1,
   "source": [
    "# %matplotlib inline\n",
    "import numpy as np\n",
    "import matplotlib.pyplot as plt\n",
    "import xarray as xr\n",
    "import pandas as pd\n",
    "from scipy.fftpack import * "
   ],
   "outputs": [],
   "metadata": {}
  },
  {
   "cell_type": "markdown",
   "source": [
    "数据读取、处理边界、DCTN计算部分"
   ],
   "metadata": {}
  },
  {
   "cell_type": "code",
   "execution_count": 2,
   "source": [
    "ke_sum = {}\n",
    "dir_out = \"/raid52/yycheng/MPAS/RCM_postprocess/RCM_merge/ke_daily_vi/\"\n",
    "ds_ke_sum = xr.open_dataset(dir_out + \"ke_all_400-100_hPa_vi.nc\")\n",
    "ke_sum['rcm'] = ds_ke_sum['vertical integration Ke']\n",
    "\n",
    "dir_out = \"/raid52/yycheng/MPAS/VR_postprocess/VR_merge/ke_daily_vi/\"\n",
    "ds_ke_sum = xr.open_dataset(dir_out + \"ke_all_400-100_hPa_vi.nc\")\n",
    "ke_sum['vr'] = ds_ke_sum['vertical integration Ke']"
   ],
   "outputs": [],
   "metadata": {}
  },
  {
   "cell_type": "code",
   "execution_count": 3,
   "source": [
    "# 通过外插，去除掉边界上因RCM范围选取问题产生的nan的点\n",
    "var_rmnan = {}\n",
    "var_rmnan['vr'] = ke_sum['vr'].interpolate_na(dim = 'longitude', method = 'cubic', max_gap = None, fill_value=\"extrapolate\")\n",
    "var_rmnan['rcm'] = ke_sum['rcm'].interpolate_na(dim = 'longitude', method = 'cubic', max_gap = None, fill_value=\"extrapolate\")"
   ],
   "outputs": [],
   "metadata": {}
  },
  {
   "cell_type": "code",
   "execution_count": 4,
   "source": [
    "# 2D fft\n",
    "# ke_vi_sum # Time x lat x lon : 3080 x 160 x 280\n",
    "res_dctn = {}\n",
    "res_dctn['vr'] = dctn(var_rmnan['vr'].values, type = 2, axes = [1,2])\n",
    "res_dctn['rcm'] = dctn(var_rmnan['rcm'].values, type = 2, axes = [1,2])"
   ],
   "outputs": [],
   "metadata": {}
  },
  {
   "cell_type": "code",
   "execution_count": 5,
   "source": [
    "# 添加维度参数\n",
    "ntime = res_dctn['vr'].shape[0]\n",
    "nlat  = res_dctn['vr'].shape[1]\n",
    "nlon  = res_dctn['vr'].shape[2]\n",
    "# 添加频谱参数\n"
   ],
   "outputs": [],
   "metadata": {}
  },
  {
   "cell_type": "code",
   "execution_count": 46,
   "source": [
    "# plt.contourf(np.log(np.abs(res_dctn['vr'][nlat//2:,nlon//2:].mean(axis=0))))\n",
    "# plt.contourf(np.log(np.abs(res_dctn['vr'][nlat//2:,nlon//2:].mean(axis=0))))\n",
    "plt.contourf(np.log(np.abs(res_dctn['vr'][:,:].mean(axis=0)**2)))\n",
    "plt.colorbar()"
   ],
   "outputs": [
    {
     "output_type": "execute_result",
     "data": {
      "text/plain": [
       "<matplotlib.colorbar.Colorbar at 0x2ac7f216d4f0>"
      ]
     },
     "metadata": {},
     "execution_count": 46
    },
    {
     "output_type": "display_data",
     "data": {
      "text/plain": [
       "<Figure size 432x288 with 2 Axes>"
      ],
      "image/png": "[encoded data removed]"
     },
     "metadata": {
      "needs_background": "light"
     }
    }
   ],
   "metadata": {}
  },
  {
   "cell_type": "markdown",
   "source": [
    "错误做法，先留着"
   ],
   "metadata": {}
  },
  {
   "cell_type": "code",
   "execution_count": null,
   "source": [
    "# 移动零频率到中心\n",
    "dctn_shift  = {}\n",
    "dctn_timean = {}\n",
    "# dctn_timean['vr'] = res_dctn['vr'].mean(axis=0)\n",
    "dctn_shift['vr']  = fftshift(res_dctn['vr'].mean(axis=0), axes=[0,1])\n",
    "\n",
    "# dctn_timean['rcm'] = res_dctn['rcm'].mean(axis=0)\n",
    "dctn_shift['rcm']  = fftshift(res_dctn['rcm'].mean(axis=0), axes=[0,1])\n",
    " \n",
    "# plt.contourf(np.log(np.abs(dctn_shift[nlat//2:,nlon//2:])))\n",
    "# plt.colorbar()"
   ],
   "outputs": [],
   "metadata": {}
  },
  {
   "cell_type": "code",
   "execution_count": null,
   "source": [
    "# plt.contourf(np.log(np.abs(dctn_shift['rcm'][nlat//2:,nlon//2:])))\n",
    "plt.contourf(np.log(np.abs(dctn_shift['rcm'][:,:])))\n",
    "plt.colorbar()"
   ],
   "outputs": [],
   "metadata": {}
  },
  {
   "cell_type": "markdown",
   "source": [
    "使用 turbustat 进行1D功率谱的预估（弃用）"
   ],
   "metadata": {}
  },
  {
   "cell_type": "code",
   "execution_count": 7,
   "source": [
    "from turbustat.statistics import PowerSpectrum\n",
    "from astropy.io import fits\n",
    "rnoise_img = var_rmnan['vr'].values.mean(axis=0)\n",
    "plt.imshow(rnoise_img)  "
   ],
   "outputs": [
    {
     "output_type": "error",
     "ename": "ModuleNotFoundError",
     "evalue": "No module named 'turbustat'",
     "traceback": [
      "\u001b[0;31m---------------------------------------------------------------------------\u001b[0m",
      "\u001b[0;31mModuleNotFoundError\u001b[0m                       Traceback (most recent call last)",
      "\u001b[0;32m<ipython-input-7-57c1bbb9ef0d>\u001b[0m in \u001b[0;36m<module>\u001b[0;34m\u001b[0m\n\u001b[0;32m----> 1\u001b[0;31m \u001b[0;32mfrom\u001b[0m \u001b[0mturbustat\u001b[0m\u001b[0;34m.\u001b[0m\u001b[0mstatistics\u001b[0m \u001b[0;32mimport\u001b[0m \u001b[0mPowerSpectrum\u001b[0m\u001b[0;34m\u001b[0m\u001b[0;34m\u001b[0m\u001b[0m\n\u001b[0m\u001b[1;32m      2\u001b[0m \u001b[0;32mfrom\u001b[0m \u001b[0mastropy\u001b[0m\u001b[0;34m.\u001b[0m\u001b[0mio\u001b[0m \u001b[0;32mimport\u001b[0m \u001b[0mfits\u001b[0m\u001b[0;34m\u001b[0m\u001b[0;34m\u001b[0m\u001b[0m\n\u001b[1;32m      3\u001b[0m \u001b[0mrnoise_img\u001b[0m \u001b[0;34m=\u001b[0m \u001b[0mvar_rmnan\u001b[0m\u001b[0;34m[\u001b[0m\u001b[0;34m'vr'\u001b[0m\u001b[0;34m]\u001b[0m\u001b[0;34m.\u001b[0m\u001b[0mvalues\u001b[0m\u001b[0;34m.\u001b[0m\u001b[0mmean\u001b[0m\u001b[0;34m(\u001b[0m\u001b[0maxis\u001b[0m\u001b[0;34m=\u001b[0m\u001b[0;36m0\u001b[0m\u001b[0;34m)\u001b[0m\u001b[0;34m\u001b[0m\u001b[0;34m\u001b[0m\u001b[0m\n\u001b[1;32m      4\u001b[0m \u001b[0mplt\u001b[0m\u001b[0;34m.\u001b[0m\u001b[0mimshow\u001b[0m\u001b[0;34m(\u001b[0m\u001b[0mrnoise_img\u001b[0m\u001b[0;34m)\u001b[0m\u001b[0;34m\u001b[0m\u001b[0;34m\u001b[0m\u001b[0m\n",
      "\u001b[0;31mModuleNotFoundError\u001b[0m: No module named 'turbustat'"
     ]
    }
   ],
   "metadata": {}
  },
  {
   "cell_type": "code",
   "execution_count": null,
   "source": [
    "rnoise_hdu = fits.PrimaryHDU(rnoise_img)\n",
    "\n",
    "from turbustat.statistics import PowerSpectrum\n",
    "pspec = PowerSpectrum(rnoise_hdu)\n",
    "pspec.run(verbose=True, radial_pspec_kwargs={'binsize': 1.0}, apodize_kernel = 'cosinebell', use_wavenumber=True)\n",
    "# pspec.compute_radial_pspec(logspacing=True)\n",
    "# pspec.run(verbose=True, radial_pspec_kwargs={'binsize': 1.0},\n",
    "        #   fit_kwargs={'weighted_fit': True}, fit_2D=True)\n",
    "pspec.plot_fit()"
   ],
   "outputs": [],
   "metadata": {}
  },
  {
   "cell_type": "markdown",
   "source": [
    "~~施工中~~\n",
    "\n",
    "从二维谱 通过半径的 profile 预估一维谱"
   ],
   "metadata": {}
  },
  {
   "cell_type": "code",
   "execution_count": 56,
   "source": [
    "#===================================================================\n",
    "# Get PSD 1D (total radial power spectrum)\n",
    "#===================================================================\n",
    "def GetPSD1D(psd2D):\n",
    "    from  scipy  import ndimage \n",
    "    h  = psd2D.shape[0]\n",
    "    w  = psd2D.shape[1]\n",
    "    wc = w\n",
    "    hc = h\n",
    "\n",
    "    # create an array of integer radial distances from the center\n",
    "    Y, X = np.ogrid[0:h, 0:w]\n",
    "    r    = np.hypot(X, Y).astype(np.int)\n",
    "\n",
    "    # SUM all psd2D pixels with label 'r' for 0<=r<=wc\n",
    "    # NOTE: this will miss power contributions in 'corners' r>wc\n",
    "    psd1D = ndimage.sum(psd2D, r, index=np.arange(0, wc))\n",
    "\n",
    "    return psd1D\n",
    "#==================================================================="
   ],
   "outputs": [],
   "metadata": {}
  },
  {
   "cell_type": "code",
   "execution_count": 58,
   "source": [
    "psd2D = res_dctn['rcm'].mean(axis=0)\n",
    "from  scipy  import ndimage \n",
    "h  = psd2D.shape[0]\n",
    "w  = psd2D.shape[1]\n",
    "wc = w//2\n",
    "hc = h//2\n",
    "\n",
    "# create an array of integer radial distances from the center\n",
    "Y, X = np.ogrid[0:h, 0:w]\n",
    "r    = np.hypot(X, Y).astype(np.int)\n",
    "\n",
    "# SUM all psd2D pixels with label 'r' for 0<=r<=wc\n",
    "# NOTE: this will miss power contributions in 'corners' r>wc\n",
    "# psd1D = ndimage.sum(psd2D, r, index=np.arange(0, wc))\n",
    "psd1D = ndimage.sum(psd2D, r, index=np.unique(r))"
   ],
   "outputs": [],
   "metadata": {}
  },
  {
   "cell_type": "code",
   "execution_count": 60,
   "source": [
    "N = psd1D.shape[0]\n",
    "variance1D = np.empty(N//2)\n",
    "for i in range(0, N//2):\n",
    "    variance1D[i] = psd1D[i*2]**2 + 0.5 * psd1D[i*2 - 1]**2 + 0.5 * psd1D[i*2 + 1]**2\n"
   ],
   "outputs": [],
   "metadata": {}
  },
  {
   "cell_type": "code",
   "execution_count": 67,
   "source": [
    "# np.unique(r)\n",
    "# plt.plot(np.unique(r),np.abs(psd1D))\n",
    "plt.plot(range(1,N//2+1),1./N/N*np.sqrt(variance1D))\n",
    "xf = np.arange(1,N)\n",
    "yref_synop = xf[0:N//2] ** (-3.) * 1e3\n",
    "yref_meso  = xf[0:N//2] ** (-5./3) * 1e1\n",
    "plt.plot(xf[0:N//2], yref_synop,color='r')\n",
    "plt.plot(xf[0:N//2], yref_meso,color='g')\n",
    "plt.yscale('log')\n",
    "plt.xscale('log')"
   ],
   "outputs": [
    {
     "output_type": "display_data",
     "data": {
      "text/plain": [
       "<Figure size 432x288 with 1 Axes>"
      ],
      "image/png": "[encoded data removed]"
     },
     "metadata": {
      "needs_background": "light"
     }
    }
   ],
   "metadata": {}
  },
  {
   "cell_type": "code",
   "execution_count": null,
   "source": [
    "# # # dctn_shift.shape 160 x 280\n",
    "# # # 2d wavenumber k_2d\n",
    "# # 经向间距 5017km（dy） 纬向间距 7061km（dx）\n",
    "# dx = 7061. / nlon\n",
    "# dy = 5017. / nlat\n",
    "# wavelen_2d = np.empty(shape = [nlat//2,nlon//2])\n",
    "freq_2d = np.empty(shape = [nlat//2,nlon//2])\n",
    "for i in range(0, nlon//2):\n",
    "    for j in range(0, nlat//2):\n",
    "        # x_loc = 7061. / i\n",
    "#         y_loc = 5017. / j\n",
    "        # wavelen_2d[j,i] = np.sqrt(x_loc**2 + y_loc**2)\n",
    "        freq_2d[j,i] = np.sqrt(i**2 + j**2)\n",
    "# for i in range(1,nlon//2):                       \n",
    "#     wavelen_2d[i,0] = i * (dx)\n",
    "# # freq_2d_ravel = freq_2d.ravel()\n",
    "# # dctn_shift_ravel = dctn_shift[nlat//2:, nlon//2: ].ravel()\n",
    "# # 大致的波长的分布情况\n",
    "plt.pcolormesh(freq_2d[1:,1:])"
   ],
   "outputs": [],
   "metadata": {}
  },
  {
   "cell_type": "code",
   "execution_count": null,
   "source": [
    "freq_sort = np.argsort(freq_2d.ravel(),axis = 0) # 从小到大排序\n",
    "freq_1d   = freq_2d.ravel()[freq_sort]\n",
    "dctn_vr_1d  = dctn_shift['vr'][nlat//2:,nlon//2:].ravel()[freq_sort]\n",
    "plt.plot(freq_1d, np.abs(dctn_vr_1d))\n",
    "plt.yscale('log')\n",
    "plt.xscale('log')"
   ],
   "outputs": [],
   "metadata": {}
  },
  {
   "cell_type": "code",
   "execution_count": null,
   "source": [
    "plt.plot(np.abs(dctn_vr_1d))\n",
    "plt.yscale('log')\n",
    "plt.xscale('log')"
   ],
   "outputs": [],
   "metadata": {}
  },
  {
   "cell_type": "code",
   "execution_count": null,
   "source": [
    "dctn_shift['vr'][nlat//2:, nlon//2: ].shape # 81 x 141\n"
   ],
   "outputs": [],
   "metadata": {}
  },
  {
   "cell_type": "code",
   "execution_count": null,
   "source": [
    "# 计算谱对应的频率等基本参数\n",
    "dct_var = vr_ke_dct_mean.size\n",
    "# Number of samplepoints\n",
    "N = vr_ke_dct_mean.size\n",
    "# sample spacing\n",
    "T = 1 / N\n",
    "# xf freq\n",
    "xf = fftfreq(N, T)[:N//2]\n",
    "domain_lon_range = 7061. # km\n",
    "xf_length = domain_lon_range / xf\n",
    "\n",
    "# 计算测地线\n"
   ],
   "outputs": [],
   "metadata": {}
  },
  {
   "cell_type": "code",
   "execution_count": null,
   "source": [
    "freq_2d_ravel.shape\n",
    "dctn_shift_ravel.shape"
   ],
   "outputs": [],
   "metadata": {}
  },
  {
   "cell_type": "code",
   "execution_count": null,
   "source": [
    "fig, axs = plt.subplots(1,2,figsize=(12, 6))\n",
    "plt.style.use(['science', 'no-latex']) # 采用 安装的scinence绘图风格，matplotlib风格拓展\n",
    "\n",
    "xf = np.unique(r)\n",
    "# plt.plot(freq_1d, np.abs(dctn_vr_1d))\n",
    "# axs[1].plot(freq_1d, 1.0/nlon/nlat * np.abs(dctn_vr_1d))\n",
    "axs[1].plot(xf, 1.0/nlon/nlat * np.abs(psd1D))\n",
    "# add reference line \n",
    "yref_synop = xf ** (-3.) * 1e3\n",
    "yref_meso  = xf ** (-5./3) * 1e2\n",
    "axs[1].plot(xf, yref_synop,color='r')\n",
    "axs[1].plot(xf, yref_meso,color='g')\n",
    "\n",
    "# axs[1].plot(freq_2d_ravel, np.abs(dctn_shift_ravel))\n",
    "# add reference line\n",
    "# yref_synop = xf ** (-3.) * 1e1\n",
    "# yref_meso  = xf ** (-5./3) * 1e1\n",
    "# axs[1].plot(xf, yref_synop,color='r')\n",
    "# axs[1].plot(xf, yref_meso,color='g')\n",
    "# plt.plot(xf[1:], 2.0/N * np.abs(yf[0:int(N/2)])[1:])\n",
    "\n",
    "\n",
    "\n",
    "def upper_xaxis(x):\n",
    "    domain_lon_range = 7061. * np.sqrt(2) # km\n",
    "    return domain_lon_range / x\n",
    "\n",
    "def upper_xaxis_inv(x):\n",
    "    domain_lon_range = 7061. * np.sqrt(2) # km\n",
    "    return (1. / x )/ domain_lon_range \n",
    "\n",
    "for axs_ind in axs:\n",
    "    axs_ind.set_yscale('log')\n",
    "    axs_ind.set_xscale('log')\n",
    "    axs_ind.secondary_xaxis('top', functions = (upper_xaxis, upper_xaxis_inv) )\n",
    "\n",
    "    axs_ind.xaxis.grid(True, which=\"minor\", linestyle = \":\")\n",
    "    axs_ind.xaxis.grid(True, which=\"major\", linestyle = \"-\")\n",
    "    axs_ind.yaxis.grid(True, which=\"minor\", linestyle = \":\")\n",
    "    axs_ind.yaxis.grid(True, which=\"major\", linestyle = \"-\")\n",
    "\n",
    "    axs_ind.set_xlabel('wavenumber in the domain')\n",
    "    axs_ind.set_ylabel('Ke m^2/s^2')\n",
    "axs[0].set_title('RCM : t=0')\n",
    "axs[1].set_title('RCM : time mean')\n",
    "# axs[0].legend()\n",
    "fig.suptitle(\"400-100hPa total Ke 1D-DCT spectra\")\n"
   ],
   "outputs": [],
   "metadata": {}
  }
 ],
 "metadata": {
  "interpreter": {
   "hash": "cf76c667a4237489b4b1ec2fcd3b74093597186816c0203f0439927789bdc800"
  },
  "kernelspec": {
   "display_name": "Python 3.9.5 64-bit ('pync0326': conda)",
   "name": "python3"
  },
  "language_info": {
   "codemirror_mode": {
    "name": "ipython",
    "version": 3
   },
   "file_extension": ".py",
   "mimetype": "text/x-python",
   "name": "python",
   "nbconvert_exporter": "python",
   "pygments_lexer": "ipython3",
   "version": "3.8.2"
  },
  "orig_nbformat": 4
 },
 "nbformat": 4,
 "nbformat_minor": 2
}
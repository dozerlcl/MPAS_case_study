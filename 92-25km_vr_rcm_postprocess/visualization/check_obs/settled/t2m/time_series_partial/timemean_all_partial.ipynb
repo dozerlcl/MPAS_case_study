{
 "metadata": {
  "language_info": {
   "codemirror_mode": {
    "name": "ipython",
    "version": 3
   },
   "file_extension": ".py",
   "mimetype": "text/x-python",
   "name": "python",
   "nbconvert_exporter": "python",
   "pygments_lexer": "ipython3",
   "version": "3.9.2"
  },
  "orig_nbformat": 2,
  "kernelspec": {
   "name": "python392jvsc74a57bd0cf76c667a4237489b4b1ec2fcd3b74093597186816c0203f0439927789bdc800",
   "display_name": "Python 3.9.2 64-bit ('pync0326': conda)"
  },
  "metadata": {
   "interpreter": {
    "hash": "cf76c667a4237489b4b1ec2fcd3b74093597186816c0203f0439927789bdc800"
   }
  }
 },
 "nbformat": 4,
 "nbformat_minor": 2,
 "cells": [
  {
   "cell_type": "code",
   "execution_count": 1,
   "source": [
    "import xarray as xr\n",
    "import numpy  as np\n",
    "# import seaborn as sns\n",
    "import proplot as plot\n",
    "import pandas as pd\n",
    "import matplotlib.pyplot as plt"
   ],
   "outputs": [],
   "metadata": {}
  },
  {
   "cell_type": "markdown",
   "source": [
    "2021.04.19\n",
    "\n",
    "进行分区之后的绘制脚本，分区在此前已经由cdo完成\n",
    "\n",
    "计算采用同目录下的 timeseries_count.py 使用import进行导入之后使用，其中进行了五天的滑动平均\n",
    "\n",
    "将计算结果保存到 partial_mean partial_std 之中，作为字典整理为pandas，进行timeseries的绘图"
   ],
   "metadata": {}
  },
  {
   "cell_type": "code",
   "execution_count": 2,
   "source": [
    "from timeseries_count import *\n",
    "\n",
    "# get partial mask_res collect into a dict\n",
    "partial_list = [\"NE\", \"NC\", \"YZ\", \"SW\"]\n",
    "path_in = \"/raid52/yycheng/MPAS/REFERENCE/TEMP_DATA/partial_t2m\"\n",
    "file_ref= \"ydaymean_mask_sel_CN05.1_Tm_1961_2018_daily_025x025.nc\"\n",
    "file_vr = \"ydaymean_mask_mean_t2m_98-17_VR.nc\"\n",
    "file_rcm = \"ydaymean_mask_mean_t2m_98-17_RCM.nc\"\n",
    "partial_mean = {} # partial mask_res\n",
    "partial_std = {} # partial mask_res\n",
    "for i in partial_list:\n",
    "    path_in_partial = path_in + \"/\" + i + \"/mask_res_dayofyear\" # refine path\n",
    "    print(path_in_partial)\n",
    "    partial_mean[i] = mean_count(path_in_partial, file_ref, \"tm\", file_vr, \"t2m\", file_rcm, \"t2m\")\n",
    "    partial_std[i] = std_count(path_in_partial, file_ref, \"tm\", file_vr, \"t2m\", file_rcm, \"t2m\")"
   ],
   "outputs": [
    {
     "output_type": "stream",
     "name": "stdout",
     "text": [
      "/raid52/yycheng/MPAS/REFERENCE/TEMP_DATA/partial_t2m/NE/mask_res_dayofyear\n",
      "/raid52/yycheng/MPAS/REFERENCE/TEMP_DATA/partial_t2m/NC/mask_res_dayofyear\n",
      "/raid52/yycheng/MPAS/REFERENCE/TEMP_DATA/partial_t2m/YZ/mask_res_dayofyear\n",
      "/raid52/yycheng/MPAS/REFERENCE/TEMP_DATA/partial_t2m/SW/mask_res_dayofyear\n"
     ]
    }
   ],
   "metadata": {}
  },
  {
   "cell_type": "code",
   "execution_count": 3,
   "source": [
    "# pd.concat([temp_obs['cn051'], temp_vr['vr'], temp_rcm['rcm']], axis=1)"
   ],
   "outputs": [],
   "metadata": {}
  },
  {
   "cell_type": "code",
   "execution_count": 4,
   "source": [
    "mean_temp = {}\n",
    "std_temp  = {}\n",
    "time_idx = pd.date_range(start = \"2003-04-01\", end = \"2003-08-31\",freq='d') # add time coords\n",
    "\n",
    "for i in partial_list:\n",
    "    temp_obs = partial_mean[i][0].to_dataframe().rename(columns={\"tm\":\"cn051\"})\n",
    "    temp_vr  = partial_mean[i][1].to_dataframe().rename(columns={\"t2m\":\"vr\"})\n",
    "    temp_rcm = partial_mean[i][2].to_dataframe().rename(columns={\"t2m\":\"rcm\"})\n",
    "\n",
    "    std_obs = partial_std[i][0].to_dataframe().rename(columns={\"tm\":\"cn051\"})\n",
    "    std_vr  = partial_std[i][1].to_dataframe().rename(columns={\"t2m\":\"vr\"})\n",
    "    std_rcm = partial_std[i][2].to_dataframe().rename(columns={\"t2m\":\"rcm\"})\n",
    "\n",
    "    vr_bias_value = np.squeeze(temp_vr.values - temp_obs.values) # 去掉冗余的维度\n",
    "    temp_vr_bias  = pd.Series(vr_bias_value,index=temp_obs.index,name = 'vr bias')\n",
    "    \n",
    "    rcm_bias_value = np.squeeze(temp_rcm.values - temp_obs.values) # 去掉冗余的维度\n",
    "    temp_rcm_bias  = pd.Series(rcm_bias_value,index=temp_obs.index,name = 'rcm bias')\n",
    "\n",
    "    # temp_rcm['region'] = i # new region type\n",
    "    temp_obs.index = time_idx\n",
    "    temp_vr.index = time_idx\n",
    "    temp_rcm.index = time_idx\n",
    "    std_obs.index = time_idx\n",
    "    std_vr.index = time_idx\n",
    "    std_rcm.index = time_idx\n",
    "\n",
    "    # mean_temp[i] = pd.concat([temp_obs['cn051'], temp_vr['vr'], temp_rcm['rcm']], axis=1)\n",
    "    mean_temp[i] = pd.concat([temp_vr_bias, temp_rcm_bias], axis=1)\n",
    "\n",
    "    std_temp[i] = pd.concat([std_obs, std_vr['vr'], std_rcm['rcm']], axis=1)"
   ],
   "outputs": [],
   "metadata": {}
  },
  {
   "cell_type": "code",
   "execution_count": 6,
   "source": [
    "import matplotlib.dates as dates\n",
    "from matplotlib.ticker import (MultipleLocator, FormatStrFormatter,\n",
    "                               AutoMinorLocator)\n",
    "plt.style.use(['science', 'no-latex']) # 采用 安装的scinence绘图风格，matplotlib风格拓展\n",
    "\n",
    "inum = 0\n",
    "fig,ax = plt.subplots(4,1,figsize=(16,12))\n",
    "for i in partial_list:\n",
    "    plot_pd = mean_temp[i]\n",
    "    std_pd  = std_temp[i]\n",
    "    # pd_plot = pd.concat([df_obs, df_mod,minus], axis=1)\n",
    "    ymin = -6.\n",
    "    ymax = 6.\n",
    "    # idx = pd.date_range(\"2003-\"+'04-01', \"2003-\"+'09-01')\n",
    "    # s = pd.Series(np.random.randn(len(idx)), index=idx)\n",
    "\n",
    "    # fig, ax = plt.subplots()\n",
    "    # ax.plot_date(idx.to_pydatetime(), 'v-')\n",
    "    ax[inum] = plot_pd.plot(figsize=(10,12),style=['-r','-b'],ax = ax[inum])\n",
    "    ax[inum].xaxis.set_minor_locator(dates.DayLocator(interval=5))\n",
    "    # ax.xaxis.set_minor_formatter(dates.DateFormatter('%d\\n%a'))\n",
    "    ax[inum].fill_between(plot_pd.index, plot_pd['vr bias'].values+std_pd['vr'].values, plot_pd['vr bias'].values-std_pd['vr'].values, color = 'r', alpha = 0.2)\n",
    "    ax[inum].fill_between(plot_pd.index, plot_pd['rcm bias'].values+std_pd['rcm'].values, plot_pd['rcm bias'].values-std_pd['rcm'].values, color = 'b', alpha = 0.2)\n",
    "    ax[inum].fill_between(plot_pd.index, std_pd['cn051'].values, -std_pd['cn051'].values, color = 'k', alpha = 0.2)\n",
    "    ax[inum].xaxis.grid(True, which=\"minor\")\n",
    "    # ax[inum].set_xlim([xmin,xmax])\n",
    "    # ax[inum].yaxis.grid(True, which=\"minor\")\n",
    "    ax[inum].yaxis.grid(True, which=\"major\")\n",
    "\n",
    "    ax[inum].yaxis.set_major_locator(MultipleLocator(5.))\n",
    "    ax[inum].yaxis.set_major_formatter(FormatStrFormatter('%1.f'))\n",
    "    ax[inum].yaxis.set_minor_locator(MultipleLocator(1.))\n",
    "\n",
    "    ax[inum].xaxis.grid(True, which=\"minor\", linestyle = \":\")\n",
    "    ax[inum].xaxis.grid(True, which=\"major\", linestyle = \"-\")\n",
    "    ax[inum].yaxis.grid(True, which=\"minor\", linestyle = \":\")\n",
    "    ax[inum].yaxis.grid(True, which=\"major\", linestyle = \"-\")\n",
    "    \n",
    "    ax[inum].set_ylim([ymin,ymax])\n",
    "    ax[inum].set_ylabel(i)\n",
    "    ax[inum].get_legend().remove()\n",
    "    # plt.savefig(\"./output_pic/series_dayofyear.png\")\n",
    "    ax[inum].xaxis.set_major_locator(dates.MonthLocator())\n",
    "    ax[inum].xaxis.set_major_formatter(dates.DateFormatter('%b'))\n",
    "    inum = inum + 1\n",
    "\n",
    "ax[0].legend()\n",
    "ax[0].set_title(\"1998-2017 daily temperature\")\n",
    "# 背景设置为白色，否则会成为透明，png格式下\n",
    "fig.patch.set_facecolor('white')\n",
    "plt.savefig(\"./output_pic/98-17_t2m_series_dayofyear.png\", dpi = 300, facecolor='white')"
   ],
   "outputs": [],
   "metadata": {}
  }
 ]
}
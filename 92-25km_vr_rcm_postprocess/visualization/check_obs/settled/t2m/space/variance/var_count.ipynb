{
 "cells": [
  {
   "cell_type": "code",
   "execution_count": 1,
   "source": [
    "import numpy as np\n",
    "import matplotlib.pyplot as plt\n",
    "import xarray as xr\n",
    "import pandas as pd"
   ],
   "outputs": [],
   "metadata": {}
  },
  {
   "cell_type": "markdown",
   "source": [
    "2021.07.06\n",
    "\n",
    "进行MPAS的后处理部分，计算每日气温的方差，并保存到同目录下的 output_nc 文件夹中，准备后续的NCL绘图"
   ],
   "metadata": {}
  },
  {
   "cell_type": "code",
   "execution_count": 2,
   "source": [
    "dir_in = \"/raid52/yycheng/MPAS/REFERENCE/TEMP_DATA/mask_t2m/mask_res/\"\n",
    "filename_cn051  = \"mask_sel_CN05.1_Tm_1961_2018_daily_025x025.nc\"\n",
    "filename_vr     = \"mask_mean_t2m_98-17_VR.nc\"\n",
    "filename_rcm    = \"mask_mean_t2m_98-17_RCM.nc\"\n",
    "\n",
    "ds_or = {}\n",
    "ds_or['cn051']  = xr.open_dataset(dir_in + filename_cn051)\n",
    "ds_or['vr']     = xr.open_dataset(dir_in + filename_vr)\n",
    "ds_or['rcm']    = xr.open_dataset(dir_in + filename_rcm  )\n",
    "# 提取变量\n",
    "var = {}\n",
    "var['cn051'] = ds_or['cn051']['tm']\n",
    "var['vr'] = ds_or['vr']['t2m'] - 273.15\n",
    "var['rcm'] = ds_or['rcm']['t2m'] - 273.15\n",
    "# change coords\n",
    "var_list = ['cn051', 'vr', 'rcm']\n",
    "for i in var_list:\n",
    "    rename_dict = dict(zip(var[i].coords.keys(), var['cn051'].coords.keys()))\n",
    "    # show converting coords\n",
    "    for rename_i in rename_dict:\n",
    "        print(rename_i + \" -----converting to----- \" + rename_dict[rename_i])\n",
    "\n",
    "    var[i] = var[i].rename(rename_dict)\n",
    "    var[i]._coords = var['cn051']._coords\n",
    "    var[i] = var[i].rename(i)\n"
   ],
   "outputs": [
    {
     "output_type": "stream",
     "name": "stdout",
     "text": [
      "time -----converting to----- time\n",
      "lon -----converting to----- lon\n",
      "lat -----converting to----- lat\n",
      "Time -----converting to----- time\n",
      "longitude -----converting to----- lon\n",
      "latitude -----converting to----- lat\n",
      "Time -----converting to----- time\n",
      "longitude -----converting to----- lon\n",
      "latitude -----converting to----- lat\n"
     ]
    }
   ],
   "metadata": {}
  },
  {
   "cell_type": "markdown",
   "source": [
    "## 时间拆分出来之后计算98-17整个序列上的variance\n",
    "（AM,JJA包含了季节循环，大概为主？）"
   ],
   "metadata": {}
  },
  {
   "cell_type": "code",
   "execution_count": 5,
   "source": [
    "# 将var拆分到am和jja\n",
    "var_am  = {}\n",
    "var_jja = {}\n",
    "for ivar in var:\n",
    "    var_am[ivar]  = var[ivar].sel(time = var[ivar].time.dt.month.isin([4,5]))\n",
    "    var_jja[ivar] = var[ivar].sel(time = var[ivar].time.dt.month.isin([6,7,8]))\n",
    "# 计算方差 dim[0] 即是时间维\n",
    "variance_am  = {}\n",
    "variance_jja = {}\n",
    "for ind, ivar in enumerate(var_list):\n",
    "    variance_am[ivar]  = var_am[ivar].var(dim=var_am[ivar].dims[0])\n",
    "    variance_jja[ivar] = var_jja[ivar].var(dim=var_jja[ivar].dims[0])"
   ],
   "outputs": [
    {
     "output_type": "stream",
     "name": "stderr",
     "text": [
      "/m2data2/yycheng/anaconda3/envs/proplot0528/lib/python3.8/site-packages/xarray/core/nputils.py:152: RuntimeWarning: Degrees of freedom <= 0 for slice.\n",
      "  result = getattr(npmodule, name)(values, axis=axis, **kwargs)\n",
      "/m2data2/yycheng/anaconda3/envs/proplot0528/lib/python3.8/site-packages/xarray/core/nputils.py:152: RuntimeWarning: Degrees of freedom <= 0 for slice.\n",
      "  result = getattr(npmodule, name)(values, axis=axis, **kwargs)\n",
      "/m2data2/yycheng/anaconda3/envs/proplot0528/lib/python3.8/site-packages/xarray/core/nputils.py:152: RuntimeWarning: Degrees of freedom <= 0 for slice.\n",
      "  result = getattr(npmodule, name)(values, axis=axis, **kwargs)\n",
      "/m2data2/yycheng/anaconda3/envs/proplot0528/lib/python3.8/site-packages/xarray/core/nputils.py:152: RuntimeWarning: Degrees of freedom <= 0 for slice.\n",
      "  result = getattr(npmodule, name)(values, axis=axis, **kwargs)\n",
      "/m2data2/yycheng/anaconda3/envs/proplot0528/lib/python3.8/site-packages/xarray/core/nputils.py:152: RuntimeWarning: Degrees of freedom <= 0 for slice.\n",
      "  result = getattr(npmodule, name)(values, axis=axis, **kwargs)\n",
      "/m2data2/yycheng/anaconda3/envs/proplot0528/lib/python3.8/site-packages/xarray/core/nputils.py:152: RuntimeWarning: Degrees of freedom <= 0 for slice.\n",
      "  result = getattr(npmodule, name)(values, axis=axis, **kwargs)\n"
     ]
    }
   ],
   "metadata": {}
  },
  {
   "cell_type": "markdown",
   "source": [
    "## 计算AM,JJA的平均值，计算年际上的variance"
   ],
   "metadata": {}
  },
  {
   "cell_type": "code",
   "execution_count": 5,
   "source": [
    "# 将var拆分到am和jja\n",
    "var_am  = {}\n",
    "var_jja = {}\n",
    "for ivar in var:\n",
    "    var_am[ivar]  = var[ivar].sel(time = var[ivar].time.dt.month.isin([4,5]))\n",
    "    var_jja[ivar] = var[ivar].sel(time = var[ivar].time.dt.month.isin([6,7,8]))\n",
    "# 计算方差 dim[0] 即是时间维\n",
    "variance_am  = {}\n",
    "variance_jja = {}\n",
    "for ind, ivar in enumerate(var_list):\n",
    "    variance_am[ivar]  = var_am[ivar].groupby(var_am[ivar].time.dt.year).mean().var(dim='year')\n",
    "    variance_jja[ivar] = var_jja[ivar].groupby(var_jja[ivar].time.dt.year).mean().var(dim='year')"
   ],
   "outputs": [
    {
     "output_type": "stream",
     "name": "stderr",
     "text": [
      "/m2data2/yycheng/anaconda3/envs/proplot0528/lib/python3.8/site-packages/xarray/core/nputils.py:152: RuntimeWarning: Degrees of freedom <= 0 for slice.\n",
      "  result = getattr(npmodule, name)(values, axis=axis, **kwargs)\n",
      "/m2data2/yycheng/anaconda3/envs/proplot0528/lib/python3.8/site-packages/xarray/core/nputils.py:152: RuntimeWarning: Degrees of freedom <= 0 for slice.\n",
      "  result = getattr(npmodule, name)(values, axis=axis, **kwargs)\n",
      "/m2data2/yycheng/anaconda3/envs/proplot0528/lib/python3.8/site-packages/xarray/core/nputils.py:152: RuntimeWarning: Degrees of freedom <= 0 for slice.\n",
      "  result = getattr(npmodule, name)(values, axis=axis, **kwargs)\n",
      "/m2data2/yycheng/anaconda3/envs/proplot0528/lib/python3.8/site-packages/xarray/core/nputils.py:152: RuntimeWarning: Degrees of freedom <= 0 for slice.\n",
      "  result = getattr(npmodule, name)(values, axis=axis, **kwargs)\n",
      "/m2data2/yycheng/anaconda3/envs/proplot0528/lib/python3.8/site-packages/xarray/core/nputils.py:152: RuntimeWarning: Degrees of freedom <= 0 for slice.\n",
      "  result = getattr(npmodule, name)(values, axis=axis, **kwargs)\n",
      "/m2data2/yycheng/anaconda3/envs/proplot0528/lib/python3.8/site-packages/xarray/core/nputils.py:152: RuntimeWarning: Degrees of freedom <= 0 for slice.\n",
      "  result = getattr(npmodule, name)(values, axis=axis, **kwargs)\n"
     ]
    }
   ],
   "metadata": {}
  },
  {
   "cell_type": "markdown",
   "source": [
    "## 计算ydaymean之后的结果 seasonal"
   ],
   "metadata": {}
  },
  {
   "cell_type": "code",
   "execution_count": 3,
   "source": [
    "# 将var拆分到am和jja\n",
    "var_am  = {}\n",
    "var_jja = {}\n",
    "for ivar in var:\n",
    "    var_am[ivar]  = var[ivar].sel(time = var[ivar].time.dt.month.isin([4,5]))\n",
    "    var_jja[ivar] = var[ivar].sel(time = var[ivar].time.dt.month.isin([6,7,8]))\n",
    "# 计算方差 dim[0] 即是时间维\n",
    "variance_am  = {}\n",
    "variance_jja = {}\n",
    "for ind, ivar in enumerate(var_list):\n",
    "    variance_am[ivar]   = var_am[ivar].groupby(var_am[ivar].time.dt.dayofyear).mean().var(dim='dayofyear')\n",
    "    variance_jja[ivar]  = var_jja[ivar].groupby(var_jja[ivar].time.dt.dayofyear).mean().var(dim='dayofyear')"
   ],
   "outputs": [
    {
     "output_type": "stream",
     "name": "stderr",
     "text": [
      "/m2data2/yycheng/anaconda3/envs/proplot0528/lib/python3.8/site-packages/xarray/core/nputils.py:152: RuntimeWarning: Degrees of freedom <= 0 for slice.\n",
      "  result = getattr(npmodule, name)(values, axis=axis, **kwargs)\n",
      "/m2data2/yycheng/anaconda3/envs/proplot0528/lib/python3.8/site-packages/xarray/core/nputils.py:152: RuntimeWarning: Degrees of freedom <= 0 for slice.\n",
      "  result = getattr(npmodule, name)(values, axis=axis, **kwargs)\n",
      "/m2data2/yycheng/anaconda3/envs/proplot0528/lib/python3.8/site-packages/xarray/core/nputils.py:152: RuntimeWarning: Degrees of freedom <= 0 for slice.\n",
      "  result = getattr(npmodule, name)(values, axis=axis, **kwargs)\n",
      "/m2data2/yycheng/anaconda3/envs/proplot0528/lib/python3.8/site-packages/xarray/core/nputils.py:152: RuntimeWarning: Degrees of freedom <= 0 for slice.\n",
      "  result = getattr(npmodule, name)(values, axis=axis, **kwargs)\n",
      "/m2data2/yycheng/anaconda3/envs/proplot0528/lib/python3.8/site-packages/xarray/core/nputils.py:152: RuntimeWarning: Degrees of freedom <= 0 for slice.\n",
      "  result = getattr(npmodule, name)(values, axis=axis, **kwargs)\n",
      "/m2data2/yycheng/anaconda3/envs/proplot0528/lib/python3.8/site-packages/xarray/core/nputils.py:152: RuntimeWarning: Degrees of freedom <= 0 for slice.\n",
      "  result = getattr(npmodule, name)(values, axis=axis, **kwargs)\n"
     ]
    }
   ],
   "metadata": {}
  },
  {
   "cell_type": "markdown",
   "source": [
    "# 输出临时文件"
   ],
   "metadata": {}
  },
  {
   "cell_type": "code",
   "execution_count": 4,
   "source": [
    "# 合并字典中的计算结果到 ds_variance 输出到临时文件，准备后续NCL出图\n",
    "ds_am_variance  = xr.merge(list(variance_am.values()) )\n",
    "ds_jja_variance = xr.merge(list(variance_jja.values()) )\n",
    "ds_am_variance.fillna(-1e30)\n",
    "ds_jja_variance.fillna(-1e30)\n",
    "\n",
    "dir_out = \"/m2data2/yycheng/playground/MPAS_case_study/92-25km_vr_rcm_postprocess/visualization/check_obs/settled/t2m/space/output_nc/\"\n",
    "# 添加每个变量的fillvalue\n",
    "encoding = {}\n",
    "for i in var_list:\n",
    "    encoding[i] = {\"_FillValue\":-1e30}\n",
    "\n",
    "output_name = \"annual\"\n",
    "ds_am_variance.to_netcdf(path = dir_out + \"am_pre_variance_\"+output_name+\".nc\", encoding = encoding)\n",
    "ds_jja_variance.to_netcdf(path = dir_out + \"jja_pre_variance_\"+output_name+\".nc\", encoding = encoding)"
   ],
   "outputs": [],
   "metadata": {}
  }
 ],
 "metadata": {
  "interpreter": {
   "hash": "cf76c667a4237489b4b1ec2fcd3b74093597186816c0203f0439927789bdc800"
  },
  "kernelspec": {
   "display_name": "Python 3.9.5 64-bit ('pync0326': conda)",
   "name": "python3"
  },
  "language_info": {
   "codemirror_mode": {
    "name": "ipython",
    "version": 3
   },
   "file_extension": ".py",
   "mimetype": "text/x-python",
   "name": "python",
   "nbconvert_exporter": "python",
   "pygments_lexer": "ipython3",
   "version": "3.8.2"
  },
  "orig_nbformat": 4
 },
 "nbformat": 4,
 "nbformat_minor": 2
}
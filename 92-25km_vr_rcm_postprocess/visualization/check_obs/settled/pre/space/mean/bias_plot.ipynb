{
 "cells": [
  {
   "cell_type": "code",
   "execution_count": 1,
   "source": [
    "import numpy as np\n",
    "import matplotlib.pyplot as plt\n",
    "import xarray as xr\n",
    "import pandas as pd\n",
    "import proplot as pplt\n",
    "from scipy.fftpack import * "
   ],
   "outputs": [],
   "metadata": {}
  },
  {
   "cell_type": "markdown",
   "source": [
    "2021.08.08\n",
    "\n",
    "尝试使用proplot绘制平均图\n",
    "\n",
    "使用pre_process/merge_cmorph_cn051.ipynb 下合并掉cmorph以及cmorph的数据·"
   ],
   "metadata": {}
  },
  {
   "cell_type": "code",
   "execution_count": 2,
   "source": [
    "dir_in = \"/raid52/yycheng/MPAS/REFERENCE/TEMP_DATA_large/pre/ordata/\"\n",
    "filename_obs  = \"obsmerge_pre_98-17.nc\"\n",
    "filename_vr     = \"vr_pre_98-17.nc\"\n",
    "filename_rcm    = \"rcm_pre_98-17.nc\"\n",
    "\n",
    "ds_or = {}\n",
    "ds_or['obs'] = xr.open_dataset(dir_in + filename_obs)\n",
    "ds_or['vr']     = xr.open_dataset(dir_in + filename_vr)\n",
    "ds_or['rcm']    = xr.open_dataset(dir_in + filename_rcm  )\n",
    "# 提取变量\n",
    "var = {}\n",
    "var['obs'] = ds_or['obs']['premerge']#[:,  :, :]\n",
    "var['vr'] = ds_or['vr']['precip_MPAS']\n",
    "var['rcm'] = ds_or['rcm']['precip_MPAS']\n",
    "\n",
    "var['obs'] = var['obs'].reset_coords(names = 'lev', drop = True) # 去除掉obs中多余的lev coords\n",
    "\n",
    "# change coords\n",
    "var_list = ['obs', 'vr', 'rcm']\n",
    "for i in var_list:\n",
    "    rename_dict = dict(zip(var[i].coords.keys(), var['obs'].coords.keys()))\n",
    "#     # show converting coords\n",
    "    for rename_i in rename_dict:\n",
    "        print(rename_i + \" -----converting to----- \" + rename_dict[rename_i])\n",
    "\n",
    "    var[i] = var[i].rename(rename_dict)\n",
    "    var[i]._coords = var['obs']._coords\n",
    "    var[i] = var[i].rename(i)\n"
   ],
   "outputs": [
    {
     "output_type": "stream",
     "name": "stdout",
     "text": [
      "time -----converting to----- time\n",
      "lon -----converting to----- lon\n",
      "lat -----converting to----- lat\n",
      "Time -----converting to----- time\n",
      "longitude -----converting to----- lon\n",
      "latitude -----converting to----- lat\n",
      "Time -----converting to----- time\n",
      "longitude -----converting to----- lon\n",
      "latitude -----converting to----- lat\n"
     ]
    }
   ],
   "metadata": {}
  },
  {
   "cell_type": "code",
   "execution_count": 3,
   "source": [
    "var_selmonth = {}\n",
    "var_selmonth['am'] = {}\n",
    "var_selmonth['jja'] = {}\n",
    "\n",
    "time_idx_am = var['obs'].time.dt.month.isin([4,5])\n",
    "time_idx_jja = var['obs'].time.dt.month.isin([6,7,8])\n",
    "\n",
    "for mod_name in ['obs', 'vr', 'rcm']:\n",
    "    var_selmonth['am'][mod_name]  = var[mod_name].isel(time = time_idx_am).mean(dim = 'time')\n",
    "    var_selmonth['jja'][mod_name] = var[mod_name].isel(time = time_idx_jja).mean(dim = 'time')"
   ],
   "outputs": [],
   "metadata": {}
  },
  {
   "cell_type": "markdown",
   "source": [
    "## 绘图部分"
   ],
   "metadata": {}
  },
  {
   "cell_type": "code",
   "execution_count": 4,
   "source": [
    "# 下面网址得到的降水cmap\n",
    "# https://unidata.github.io/python-gallery/examples/Precipitation_Map.html\n",
    "\n",
    "cmap_data = [(1.0, 1.0, 1.0),\n",
    "             (0.3137255012989044, 0.8156862854957581, 0.8156862854957581),\n",
    "             (0.0, 1.0, 1.0),\n",
    "             (0.0, 0.8784313797950745, 0.501960813999176),\n",
    "             (0.0, 0.7529411911964417, 0.0),\n",
    "             (0.501960813999176, 0.8784313797950745, 0.0),\n",
    "             (1.0, 1.0, 0.0),\n",
    "             (1.0, 0.6274510025978088, 0.0),\n",
    "             (1.0, 0.0, 0.0),\n",
    "             (1.0, 0.125490203499794, 0.501960813999176),\n",
    "             (0.9411764740943909, 0.250980406999588, 1.0),\n",
    "             (0.501960813999176, 0.125490203499794, 1.0),\n",
    "             (0.250980406999588, 0.250980406999588, 1.0),\n",
    "             (0.125490203499794, 0.125490203499794, 0.501960813999176),\n",
    "             (0.125490203499794, 0.125490203499794, 0.125490203499794),\n",
    "             (0.501960813999176, 0.501960813999176, 0.501960813999176),\n",
    "             (0.8784313797950745, 0.8784313797950745, 0.8784313797950745),\n",
    "             (0.9333333373069763, 0.8313725590705872, 0.7372549176216125),\n",
    "             (0.8549019694328308, 0.6509804129600525, 0.47058823704719543),\n",
    "             (0.6274510025978088, 0.42352941632270813, 0.23529411852359772),\n",
    "             (0.4000000059604645, 0.20000000298023224, 0.0)]"
   ],
   "outputs": [],
   "metadata": {}
  },
  {
   "cell_type": "code",
   "execution_count": 5,
   "source": [
    "# 调整cmap，去掉gist_ncar 中深蓝色的部分\n",
    "# https://stackoverflow.com/questions/18926031/how-to-extract-a-subset-of-a-colormap-as-a-new-colormap-in-matplotlib\n",
    "\n",
    "import matplotlib.pyplot as plt\n",
    "import matplotlib.colors as colors\n",
    "import numpy as np\n",
    "\n",
    "def truncate_colormap(cmap, minval=0.0, maxval=1.0, n=100):\n",
    "    new_cmap = colors.LinearSegmentedColormap.from_list(\n",
    "        'trunc({n},{a:.2f},{b:.2f})'.format(n=cmap.name, a=minval, b=maxval),\n",
    "        cmap(np.linspace(minval, maxval, n)))\n",
    "    return new_cmap\n",
    "\n",
    "arr = np.linspace(0, 50, 100).reshape((10, 10))\n",
    "fig, ax = plt.subplots(ncols=2)\n",
    "\n",
    "cmap = plt.get_cmap('gist_ncar')\n",
    "new_cmap = truncate_colormap(cmap, 0.15, 1.)\n",
    "ax[0].imshow(arr, interpolation='nearest', cmap=cmap)\n",
    "ax[1].imshow(arr, interpolation='nearest', cmap=new_cmap)\n",
    "plt.show()"
   ],
   "outputs": [
    {
     "output_type": "display_data",
     "data": {
      "text/plain": [
       "<Figure size 640x480 with 2 Axes>"
      ],
      "image/png": "[encoded data removed]"
     },
     "metadata": {
      "image/png": {
       "width": 640,
       "height": 480
      }
     }
    }
   ],
   "metadata": {}
  },
  {
   "cell_type": "code",
   "execution_count": 6,
   "source": [
    "# 国内政区图的绘制\n",
    "# Load the border data, CN-border-La.dat is download from\n",
    "# https://gmt-china.org/data/CN-border-La.dat\n",
    "import cartopy.crs as ccrs\n",
    "import cartopy.io.shapereader as shpreader\n",
    "import cartopy.crs as ccrs\n",
    "import cartopy.feature as cfeature\n",
    "import matplotlib.patches as mpatches\n",
    "\n",
    "cn_border_file = \"/m2data2/yycheng/data_stage/CN-border/CN-border_line/CN-border-La.dat\"\n",
    "with open(cn_border_file) as src:\n",
    "    context = src.read()\n",
    "    blocks = [cnt for cnt in context.split('>') if len(cnt) > 0]\n",
    "    borders = [np.fromstring(block, dtype=float, sep=' ') for block in blocks]\n"
   ],
   "outputs": [],
   "metadata": {}
  },
  {
   "cell_type": "markdown",
   "source": [
    "### 画图renew\n",
    "#### 2021.08.08\n",
    "cn_border_file + shapefile ，但是存在重叠，尝试消除掉China边界，但是其他邻国边界无法处理；\n",
    "#### 2021.08.09\n",
    "不使用cn_border_file ，使用shapefile + coast_line（proplot自带） 的办法\n",
    "shapefile有一些重叠，不绘制行政区\n",
    "shapefile重新进行绘制，考虑来自 domain_info 中测试的多个shape file中挑选出地资所（改变了prj方式，具体查看prj后缀文件）进行使用"
   ],
   "metadata": {}
  },
  {
   "cell_type": "code",
   "execution_count": 8,
   "source": [
    "# import proplot as plot\n",
    "from matplotlib import pyplot as plt\n",
    "import proplot as plot\n",
    "# ----- get filter vars coords-----\n",
    "\n",
    "lon = var_selmonth['am']['vr'].lon.values\n",
    "lat = var_selmonth['am']['vr'].lat.values\n",
    "\n",
    "#----- create plot -----\n",
    "fig, axs = plot.subplots(ncols=3 ,nrows=2, proj=('cyl'))\n",
    "m_contour_list = [] # 用于保存contour设置，后续设置colorbar使用\n",
    "\n",
    "#----- 添加海洋以及行政区划 -----\n",
    "##---- 直接绘图，从边界文件添加\n",
    "# for ax_ind in axs:\n",
    "# for line in borders:\n",
    "    # axs.plot(line[0::100], line[1::100], lw = 0.5, color='gray',transform=ccrs.Geodetic())\n",
    "    # axs.plot(line[0::10], line[1::10], lw = 0.4, color='black',transform=ccrs.Geodetic())\n",
    "##---- 使用shp文件添加\n",
    "    ## shapefile数据下载的位置：\n",
    "## http://gaohr.win/site/blogs/2017/2017-04-18-GIS-basic-data-of-China.html\n",
    "# world_border_shapefile = \"/m2data2/yycheng/data_stage/CN-border/World/country.shp\"\n",
    "river_border_shapefile =  \"/raid52/yycheng/MPAS/REFERENCE/MODEL_CONSTANT/R1/\" + \"hyd1_4l.shp\"\n",
    "southsea_shapefile     = \"/m2data2/yycheng/data_stage/CN-border/SouthSea/\" + \"southsea_island.shp\"\n",
    "ninelines_shapefile     = \"/m2data2/yycheng/data_stage/CN-border/SouthSea/\" + \"nine_lines.shp\"\n",
    "## 来源： 沛沛的诸省 + 诸岛\n",
    "bou24p_shapefile     = \"/m2data2/yycheng/data_stage/CN-border/peipeihelp/\" + \"bou2_4p.shp\"\n",
    "## 来源： https://www.resdc.cn/data.aspx?DATAID=200\n",
    "province_shapefile     = \"/m2data2/yycheng/data_stage/CN-border/CN-sheng/\" + \"change_proj_CN-sheng-A.shp\"\n",
    "\n",
    "for ax in axs:\n",
    "    # world     = shpreader.Reader(world_border_shapefile).geometries()\n",
    "    river     = shpreader.Reader(river_border_shapefile).geometries()\n",
    "    # bou24p    = shpreader.Reader(bou24p_shapefile).geometries()\n",
    "    ninelines = shpreader.Reader(ninelines_shapefile).geometries()\n",
    "    province  = shpreader.Reader(province_shapefile).geometries()\n",
    "    ax.add_geometries(river, ccrs.PlateCarree(), facecolor='none', edgecolor='b', linewidth=0.4, zorder=1)\n",
    "    # ax.add_geometries(world, ccrs.PlateCarree(), facecolor='none', edgecolor='k', linewidth=0.4, zorder=1)\n",
    "    # ax.add_geometries(bou24p, ccrs.PlateCarree(), facecolor='none', edgecolor='k', linewidth=0.6, zorder=1) # 沛沛map\n",
    "    ax.add_geometries(province, ccrs.PlateCarree(), facecolor='none', edgecolor='k', linewidth=0.6, zorder=1) # 地资所\n",
    "    ax.add_geometries(ninelines, ccrs.PlateCarree(), facecolor='none', edgecolor='k', linewidth=0.6, zorder=1)\n",
    "\n",
    "#----- colorbar ticks 统一设置 -----\n",
    "# cmap = 'gist_ncar'\n",
    "cmap = new_cmap\n",
    "# cmap = cmap_data\n",
    "\n",
    "mean_ticks = np.concatenate((np.linspace(0,12,13), np.linspace(14,34,6)), axis=0)\n",
    "print(\"----- tick levels is : \" + str(mean_ticks))\n",
    "\n",
    "# plot contourf and titile axs\n",
    "axs[0:3].format(ltitle = 'AM')\n",
    "axs[3:6].format(ltitle = 'JJA')\n",
    "axs[0].format(title='OBS')\n",
    "axs[3].format(title='OBS')\n",
    "axs[1].format(title='VR')\n",
    "axs[4].format(title='VR')\n",
    "axs[2].format(title='RCM')\n",
    "axs[5].format(title='RCM')\n",
    "\n",
    "for mod_ind, mod_name in enumerate(['obs','vr','rcm']):\n",
    "    m_mean = axs[mod_ind].contourf(lon, lat, var_selmonth['am'][mod_name].values,\\\n",
    "    levels=mean_ticks,cmap=cmap)\n",
    "\n",
    "    m_mean = axs[mod_ind+3].contourf(lon, lat, var_selmonth['jja'][mod_name].values,\\\n",
    "    levels=mean_ticks,cmap=cmap)\n",
    "\n",
    "\n",
    "#----- add color bar-----\n",
    "# fig.colorbar(m_overlay, loc='b', cmap=cmap, width=0.1)\n",
    "\n",
    "fig.colorbar(m_mean, loc='b', width=0.1,\n",
    "ticklabelsize=5,ticks=mean_ticks, title='precipitation [mm/day]')\n",
    "\n",
    "# axs[0].colorbar(m_mean, loc='b', width=0.1,\n",
    "# ticklabelsize=5,ticks=mean_ticks)\n",
    "\n",
    "# axs[1].colorbar(m_idctn, loc='b', width=0.1,\n",
    "# ticklabelsize=5,ticks=idctn_ticks)\n",
    "\n",
    "# axs[2].colorbar(m_idctn_diff, loc='b',width=0.1,\n",
    "# ticklabelsize=5,ticks=diff_ticks)\n",
    "\n",
    "\n",
    "# ----- format setting -----\n",
    "axs.format(\n",
    "abc=True,\n",
    "abcloc = 'ul',\n",
    "#----- 地图底图设置 -----\n",
    "# reso = 'x-hi',\n",
    "reso = 'med',\n",
    "# coast = False,\n",
    "coast = True,\n",
    "coastlinewidth = 0.4,\n",
    "borders = False,\n",
    "lakes = False,\n",
    "land  = False,\n",
    "ocean = False,\n",
    "# cartopyautoextent = True, \n",
    "# borderslinewidth=.5,\n",
    "labels = True,\n",
    "longrid  = True,\n",
    "latgrid  = True,\n",
    "#-----GEO axis-----\n",
    "lonlim=(70, 140), latlim=(5, 60),\n",
    "gridlabelsize = 5,\n",
    "gridminor = True,\n",
    "lonlocator = np.arange(70,142,10),\n",
    "latlocator = np.arange(5,60+2,10),\n",
    "lonminorlocator = np.arange(70,140+2,2),\n",
    "latminorlocator = np.arange(5,60+2,2),\n",
    "#-----line label-----\n",
    "# linewidth = 0.5,\n",
    "# suptitle=\"3000km-2000km bandpass 500hPa height(1998-06 timemean)\",\n",
    "suptitle=\"precipitation\",\n",
    ")\n",
    "\n",
    "#----- save figure -----\n",
    "fig.patch.set_facecolor('white')\n",
    "plt.savefig('./output_pic/pre_98-17_pplt.png', dpi=500, facecolor= \"white\")\n",
    "# plt.savefig('./output_pic/hgt_idctn.png', dpi=300, facecolor= \"white\")"
   ],
   "outputs": [
    {
     "output_type": "stream",
     "name": "stdout",
     "text": [
      "----- tick levels is : [ 0.  1.  2.  3.  4.  5.  6.  7.  8.  9. 10. 11. 12. 14. 18. 22. 26. 30.\n",
      " 34.]\n"
     ]
    }
   ],
   "metadata": {}
  }
 ],
 "metadata": {
  "orig_nbformat": 4,
  "language_info": {
   "name": "python",
   "version": "3.8.2",
   "mimetype": "text/x-python",
   "codemirror_mode": {
    "name": "ipython",
    "version": 3
   },
   "pygments_lexer": "ipython3",
   "nbconvert_exporter": "python",
   "file_extension": ".py"
  },
  "kernelspec": {
   "name": "python3",
   "display_name": "Python 3.8.2 64-bit ('proplot0528': conda)"
  },
  "interpreter": {
   "hash": "da0469cb1653dac5810650c6f9c12d7c46a389e85e448c305f1477fdb1af5288"
  }
 },
 "nbformat": 4,
 "nbformat_minor": 2
}
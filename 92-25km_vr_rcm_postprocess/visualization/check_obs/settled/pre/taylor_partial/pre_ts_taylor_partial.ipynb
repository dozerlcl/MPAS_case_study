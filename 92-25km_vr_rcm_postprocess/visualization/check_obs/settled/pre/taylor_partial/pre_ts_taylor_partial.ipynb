{
 "cells": [
  {
   "cell_type": "code",
   "execution_count": 1,
   "source": [
    "import xarray as xr\n",
    "import numpy  as np\n",
    "import pandas as pd\n",
    "import matplotlib.pyplot as plt\n",
    "import skill_metrics as sm\n",
    "# import proplot as pplt"
   ],
   "outputs": [],
   "metadata": {}
  },
  {
   "cell_type": "markdown",
   "source": [
    "# 泰勒图绘制\n",
    "\n",
    "2021.08.15\n",
    "\n",
    "计算年际变化（时间序列）的taylor 图\n",
    "\n",
    "2021.08.16\n",
    "\n",
    "继续使用skillmetics包进行\n",
    "\n",
    "将数据处理为字典，便于按照某个特征进行索引\n",
    "\n",
    "泰勒图上的每个小点会单独绘制，按照特征给予不同的风格"
   ],
   "metadata": {}
  },
  {
   "cell_type": "markdown",
   "source": [
    "## 数据读入\n",
    "\n",
    "读入分区之后的数据"
   ],
   "metadata": {}
  },
  {
   "cell_type": "code",
   "execution_count": 2,
   "source": [
    "# get partial mask_res collect into a dict\n",
    "partial_list = [\"NE\", \"NC\", \"YZ\", \"SC\",'SW','NWC']\n",
    "path_in = \"/raid52/yycheng/MPAS/REFERENCE/TEMP_DATA_large/partial_pre\"\n",
    "file_ref = \"obsmerge_pre_98-17.nc\"\n",
    "file_vr = \"vr_pre_98-17.nc\"\n",
    "file_rcm = \"rcm_pre_98-17.nc\"\n",
    "\n",
    "var_partial = {}\n",
    "for iregion in partial_list:\n",
    "    path_in_partial = path_in + \"/\" + iregion + \"/ordata/\" # refine path\n",
    "    var_partial[iregion] = {}\n",
    "    var_partial[iregion]['obs'] = xr.open_dataset(path_in_partial + file_ref)['premerge']\n",
    "    var_partial[iregion]['vr'] = xr.open_dataset(path_in_partial + file_vr)['precip_MPAS']\n",
    "    var_partial[iregion]['rcm'] = xr.open_dataset(path_in_partial + file_rcm)['precip_MPAS']\n",
    "    # print(path_in_partial)\n",
    "    # partial_res[i] = taylor_count(path_in_partial, file_ref, \"pre\", file_vr, \"precip_MPAS\", file_rcm, \"precip_MPAS\")\n",
    "\n",
    "    # change coords\n",
    "    var_list = ['obs', 'vr', 'rcm']\n",
    "    for i in var_list:\n",
    "        rename_dict = dict(zip(var_partial[iregion][i].coords.keys(), var_partial[iregion]['obs'].coords.keys()))\n",
    "    #     # show converting coords\n",
    "        for rename_i in rename_dict:\n",
    "            print(rename_i + \" -----converting to----- \" + rename_dict[rename_i])\n",
    "\n",
    "        var_partial[iregion][i] = var_partial[iregion][i].rename(rename_dict)\n",
    "        var_partial[iregion][i]._coords = var_partial[iregion]['obs']._coords\n",
    "        var_partial[iregion][i] = var_partial[iregion][i].rename(i)"
   ],
   "outputs": [
    {
     "output_type": "stream",
     "name": "stdout",
     "text": [
      "time -----converting to----- time\n",
      "lon -----converting to----- lon\n",
      "lat -----converting to----- lat\n",
      "lev -----converting to----- lev\n",
      "Time -----converting to----- time\n",
      "longitude -----converting to----- lon\n",
      "latitude -----converting to----- lat\n",
      "Time -----converting to----- time\n",
      "longitude -----converting to----- lon\n",
      "latitude -----converting to----- lat\n",
      "time -----converting to----- time\n",
      "lon -----converting to----- lon\n",
      "lat -----converting to----- lat\n",
      "lev -----converting to----- lev\n",
      "Time -----converting to----- time\n",
      "longitude -----converting to----- lon\n",
      "latitude -----converting to----- lat\n",
      "Time -----converting to----- time\n",
      "longitude -----converting to----- lon\n",
      "latitude -----converting to----- lat\n",
      "time -----converting to----- time\n",
      "lon -----converting to----- lon\n",
      "lat -----converting to----- lat\n",
      "lev -----converting to----- lev\n",
      "Time -----converting to----- time\n",
      "longitude -----converting to----- lon\n",
      "latitude -----converting to----- lat\n",
      "Time -----converting to----- time\n",
      "longitude -----converting to----- lon\n",
      "latitude -----converting to----- lat\n",
      "time -----converting to----- time\n",
      "lon -----converting to----- lon\n",
      "lat -----converting to----- lat\n",
      "lev -----converting to----- lev\n",
      "Time -----converting to----- time\n",
      "longitude -----converting to----- lon\n",
      "latitude -----converting to----- lat\n",
      "Time -----converting to----- time\n",
      "longitude -----converting to----- lon\n",
      "latitude -----converting to----- lat\n",
      "time -----converting to----- time\n",
      "lon -----converting to----- lon\n",
      "lat -----converting to----- lat\n",
      "lev -----converting to----- lev\n",
      "Time -----converting to----- time\n",
      "longitude -----converting to----- lon\n",
      "latitude -----converting to----- lat\n",
      "Time -----converting to----- time\n",
      "longitude -----converting to----- lon\n",
      "latitude -----converting to----- lat\n",
      "time -----converting to----- time\n",
      "lon -----converting to----- lon\n",
      "lat -----converting to----- lat\n",
      "lev -----converting to----- lev\n",
      "Time -----converting to----- time\n",
      "longitude -----converting to----- lon\n",
      "latitude -----converting to----- lat\n",
      "Time -----converting to----- time\n",
      "longitude -----converting to----- lon\n",
      "latitude -----converting to----- lat\n"
     ]
    }
   ],
   "metadata": {}
  },
  {
   "cell_type": "markdown",
   "source": [
    "## 计算年际时间序列 var_partial_ts"
   ],
   "metadata": {}
  },
  {
   "cell_type": "code",
   "execution_count": 3,
   "source": [
    "time_sel = {}\n",
    "\n",
    "time_sel['am'] = var_partial['NC']['obs'].time.dt.month.isin([4,5])\n",
    "time_sel['jja'] = var_partial['NC']['obs'].time.dt.month.isin([6,7,8])"
   ],
   "outputs": [],
   "metadata": {}
  },
  {
   "cell_type": "code",
   "execution_count": 4,
   "source": [
    "# 计算年际时间序列：\n",
    "var_partial_ts = {}\n",
    "for iregion in partial_list:\n",
    "    var_partial_ts[iregion] = {}\n",
    "    for imod in ['obs','vr','rcm']:\n",
    "        var_partial_ts[iregion][imod] = {}\n",
    "        for iseason in ['am','jja']:\n",
    "            var_partial_ts[iregion][imod][iseason] = var_partial[iregion][imod].isel(time = time_sel[iseason]).mean(dim = ['lat','lon'])\n",
    "            var_partial_ts[iregion][imod][iseason] = \\\n",
    "                var_partial_ts[iregion][imod][iseason].groupby(var_partial_ts[iregion][imod][iseason].time.dt.year).mean()"
   ],
   "outputs": [],
   "metadata": {}
  },
  {
   "cell_type": "markdown",
   "source": [
    "## 计算泰勒图诸要素，并整理进行绘图"
   ],
   "metadata": {}
  },
  {
   "cell_type": "code",
   "execution_count": 5,
   "source": [
    "# 计算泰勒图诸要素 到字典taylor_ts中\n",
    "taylor_ts = {}\n",
    "for iregion in partial_list:\n",
    "    taylor_ts[iregion] = {}\n",
    "    for imod in ['obs','vr','rcm']:\n",
    "        taylor_ts[iregion][imod] = {}\n",
    "        for iseason in ['am','jja']:\n",
    "            taylor_ts[iregion][imod][iseason] = {}\n",
    "            temp_obs = var_partial_ts[iregion]['obs'][iseason].values\n",
    "            temp_mod = var_partial_ts[iregion][imod][iseason].values\n",
    "            taylor_ts[iregion][imod][iseason] = sm.taylor_statistics(temp_mod, temp_obs)\n",
    "            # normalized\n",
    "            taylor_ts[iregion][imod][iseason]['sdev'] = taylor_ts[iregion][imod][iseason]['sdev'] / taylor_ts[iregion][imod][iseason]['sdev'][0]\n",
    "            taylor_ts[iregion][imod][iseason]['crmsd'] = taylor_ts[iregion][imod][iseason]['crmsd'] / taylor_ts[iregion][imod][iseason]['sdev'][0]"
   ],
   "outputs": [],
   "metadata": {}
  },
  {
   "cell_type": "markdown",
   "source": [
    "## PLOT\n",
    "逐个点的绘制泰勒图，单独为每个点的属性设置相应的特征"
   ],
   "metadata": {}
  },
  {
   "cell_type": "code",
   "execution_count": 1,
   "source": [
    "# import skill_metrics as sm\n",
    "import importlib\n",
    "importlib.reload(sm)\n",
    "\n",
    "# fig, axs = pplt.subplots(ncols=1 ,nrows=1)\n",
    "fig = plt.figure(figsize=(8, 8), dpi=600)\n",
    "\n",
    "first_plot = False # 用作后续overlay设置\n",
    "\n",
    "# 创建风格的dict,之后传入每个单独的点来进行绘制\n",
    "# # Define markers\n",
    "# kind = ['+','o','x','s','d','^','v','p','h','*']\n",
    "# colorm = ['b','r','g','c','m','y','k']\n",
    "imod_style_color = {'vr':\"r\", 'rcm':'b'}\n",
    "iregion_style_color = {\"NE\":\"m\", \"NC\":\"y\", \"YZ\":\"c\", \"SC\":\"b\",'SW':\"g\",'NWC':\"tab:gray\"}\n",
    "iseason_style_marker = {'am':'.',\"jja\":'v'}\n",
    "\n",
    "combine_mod_season_marker = {'vr am':\"o\",\"vr jja\":\"h\",\"rcm am\":\"d\",\"rcm jja\":\"^\"}\n",
    "\n",
    "\n",
    "for iregion in partial_list:\n",
    "    for imod in ['vr','rcm']:\n",
    "        for iseason in ['am','jja']:\n",
    "            # 获取每个点的泰勒图诸要素\n",
    "            sdev_plot = taylor_ts[iregion][imod][iseason]['sdev']\n",
    "            crmsd_plot = taylor_ts[iregion][imod][iseason]['crmsd']\n",
    "            ccoef_plot = taylor_ts[iregion][imod][iseason]['ccoef']\n",
    "\n",
    "            sm.taylor_diagram(sdev_plot,crmsd_plot,ccoef_plot, \n",
    "                #----- mark setting -----\n",
    "                MarkerDisplayed = 'marker',\n",
    "                # markerLabel = label2, \n",
    "                # numberPanels = 1,\n",
    "                # markerLabel = ['obs','vr','rcm'],\n",
    "                # markerLabel = ['obs', imod.upper()],\n",
    "                # markerLabelColor = imod_style_color[imod],\n",
    "                markerlegend = \"off\",\n",
    "                markerColor = iregion_style_color[iregion],\n",
    "                markerSize = 6,\n",
    "                alpha = .5, \n",
    "                # -----RNSD-----\n",
    "                # tickRMS = np.arange(0,1.8,0.2),\n",
    "                tickRMS = [0, 1, 2, 3],\n",
    "                tickRMSangle = 160, \n",
    "                colRMS = 'g', styleRMS = ':', widthRMS = 1.5,\n",
    "                # tickCOR = lsCOR,\n",
    "                showlabelsRMS = \"on\",\n",
    "                titleRMS = \"off\",\n",
    "                rmslabelformat = ':.1f',\n",
    "                # -----COR-----\n",
    "                colCOR = \"k\", \n",
    "                widthCOR = 1.0,\n",
    "                # -----STD------\n",
    "                tickSTD = [0,1,1.5,2.,2.5, 3], axismax = 3., \n",
    "                showlabelsSTD = 'on',\n",
    "                # markersymbol = iseason_style_marker[iseason],\n",
    "                markersymbol = combine_mod_season_marker[imod + \" \" + iseason],\n",
    "                # -----marker reference-----\n",
    "                styleOBS = '-', \n",
    "                colOBS = 'k',\n",
    "                markerobs = 'o', \n",
    "                overlay = first_plot,\n",
    "                titleOBS = 'observation',\n",
    "                # ------ check -----\n",
    "                checkStats = True,\n",
    "            )\n",
    "\n",
    "            first_plot = True\n",
    "\n",
    "\n",
    "# legend设置，颜色以及型号\n",
    "# custom legend\n",
    "from matplotlib.patches import Patch\n",
    "from matplotlib.lines import Line2D\n",
    "legend_elements = []\n",
    "for i in iregion_style_color.items():\n",
    "    legend_elements.append( Patch(facecolor=i[1],label=i[0]))\n",
    "for i in combine_mod_season_marker.items():\n",
    "    legend_elements.append( Line2D([0], [0], marker=i[1], color='w', label=i[0].upper(),\n",
    "                          markerfacecolor='k', markersize=6)) \n",
    "\n",
    "fig.legend(handles=legend_elements, loc='upper right', bbox_to_anchor=(.9,0.75),prop={'size': 6}, ncol=2)\n",
    "\n",
    "#saving pics\n",
    "plt.savefig(\"./output_pic/pre_taylor_interannual_ts\",dpi=600, facecolor = 'white')"
   ],
   "outputs": [
    {
     "output_type": "error",
     "ename": "NameError",
     "evalue": "name 'sm' is not defined",
     "traceback": [
      "\u001b[0;31m---------------------------------------------------------------------------\u001b[0m",
      "\u001b[0;31mNameError\u001b[0m                                 Traceback (most recent call last)",
      "\u001b[0;32m<ipython-input-1-6b70a7a5f364>\u001b[0m in \u001b[0;36m<module>\u001b[0;34m\u001b[0m\n\u001b[1;32m      1\u001b[0m \u001b[0;31m# import skill_metrics as sm\u001b[0m\u001b[0;34m\u001b[0m\u001b[0;34m\u001b[0m\u001b[0;34m\u001b[0m\u001b[0m\n\u001b[1;32m      2\u001b[0m \u001b[0;32mimport\u001b[0m \u001b[0mimportlib\u001b[0m\u001b[0;34m\u001b[0m\u001b[0;34m\u001b[0m\u001b[0m\n\u001b[0;32m----> 3\u001b[0;31m \u001b[0mimportlib\u001b[0m\u001b[0;34m.\u001b[0m\u001b[0mreload\u001b[0m\u001b[0;34m(\u001b[0m\u001b[0msm\u001b[0m\u001b[0;34m)\u001b[0m\u001b[0;34m\u001b[0m\u001b[0;34m\u001b[0m\u001b[0m\n\u001b[0m\u001b[1;32m      4\u001b[0m \u001b[0;34m\u001b[0m\u001b[0m\n\u001b[1;32m      5\u001b[0m \u001b[0;31m# fig, axs = pplt.subplots(ncols=1 ,nrows=1)\u001b[0m\u001b[0;34m\u001b[0m\u001b[0;34m\u001b[0m\u001b[0;34m\u001b[0m\u001b[0m\n",
      "\u001b[0;31mNameError\u001b[0m: name 'sm' is not defined"
     ]
    }
   ],
   "metadata": {}
  }
 ],
 "metadata": {
  "orig_nbformat": 4,
  "language_info": {
   "name": "python",
   "version": "3.8.2",
   "mimetype": "text/x-python",
   "codemirror_mode": {
    "name": "ipython",
    "version": 3
   },
   "pygments_lexer": "ipython3",
   "nbconvert_exporter": "python",
   "file_extension": ".py"
  },
  "kernelspec": {
   "name": "python3",
   "display_name": "Python 3.8.2 64-bit ('proplot0528': conda)"
  },
  "interpreter": {
   "hash": "da0469cb1653dac5810650c6f9c12d7c46a389e85e448c305f1477fdb1af5288"
  }
 },
 "nbformat": 4,
 "nbformat_minor": 2
}
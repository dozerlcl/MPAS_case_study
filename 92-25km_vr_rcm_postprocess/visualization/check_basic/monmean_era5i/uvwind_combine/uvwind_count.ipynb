{
 "metadata": {
  "language_info": {
   "codemirror_mode": {
    "name": "ipython",
    "version": 3
   },
   "file_extension": ".py",
   "mimetype": "text/x-python",
   "name": "python",
   "nbconvert_exporter": "python",
   "pygments_lexer": "ipython3",
   "version": "3.8.5"
  },
  "orig_nbformat": 2,
  "kernelspec": {
   "name": "python3",
   "display_name": "Python 3",
   "language": "python"
  }
 },
 "nbformat": 4,
 "nbformat_minor": 2,
 "cells": [
  {
   "cell_type": "code",
   "execution_count": 1,
   "metadata": {},
   "outputs": [],
   "source": [
    "import numpy  as np\n",
    "# import seaborn as sns\n",
    "import pandas as pd\n",
    "import xarray as xr\n",
    "# import matplotlib.pyplot as plt"
   ]
  },
  {
   "source": [
    "给NCL绘制风矢量叠加图的脚本，预处理风矢量数据，平均，做差等，存放临时数据便于进一步作图\n",
    "\n",
    "输入位置： \n",
    "\n",
    "uv绘图风速输出位置 /raid52/yycheng/MPAS/REFERENCE/TEMP_DATA/plot_mean/uv"
   ],
   "cell_type": "markdown",
   "metadata": {}
  },
  {
   "cell_type": "code",
   "execution_count": null,
   "metadata": {},
   "outputs": [],
   "source": [
    "dir_vr = \"/raid52/yycheng/MPAS/REFERENCE/TEMP_DATA/mask_pre/mask_res/\" + \"mask_vr_pre_03-15.nc\""
   ]
  }
 ]
}
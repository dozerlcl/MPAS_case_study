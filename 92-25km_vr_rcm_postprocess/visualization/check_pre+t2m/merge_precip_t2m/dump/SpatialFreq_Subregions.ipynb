{
 "cells": [
  {
   "cell_type": "code",
   "execution_count": null,
   "metadata": {},
   "outputs": [],
   "source": [
    "import xarray as xr\n",
    "import numpy  as np\n",
    "import pandas as pd\n",
    "import proplot as pplt\n",
    "import matplotlib.pyplot as plt\n",
    "from sklearn.neighbors import KernelDensity\n",
    "import copy"
   ]
  },
  {
   "cell_type": "markdown",
   "metadata": {},
   "source": [
    "# 进行空间pattern的PDF分布的绘制\n",
    "2021.07.15\n",
    "\n",
    "需要先计算四个区域的平均的时间序列，将AM和JJA拆分开来，之后计算AM JJA各自的经验分布函数，并绘图\n",
    "\n",
    "读取数据计算平均的函数\n",
    "\n",
    "-   计算am jja两个时间段\n",
    "-   处理为空间pattern\n",
    "\n",
    "2022.01.30\n",
    "\n",
    "-   计算整体的MJJA时间段的情况\n",
    "\n",
    "2022.02.26\n",
    "\n",
    "-   不再使用核密度估计，直接使用bins + histogram统计一定范围内的频率\n",
    "-   合并T2m + Precip"
   ]
  },
  {
   "cell_type": "markdown",
   "metadata": {},
   "source": [
    "## 数据读取"
   ]
  },
  {
   "cell_type": "markdown",
   "metadata": {},
   "source": [
    "### 日降水"
   ]
  },
  {
   "cell_type": "code",
   "execution_count": null,
   "metadata": {},
   "outputs": [],
   "source": [
    "# 提取AM & JJA的降水的时间序列\n",
    "# get partial mask_res collect into a dict\n",
    "partial_list = [\"NE\", \"NC\",\"NWC\", \"YZ\", \"SC\",\"SW\"]\n",
    "path_in = \"/raid52/yycheng/MPAS/REFERENCE/TEMP_DATA_large/partial_pre\"\n",
    "file_ref= \"obsmerge_pre_98-17.nc\"\n",
    "file_vr = \"vr_pre_98-17.nc\"\n",
    "file_rcm = \"rcm_pre_98-17.nc\"\n",
    "\n",
    "partial_mean = {} # partial mask_res\n",
    "partial_mean['precip'] = {}\n",
    "\n",
    "for iregion in partial_list:\n",
    "    partial_mean['precip'][iregion] = {}\n",
    "    path_in_partial = path_in + \"/\" + iregion + \"/ordata\" # refine path\n",
    "    print(path_in_partial)\n",
    "\n",
    "    # obs\n",
    "    partial_mean['precip'][iregion]['obs'] = {}\n",
    "    xr_obs = xr.open_dataset(path_in_partial + \"/\" + file_ref)['premerge']\n",
    "    xr_obs = xr_obs.reset_coords(names = 'lev', drop = True) # 去除掉obs中多余的lev coords\n",
    "    partial_mean['precip'][iregion]['obs']['mjja'] = xr_obs.sel(time = xr_obs.time.dt.month.isin([5,6,7,8])).mean(['time'])\n",
    "\n",
    "    # vr\n",
    "    partial_mean['precip'][iregion]['vr'] = {}\n",
    "    xr_vr = xr.open_dataset(path_in_partial + \"/\" + file_vr)['precip_MPAS']\n",
    "    partial_mean['precip'][iregion]['vr']['mjja'] = xr_vr.sel(Time = xr_vr.Time.dt.month.isin([5,6,7,8])).mean(['Time'])\n",
    "\n",
    "    # rcm\n",
    "    partial_mean['precip'][iregion]['rcm'] = {}\n",
    "    xr_rcm = xr.open_dataset(path_in_partial + \"/\" + file_rcm)['precip_MPAS']\n",
    "    partial_mean['precip'][iregion]['rcm']['mjja'] = xr_rcm.sel(Time = xr_rcm.Time.dt.month.isin([5,6,7,8])).mean(['Time'])"
   ]
  },
  {
   "cell_type": "markdown",
   "metadata": {},
   "source": [
    "### 日平均气温"
   ]
  },
  {
   "cell_type": "code",
   "execution_count": null,
   "metadata": {},
   "outputs": [],
   "source": [
    "# 提取AM & JJA的降水的时间序列\n",
    "# get partial mask_res collect into a dict\n",
    "partial_list = [\"NE\", \"NC\", \"YZ\", \"SC\",'SW','NWC']\n",
    "path_in = \"/raid52/yycheng/MPAS/REFERENCE/TEMP_DATA_large/partial_t2m\"\n",
    "file_ref= \"mask_sel_CN05.1_Tm_1961_2018_daily_025x025.nc\"\n",
    "file_vr = \"mask_mean_t2m_98-17_VR.nc\"\n",
    "file_rcm = \"mask_mean_t2m_98-17_RCM.nc\"\n",
    "\n",
    "partial_mean['t2m'] = {}\n",
    "\n",
    "for iregion in partial_list:\n",
    "    partial_mean['t2m'][iregion] = {}\n",
    "    path_in_partial = path_in + \"/\" + iregion + \"/ordata\" # refine path\n",
    "    print(path_in_partial)\n",
    "\n",
    "    # obs\n",
    "    partial_mean['t2m'][iregion]['obs'] = {}\n",
    "    xr_obs = xr.open_dataset(path_in_partial + \"/\" + file_ref)['tm']\n",
    "    partial_mean['t2m'][iregion]['obs']['mjja'] = xr_obs.sel(time = xr_obs.time.dt.month.isin([5,6,7,8])).mean(['time'])\n",
    "\n",
    "    # vr\n",
    "    partial_mean['t2m'][iregion]['vr'] = {}\n",
    "    xr_vr = xr.open_dataset(path_in_partial + \"/\" + file_vr)['t2m']\n",
    "    partial_mean['t2m'][iregion]['vr']['mjja'] = xr_vr.sel(Time = xr_vr.Time.dt.month.isin([5,6,7,8])).mean(['Time']) - 273.15\n",
    "\n",
    "    # rcm\n",
    "    partial_mean['t2m'][iregion]['rcm'] = {}\n",
    "    xr_rcm = xr.open_dataset(path_in_partial + \"/\" + file_rcm)['t2m']\n",
    "    partial_mean['t2m'][iregion]['rcm']['mjja'] = xr_rcm.sel(Time = xr_rcm.Time.dt.month.isin([5,6,7,8])).mean(['Time']) - 273.15"
   ]
  },
  {
   "cell_type": "markdown",
   "metadata": {},
   "source": [
    "## 计算bins下的频率分布"
   ]
  },
  {
   "cell_type": "code",
   "execution_count": null,
   "metadata": {},
   "outputs": [],
   "source": [
    "def get_bins_interval(bins):\n",
    "    \"\"\"\n",
    "    用于生成左闭右开的区间字符串\n",
    "    \"\"\"\n",
    "    freq_bins_left = bins[0:-1] # 左区间\n",
    "    freq_bins_right = bins[1:] # 右区间\n",
    "    freq_bins_str = []\n",
    "    for interval_ind in range(0,len(freq_bins_left)):\n",
    "        if (interval_ind == len(freq_bins_left) - 1 ):\n",
    "            str_temp = '[' + str(freq_bins_left[interval_ind]) + \",\" + str(freq_bins_right[interval_ind]) + \"]\"\n",
    "        else:\n",
    "            str_temp = '[' + str(freq_bins_left[interval_ind]) + \",\" + str(freq_bins_right[interval_ind]) + \")\"\n",
    "        freq_bins_str.append(str_temp)\n",
    "    return freq_bins_str\n",
    "\n",
    "# 进行频率估计的数据准备\n",
    "var_hist   = copy.deepcopy(partial_mean) # 存放直方图\n",
    "var_kernel = copy.deepcopy(partial_mean) # 存放核密度估计结果\n",
    "var_bins   = copy.deepcopy(partial_mean) # 存放x轴 bins\n",
    "\n",
    "# 制作bins区间、区间标签\n",
    "freq_bins = {}\n",
    "freq_bins['precip'] = np.arange(0,42,2)\n",
    "freq_bins['t2m']    = np.arange(-12,40,4)\n",
    "str_bins  = {}\n",
    "str_bins['precip']  = get_bins_interval(freq_bins['precip'])\n",
    "str_bins['t2m']  = get_bins_interval(freq_bins['t2m'])\n",
    "\n",
    "\n",
    "df_plot = {}\n",
    "for vartype in partial_mean.keys():\n",
    "    df_plot[vartype] = {}\n",
    "    for iregion in partial_mean[vartype].keys():\n",
    "        df_plot[vartype][iregion] = pd.DataFrame(\n",
    "            columns=pd.Index([\"obs\", \"vr\",\"rcm\"], name='freq bins'),\n",
    "            index=str_bins[vartype])\n",
    "\n",
    "for vartype in partial_mean.keys():\n",
    "    for iregion in partial_mean[vartype].keys():\n",
    "        for imod in partial_mean[vartype][iregion].keys():\n",
    "            for iseason in partial_mean[vartype][iregion][imod].keys():\n",
    "                var_np = partial_mean[vartype][iregion][imod][iseason].values\n",
    "\n",
    "                histogram, bins = np.histogram(var_np, bins=freq_bins[vartype]) # count pdf\n",
    "                histogram = histogram / histogram.sum() # 手动进行归一化\n",
    "                # add to dict\n",
    "                var_hist[vartype][iregion][imod][iseason]   = histogram\n",
    "                var_bins[vartype][iregion][imod][iseason]   = freq_bins[vartype]\n",
    "                # add to df\n",
    "                df_plot[vartype][iregion][imod] = histogram"
   ]
  },
  {
   "cell_type": "markdown",
   "metadata": {},
   "source": [
    "## 绘图部分"
   ]
  },
  {
   "cell_type": "markdown",
   "metadata": {},
   "source": [
    "### 绘制频率图"
   ]
  },
  {
   "cell_type": "code",
   "execution_count": null,
   "metadata": {},
   "outputs": [],
   "source": [
    "# fig, axs = pplt.subplots(ncols = 3, nrows = 4, wspace=0, hspace=(0,1,0), spanx=True, spany=True, share=3, figsize = (12,8))\n",
    "fig, axs = pplt.subplots(ncols = 3, nrows = 4, share = 0)\n",
    "# wspace hspace设置宽度， span share共享坐标轴\n",
    "axs_index = 0\n",
    "\n",
    "for iregion in ['NE', 'NC', 'NWC', 'SC', 'SW', 'YZ']:\n",
    "    # precip\n",
    "    barplot = axs[axs_index].bar(df_plot['precip'][iregion][0:10], cycle = ['g','r','b'])\n",
    "    axs[axs_index].format(title = f'{iregion}' ,titleweight='bold',titleloc='uc')\n",
    "    # t2m\n",
    "    if (iregion in ['NE','NC']):\n",
    "        barplot = axs[axs_index+6].bar(df_plot['t2m'][iregion][4:], cycle = ['g','r','b'])\n",
    "    elif (iregion in ['SC','SW', 'YZ']):\n",
    "        barplot = axs[axs_index+6].bar(df_plot['t2m'][iregion][5:], cycle = ['g','r','b'])\n",
    "    elif (iregion in ['NWC']):\n",
    "        barplot = axs[axs_index+6].bar(df_plot['t2m'][iregion][1:-1], cycle = ['g','r','b'])\n",
    "\n",
    "    axs[axs_index + 6].format(title = f'{iregion}' ,titleweight='bold',titleloc='uc')\n",
    "\n",
    "    # 添加百分号标签，单独设置ticks（把小数转化成百分数）\n",
    "    # axs[axs_index].set_yticklabels(['{:.1f}%'.format(x*100) for x in axs[axs_index].get_yticks()]) \n",
    "    axs_index = axs_index + 1\n",
    "    # break\n",
    "\n",
    "axs[0].format(ltitle = 'daily precipitation')\n",
    "axs[4].format(xlabel = \"units:[mm/d]\")\n",
    "axs[6].format(ltitle = 'surface air temperature')\n",
    "axs[10].format(xlabel = \"units:[\" + r\"$^{\\circ}C$\" + \"]\")\n",
    "axs[:,0].format(ylabel = \"frequency\")\n",
    "axs.format(\n",
    "abc = True,\n",
    "abcloc=\"ul\",\n",
    "ylim = (0,0.95),\n",
    "ylocator = 0.1,\n",
    "xticklabelsize = 5,\n",
    "# leftlabels=('daily precipitation', '', 'surface air temperature',''),\n",
    "# xlim = (0,23),\n",
    "# xlocator = 5. ,\n",
    "# xminorlocator = 1. ,\n",
    "# suptitle = \"daily precipitation\",\n",
    "# ylabel = \"Frequency\",\n",
    "# xlabel = \"domain average precipitation (mm)\"\n",
    ")\n",
    "# axs[0,:].format(ylim = (0,0.6))\n",
    "# axs[1,:].format(ylim = (0,0.39))\n",
    "# ----- add legend -----\n",
    "axs[2].legend(barplot, loc='lr', ncols=1, frame=False, labels = ['OBS','VR','RCM'], title = '')\n",
    "\n",
    "# saving figs\n",
    "plt.savefig(\"./output_pic/pre&t2m_SpatialFreq.2022.02.16.png\", dpi = 600, facecolor = \"white\")"
   ]
  }
 ],
 "metadata": {
  "interpreter": {
   "hash": "da0469cb1653dac5810650c6f9c12d7c46a389e85e448c305f1477fdb1af5288"
  },
  "kernelspec": {
   "display_name": "Python 3.8.2 64-bit ('proplot0528': conda)",
   "name": "python3"
  },
  "language_info": {
   "codemirror_mode": {
    "name": "ipython",
    "version": 3
   },
   "file_extension": ".py",
   "mimetype": "text/x-python",
   "name": "python",
   "nbconvert_exporter": "python",
   "pygments_lexer": "ipython3",
   "version": "3.8.2"
  },
  "orig_nbformat": 4
 },
 "nbformat": 4,
 "nbformat_minor": 2
}

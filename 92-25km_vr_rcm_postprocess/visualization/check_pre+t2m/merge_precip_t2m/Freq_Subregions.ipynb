{
 "cells": [
  {
   "cell_type": "code",
   "execution_count": null,
   "metadata": {},
   "outputs": [],
   "source": [
    "import xarray as xr\n",
    "import numpy  as np\n",
    "import pandas as pd\n",
    "import proplot as pplt\n",
    "import matplotlib.pyplot as plt\n",
    "from sklearn.neighbors import KernelDensity\n",
    "import copy"
   ]
  },
  {
   "cell_type": "markdown",
   "metadata": {},
   "source": [
    "# 计算频率图\n",
    "\n",
    "2022.02.16\n",
    "\n",
    "绘制整个3D变量的bar图，相比下面精细bins的频率图更笼统；运行type1\n",
    "\n",
    "2022.02.17 type2\n",
    "\n",
    "在此前PDF分布的绘制上的改进；将3D的所有子区域的格点的值考虑进了PDF的统计结果中；\n",
    "\n",
    "降水需要针对湿日进行PDF的绘制，统计大于0.1mm/d以上的格点；在湿日中的占比\n",
    "\n",
    "绘制上，降水采用了对数坐标；使用小图绘制了极端状况（50-100mm/d）NWC在小图部分采用了常见的linear坐标"
   ]
  },
  {
   "cell_type": "markdown",
   "metadata": {},
   "source": [
    "## 数据读取"
   ]
  },
  {
   "cell_type": "markdown",
   "metadata": {},
   "source": [
    "### 日降水"
   ]
  },
  {
   "cell_type": "code",
   "execution_count": null,
   "metadata": {},
   "outputs": [],
   "source": [
    "# 提取AM & JJA的降水的时间序列\n",
    "# get partial mask_res collect into a dict\n",
    "partial_list = [\"NE\", \"NC\",\"NWC\", \"YZ\", \"SC\",\"SW\"]\n",
    "path_in = \"/raid52/yycheng/MPAS/REFERENCE/TEMP_DATA_large/partial_pre\"\n",
    "file_ref= \"obsmerge_pre_98-17.nc\"\n",
    "file_vr = \"vr_pre_98-17.nc\"\n",
    "file_rcm = \"rcm_pre_98-17.nc\"\n",
    "\n",
    "partial_mean = {} # partial mask_res\n",
    "partial_mean['precip'] = {}\n",
    "\n",
    "for iregion in partial_list:\n",
    "    partial_mean['precip'][iregion] = {}\n",
    "    path_in_partial = path_in + \"/\" + iregion + \"/ordata\" # refine path\n",
    "    print(path_in_partial)\n",
    "\n",
    "    # obs\n",
    "    xr_obs = xr.open_dataset(path_in_partial + \"/\" + file_ref)['premerge']\n",
    "    xr_obs = xr_obs.reset_coords(names = 'lev', drop = True) # 去除掉obs中多余的lev coords\n",
    "    partial_mean['precip'][iregion]['obs'] = xr_obs.sel(time = xr_obs.time.dt.month.isin([5,6,7,8]))\n",
    "\n",
    "    # vr\n",
    "    xr_vr = xr.open_dataset(path_in_partial + \"/\" + file_vr)['precip_MPAS']\n",
    "    partial_mean['precip'][iregion]['vr'] = xr_vr.sel(Time = xr_vr.Time.dt.month.isin([5,6,7,8]))\n",
    "\n",
    "    # rcm\n",
    "    xr_rcm = xr.open_dataset(path_in_partial + \"/\" + file_rcm)['precip_MPAS']\n",
    "    partial_mean['precip'][iregion]['rcm'] = xr_rcm.sel(Time = xr_rcm.Time.dt.month.isin([5,6,7,8]))"
   ]
  },
  {
   "cell_type": "markdown",
   "metadata": {},
   "source": [
    "### 日平均气温"
   ]
  },
  {
   "cell_type": "code",
   "execution_count": null,
   "metadata": {},
   "outputs": [],
   "source": [
    "# 提取AM & JJA的降水的时间序列\n",
    "# get partial mask_res collect into a dict\n",
    "partial_list = [\"NE\", \"NC\", \"YZ\", \"SC\",'SW','NWC']\n",
    "path_in = \"/raid52/yycheng/MPAS/REFERENCE/TEMP_DATA_large/partial_t2m\"\n",
    "file_ref= \"mask_sel_CN05.1_Tm_1961_2018_daily_025x025.nc\"\n",
    "file_vr = \"mask_mean_t2m_98-17_VR.nc\"\n",
    "file_rcm = \"mask_mean_t2m_98-17_RCM.nc\"\n",
    "\n",
    "partial_mean['t2m'] = {}\n",
    "\n",
    "for iregion in partial_list:\n",
    "    partial_mean['t2m'][iregion] = {}\n",
    "    path_in_partial = path_in + \"/\" + iregion + \"/ordata\" # refine path\n",
    "    print(path_in_partial)\n",
    "\n",
    "    # obs\n",
    "    xr_obs = xr.open_dataset(path_in_partial + \"/\" + file_ref)['tm']\n",
    "    partial_mean['t2m'][iregion]['obs'] = xr_obs.sel(time = xr_obs.time.dt.month.isin([5,6,7,8]))\n",
    "\n",
    "    # vr\n",
    "    xr_vr = xr.open_dataset(path_in_partial + \"/\" + file_vr)['t2m']\n",
    "    partial_mean['t2m'][iregion]['vr'] = xr_vr.sel(Time = xr_vr.Time.dt.month.isin([5,6,7,8])) - 273.15\n",
    "\n",
    "    # rcm\n",
    "    xr_rcm = xr.open_dataset(path_in_partial + \"/\" + file_rcm)['t2m']\n",
    "    partial_mean['t2m'][iregion]['rcm'] = xr_rcm.sel(Time = xr_rcm.Time.dt.month.isin([5,6,7,8])) - 273.15"
   ]
  },
  {
   "cell_type": "markdown",
   "metadata": {},
   "source": [
    "## 计算部分"
   ]
  },
  {
   "cell_type": "markdown",
   "metadata": {},
   "source": [
    "### bins使用的直方图方法，进行向量化"
   ]
  },
  {
   "cell_type": "code",
   "execution_count": null,
   "metadata": {},
   "outputs": [],
   "source": [
    "def get_bins_interval(bins):\n",
    "    \"\"\"\n",
    "    用于生成左闭右开的区间字符串\n",
    "    \"\"\"\n",
    "    freq_bins_left = bins[0:-1] # 左区间\n",
    "    freq_bins_right = bins[1:] # 右区间\n",
    "    freq_bins_str = []\n",
    "    for interval_ind in range(0,len(freq_bins_left)):\n",
    "        if (interval_ind == len(freq_bins_left) - 1 ):\n",
    "            str_temp = '[' + str(freq_bins_left[interval_ind]) + \",\" + str(freq_bins_right[interval_ind]) + \"]\"\n",
    "        else:\n",
    "            str_temp = '[' + str(freq_bins_left[interval_ind]) + \",\" + str(freq_bins_right[interval_ind]) + \")\"\n",
    "        freq_bins_str.append(str_temp)\n",
    "    return freq_bins_str\n",
    "\n",
    "def count_freq_every_gird(arr,bins_1d):\n",
    "    \"\"\"\n",
    "    用于计算3D的序列上，在每个格点上的freq的状况\n",
    "    \"\"\" \n",
    "    # ntimes = arr.shape[0]\n",
    "    res_3d,bins_3d = np.apply_along_axis(func1d = np.histogram,axis = 0, arr = arr, bins = bins_1d) # 时间维的每个格点上计算 freq\n",
    "    freq_sum = np.sum(res_3d[:,:]) # 获取区域全部频率sum结果\n",
    "\n",
    "    freq_sum_normal = freq_sum / freq_sum.sum() # 在降水日中进行归一化\n",
    "\n",
    "    # grid_points = 1\n",
    "    # for i in arr.shape[:]:\n",
    "        # grid_points = grid_points * i\n",
    "    # freq_sum_normal = freq_sum / grid_points # 在全部日期中进行归一化\n",
    "\n",
    "    return freq_sum_normal"
   ]
  },
  {
   "cell_type": "markdown",
   "metadata": {},
   "source": [
    "### 计算 type1 准备bins + 条形图"
   ]
  },
  {
   "cell_type": "code",
   "execution_count": null,
   "metadata": {},
   "outputs": [],
   "source": [
    "# 进行频率估计的数据准备\n",
    "var_hist   = copy.deepcopy(partial_mean) # 存放直方图\n",
    "var_kernel = copy.deepcopy(partial_mean) # 存放核密度估计结果\n",
    "var_bins   = copy.deepcopy(partial_mean) # 存放x轴 bins\n",
    "\n",
    "# 制作bins区间、区间标签\n",
    "freq_bins = {}\n",
    "# freq_bins['precip'] = np.arange(0,53,5)\n",
    "freq_bins['precip'] = np.array([0,5,10,25,50,75,100,200])\n",
    "freq_bins['t2m']    = np.arange(-15,45,5)\n",
    "str_bins  = {}\n",
    "str_bins['precip']  = get_bins_interval(freq_bins['precip'])\n",
    "str_bins['t2m']  = get_bins_interval(freq_bins['t2m'])\n",
    "\n",
    "# 创建每个区域的df\n",
    "df_plot = {}\n",
    "for vartype in partial_mean.keys():\n",
    "    df_plot[vartype] = {}\n",
    "    for iregion in partial_mean[vartype].keys():\n",
    "        df_plot[vartype][iregion] = pd.DataFrame(\n",
    "            columns=pd.Index([\"obs\", \"vr\",\"rcm\"], name='freq bins'),\n",
    "            index=str_bins[vartype])\n",
    "\n",
    "for vartype in partial_mean.keys():\n",
    "    for iregion in partial_mean[vartype].keys():\n",
    "        for imod in partial_mean[vartype][iregion].keys():\n",
    "                var_np = partial_mean[vartype][iregion][imod].values\n",
    "                # 对于降水，去除掉日降水小于1的部分\n",
    "                if (vartype == 'precip'):\n",
    "                    var_np = np.where(var_np<=0.1, np.nan, var_np)\n",
    "                histogram = count_freq_every_gird(arr = var_np, bins_1d = freq_bins[vartype])\n",
    "                # add to df\n",
    "                df_plot[vartype][iregion][imod] = histogram"
   ]
  },
  {
   "cell_type": "markdown",
   "metadata": {},
   "source": [
    "### 计算 type2 准备 bins密集的曲线图"
   ]
  },
  {
   "cell_type": "code",
   "execution_count": null,
   "metadata": {},
   "outputs": [],
   "source": [
    "# 进行频率估计的数据准备\n",
    "var_hist   = copy.deepcopy(partial_mean) # 存放直方图\n",
    "var_kernel = copy.deepcopy(partial_mean) # 存放核密度估计结果\n",
    "var_bins   = copy.deepcopy(partial_mean) # 存放x轴 bins\n",
    "\n",
    "# 制作bins区间、区间标签\n",
    "freq_bins = {}\n",
    "# freq_bins['precip'] = np.arange(0,53,5)\n",
    "freq_bins['precip'] = np.arange(0,205,1)\n",
    "freq_bins['t2m']    = np.arange(-15,45,1)\n",
    "str_bins  = {}\n",
    "str_bins['precip']  = get_bins_interval(freq_bins['precip'])\n",
    "str_bins['t2m']  = get_bins_interval(freq_bins['t2m'])\n",
    "\n",
    "# 创建每个区域的df\n",
    "df_plot = {}\n",
    "for vartype in partial_mean.keys():\n",
    "    df_plot[vartype] = {}\n",
    "    for iregion in partial_mean[vartype].keys():\n",
    "        df_plot[vartype][iregion] = pd.DataFrame(\n",
    "            columns=pd.Index([\"obs\", \"vr\",\"rcm\"], name='freq bins'),\n",
    "            index=freq_bins[vartype][0:-1])\n",
    "\n",
    "# for vartype in ['precip','t2m']:\n",
    "for vartype in partial_mean.keys():\n",
    "    for iregion in partial_mean[vartype].keys():\n",
    "        for imod in partial_mean[vartype][iregion].keys():\n",
    "                var_np = partial_mean[vartype][iregion][imod].values\n",
    "                # 对于降水，去除掉日降水小于1的部分\n",
    "                if (vartype == 'precip'):\n",
    "                    var_np = np.where(var_np<0.1, np.nan, var_np)\n",
    "                histogram = count_freq_every_gird(arr = var_np, bins_1d = freq_bins[vartype])\n",
    "                # add to df\n",
    "                df_plot[vartype][iregion][imod] = histogram\n",
    "        # break"
   ]
  },
  {
   "cell_type": "markdown",
   "metadata": {},
   "source": [
    "## 绘图部分"
   ]
  },
  {
   "cell_type": "markdown",
   "metadata": {},
   "source": [
    "### type1 绘制频率bar图"
   ]
  },
  {
   "cell_type": "code",
   "execution_count": null,
   "metadata": {},
   "outputs": [],
   "source": [
    "# fig, axs = pplt.subplots(ncols = 3, nrows = 4, wspace=0, hspace=(0,1,0), spanx=True, spany=True, share=3, figsize = (12,8))\n",
    "fig, axs = pplt.subplots(ncols = 3, nrows = 4, share = 0)\n",
    "# wspace hspace设置宽度， span share共享坐标轴\n",
    "axs_index = 0\n",
    "\n",
    "for iregion in ['NE', 'NC', 'NWC', 'SC', 'SW', 'YZ']:\n",
    "    # precip\n",
    "    barplot = axs[axs_index].bar(df_plot['precip'][iregion], cycle = ['g','r','b'])\n",
    "    axs[axs_index].format(title = f'{iregion}' ,titleweight='bold',titleloc='uc')\n",
    "    # t2m\n",
    "    if (iregion in ['NE','NC']):\n",
    "        barplot = axs[axs_index+6].bar(df_plot['t2m'][iregion], cycle = ['g','r','b'])\n",
    "    elif (iregion in ['SC','SW', 'YZ']):\n",
    "        barplot = axs[axs_index+6].bar(df_plot['t2m'][iregion], cycle = ['g','r','b'])\n",
    "    elif (iregion in ['NWC']):\n",
    "        barplot = axs[axs_index+6].bar(df_plot['t2m'][iregion], cycle = ['g','r','b'])\n",
    "\n",
    "    axs[axs_index + 6].format(title = f'{iregion}' ,titleweight='bold',titleloc='uc')\n",
    "\n",
    "    # 添加百分号标签，单独设置ticks（把小数转化成百分数）\n",
    "    # axs[axs_index].set_yticklabels(['{:.1f}%'.format(x*100) for x in axs[axs_index].get_yticks()]) \n",
    "    axs_index = axs_index + 1\n",
    "    # break\n",
    "\n",
    "axs[0].format(ltitle = 'daily precipitation')\n",
    "axs[4].format(xlabel = \"units:[mm/d]\")\n",
    "axs[6].format(ltitle = 'surface air temperature')\n",
    "axs[10].format(xlabel = \"units:[\" + r\"$^{\\circ}C$\" + \"]\")\n",
    "axs[:,0].format(ylabel = \"frequency\")\n",
    "axs.format(\n",
    "abc = True,\n",
    "abcloc=\"ul\",\n",
    "# ylim = (0,0.95),\n",
    "ylocator = 0.05,\n",
    "xticklabelsize = 8,\n",
    "xrotation = 90.,\n",
    "# leftlabels=('daily precipitation', '', 'surface air temperature',''),\n",
    "# xlim = (0,23),\n",
    "# xlocator = 5. ,\n",
    "# xminorlocator = 1. ,\n",
    "# suptitle = \"daily precipitation\",\n",
    "# ylabel = \"Frequency\",\n",
    "# xlabel = \"domain average precipitation (mm)\"\n",
    ")\n",
    "# axs[0,:].format(ylim = (0,0.6))\n",
    "# axs[1,:].format(ylim = (0,0.39))\n",
    "# ----- limit setting ------\n",
    "# axs[0,:].format(ylim = (0.,0.24))\n",
    "# axs[1,:].format(ylim = (0.,0.38))\n",
    "# axs[2,:].format(ylim = (0.,0.36))\n",
    "# axs[3,:].format(ylim = (0.,0.42))\n",
    "# axs[1,-1].format(ylim = (0.,0.22))\n",
    "# ----- add legend -----\n",
    "axs[2].legend(barplot, loc='lr', ncols=1, frame=False, labels = ['OBS','VR','RCM'], title = '')\n",
    "\n",
    "# saving figs\n",
    "# plt.savefig(\"./output_pic/pre&t2m_SubregionsFreq.2022.02.17.png\", dpi = 600, facecolor = \"white\")"
   ]
  },
  {
   "cell_type": "markdown",
   "metadata": {},
   "source": [
    "### type 2 绘制加密的曲线图"
   ]
  },
  {
   "cell_type": "code",
   "execution_count": null,
   "metadata": {},
   "outputs": [],
   "source": [
    "fig, axs = pplt.subplots(ncols = 3, nrows = 4, share = 0, width = '190mm',height = '230mm')\n",
    "\n",
    "# ----- 绘制气温 -----#\n",
    "axs_ind = 0\n",
    "for iregion in ['NE', 'NC', 'NWC', 'SC', 'SW', 'YZ']:\n",
    "    curve_plot = axs[axs_ind].plot(df_plot['t2m'][iregion][:], cycle = ['g','r','b'])\n",
    "    axs[axs_ind].format(title = f'{iregion}' ,titleweight='bold',titleloc='uc')\n",
    "    axs_ind +=1\n",
    "\n",
    "axs[0,0:2].format(xlim = (-10.,36.))\n",
    "axs[0,2].format(xlim = (-10.,40.))\n",
    "axs[1,:].format(xlim = (10.,35.))\n",
    "\n",
    "# ----- 绘制降水 ----- #\n",
    "axs_ind = 6\n",
    "for iregion in ['NE', 'NC', 'NWC', 'SC', 'SW', 'YZ']:\n",
    "    curve_plot = axs[axs_ind].plot(df_plot['precip'][iregion][1:50], cycle = ['g','r','b'])\n",
    "    axs[axs_ind].format(title = f'{iregion}' ,titleweight='bold',titleloc='uc')\n",
    "    axs_ind +=1\n",
    "\n",
    "# 绘制极端值的小图\n",
    "axs_ind = 6\n",
    "axs_small = {}\n",
    "for iregion in ['NE', 'NC', 'NWC', 'SC', 'SW', 'YZ']:\n",
    "    axs_small[iregion] = axs[axs_ind].inset_axes(bounds = (0.52, 0.42, 0.45, 0.45), transform = 'axes', zoom = False)\n",
    "    curve_plot = axs_small[iregion].plot(df_plot['precip'][iregion][50:100], cycle = ['g','r','b'])\n",
    "    axs_small[iregion].format(yformatter = 'sci',xlocator = [60,70,80,90], yscale = 'log')\n",
    "    axs_ind +=1\n",
    "axs_small['NWC'].format(yscale = 'linear',ylim = (0,2*1e-5),ylocator = [1e-5,2*1e-5], yformatter = 'sci')\n",
    "\n",
    "# 绘制初始值的小图 绘制对数轴最左边难以体现的差异\n",
    "axs_ind = 6\n",
    "axs_small_init = {}\n",
    "for iregion in ['NE', 'NC', 'NWC', 'SC', 'SW', 'YZ']:\n",
    "    axs_small_init[iregion] = axs[axs_ind].inset_axes(bounds = (0.1, 0.1, 0.28, 0.28), transform = 'axes', zoom = False)\n",
    "    curve_plot = axs_small_init[iregion].bar(df_plot['precip'][iregion][1:11], cycle = ['g','r','b'])\n",
    "    axs_small_init[iregion].format(xlocator = np.arange(1,12,2), xminorlocator = np.arange(1,12,2), yscale = 'linear')\n",
    "    axs_ind +=1\n",
    "\n",
    "\n",
    "# axs.format(yscale = 'linear', xscale = 'linear',xlocator = 10,yformatter='sci', abc = True)\n",
    "axs.format(abc = True, abcloc = 'ul')\n",
    "axs[6:13].format(yscale = 'log', xscale = 'linear',xlocator = 10, ylim = (1e-5,1e0), ylocator = np.array([1e-4,1e-3,1e-2,1e-1]),yformatter='sci')\n",
    "# axs[0:6].format(yscale = 'linear', xscale = 'linear',xlocator = 10, ylim = (1e-5,1e-1) )\n",
    "axs[6].format(ylim = (10**(-3.6),1e-1))\n",
    "axs[7].format(ylim = (1e-3,1e-1))\n",
    "axs[9].format(ylim = (1e-3,1e-1))\n",
    "axs[10].format(ylim = (10**(-3.5),1e-1))\n",
    "axs[11].format(ylim = (1e-3,1e-1))\n",
    "\n",
    "# cited title\n",
    "axs[1,2].format(title = \"YHR\")\n",
    "axs[3,2].format(title = \"YHR\")\n",
    "\n",
    "# ----- 添加总标题 -----#\n",
    "axs[0,2].legend(curve_plot, loc='lc', ncols=1, frame=False, labels = ['OBS','VR','RCM'], title = '', prop = {\"size\":8})\n",
    "axs[0].format(ltitle = 'T2m ' + r'[$^\\circ C$]')\n",
    "axs[6].format(ltitle = 'daily precipitation [mm/d]')\n",
    "\n",
    "plt.savefig(\"./output_pic/pre&t2m_SubregionsFreq_LogCurve.2022.05.02.jpg\", dpi = 600, facecolor = \"white\", bbox_inches='tight')"
   ]
  }
 ],
 "metadata": {
  "interpreter": {
   "hash": "5d125e8d1f62ef65bf14791ddcc54379be6b4b51969987cfa8a226a16aec3b4e"
  },
  "kernelspec": {
   "display_name": "Python 3.8.2 ('proplot0528')",
   "language": "python",
   "name": "python3"
  },
  "language_info": {
   "codemirror_mode": {
    "name": "ipython",
    "version": 3
   },
   "file_extension": ".py",
   "mimetype": "text/x-python",
   "name": "python",
   "nbconvert_exporter": "python",
   "pygments_lexer": "ipython3",
   "version": "3.8.2"
  },
  "orig_nbformat": 4
 },
 "nbformat": 4,
 "nbformat_minor": 2
}

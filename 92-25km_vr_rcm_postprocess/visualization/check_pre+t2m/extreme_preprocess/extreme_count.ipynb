{
 "cells": [
  {
   "cell_type": "code",
   "execution_count": 1,
   "metadata": {},
   "outputs": [],
   "source": [
    "import numpy as np\n",
    "import matplotlib.pyplot as plt\n",
    "import xarray as xr\n",
    "import pandas as pd\n",
    "import proplot as pplt\n",
    "import xclim as xclim"
   ]
  },
  {
   "cell_type": "code",
   "execution_count": 2,
   "metadata": {},
   "outputs": [
    {
     "data": {
      "text/plain": [
       "<xclim.core.options.set_options at 0x2b694b047b80>"
      ]
     },
     "execution_count": 2,
     "metadata": {},
     "output_type": "execute_result"
    }
   ],
   "source": [
    "xclim.core.options.set_options(data_validation='log') # 关闭CF文件规范的检查\n",
    "xclim.set_options(check_missing=\"pct\", missing_options={\"pct\": {\"tolerance\": 1.}}) # 计算一年中的片段（例如4-8月），关闭NAN的使用"
   ]
  },
  {
   "cell_type": "markdown",
   "metadata": {},
   "source": [
    "# XCLIM指标计算\n",
    "2021.12.30\n",
    "\n",
    "renew:\n",
    "- 2021.01.05\n",
    "    \n",
    "暂时不考虑百分比指数的绘制\n",
    "\n",
    "- 2022.01.10\n",
    "\n",
    "如果处理不完整的一年存在NAN的问题，需要扩充非整年的数据到整年上，然后交给SCLIM处理，并且先关闭xclim的nan的容忍检查"
   ]
  },
  {
   "cell_type": "code",
   "execution_count": 3,
   "metadata": {},
   "outputs": [],
   "source": [
    "def expand_timecoords(da, new_time_coords):\n",
    "    \"\"\"\n",
    "用来给xclim的输出结果进行前处理的部分，扩展3D变量的时间维，以免错误识别了NAN，将一年中不完整的部分填充为NAN\n",
    "da dims: time lat lon\n",
    "    \"\"\"\n",
    "    lat = da.lat\n",
    "    lon = da.lon\n",
    "    allyeartime = new_time_coords\n",
    "    da_newtime  = xr.DataArray(name = 'empty3dvar', coords = {\"time\":allyeartime, \"lat\":lat, \"lon\":lon}, dims = ['time','lat','lon'])\n",
    "    da_newtime.loc[{\"time\":da.time}] = da\n",
    "    return da_newtime"
   ]
  },
  {
   "cell_type": "markdown",
   "metadata": {},
   "source": [
    "## 降水部分"
   ]
  },
  {
   "cell_type": "markdown",
   "metadata": {},
   "source": [
    "### 数据读入\n",
    "日降水数据，修改坐标名称"
   ]
  },
  {
   "cell_type": "code",
   "execution_count": null,
   "metadata": {},
   "outputs": [],
   "source": [
    "dir_in          = \"/raid52/yycheng/MPAS/REFERENCE/TEMP_DATA_large/pre/ordata/\"\n",
    "filename_obs    = \"obsmerge_pre_98-17.nc\"\n",
    "filename_vr     = \"vr_pre_98-17.nc\"\n",
    "filename_rcm    = \"rcm_pre_98-17.nc\"\n",
    "\n",
    "ds_or = {}\n",
    "ds_or['obs']    = xr.open_dataset(dir_in + filename_obs)\n",
    "ds_or['vr']     = xr.open_dataset(dir_in + filename_vr)\n",
    "ds_or['rcm']    = xr.open_dataset(dir_in + filename_rcm  )\n",
    "# 提取变量\n",
    "var = {}\n",
    "var['obs']      = ds_or['obs']['premerge']#[:,  :, :]\n",
    "var['vr']       = ds_or['vr']['precip_MPAS']\n",
    "var['rcm']      = ds_or['rcm']['precip_MPAS']\n",
    "\n",
    "var['obs'] = var['obs'].reset_coords(names = 'lev', drop = True) # 去除掉obs中多余的lev coords\n",
    "\n",
    "# change coords\n",
    "var_list = ['obs', 'vr', 'rcm']\n",
    "for i in var_list:\n",
    "    rename_dict = dict(zip(var[i].coords.keys(), var['obs'].coords.keys()))\n",
    "#     # show converting coords\n",
    "    for rename_i in rename_dict:\n",
    "        print(rename_i + \" -----converting to----- \" + rename_dict[rename_i])\n",
    "\n",
    "    var[i] = var[i].rename(rename_dict)\n",
    "    var[i]._coords = var['obs']._coords\n",
    "    var[i] = var[i].rename(i)"
   ]
  },
  {
   "cell_type": "markdown",
   "metadata": {},
   "source": [
    "### 极端指数的计算"
   ]
  },
  {
   "cell_type": "code",
   "execution_count": null,
   "metadata": {},
   "outputs": [],
   "source": [
    "def calc_extreme_pre( var_temp, fillna = -1e30 ):\n",
    "    \"\"\"\n",
    "    输入一个降水的DataArray，使用xlim计算下面的极端气候指数，freq = 'MS'\n",
    "    \"\"\"\n",
    "    import xclim as xclim\n",
    "    xclim.core.options.set_options(data_validation='log')\n",
    "    \n",
    "    var_temp = var_temp.rename(\"pr\")\n",
    "    var_temp.attrs['units'] = \"mm/d\"\n",
    "\n",
    "    dict_out_temp = {}\n",
    "\n",
    "    # R95p\n",
    "    # obs_temp_nandrydays = xr.where(var_temp < 1.0, np.nan, var_temp)\n",
    "    # obs_temp_95th = obs_temp_nandrydays.reduce(np.nanpercentile, dim='time', q=95)\n",
    "    # obs_temp_95th.attrs['units'] = \"mm/d\"\n",
    "    # R95p = xclim.indicators.icclim.R95p(var_temp, obs_temp_95th, freq='AS')\n",
    "\n",
    "    # create datset to store variables\n",
    "    # dict_out_temp = xr.Dataset(coords = R95p.coords)\n",
    "    # dict_out_temp['R95p'] = R95p\n",
    "\n",
    "    # RX5day\n",
    "    dict_out_temp['RX5day'] = xclim.indicators.icclim.RX5day(var_temp, freq='AS').fillna(fillna)\n",
    "    # SDII\n",
    "    dict_out_temp['SDII'] = xclim.indicators.icclim.SDII(var_temp, freq='AS').fillna(fillna)\n",
    "    # CDD\n",
    "    dict_out_temp['CDD'] = xclim.indicators.icclim.CDD(var_temp, freq='AS').fillna(fillna)\n",
    "    # CWD\n",
    "    dict_out_temp['CWD'] = xclim.indicators.icclim.CWD(var_temp, freq='AS').fillna(fillna)\n",
    "\n",
    "    first_item = True\n",
    "    for ikey in dict_out_temp:\n",
    "        if (first_item):\n",
    "            ds_out_temp = xr.Dataset(coords = dict_out_temp[ikey].coords)\n",
    "            first_item = False\n",
    "        ds_out_temp[ikey] = dict_out_temp[ikey]\n",
    "        \n",
    "    return ds_out_temp"
   ]
  },
  {
   "cell_type": "code",
   "execution_count": null,
   "metadata": {},
   "outputs": [],
   "source": [
    "# for mod_name in ['obs']:\n",
    "for mod_name in var:\n",
    "    print(\"dealing \" + mod_name)\n",
    "    mod_time  = var[mod_name]\n",
    "    var_4to5 = var[mod_name].isel({\"time\":mod_time.time.dt.month.isin([4,5])})\n",
    "    var_6to8 = var[mod_name].isel({\"time\":mod_time.time.dt.month.isin([6,7,8])})\n",
    "\n",
    "    allyeartime = pd.date_range('1998-01-01', '2017-12-31', freq = 'D')\n",
    "    allyeartime = xr.DataArray(allyeartime, name = 'time', coords = {\"time\":allyeartime}, dims = 'time')\n",
    "\n",
    "    var_4to5_expand = expand_timecoords(var_4to5, allyeartime)\n",
    "    var_6to8_expand = expand_timecoords(var_6to8, allyeartime)\n",
    "\n",
    "    ds_out_temp_4to5 = calc_extreme_pre(var_4to5_expand, -1e30)\n",
    "    ds_out_temp_6to8 = calc_extreme_pre(var_6to8_expand, -1e30)\n",
    "    \n",
    "    comp = {'_FillValue' : -1e30}\n",
    "    encoding = {var:comp for var in list(ds_out_temp_4to5.data_vars)}\n",
    "\n",
    "    ds_out_temp_4to5.to_netcdf(\"/raid52/yycheng/MPAS/REFERENCE/TEMP_DATA_large/pre/extreme/extreme_\"+mod_name+\"_4-5.nc\", encoding = encoding)\n",
    "    ds_out_temp_6to8.to_netcdf(\"/raid52/yycheng/MPAS/REFERENCE/TEMP_DATA_large/pre/extreme/extreme_\"+mod_name+\"_6-8.nc\", encoding = encoding)\n",
    "\n",
    "    del(ds_out_temp_4to5)\n",
    "    del(ds_out_temp_6to8)"
   ]
  },
  {
   "cell_type": "markdown",
   "metadata": {},
   "source": [
    "### 降水部分的检查\n",
    "2022.01.08 检查已经结束\n",
    "\n",
    "原始输出的dataset含有CCD CWD两个 units attrs 为 days 的数据；dtype=“float64”看上去是一个以 天数 为单位的整数\n",
    "\n",
    "将上述dataset输出到netcdf之后，再使用xarray读入，会将 dtype为float64的天数 识别为 *‘<m8[ns]’* 的时间dtype\n",
    "\n",
    "需要再 open_dataset 中添加参数 decode_times=None，将 天数 这个时间单位 编码为数字\n",
    "\n",
    "官方的文档说：\n",
    "```\n",
    "ecode_times ( bool, optional ) -- 如果为 True，则将以标准 NetCDF 日期时间格式编码的时间解码为日期时间对象。否则，将它们编码为数字。并非所有后端都支持此关键字。\n",
    "```"
   ]
  },
  {
   "cell_type": "code",
   "execution_count": null,
   "metadata": {},
   "outputs": [],
   "source": [
    "comp = {'_FillValue' : -1e30}\n",
    "encoding = {var:comp for var in list(ds_out_temp_4to5.data_vars)}\n",
    "# encoding = {var:comp for var in ['CDD']}"
   ]
  },
  {
   "cell_type": "code",
   "execution_count": null,
   "metadata": {},
   "outputs": [],
   "source": [
    "ds_out_temp_4to5['CDD'].attrs['units'] = \"days but float64\""
   ]
  },
  {
   "cell_type": "code",
   "execution_count": null,
   "metadata": {},
   "outputs": [],
   "source": [
    "ds_out_temp_4to5.to_netcdf(\"/raid52/yycheng/MPAS/REFERENCE/TEMP_DATA_large/pre/extreme/extreme_testwrite_obs_4-5.nc\",\\\n",
    "    encoding = encoding)"
   ]
  },
  {
   "cell_type": "markdown",
   "metadata": {},
   "source": [
    "## 气温部分"
   ]
  },
  {
   "cell_type": "code",
   "execution_count": 4,
   "metadata": {},
   "outputs": [],
   "source": [
    "dir_in = \"/raid52/yycheng/MPAS/REFERENCE/TEMP_DATA/mask_t2m/mask_res/\"\n",
    "filename_obs  = \"mask_sel_CN05.1_Tm_1961_2018_daily_025x025.nc\"\n",
    "filename_vr     = \"mask_mean_t2m_98-17_VR.nc\"\n",
    "filename_rcm    = \"mask_mean_t2m_98-17_RCM.nc\"\n",
    "\n",
    "# t2m mean\n",
    "ds_tm = {}\n",
    "ds_tm['obs'] = xr.open_dataset(dir_in + filename_obs)['tm']\n",
    "ds_tm['vr']     = xr.open_dataset(dir_in + filename_vr)['t2m'] - 273.15\n",
    "ds_tm['rcm']    = xr.open_dataset(dir_in + filename_rcm  )['t2m'] - 273.15\n",
    "\n",
    "# t2m max\n",
    "filename_obs_max    = \"mask_sel_CN05.1_Tmax_1961_2018_daily_025x025.nc\"\n",
    "filename_vr_max     = \"mask_max_t2m_98-17_VR.nc\"\n",
    "filename_rcm_max    = \"mask_max_t2m_98-17_RCM.nc\"\n",
    "\n",
    "ds_max = {}\n",
    "ds_max['obs'] = xr.open_dataset(dir_in + filename_obs_max)['tmax']\n",
    "ds_max['vr']     = xr.open_dataset(dir_in + filename_vr_max)['t2m'] - 273.15\n",
    "ds_max['rcm']    = xr.open_dataset(dir_in + filename_rcm_max)['t2m'] - 273.15\n",
    "\n",
    "# min temp\n",
    "filename_obs_min    = \"mask_sel_CN05.1_Tmin_1961_2018_daily_025x025.nc\"\n",
    "filename_vr_min     = \"mask_min_t2m_98-17_VR.nc\"\n",
    "filename_rcm_min    = \"mask_min_t2m_98-17_RCM.nc\"\n",
    "\n",
    "ds_min = {}\n",
    "ds_min['obs'] = xr.open_dataset(dir_in + filename_obs_min)['tmin']\n",
    "ds_min['vr']     = xr.open_dataset(dir_in + filename_vr_min)['t2m'] - 273.15\n",
    "ds_min['rcm']    = xr.open_dataset(dir_in + filename_rcm_min)['t2m'] - 273.15\n",
    "\n"
   ]
  },
  {
   "cell_type": "code",
   "execution_count": 5,
   "metadata": {},
   "outputs": [
    {
     "name": "stdout",
     "output_type": "stream",
     "text": [
      "time -----converting to----- time\n",
      "lon -----converting to----- lon\n",
      "lat -----converting to----- lat\n",
      "Time -----converting to----- time\n",
      "longitude -----converting to----- lon\n",
      "latitude -----converting to----- lat\n",
      "Time -----converting to----- time\n",
      "longitude -----converting to----- lon\n",
      "latitude -----converting to----- lat\n",
      "time -----converting to----- time\n",
      "lon -----converting to----- lon\n",
      "lat -----converting to----- lat\n",
      "Time -----converting to----- time\n",
      "longitude -----converting to----- lon\n",
      "latitude -----converting to----- lat\n",
      "Time -----converting to----- time\n",
      "longitude -----converting to----- lon\n",
      "latitude -----converting to----- lat\n",
      "time -----converting to----- time\n",
      "lon -----converting to----- lon\n",
      "lat -----converting to----- lat\n",
      "Time -----converting to----- time\n",
      "longitude -----converting to----- lon\n",
      "latitude -----converting to----- lat\n",
      "Time -----converting to----- time\n",
      "longitude -----converting to----- lon\n",
      "latitude -----converting to----- lat\n"
     ]
    }
   ],
   "source": [
    "# change coords\n",
    "var_list = ['obs', 'vr', 'rcm']\n",
    "\n",
    "for var in [ds_min, ds_max, ds_tm]:\n",
    "    for i in var_list:\n",
    "        rename_dict = dict(zip(var[i].coords.keys(), var['obs'].coords.keys()))\n",
    "    #     # show converting coords\n",
    "        for rename_i in rename_dict:\n",
    "            print(rename_i + \" -----converting to----- \" + rename_dict[rename_i])\n",
    "\n",
    "        var[i] = var[i].rename(rename_dict)\n",
    "        var[i]._coords = var['obs']._coords\n",
    "        var[i] = var[i].rename(i)"
   ]
  },
  {
   "cell_type": "markdown",
   "metadata": {},
   "source": [
    "### 气温极端指数计算"
   ]
  },
  {
   "cell_type": "code",
   "execution_count": 10,
   "metadata": {},
   "outputs": [],
   "source": [
    "def calc_extreme_t2m( varmin_temp, varmax_temp, varmean_temp ):\n",
    "    \"\"\"\n",
    "    输入一个气温的DataArray，使用xlim计算下面的极端气候指数，freq = 'AS'\n",
    "    \"\"\"\n",
    "    import xclim as xclim\n",
    "    xclim.core.options.set_options(data_validation='log')\n",
    "    \n",
    "    for imod in [varmin_temp, varmax_temp,varmean_temp]:\n",
    "        imod = imod.rename(\"t2m\")\n",
    "        imod.attrs['units'] = \"degC\"\n",
    "\n",
    "    dict_out_temp = {}\n",
    "\n",
    "    dict_out_temp['daily_temperature_range'] = xclim.indicators.atmos.daily_temperature_range(varmin_temp, varmax_temp, freq = \"AS\")    \n",
    "\n",
    "    dict_out_temp['daily_temperature_range_variability'] = xclim.indicators.atmos.daily_temperature_range_variability(varmin_temp, varmax_temp, freq = \"AS\")\n",
    "    # dict_out_temp['heat_wave_frequency']     = xclim.indicators.atmos.heat_wave_frequency(varmin_temp, varmax_temp, freq = \"AS\",\\\n",
    "    # thresh_tasmin = '22.0 degC', thresh_tasmax = '30.0 degC', window = 3)\n",
    "\n",
    "    dict_out_temp['heat_wave_total_length'] = xclim.indices.heat_wave_total_length(varmin_temp, varmax_temp, freq = \"AS\",\\\n",
    "    thresh_tasmin = '-273.15 degC', thresh_tasmax = '35.0 degC', window = 3)\n",
    "    \n",
    "    dict_out_temp['heat_wave_max_length']    = xclim.indicators.atmos.heat_wave_max_length(varmin_temp, varmax_temp, freq = \"AS\",\\\n",
    "    thresh_tasmin = '-273.15 degC', thresh_tasmax = '35.0 degC', window = 3)\n",
    "    \n",
    "\n",
    "\n",
    "    # dict_out_temp['first_day_above']         = xclim.indicators.atmos.first_day_above( varmin_temp, freq = 'AS',\\\n",
    "    # thresh = '22 degC', after_date = '04-01', window = 1)\n",
    "    first_item = True\n",
    "    for ikey in dict_out_temp:\n",
    "        if (first_item):\n",
    "            ds_out_temp = xr.Dataset(coords = dict_out_temp[ikey].coords)\n",
    "            first_item = False\n",
    "        ds_out_temp[ikey] = dict_out_temp[ikey]\n",
    "        \n",
    "    return ds_out_temp\n",
    "\n",
    "def wrapper(func, args): # without star\n",
    "    \"\"\"\n",
    "    通过list, 批量传入参数\n",
    "    \"\"\"\n",
    "    return func(*args)"
   ]
  },
  {
   "cell_type": "code",
   "execution_count": 11,
   "metadata": {},
   "outputs": [
    {
     "name": "stdout",
     "output_type": "stream",
     "text": [
      "dealing obs\n"
     ]
    },
    {
     "name": "stderr",
     "output_type": "stream",
     "text": [
      "/m2data2/yycheng/anaconda3/envs/proplot0528/lib/python3.8/site-packages/xclim/core/cfchecks.py:39: UserWarning: Variable does not have a `cell_methods` attribute.\n",
      "  _check_cell_methods(\n",
      "/m2data2/yycheng/anaconda3/envs/proplot0528/lib/python3.8/site-packages/xclim/core/cfchecks.py:43: UserWarning: Variable does not have a `standard_name` attribute.\n",
      "  check_valid(vardata, \"standard_name\", data[\"standard_name\"])\n",
      "/m2data2/yycheng/anaconda3/envs/proplot0528/lib/python3.8/site-packages/xclim/core/cfchecks.py:39: UserWarning: Variable does not have a `cell_methods` attribute.\n",
      "  _check_cell_methods(\n",
      "/m2data2/yycheng/anaconda3/envs/proplot0528/lib/python3.8/site-packages/xclim/core/cfchecks.py:43: UserWarning: Variable does not have a `standard_name` attribute.\n",
      "  check_valid(vardata, \"standard_name\", data[\"standard_name\"])\n",
      "/m2data2/yycheng/anaconda3/envs/proplot0528/lib/python3.8/site-packages/xclim/core/cfchecks.py:39: UserWarning: Variable does not have a `cell_methods` attribute.\n",
      "  _check_cell_methods(\n",
      "/m2data2/yycheng/anaconda3/envs/proplot0528/lib/python3.8/site-packages/xclim/core/cfchecks.py:43: UserWarning: Variable does not have a `standard_name` attribute.\n",
      "  check_valid(vardata, \"standard_name\", data[\"standard_name\"])\n",
      "/m2data2/yycheng/anaconda3/envs/proplot0528/lib/python3.8/site-packages/xclim/core/cfchecks.py:39: UserWarning: Variable does not have a `cell_methods` attribute.\n",
      "  _check_cell_methods(\n",
      "/m2data2/yycheng/anaconda3/envs/proplot0528/lib/python3.8/site-packages/xclim/core/cfchecks.py:43: UserWarning: Variable does not have a `standard_name` attribute.\n",
      "  check_valid(vardata, \"standard_name\", data[\"standard_name\"])\n",
      "/m2data2/yycheng/anaconda3/envs/proplot0528/lib/python3.8/site-packages/xclim/core/cfchecks.py:39: UserWarning: Variable does not have a `cell_methods` attribute.\n",
      "  _check_cell_methods(\n",
      "/m2data2/yycheng/anaconda3/envs/proplot0528/lib/python3.8/site-packages/xclim/core/cfchecks.py:43: UserWarning: Variable does not have a `standard_name` attribute.\n",
      "  check_valid(vardata, \"standard_name\", data[\"standard_name\"])\n",
      "/m2data2/yycheng/anaconda3/envs/proplot0528/lib/python3.8/site-packages/xclim/core/cfchecks.py:39: UserWarning: Variable does not have a `cell_methods` attribute.\n",
      "  _check_cell_methods(\n",
      "/m2data2/yycheng/anaconda3/envs/proplot0528/lib/python3.8/site-packages/xclim/core/cfchecks.py:43: UserWarning: Variable does not have a `standard_name` attribute.\n",
      "  check_valid(vardata, \"standard_name\", data[\"standard_name\"])\n"
     ]
    },
    {
     "name": "stdout",
     "output_type": "stream",
     "text": [
      "dealing vr\n"
     ]
    },
    {
     "name": "stderr",
     "output_type": "stream",
     "text": [
      "/m2data2/yycheng/anaconda3/envs/proplot0528/lib/python3.8/site-packages/xclim/core/cfchecks.py:39: UserWarning: Variable does not have a `cell_methods` attribute.\n",
      "  _check_cell_methods(\n",
      "/m2data2/yycheng/anaconda3/envs/proplot0528/lib/python3.8/site-packages/xclim/core/cfchecks.py:43: UserWarning: Variable does not have a `standard_name` attribute.\n",
      "  check_valid(vardata, \"standard_name\", data[\"standard_name\"])\n",
      "/m2data2/yycheng/anaconda3/envs/proplot0528/lib/python3.8/site-packages/xclim/core/cfchecks.py:39: UserWarning: Variable does not have a `cell_methods` attribute.\n",
      "  _check_cell_methods(\n",
      "/m2data2/yycheng/anaconda3/envs/proplot0528/lib/python3.8/site-packages/xclim/core/cfchecks.py:43: UserWarning: Variable does not have a `standard_name` attribute.\n",
      "  check_valid(vardata, \"standard_name\", data[\"standard_name\"])\n",
      "/m2data2/yycheng/anaconda3/envs/proplot0528/lib/python3.8/site-packages/xclim/core/cfchecks.py:39: UserWarning: Variable does not have a `cell_methods` attribute.\n",
      "  _check_cell_methods(\n",
      "/m2data2/yycheng/anaconda3/envs/proplot0528/lib/python3.8/site-packages/xclim/core/cfchecks.py:43: UserWarning: Variable does not have a `standard_name` attribute.\n",
      "  check_valid(vardata, \"standard_name\", data[\"standard_name\"])\n",
      "/m2data2/yycheng/anaconda3/envs/proplot0528/lib/python3.8/site-packages/xclim/core/cfchecks.py:39: UserWarning: Variable does not have a `cell_methods` attribute.\n",
      "  _check_cell_methods(\n",
      "/m2data2/yycheng/anaconda3/envs/proplot0528/lib/python3.8/site-packages/xclim/core/cfchecks.py:43: UserWarning: Variable does not have a `standard_name` attribute.\n",
      "  check_valid(vardata, \"standard_name\", data[\"standard_name\"])\n",
      "/m2data2/yycheng/anaconda3/envs/proplot0528/lib/python3.8/site-packages/xclim/core/cfchecks.py:39: UserWarning: Variable does not have a `cell_methods` attribute.\n",
      "  _check_cell_methods(\n",
      "/m2data2/yycheng/anaconda3/envs/proplot0528/lib/python3.8/site-packages/xclim/core/cfchecks.py:43: UserWarning: Variable does not have a `standard_name` attribute.\n",
      "  check_valid(vardata, \"standard_name\", data[\"standard_name\"])\n",
      "/m2data2/yycheng/anaconda3/envs/proplot0528/lib/python3.8/site-packages/xclim/core/cfchecks.py:39: UserWarning: Variable does not have a `cell_methods` attribute.\n",
      "  _check_cell_methods(\n",
      "/m2data2/yycheng/anaconda3/envs/proplot0528/lib/python3.8/site-packages/xclim/core/cfchecks.py:43: UserWarning: Variable does not have a `standard_name` attribute.\n",
      "  check_valid(vardata, \"standard_name\", data[\"standard_name\"])\n"
     ]
    },
    {
     "name": "stdout",
     "output_type": "stream",
     "text": [
      "dealing rcm\n"
     ]
    },
    {
     "name": "stderr",
     "output_type": "stream",
     "text": [
      "/m2data2/yycheng/anaconda3/envs/proplot0528/lib/python3.8/site-packages/xclim/core/cfchecks.py:39: UserWarning: Variable does not have a `cell_methods` attribute.\n",
      "  _check_cell_methods(\n",
      "/m2data2/yycheng/anaconda3/envs/proplot0528/lib/python3.8/site-packages/xclim/core/cfchecks.py:43: UserWarning: Variable does not have a `standard_name` attribute.\n",
      "  check_valid(vardata, \"standard_name\", data[\"standard_name\"])\n",
      "/m2data2/yycheng/anaconda3/envs/proplot0528/lib/python3.8/site-packages/xclim/core/cfchecks.py:39: UserWarning: Variable does not have a `cell_methods` attribute.\n",
      "  _check_cell_methods(\n",
      "/m2data2/yycheng/anaconda3/envs/proplot0528/lib/python3.8/site-packages/xclim/core/cfchecks.py:43: UserWarning: Variable does not have a `standard_name` attribute.\n",
      "  check_valid(vardata, \"standard_name\", data[\"standard_name\"])\n",
      "/m2data2/yycheng/anaconda3/envs/proplot0528/lib/python3.8/site-packages/xclim/core/cfchecks.py:39: UserWarning: Variable does not have a `cell_methods` attribute.\n",
      "  _check_cell_methods(\n",
      "/m2data2/yycheng/anaconda3/envs/proplot0528/lib/python3.8/site-packages/xclim/core/cfchecks.py:43: UserWarning: Variable does not have a `standard_name` attribute.\n",
      "  check_valid(vardata, \"standard_name\", data[\"standard_name\"])\n",
      "/m2data2/yycheng/anaconda3/envs/proplot0528/lib/python3.8/site-packages/xclim/core/cfchecks.py:39: UserWarning: Variable does not have a `cell_methods` attribute.\n",
      "  _check_cell_methods(\n",
      "/m2data2/yycheng/anaconda3/envs/proplot0528/lib/python3.8/site-packages/xclim/core/cfchecks.py:43: UserWarning: Variable does not have a `standard_name` attribute.\n",
      "  check_valid(vardata, \"standard_name\", data[\"standard_name\"])\n",
      "/m2data2/yycheng/anaconda3/envs/proplot0528/lib/python3.8/site-packages/xclim/core/cfchecks.py:39: UserWarning: Variable does not have a `cell_methods` attribute.\n",
      "  _check_cell_methods(\n",
      "/m2data2/yycheng/anaconda3/envs/proplot0528/lib/python3.8/site-packages/xclim/core/cfchecks.py:43: UserWarning: Variable does not have a `standard_name` attribute.\n",
      "  check_valid(vardata, \"standard_name\", data[\"standard_name\"])\n",
      "/m2data2/yycheng/anaconda3/envs/proplot0528/lib/python3.8/site-packages/xclim/core/cfchecks.py:39: UserWarning: Variable does not have a `cell_methods` attribute.\n",
      "  _check_cell_methods(\n",
      "/m2data2/yycheng/anaconda3/envs/proplot0528/lib/python3.8/site-packages/xclim/core/cfchecks.py:43: UserWarning: Variable does not have a `standard_name` attribute.\n",
      "  check_valid(vardata, \"standard_name\", data[\"standard_name\"])\n"
     ]
    }
   ],
   "source": [
    "for mod_name in ['obs', 'vr', 'rcm']:\n",
    "    print(\"dealing \" + mod_name)\n",
    "\n",
    "    \n",
    "    allyeartime = pd.date_range('1998-01-01', '2017-12-31', freq = 'D')\n",
    "    allyeartime = xr.DataArray(allyeartime, name = 'time', coords = {\"time\":allyeartime}, dims = 'time')\n",
    "\n",
    "    mod_time  = ds_tm[mod_name].time\n",
    "    list_minmaxmean = [ds_min[mod_name], ds_max[mod_name], ds_tm[mod_name]]\n",
    "\n",
    "    var_4to5 = [i.isel({\"time\":mod_time.dt.month.isin([4,5])}) for i in list_minmaxmean]\n",
    "    var_6to8 = [i.isel({\"time\":mod_time.dt.month.isin([6,7,8])}) for i in list_minmaxmean]\n",
    "\n",
    "    var_4to5_expand = [expand_timecoords(i, allyeartime) for i in var_4to5]\n",
    "    var_6to8_expand = [expand_timecoords(i, allyeartime) for i in var_6to8]\n",
    "\n",
    "    ds_out_temp_4to5 = wrapper(calc_extreme_t2m, var_4to5)\n",
    "    ds_out_temp_6to8 = wrapper(calc_extreme_t2m, var_6to8)\n",
    "    \n",
    "    ds_out_temp_4to5.to_netcdf(\"/raid52/yycheng/MPAS/REFERENCE/TEMP_DATA_large/t2m/extreme/extreme_\"+mod_name+\"_4-5.nc\")\n",
    "    ds_out_temp_6to8.to_netcdf(\"/raid52/yycheng/MPAS/REFERENCE/TEMP_DATA_large/t2m/extreme/extreme_\"+mod_name+\"_6-8.nc\")"
   ]
  }
 ],
 "metadata": {
  "interpreter": {
   "hash": "5d125e8d1f62ef65bf14791ddcc54379be6b4b51969987cfa8a226a16aec3b4e"
  },
  "kernelspec": {
   "display_name": "Python 3.8.2 64-bit ('proplot0528': conda)",
   "language": "python",
   "name": "python3"
  },
  "language_info": {
   "codemirror_mode": {
    "name": "ipython",
    "version": 3
   },
   "file_extension": ".py",
   "mimetype": "text/x-python",
   "name": "python",
   "nbconvert_exporter": "python",
   "pygments_lexer": "ipython3",
   "version": "3.8.2"
  },
  "orig_nbformat": 4
 },
 "nbformat": 4,
 "nbformat_minor": 2
}

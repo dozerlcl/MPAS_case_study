{
 "cells": [
  {
   "cell_type": "code",
   "execution_count": null,
   "metadata": {},
   "outputs": [],
   "source": [
    "import numpy as np\n",
    "import matplotlib.pyplot as plt\n",
    "import xarray as xr\n",
    "import pandas as pd\n",
    "import proplot as pplt\n",
    "import xclim as xclim"
   ]
  },
  {
   "cell_type": "code",
   "execution_count": null,
   "metadata": {},
   "outputs": [],
   "source": [
    "xclim.core.options.set_options(data_validation='log') # 关闭CF文件规范的检查\n",
    "xclim.set_options(check_missing=\"pct\", missing_options={\"pct\": {\"tolerance\": 1.}}) # 计算一年中的片段（例如4-8月），关闭NAN的使用"
   ]
  },
  {
   "cell_type": "markdown",
   "metadata": {},
   "source": [
    "# XCLIM指标计算\n",
    "2021.12.30\n",
    "\n",
    "renew:\n",
    "- 2021.01.05\n",
    "    \n",
    "    暂时不考虑百分比指数的绘制"
   ]
  },
  {
   "cell_type": "markdown",
   "metadata": {},
   "source": [
    "## 降水部分"
   ]
  },
  {
   "cell_type": "markdown",
   "metadata": {},
   "source": [
    "### 数据读入\n",
    "日降水数据，修改坐标名称"
   ]
  },
  {
   "cell_type": "code",
   "execution_count": null,
   "metadata": {},
   "outputs": [],
   "source": [
    "dir_in          = \"/raid52/yycheng/MPAS/REFERENCE/TEMP_DATA_large/pre/ordata/\"\n",
    "filename_obs    = \"obsmerge_pre_98-17.nc\"\n",
    "filename_vr     = \"vr_pre_98-17.nc\"\n",
    "filename_rcm    = \"rcm_pre_98-17.nc\"\n",
    "\n",
    "ds_or = {}\n",
    "ds_or['obs']    = xr.open_dataset(dir_in + filename_obs)\n",
    "ds_or['vr']     = xr.open_dataset(dir_in + filename_vr)\n",
    "ds_or['rcm']    = xr.open_dataset(dir_in + filename_rcm  )\n",
    "# 提取变量\n",
    "var = {}\n",
    "var['obs']      = ds_or['obs']['premerge']#[:,  :, :]\n",
    "var['vr']       = ds_or['vr']['precip_MPAS']\n",
    "var['rcm']      = ds_or['rcm']['precip_MPAS']\n",
    "\n",
    "var['obs'] = var['obs'].reset_coords(names = 'lev', drop = True) # 去除掉obs中多余的lev coords\n",
    "\n",
    "# change coords\n",
    "var_list = ['obs', 'vr', 'rcm']\n",
    "for i in var_list:\n",
    "    rename_dict = dict(zip(var[i].coords.keys(), var['obs'].coords.keys()))\n",
    "#     # show converting coords\n",
    "    for rename_i in rename_dict:\n",
    "        print(rename_i + \" -----converting to----- \" + rename_dict[rename_i])\n",
    "\n",
    "    var[i] = var[i].rename(rename_dict)\n",
    "    var[i]._coords = var['obs']._coords\n",
    "    var[i] = var[i].rename(i)"
   ]
  },
  {
   "cell_type": "markdown",
   "metadata": {},
   "source": [
    "### 极端指数的计算"
   ]
  },
  {
   "cell_type": "code",
   "execution_count": null,
   "metadata": {},
   "outputs": [],
   "source": [
    "def calc_extreme_pre( var_temp, fillna = -1e30 ):\n",
    "    \"\"\"\n",
    "    输入一个降水的DataArray，使用xlim计算下面的极端气候指数，freq = 'MS'\n",
    "    \"\"\"\n",
    "    import xclim as xclim\n",
    "    xclim.core.options.set_options(data_validation='log')\n",
    "    \n",
    "    var_temp = var_temp.rename(\"pr\")\n",
    "    var_temp.attrs['units'] = \"mm/d\"\n",
    "\n",
    "    dict_out_temp = {}\n",
    "\n",
    "    # R95p\n",
    "    # obs_temp_nandrydays = xr.where(var_temp < 1.0, np.nan, var_temp)\n",
    "    # obs_temp_95th = obs_temp_nandrydays.reduce(np.nanpercentile, dim='time', q=95)\n",
    "    # obs_temp_95th.attrs['units'] = \"mm/d\"\n",
    "    # R95p = xclim.indicators.icclim.R95p(var_temp, obs_temp_95th, freq='AS')\n",
    "\n",
    "    # create datset to store variables\n",
    "    # dict_out_temp = xr.Dataset(coords = R95p.coords)\n",
    "    # dict_out_temp['R95p'] = R95p\n",
    "\n",
    "    # RX5day\n",
    "    dict_out_temp['RX5day'] = xclim.indicators.icclim.RX5day(var_temp, freq='AS').fillna(fillna)\n",
    "    # SDII\n",
    "    dict_out_temp['SDII'] = xclim.indicators.icclim.SDII(var_temp, freq='AS').fillna(fillna)\n",
    "    # CDD\n",
    "    # dict_out_temp['CDD'] = xclim.indicators.icclim.CDD(var_temp, freq='AS').fillna(fillna)\n",
    "    # CWD\n",
    "    # dict_out_temp['CWD'] = xclim.indicators.icclim.CWD(var_temp, freq='AS').fillna(fillna)\n",
    "\n",
    "    first_item = True\n",
    "    for ikey in dict_out_temp:\n",
    "        if (first_item):\n",
    "            ds_out_temp = xr.Dataset(coords = dict_out_temp[ikey].coords)\n",
    "            first_item = False\n",
    "        ds_out_temp[ikey] = dict_out_temp[ikey]\n",
    "        \n",
    "    return ds_out_temp"
   ]
  },
  {
   "cell_type": "code",
   "execution_count": null,
   "metadata": {},
   "outputs": [],
   "source": [
    "for mod_name in ['obs']:\n",
    "# for mod_name in var:\n",
    "    print(\"dealing \" + mod_name)\n",
    "    mod_time  = var[mod_name]\n",
    "    var_4to5 = var[mod_name].isel({\"time\":mod_time.time.dt.month.isin([4,5])})\n",
    "    var_6to8 = var[mod_name].isel({\"time\":mod_time.time.dt.month.isin([6,7,8])})\n",
    "\n",
    "    # ds_out_temp_4to5 = calc_extreme_pre(var_4to5, -1e30)\n",
    "    # ds_out_temp_6to8 = calc_extreme_pre(var_6to8, -1e30)\n",
    "    \n",
    "    # comp = {'_FillValue' : -1e30}\n",
    "    # encoding = {var:comp for var in list(ds_out_temp_4to5.data_vars)}\n",
    "\n",
    "    # ds_out_temp_4to5.to_netcdf(\"/raid52/yycheng/MPAS/REFERENCE/TEMP_DATA_large/pre/extreme/extreme_\"+mod_name+\"_4-5.nc\", encoding = encoding)\n",
    "    # ds_out_temp_6to8.to_netcdf(\"/raid52/yycheng/MPAS/REFERENCE/TEMP_DATA_large/pre/extreme/extreme_\"+mod_name+\"_6-8.nc\", encoding = encoding)\n",
    "\n",
    "    # del(ds_out_temp_4to5)\n",
    "    # del(ds_out_temp_6to8)"
   ]
  },
  {
   "cell_type": "code",
   "execution_count": null,
   "metadata": {},
   "outputs": [],
   "source": [
    "var_4to5"
   ]
  },
  {
   "cell_type": "code",
   "execution_count": null,
   "metadata": {},
   "outputs": [],
   "source": [
    "var_temp = var_4to5"
   ]
  },
  {
   "cell_type": "code",
   "execution_count": null,
   "metadata": {},
   "outputs": [],
   "source": [
    "var_temp = var_4to5\n",
    "var_temp = var_temp.rename(\"pr\")\n",
    "var_temp.attrs['units'] = \"mm/d\"\n",
    "fillna = -1e30\n",
    "dict_out_temp = {}\n",
    "dict_out_temp['RX5day_AM'] = xclim.indicators.icclim.RX5day(var_temp[0:122], freq='YS')"
   ]
  },
  {
   "cell_type": "code",
   "execution_count": null,
   "metadata": {},
   "outputs": [],
   "source": [
    "lat = var_temp.lat\n",
    "lon = var_temp.lon\n",
    "allyeartime = pd.date_range('1998-01-01', '2017-12-31', freq = 'D')\n",
    "allyeartime = xr.DataArray(allyeartime, name = 'time', coords = {\"time\":allyeartime}, dims = 'time')\n",
    "allyear3dvar = xr.DataArray(name = 'empty3dvar', coords = {\"time\":allyeartime, \"lat\":lat, \"lon\":lon}, dims = ['time','lat','lon'])"
   ]
  },
  {
   "cell_type": "code",
   "execution_count": null,
   "metadata": {},
   "outputs": [],
   "source": [
    "def expand_timecoords(da, new_time_coords):\n",
    "    \"\"\"\n",
    "用来给xclim的输出结果进行前处理的部分，扩展3D变量的时间维，以免错误识别了NAN，将一年中不完整的部分填充为NAN\n",
    "da dims: time lat lon\n",
    "    \"\"\"\n",
    "    lat = da.lat\n",
    "    lon = da.lon\n",
    "    allyeartime = new_time_coords\n",
    "    da_newtime  = xr.DataArray(name = 'empty3dvar', coords = {\"time\":allyeartime, \"lat\":lat, \"lon\":lon}, dims = ['time','lat','lon'])\n",
    "    da_newtime.loc[{\"time\":da.time}] = da\n",
    "    return da_newtime"
   ]
  },
  {
   "cell_type": "code",
   "execution_count": null,
   "metadata": {},
   "outputs": [],
   "source": [
    "var_4to5_expand = expand_timecoords(var_4to5, allyeartime)"
   ]
  },
  {
   "cell_type": "code",
   "execution_count": null,
   "metadata": {},
   "outputs": [],
   "source": [
    "var_4to5_expand[91].plot.contourf(cmap = 'gist_ncar', levels = np.linspace(0,20,21))"
   ]
  },
  {
   "cell_type": "code",
   "execution_count": null,
   "metadata": {},
   "outputs": [],
   "source": [
    "allyear3dvar_temp = allyear3dvar.copy)"
   ]
  },
  {
   "cell_type": "code",
   "execution_count": null,
   "metadata": {},
   "outputs": [],
   "source": [
    "time_sel = var_4to5.time"
   ]
  },
  {
   "cell_type": "code",
   "execution_count": null,
   "metadata": {},
   "outputs": [],
   "source": [
    "allyear3dvar_temp.loc[{\"time\":time_sel}] = var_4to5"
   ]
  },
  {
   "cell_type": "code",
   "execution_count": null,
   "metadata": {},
   "outputs": [],
   "source": [
    "var_temp = allyear3dvar_temp\n",
    "var_temp = var_temp.rename(\"pr\")\n",
    "var_temp.attrs['units'] = \"mm/d\"\n",
    "fillna = -1e30\n",
    "dict_out_temp = {}\n",
    "dict_out_temp['RX5day_AM'] = xclim.indicators.icclim.RX5day(var_temp, freq='YS')"
   ]
  },
  {
   "cell_type": "code",
   "execution_count": null,
   "metadata": {},
   "outputs": [],
   "source": [
    "dict_out_temp['RX5day_AM'].time#[17].max()\n",
    "dict_out_temp['RX5day_AM'][4].plo"
   ]
  },
  {
   "cell_type": "code",
   "execution_count": null,
   "metadata": {},
   "outputs": [],
   "source": [
    "dict_out_temp['RX5day_AM'].mean(dim = 'time').plot.contourf(levels = np.linspace(0,200,11), cmap = 'gist_ncar')"
   ]
  }
 ],
 "metadata": {
  "interpreter": {
   "hash": "5d125e8d1f62ef65bf14791ddcc54379be6b4b51969987cfa8a226a16aec3b4e"
  },
  "kernelspec": {
   "display_name": "Python 3.8.2 64-bit ('proplot0528': conda)",
   "language": "python",
   "name": "python3"
  },
  "language_info": {
   "codemirror_mode": {
    "name": "ipython",
    "version": 3
   },
   "file_extension": ".py",
   "mimetype": "text/x-python",
   "name": "python",
   "nbconvert_exporter": "python",
   "pygments_lexer": "ipython3",
   "version": "3.8.2"
  },
  "orig_nbformat": 4
 },
 "nbformat": 4,
 "nbformat_minor": 2
}

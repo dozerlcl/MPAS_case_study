{
 "cells": [
  {
   "cell_type": "code",
   "execution_count": 1,
   "metadata": {},
   "outputs": [],
   "source": [
    "import numpy as np\n",
    "import matplotlib.pyplot as plt\n",
    "import xarray as xr\n",
    "import pandas as pd\n",
    "import proplot as pplt\n",
    "from scipy.fftpack import * \n",
    "import glob"
   ]
  },
  {
   "cell_type": "markdown",
   "metadata": {},
   "source": [
    "# 进行每小时气温数据的处理\n",
    "\n",
    "获取每小时气温数据，并且计算3hr 6hr的取样频率下的每日平均、最大、最小气温\n",
    "\n",
    "需要手动进行取样时间的设置"
   ]
  },
  {
   "cell_type": "code",
   "execution_count": 2,
   "metadata": {},
   "outputs": [],
   "source": [
    "def get_hourly_t2m(modeltype = \"VR\"):\n",
    "    \"\"\"\n",
    "    获取逐小时的T2M，并且得到3小时间隔的mean min max结果\n",
    "    \"\"\"\n",
    "    path_in      = \"/raid52/yycheng/MPAS/\"+modeltype+\"_postprocess/\"+modeltype+\"_merge/t2m_hourly/\"\n",
    "    files_in     = glob.glob(path_in + \"merge_t2m_????_\"+modeltype+\".nc\")\n",
    "    da_hourlyt2m = xr.open_mfdataset(files_in[:],engine = 'netcdf4')['t2m'].load()\n",
    "\n",
    "    # time_ind_3hr = ( (da_hourlyt2m.Time.dt.hour.isin([0,3,6,9,12,15,18,21])) & (da_hourlyt2m.Time.dt.month.isin([4,5,6,7,8])) )\n",
    "    time_ind_3hr = ( (da_hourlyt2m.Time.dt.hour.isin([0,6,12,18])) & (da_hourlyt2m.Time.dt.month.isin([4,5,6,7,8])) )\n",
    "    temp_3hr     = da_hourlyt2m.isel(Time = time_ind_3hr)\n",
    "\n",
    "    temp_3hr_daily = {}\n",
    "    temp_3hr_daily['mean'] = temp_3hr.groupby(temp_3hr.Time.dt.date).mean()\n",
    "    temp_3hr_daily['max']  = temp_3hr.groupby(temp_3hr.Time.dt.date).max()\n",
    "    temp_3hr_daily['min']  = temp_3hr.groupby(temp_3hr.Time.dt.date).min()\n",
    "    really_time = pd.to_datetime(temp_3hr_daily['mean'].date.values)\n",
    "    for i in temp_3hr_daily:\n",
    "        temp_3hr_daily[i] = temp_3hr_daily[i].rename({\"date\":\"Time\"}).assign_coords({\"Time\":really_time})\n",
    "\n",
    "    return temp_3hr_daily"
   ]
  },
  {
   "cell_type": "code",
   "execution_count": 3,
   "metadata": {},
   "outputs": [],
   "source": [
    "test_dict = get_hourly_t2m(modeltype='VR')"
   ]
  },
  {
   "cell_type": "code",
   "execution_count": null,
   "metadata": {},
   "outputs": [],
   "source": [
    "modeltype = \"VR\"\n",
    "path_out = \"/raid52/yycheng/MPAS/REFERENCE/TEMP_DATA/mask_t2m/ordata_6hr/\"\n",
    "test_dict['mean'].to_netcdf(path_out + \"mean_t2m_98-17_\"+modeltype+\".nc\")\n",
    "test_dict['max'].to_netcdf(path_out + \"max_t2m_98-17_\"+modeltype+\".nc\")\n",
    "test_dict['min'].to_netcdf(path_out + \"min_t2m_98-17_\"+modeltype+\".nc\")"
   ]
  }
 ],
 "metadata": {
  "interpreter": {
   "hash": "5d125e8d1f62ef65bf14791ddcc54379be6b4b51969987cfa8a226a16aec3b4e"
  },
  "kernelspec": {
   "display_name": "Python 3.8.2 ('proplot0528': conda)",
   "language": "python",
   "name": "python3"
  },
  "language_info": {
   "codemirror_mode": {
    "name": "ipython",
    "version": 3
   },
   "file_extension": ".py",
   "mimetype": "text/x-python",
   "name": "python",
   "nbconvert_exporter": "python",
   "pygments_lexer": "ipython3",
   "version": "3.8.2"
  },
  "orig_nbformat": 4
 },
 "nbformat": 4,
 "nbformat_minor": 2
}

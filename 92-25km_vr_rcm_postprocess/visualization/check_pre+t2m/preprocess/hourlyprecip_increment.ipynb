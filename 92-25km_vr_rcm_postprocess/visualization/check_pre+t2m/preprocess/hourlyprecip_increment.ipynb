{
 "cells": [
  {
   "cell_type": "code",
   "execution_count": 1,
   "metadata": {},
   "outputs": [],
   "source": [
    "import numpy as np\n",
    "import matplotlib.pyplot as plt\n",
    "import xarray as xr\n",
    "import pandas as pd\n",
    "import proplot as pplt\n",
    "from scipy.fftpack import * "
   ]
  },
  {
   "cell_type": "markdown",
   "metadata": {},
   "source": [
    "# 逐小时降水后处理\n",
    "2021.12.23\n",
    "\n",
    "并发地计算20年的4-8月逐小时降水累计结果，并放置到increment文件夹中"
   ]
  },
  {
   "cell_type": "markdown",
   "metadata": {},
   "source": [
    "## 指定数据输入"
   ]
  },
  {
   "cell_type": "code",
   "execution_count": 2,
   "metadata": {},
   "outputs": [],
   "source": [
    "import os\n",
    "import glob\n",
    "path_in                    = \"/raid62/yycheng/MPAS/TPEMIP_92-25km/RCM_postprocess/RCM_merge_large/pre_hourly/accumulated/\"\n",
    "path_out                   = \"/raid62/yycheng/MPAS/TPEMIP_92-25km/RCM_postprocess/RCM_merge_large/pre_hourly/increment/\"  # 存放sys的临时文件\n",
    "\n",
    "os.system(\"mkdir -p \" + path_out)\n",
    "files_in_list = []\n",
    "files_out_list = []\n",
    "\n",
    "multfilesin_names       = glob.glob(path_in + \"merge_pre_????_RCM.nc\")\n",
    "multfilesout_names      = [path_out + os.path.basename(i) for i in multfilesin_names]"
   ]
  },
  {
   "cell_type": "markdown",
   "metadata": {},
   "source": [
    "## 单个文件的处理函数"
   ]
  },
  {
   "cell_type": "code",
   "execution_count": 3,
   "metadata": {},
   "outputs": [],
   "source": [
    "def write_temp_nc(file_in, file_out):\n",
    "    print(\"----- dealing \" + file_in)\n",
    "    time_coords_name = 'Time'\n",
    "    precip_vars_names = ['rainc','rainnc']\n",
    "    ds_temp = xr.open_dataset(file_in)\n",
    "    mod_pre = {}\n",
    "    file_time = ds_temp[time_coords_name] # set time coords names\n",
    "    for rainvar in precip_vars_names: # loop variables associated with precipitation and count increment, stroage for the forward time\n",
    "        preforward = ds_temp[rainvar][1:,:,:].assign_coords({time_coords_name:ds_temp[rainvar][0:-1,:,:][time_coords_name]})\n",
    "        preback    = ds_temp[rainvar][0:-1,:,:]\n",
    "        mod_pre[rainvar] = preforward - preback\n",
    "    ds_out = xr.Dataset(mod_pre)\n",
    "    ds_out.to_netcdf(file_out)\n",
    "    ds_out.close()"
   ]
  },
  {
   "cell_type": "markdown",
   "metadata": {},
   "source": [
    "## 并发处理每个文件"
   ]
  },
  {
   "cell_type": "code",
   "execution_count": 4,
   "metadata": {},
   "outputs": [
    {
     "name": "stdout",
     "output_type": "stream",
     "text": [
      "Parent process 8279.\n",
      "----- dealing /raid62/yycheng/MPAS/TPEMIP_92-25km/RCM_postprocess/RCM_merge_large/pre_hourly/accumulated/merge_pre_1998_RCM.nc\n",
      "----- dealing /raid62/yycheng/MPAS/TPEMIP_92-25km/RCM_postprocess/RCM_merge_large/pre_hourly/accumulated/merge_pre_1999_RCM.nc\n",
      "----- dealing /raid62/yycheng/MPAS/TPEMIP_92-25km/RCM_postprocess/RCM_merge_large/pre_hourly/accumulated/merge_pre_2000_RCM.nc\n",
      "----- dealing /raid62/yycheng/MPAS/TPEMIP_92-25km/RCM_postprocess/RCM_merge_large/pre_hourly/accumulated/merge_pre_2001_RCM.nc\n",
      "----- dealing /raid62/yycheng/MPAS/TPEMIP_92-25km/RCM_postprocess/RCM_merge_large/pre_hourly/accumulated/merge_pre_2002_RCM.nc\n",
      "Waiting for all subprocesses done...\n",
      "----- dealing /raid62/yycheng/MPAS/TPEMIP_92-25km/RCM_postprocess/RCM_merge_large/pre_hourly/accumulated/merge_pre_2003_RCM.nc\n",
      "----- dealing /raid62/yycheng/MPAS/TPEMIP_92-25km/RCM_postprocess/RCM_merge_large/pre_hourly/accumulated/merge_pre_2004_RCM.nc\n",
      "----- dealing /raid62/yycheng/MPAS/TPEMIP_92-25km/RCM_postprocess/RCM_merge_large/pre_hourly/accumulated/merge_pre_2005_RCM.nc\n",
      "----- dealing /raid62/yycheng/MPAS/TPEMIP_92-25km/RCM_postprocess/RCM_merge_large/pre_hourly/accumulated/merge_pre_2006_RCM.nc\n",
      "----- dealing /raid62/yycheng/MPAS/TPEMIP_92-25km/RCM_postprocess/RCM_merge_large/pre_hourly/accumulated/merge_pre_2007_RCM.nc\n",
      "----- dealing /raid62/yycheng/MPAS/TPEMIP_92-25km/RCM_postprocess/RCM_merge_large/pre_hourly/accumulated/merge_pre_2008_RCM.nc\n",
      "----- dealing /raid62/yycheng/MPAS/TPEMIP_92-25km/RCM_postprocess/RCM_merge_large/pre_hourly/accumulated/merge_pre_2009_RCM.nc\n",
      "----- dealing /raid62/yycheng/MPAS/TPEMIP_92-25km/RCM_postprocess/RCM_merge_large/pre_hourly/accumulated/merge_pre_2010_RCM.nc\n",
      "----- dealing /raid62/yycheng/MPAS/TPEMIP_92-25km/RCM_postprocess/RCM_merge_large/pre_hourly/accumulated/merge_pre_2011_RCM.nc\n",
      "----- dealing /raid62/yycheng/MPAS/TPEMIP_92-25km/RCM_postprocess/RCM_merge_large/pre_hourly/accumulated/merge_pre_2012_RCM.nc\n",
      "----- dealing /raid62/yycheng/MPAS/TPEMIP_92-25km/RCM_postprocess/RCM_merge_large/pre_hourly/accumulated/merge_pre_2013_RCM.nc\n",
      "----- dealing /raid62/yycheng/MPAS/TPEMIP_92-25km/RCM_postprocess/RCM_merge_large/pre_hourly/accumulated/merge_pre_2014_RCM.nc\n",
      "----- dealing /raid62/yycheng/MPAS/TPEMIP_92-25km/RCM_postprocess/RCM_merge_large/pre_hourly/accumulated/merge_pre_2015_RCM.nc\n",
      "----- dealing /raid62/yycheng/MPAS/TPEMIP_92-25km/RCM_postprocess/RCM_merge_large/pre_hourly/accumulated/merge_pre_2016_RCM.nc\n",
      "----- dealing /raid62/yycheng/MPAS/TPEMIP_92-25km/RCM_postprocess/RCM_merge_large/pre_hourly/accumulated/merge_pre_2017_RCM.nc\n",
      "All subprocesses done.\n"
     ]
    }
   ],
   "source": [
    "# 10mins for 20years hourly precipitation.....\n",
    "\n",
    "from multiprocessing import Pool\n",
    "import os, time, random\n",
    "print('Parent process %s.' % os.getpid())\n",
    "p = Pool(5)\n",
    "for i in range(len(multfilesin_names)):\n",
    "    p.apply_async(write_temp_nc, args=( (multfilesin_names[i], multfilesout_names[i]) ) )\n",
    "print('Waiting for all subprocesses done...')\n",
    "p.close()\n",
    "p.join()\n",
    "print('All subprocesses done.')"
   ]
  }
 ],
 "metadata": {
  "kernelspec": {
   "display_name": "proplot0528",
   "language": "python",
   "name": "proplot0528"
  },
  "language_info": {
   "codemirror_mode": {
    "name": "ipython",
    "version": 3
   },
   "file_extension": ".py",
   "mimetype": "text/x-python",
   "name": "python",
   "nbconvert_exporter": "python",
   "pygments_lexer": "ipython3",
   "version": "3.8.2"
  }
 },
 "nbformat": 4,
 "nbformat_minor": 4
}

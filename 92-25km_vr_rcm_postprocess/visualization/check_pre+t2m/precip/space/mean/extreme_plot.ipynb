{
 "cells": [
  {
   "cell_type": "code",
   "execution_count": null,
   "metadata": {},
   "outputs": [],
   "source": [
    "import numpy as np\n",
    "import matplotlib.pyplot as plt\n",
    "import xarray as xr\n",
    "import pandas as pd\n",
    "import proplot as pplt\n",
    "from scipy.fftpack import * "
   ]
  },
  {
   "cell_type": "markdown",
   "metadata": {},
   "source": [
    "## 读入数据\n",
    "\n",
    "2022.01.08\n",
    "\n",
    "- 因为xarray会将读入nc文件含有units = days 的数据识别为日期，decode_times 需要关闭，从而读入dtype为float64的 天数，而非一个时间dtype"
   ]
  },
  {
   "cell_type": "code",
   "execution_count": null,
   "metadata": {},
   "outputs": [],
   "source": [
    "ds_in = {}\n",
    "for mod_name in ['obs','vr', 'rcm']:\n",
    "    ds_in[mod_name] = {}\n",
    "    ds_in[mod_name]['am'] = xr.open_dataset(\"/raid52/yycheng/MPAS/REFERENCE/TEMP_DATA_large/pre/extreme/extreme_\"+mod_name+\"_4-5.nc\", decode_times = False)\n",
    "    ds_in[mod_name]['jja'] = xr.open_dataset(\"/raid52/yycheng/MPAS/REFERENCE/TEMP_DATA_large/pre/extreme/extreme_\"+mod_name+\"_6-8.nc\", decode_times = False)\n",
    "vars_names = list(ds_in[mod_name]['am'].variables)[3:]\n",
    "vars_names"
   ]
  },
  {
   "cell_type": "markdown",
   "metadata": {},
   "source": [
    "## 计算平均"
   ]
  },
  {
   "cell_type": "code",
   "execution_count": null,
   "metadata": {},
   "outputs": [],
   "source": [
    "ds_mean = {}\n",
    "for mod_name in ['obs','vr','rcm']:\n",
    "    ds_mean[mod_name] = {}\n",
    "    for season in ['am','jja']:\n",
    "        ds_mean[mod_name][season] = ds_in[mod_name][season].mean(dim = 'time')\n",
    "\n",
    "lon = ds_mean['obs']['am']['CDD'].lon.values\n",
    "lat = ds_mean['obs']['am']['CDD'].lat.values"
   ]
  },
  {
   "cell_type": "markdown",
   "metadata": {},
   "source": [
    "## 绘图部分\n",
    "2022.01.09\n",
    "\n",
    "为了方便绘图，更换了版本，用来传入控制左边标题的参数 proplot 0.6.4-py_0 --> 0.9.5-pyhd8ed1ab_1"
   ]
  },
  {
   "cell_type": "markdown",
   "metadata": {},
   "source": [
    "### 绘图准备部分\n",
    "包含写为函数的地图的绘制，以等距的spacing norm"
   ]
  },
  {
   "cell_type": "code",
   "execution_count": null,
   "metadata": {},
   "outputs": [],
   "source": [
    "## 地图绘制预备数据\n",
    "import cartopy.crs as ccrs\n",
    "import cartopy.io.shapereader as shpreader\n",
    "import cartopy.crs as ccrs\n",
    "import cartopy.feature as cfeature\n",
    "import matplotlib.patches as mpatches\n",
    "import cmaps as cmaps"
   ]
  },
  {
   "cell_type": "code",
   "execution_count": null,
   "metadata": {},
   "outputs": [],
   "source": [
    "def border_plot(axs):\n",
    "    \"\"\"\n",
    "    进行行政区划的绘制，通过shapefilereader绘制存档的shp文件，需要传入axs，并逐个绘制\n",
    "    比较消耗时间，调整完毕后最后添加边界的绘制\n",
    "    \"\"\"\n",
    "    ##---- 直接绘图，从边界文件添加\n",
    "    # for ax_ind in axs:\n",
    "    # for line in borders:\n",
    "    #     axs.plot(line[0::100], line[1::100], lw = 0.5, color='gray',transform=ccrs.Geodetic())\n",
    "    #     axs.plot(line[0::10], line[1::10], lw = 0.4, color='black',transform=ccrs.Geodetic())\n",
    "    ##---- 使用shp文件添加\n",
    "        # shapefile数据下载的位置：\n",
    "    # http://gaohr.win/site/blogs/2017/2017-04-18-GIS-basic-data-of-China.html\n",
    "    world_border_shapefile = \"/m2data2/yycheng/data_stage/CN-border/World/country.shp\"\n",
    "    river_border_shapefile =  \"/raid52/yycheng/MPAS/REFERENCE/MODEL_CONSTANT/R1/\" + \"hyd1_4l.shp\"\n",
    "    southsea_shapefile     = \"/m2data2/yycheng/data_stage/CN-border/SouthSea/\" + \"southsea_island.shp\"\n",
    "    ninelines_shapefile     = \"/m2data2/yycheng/data_stage/CN-border/SouthSea/\" + \"nine_lines.shp\"\n",
    "    ## 来源： 沛沛的诸省 + 诸岛\n",
    "    bou24p_shapefile     = \"/m2data2/yycheng/data_stage/CN-border/peipeihelp/\" + \"bou2_4p.shp\"\n",
    "    ## 来源： https://www.resdc.cn/data.aspx?DATAID=200\n",
    "    province_shapefile     = \"/m2data2/yycheng/data_stage/CN-border/CN-sheng/\" + \"change_proj_CN-sheng-A.shp\"\n",
    "\n",
    "    for ax in axs:\n",
    "        # world     = shpreader.Reader(world_border_shapefile).geometries()\n",
    "        # river     = shpreader.Reader(river_border_shapefile).geometries()\n",
    "        river     = shpreader.Reader(river_border_shapefile, encoding = \"gbk\")\n",
    "        # bou24p    = shpreader.Reader(bou24p_shapefile).geometries()\n",
    "        ninelines = shpreader.Reader(ninelines_shapefile).geometries()\n",
    "        province  = shpreader.Reader(province_shapefile).geometries()\n",
    "        # ax.add_geometries(river, ccrs.PlateCarree(), facecolor='none', edgecolor='b', linewidth=0.4, zorder=1)\n",
    "        # ax.add_geometries(world, ccrs.PlateCarree(), facecolor='none', edgecolor='k', linewidth=0.4, zorder=1)\n",
    "        # ax.add_geometries(bou24p, ccrs.PlateCarree(), facecolor='none', edgecolor='k', linewidth=0.6, zorder=1) # 沛沛map\n",
    "        ax.add_geometries(province, ccrs.PlateCarree(), facecolor='none', edgecolor='k', linewidth=0.6, zorder=1) # 地资所\n",
    "        ax.add_geometries(ninelines, ccrs.PlateCarree(), facecolor='none', edgecolor='k', linewidth=0.6, zorder=1)\n",
    "        # 绘制部分的shapefile\n",
    "        for region in river.records():\n",
    "            if (region.attributes['NAME'] in ['黄河','长江']):\n",
    "                # print(\"----- draw river! -----\")\n",
    "                # 此处需要使用 [] 让region.geometry可以迭代\n",
    "                ax.add_geometries([region.geometry], ccrs.PlateCarree(), facecolor='none', edgecolor='b', linewidth=0.4, zorder=1)\n"
   ]
  },
  {
   "cell_type": "markdown",
   "metadata": {},
   "source": [
    "### 绘图测试部分\n",
    "因为子图过多，此处测试色板 norm ticks等要素"
   ]
  },
  {
   "cell_type": "code",
   "execution_count": null,
   "metadata": {},
   "outputs": [],
   "source": [
    "# ticks = np.linspace(0,100,11)  # CDD CWD\n",
    "# ticks = np.linspace(0,10000,int(10000 / 250 + 1)) # RX5day\n",
    "# ticks = np.concatenate( (np.linspace(0,4000,21),np.linspace(5000,12000,8)) , axis = 0) # RX5day\n",
    "ticks =np.concatenate( (np.linspace(0,40,41),np.linspace(50,120,8)) , axis = 0)\n",
    "# ticks =  np.concatenate( (np.linspace(0,40,21),np.linspace(50,100,6)) , axis = 0)\n",
    "\n",
    "# cmap = cmaps.MPL_s3pcpn_l\n",
    "cmap = cmaps.BkBlAqGrYeOrReViWh200\n",
    "fig, axs = pplt.subplots(nrows = 1,ncols = 3)\n",
    "var = 'CDD'\n",
    "mcontourf = axs[0].contourf(ds_mean['obs']['am'][var].values, cmap = cmap, levels = ticks, norm = 'segmented')\n",
    "mcontourf = axs[1].contourf(ds_mean['vr']['am'][var].values, cmap = cmap, levels = ticks, norm = 'segmented')\n",
    "mcontourf = axs[2].contourf(ds_mean['rcm']['am'][var].values, cmap = cmap, levels = ticks, norm = 'segmented')\n",
    "axs.format(title = var)\n",
    "axs[2].colorbar(mcontourf, ticks = ticks[::2], length = 0.9, extend = 'max',title=color_bar_title[var])"
   ]
  },
  {
   "cell_type": "markdown",
   "metadata": {},
   "source": [
    "### 完整绘图部分"
   ]
  },
  {
   "cell_type": "code",
   "execution_count": null,
   "metadata": {},
   "outputs": [],
   "source": [
    "# import proplot as plot\n",
    "from matplotlib import pyplot as plt\n",
    "import proplot as plot\n",
    "import collections\n",
    "# ----- get filter vars coords-----\n",
    "\n",
    "#----- create plot -----\n",
    "fig, axs = plot.subplots(ncols=6 ,nrows=4, proj=('cyl'), share = True, wspace=(0, 0, 1, 0, 0), hspace=(0, 1, 0))\n",
    "m_contour_list = [] # 用于保存contour设置，后续设置colorbar使用\n",
    "\n",
    "#----- 添加海洋以及行政区划 -----\n",
    "border_plot(axs)\n",
    "    \n",
    "#----- colorbar ticks 统一设置 -----\n",
    "cmap_dict = {}\n",
    "cmap_dict['RX5day'] = cmaps.MPL_s3pcpn_l\n",
    "cmap_dict['SDII'] = cmaps.MPL_s3pcpn_l\n",
    "cmap_dict['CDD'] = cmaps.BkBlAqGrYeOrReViWh200\n",
    "cmap_dict['CWD'] = cmaps.BkBlAqGrYeOrReViWh200\n",
    "\n",
    "ticks_dict = {}\n",
    "ticks_dict['RX5day'] = np.concatenate( (np.linspace(0,300,31),np.linspace(300,600,11)[1:]) , axis = 0) # RX5day\n",
    "# ticks_dict['RX5day'] = np.linspace(0,400,51)\n",
    "ticks_dict['SDII']   = np.concatenate( (np.linspace(0,30,31),[40,50]) , axis = 0)\n",
    "# ticks_dict['SDII']   = np.linspace(0,30,31)\n",
    "ticks_dict['CDD']    = np.concatenate( (np.linspace(0,40,41),np.linspace(50,120,8)) , axis = 0)\n",
    "ticks_dict['CWD']    = np.concatenate( (np.linspace(0,40,41),np.linspace(50,120,8)) , axis = 0)\n",
    "\n",
    "plot_ind = 0\n",
    "\n",
    "def nested_dict():\n",
    "    return collections.defaultdict(nested_dict)\n",
    "mcontourf_dict = nested_dict()\n",
    "\n",
    "for var in vars_names:    \n",
    "    for season in ['am', 'jja']:\n",
    "        for mod_name in ['obs','vr','rcm']:\n",
    "            \n",
    "            # 使用了均分的norm，处理不等距的ticks\n",
    "            mcontourf_temp = axs[plot_ind].contourf(lon, lat, ds_mean[mod_name][season][var].values,\\\n",
    "            cmap=cmap_dict[var], levels = ticks_dict[var], norm = 'segmented')\n",
    "\n",
    "            # axs[plot_ind].format(rtitle = season, title = mod_name.upper(), ltitle = var)\n",
    "            mcontourf_dict[season][mod_name][var] = mcontourf_temp # 合并所有绘图obj到一个deep dict之中\n",
    "            \n",
    "            plot_ind = plot_ind + 1\n",
    "\n",
    "#----- add color bar-----\n",
    "color_bar_title = {}\n",
    "color_bar_title['RX5day'] = '5-day precipitation amount ' + r\"$[mm/d]$\"\n",
    "color_bar_title['SDII']   = 'precipitation during wet days ' + r\"$[mm/d]$\"\n",
    "color_bar_title['CDD']    = 'consecutive dry days ' + \"[days]\"\n",
    "color_bar_title['CWD']    = 'consecutive wet days ' + \"[days]\"\n",
    "\n",
    "plot_ind = 1\n",
    "for var in vars_names:\n",
    "    fig.colorbar(mcontourf_dict['am']['obs'][var], loc='r', width=0.1, extend = 'both',length = 0.96,\\\n",
    "    ticklabelsize=5,labelsize = 7,ticks=ticks_dict[var][::2], title=color_bar_title[var], rows = plot_ind)\n",
    "    plot_ind = plot_ind + 1\n",
    "\n",
    "# ----- format setting -----\n",
    "axs.format(\n",
    "abc=True,\n",
    "abcloc = 'ul',\n",
    "#----- 地图底图设置 -----\n",
    "# reso = 'x-hi',\n",
    "reso = 'med',\n",
    "# coast = False,\n",
    "coast = True,\n",
    "coastlinewidth = 0.4,\n",
    "borders = False,\n",
    "lakes = False,\n",
    "land  = False,\n",
    "ocean = False,\n",
    "# cartopyautoextent = True, \n",
    "# borderslinewidth=.5,\n",
    "labels = False,\n",
    "longrid  = True,\n",
    "latgrid  = True,\n",
    "#-----GEO axis-----\n",
    "lonlim=(70, 140), latlim=(5, 60),\n",
    "gridlabelsize = 5,\n",
    "gridminor = True,\n",
    "lonlocator = np.arange(70,142,10),\n",
    "latlocator = np.arange(5,70+2,10),\n",
    "lonminorlocator = np.arange(70,140+2,2),\n",
    "latminorlocator = np.arange(5,70+2,2),\n",
    "#-----line label-----\n",
    "# linewidth = 0.5,\n",
    "# suptitle=\"3000km-2000km bandpass 500hPa height(1998-06 timemean)\",\n",
    "# suptitle=\"precipitation\",\n",
    "toplabels=(' \\nOBS', 'AM\\nVR', ' \\nRCM', ' \\nOBS', 'JJA\\nVR', ' \\nRCM'),\n",
    "leftlabels=('RX5day', 'SDII','CDD','CWD'),\n",
    "rc_kw = {'leftlabel.rotation':90.}\n",
    ")\n",
    "\n",
    "# 合并子图之后控制边界的labels绘制\n",
    "axs[:-1,0].format(labels = True, lonlabels = False, latlabels = True)\n",
    "axs[3,1:].format(labels = True, lonlabels = True, latlabels = False)\n",
    "axs[-1,0].format(labels = True, lonlabels = True, latlabels = True)\n",
    "#----- save figure -----\n",
    "fig.patch.set_facecolor('white')\n",
    "plt.savefig('./output_pic/pre_extreme_2022.01.11.png', dpi=600, facecolor= \"white\")\n",
    "# plt.savefig('./output_pic/hgt_idctn.png', dpi=300, facecolor= \"white\")"
   ]
  }
 ],
 "metadata": {
  "interpreter": {
   "hash": "5d125e8d1f62ef65bf14791ddcc54379be6b4b51969987cfa8a226a16aec3b4e"
  },
  "kernelspec": {
   "display_name": "Python 3.8.2 64-bit ('proplot0528': conda)",
   "language": "python",
   "name": "python3"
  },
  "language_info": {
   "codemirror_mode": {
    "name": "ipython",
    "version": 3
   },
   "file_extension": ".py",
   "mimetype": "text/x-python",
   "name": "python",
   "nbconvert_exporter": "python",
   "pygments_lexer": "ipython3",
   "version": "3.8.2"
  },
  "orig_nbformat": 4
 },
 "nbformat": 4,
 "nbformat_minor": 2
}

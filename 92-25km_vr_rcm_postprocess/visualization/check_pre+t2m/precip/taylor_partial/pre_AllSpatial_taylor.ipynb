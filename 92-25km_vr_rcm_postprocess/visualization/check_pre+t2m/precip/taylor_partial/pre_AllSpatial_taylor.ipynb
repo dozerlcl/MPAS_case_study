{
 "cells": [
  {
   "cell_type": "code",
   "execution_count": null,
   "metadata": {},
   "outputs": [],
   "source": [
    "import xarray as xr\n",
    "import numpy  as np\n",
    "import pandas as pd\n",
    "import matplotlib.pyplot as plt\n",
    "import skill_metrics as sm\n",
    "# import proplot as pplt"
   ]
  },
  {
   "cell_type": "markdown",
   "metadata": {},
   "source": [
    "# 泰勒图绘制\n",
    "\n",
    "2021.08.15\n",
    "\n",
    "计算年际变化（时间序列）的taylor 图\n",
    "\n",
    "2021.08.16\n",
    "\n",
    "继续使用skillmetics包进行\n",
    "\n",
    "将数据处理为字典，便于按照某个特征进行索引\n",
    "\n",
    "泰勒图上的每个小点会单独绘制，按照特征给予不同的风格\n",
    "\n",
    "2021.08.25\n",
    "\n",
    "绘制整个空间上的taylor图，辅助空间pattern说明平均态下的各个统计指标的情况"
   ]
  },
  {
   "cell_type": "markdown",
   "metadata": {},
   "source": [
    "## 数据读入\n",
    "\n",
    "读入分区之后的数据"
   ]
  },
  {
   "cell_type": "code",
   "execution_count": null,
   "metadata": {},
   "outputs": [],
   "source": [
    "dir_in = \"/raid52/yycheng/MPAS/REFERENCE/TEMP_DATA_large/pre/ordata/\"\n",
    "filename_obs  = \"obsmerge_pre_98-17.nc\"\n",
    "filename_vr     = \"vr_pre_98-17.nc\"\n",
    "filename_rcm    = \"rcm_pre_98-17.nc\"\n",
    "\n",
    "ds_or = {}\n",
    "ds_or['obs'] = xr.open_dataset(dir_in + filename_obs)\n",
    "ds_or['vr']     = xr.open_dataset(dir_in + filename_vr)\n",
    "ds_or['rcm']    = xr.open_dataset(dir_in + filename_rcm  )\n",
    "# 提取变量\n",
    "var = {}\n",
    "var['obs'] = ds_or['obs']['premerge']#[:,  :, :]\n",
    "var['vr'] = ds_or['vr']['precip_MPAS']\n",
    "var['rcm'] = ds_or['rcm']['precip_MPAS']\n",
    "\n",
    "var['obs'] = var['obs'].reset_coords(names = 'lev', drop = True) # 去除掉obs中多余的lev coords\n",
    "\n",
    "# change coords\n",
    "var_list = ['obs', 'vr', 'rcm']\n",
    "for i in var_list:\n",
    "    rename_dict = dict(zip(var[i].coords.keys(), var['obs'].coords.keys()))\n",
    "#     # show converting coords\n",
    "    for rename_i in rename_dict:\n",
    "        print(rename_i + \" -----converting to----- \" + rename_dict[rename_i])\n",
    "\n",
    "    var[i] = var[i].rename(rename_dict)\n",
    "    var[i]._coords = var['obs']._coords\n",
    "    var[i] = var[i].rename(i)\n"
   ]
  },
  {
   "cell_type": "markdown",
   "metadata": {},
   "source": [
    "## 计算部分"
   ]
  },
  {
   "cell_type": "markdown",
   "metadata": {},
   "source": [
    "### 提取指标"
   ]
  },
  {
   "cell_type": "code",
   "execution_count": null,
   "metadata": {},
   "outputs": [],
   "source": [
    "var_index = {}\n",
    "# var_index['am'] = {}\n",
    "# var_index['jja'] = {}\n",
    "\n",
    "time_idx = {}\n",
    "time_idx['am'] = var['obs'].time.dt.month.isin([4,5])\n",
    "time_idx['jja'] = var['obs'].time.dt.month.isin([6,7,8])\n",
    "\n",
    "for mod_name in ['obs', 'vr', 'rcm']:\n",
    "    var_index[mod_name] = {}\n",
    "    for iseason in ['am','jja']:\n",
    "        var_index[mod_name][iseason] = {}\n",
    "        var_selmonth = var[mod_name].isel(time = time_idx[iseason]) # 选取月份的mod变量，后续通过它计算指标\n",
    "        rainday_cond   = (var_selmonth>=0.1)\n",
    "        var_index[mod_name][iseason]['mean'] =  var_selmonth.mean(dim = \"time\")\n",
    "        var_index[mod_name][iseason]['rainday'] = xr.where(rainday_cond, 1., 0.)# 降水日，需要进行累加\n",
    "        var_index[mod_name][iseason]['rainday_filter'] = xr.where(rainday_cond, var_selmonth, np.nan)# rainday 的降水强度\n",
    "        var_index[mod_name][iseason]['quantile_95'] =  var_selmonth.quantile(0.95, dim='time') # 95% 分位数的位置\n"
   ]
  },
  {
   "cell_type": "code",
   "execution_count": null,
   "metadata": {},
   "outputs": [],
   "source": [
    "# 计算指数的平均值\n",
    "var_index_mean = {}\n",
    "month_in_season = {}\n",
    "month_in_season['am'] = 1220. / 30 # var_index[mod_name][iseason]['rainday'].shape[0]\n",
    "month_in_season['jja'] = 1840. / 30 # 计算30天内的rainday的频率用\n",
    "\n",
    "# rcm_not_nan = ~np.isnan(var['rcm'][0,:,:]) # 添加新的nan，rainday经过计算后nan消失\n",
    "\n",
    "for mod_name in ['obs', 'vr', 'rcm']:\n",
    "    var_index_mean[mod_name] = {}\n",
    "    for iseason in ['am','jja']:\n",
    "        var_index_mean[mod_name][iseason] = {}\n",
    "        var_index_mean[mod_name][iseason]['quantile_95'] = var_index[mod_name][iseason]['quantile_95']\n",
    "        var_index_mean[mod_name][iseason]['mean'] = var_index[mod_name][iseason]['mean']\n",
    "        var_index_mean[mod_name][iseason]['rainday'] = var_index[mod_name][iseason]['rainday'].sum(dim = 'time') / month_in_season[iseason]\n",
    "        # 降水强度有一些OBS上存在NAN，这里先填充为0\n",
    "        var_index_mean[mod_name][iseason]['rainday_filter'] = var_index[mod_name][iseason]['rainday_filter'].mean(dim = 'time')\n",
    "        var_index_mean[mod_name][iseason]['rainday_filter'] = var_index_mean[mod_name][iseason]['rainday_filter'].fillna(0)"
   ]
  },
  {
   "cell_type": "markdown",
   "metadata": {},
   "source": [
    "### 进行泰勒图前处理\n",
    "\n",
    "将所有数据进行空间pattern的1D化，并且添加到RCM的MASK"
   ]
  },
  {
   "cell_type": "code",
   "execution_count": null,
   "metadata": {},
   "outputs": [],
   "source": [
    "# 进行mask，并且整理成1D数组，得到1D-pattern，用于后续的计算\n",
    "# 计算指数的平均值\n",
    "var_index_mean_1d = {}\n",
    "\n",
    "for mod_name in ['obs', 'vr', 'rcm']:\n",
    "    var_index_mean_1d[mod_name] = {}\n",
    "    for iseason in ['am','jja']:\n",
    "        var_index_mean_1d[mod_name][iseason] = {}\n",
    "        for count_way in ['quantile_95', 'mean', 'rainday', 'rainday_filter']:\n",
    "            var_index_mean_1d[mod_name][iseason][count_way] = {} \n",
    "            rcm_not_nan = ~np.isnan(var['rcm'][0,:,:]) # 添加新的nan，rainday经过计算后nan消失\n",
    "            var_1d_temp = xr.where(rcm_not_nan, var_index_mean[mod_name][iseason][count_way], np.nan).values.ravel()\n",
    "            var_index_mean_1d[mod_name][iseason][count_way] = var_1d_temp[~np.isnan(var_1d_temp)]"
   ]
  },
  {
   "cell_type": "markdown",
   "metadata": {},
   "source": [
    "### 计算泰勒图诸要素，并整理进行绘图"
   ]
  },
  {
   "cell_type": "code",
   "execution_count": null,
   "metadata": {},
   "outputs": [],
   "source": [
    "# 计算泰勒图诸要素 到字典taylor_ts中\n",
    "\n",
    "\n",
    "# 进行mask，并且整理成1D数组，得到1D-pattern，用于后续的计算\n",
    "# 计算指数的平均值\n",
    "taylor_space = {}\n",
    "\n",
    "for mod_name in ['obs', 'vr', 'rcm']:\n",
    "    taylor_space[mod_name] = {}\n",
    "    for iseason in ['am','jja']:\n",
    "        taylor_space[mod_name][iseason] = {}\n",
    "        for count_way in ['quantile_95', 'mean', 'rainday', 'rainday_filter']:\n",
    "            taylor_space[mod_name][iseason][count_way] = {} \n",
    "            temp_obs = var_index_mean_1d['obs'][iseason][count_way]\n",
    "            temp_mod = var_index_mean_1d[mod_name][iseason][count_way]\n",
    "            # remove nan\n",
    "            temp_obs = temp_obs[~np.isnan(temp_obs)]\n",
    "            temp_mod = temp_mod[~np.isnan(temp_mod)]\n",
    "            # taylor count\n",
    "            taylor_space[mod_name][iseason][count_way] = sm.taylor_statistics(temp_mod, temp_obs)\n",
    "            # normalized 注意先后顺序，先归一化CRMSD，再SDEV，否则用归一化后的SDEV计算RMSD会出现问题\n",
    "            taylor_space[mod_name][iseason][count_way]['crmsd'] = taylor_space[mod_name][iseason][count_way]['crmsd'] / taylor_space[mod_name][iseason][count_way]['sdev'][0]\n",
    "            taylor_space[mod_name][iseason][count_way]['sdev'] = taylor_space[mod_name][iseason][count_way]['sdev'] / taylor_space[mod_name][iseason][count_way]['sdev'][0]"
   ]
  },
  {
   "cell_type": "markdown",
   "metadata": {},
   "source": [
    "## 绘图部分\n",
    "\n",
    "逐个点的绘制泰勒图，单独为每个点的属性设置相应的特征"
   ]
  },
  {
   "cell_type": "markdown",
   "metadata": {},
   "source": [
    "### 检查数据-制表"
   ]
  },
  {
   "cell_type": "code",
   "execution_count": null,
   "metadata": {},
   "outputs": [],
   "source": [
    "table_taylor_metrics = []\n",
    "for model in ['vr', 'rcm']:\n",
    "    for season in ['am','jja']:\n",
    "        table_temp = pd.DataFrame.from_dict( taylor_space[model][season] ) \n",
    "        table_temp['model']  = model\n",
    "        table_temp['season'] = season\n",
    "        table_taylor_metrics.append(table_temp)\n",
    "\n",
    "table_taylor_metrics = pd.concat(table_taylor_metrics)\n",
    "# table_taylor_metrics\n",
    "table_taylor_metrics.loc['crmsd']\n",
    "# table_taylor_metrics.loc['sdev']"
   ]
  },
  {
   "cell_type": "markdown",
   "metadata": {},
   "source": [
    "### taylor图"
   ]
  },
  {
   "cell_type": "code",
   "execution_count": null,
   "metadata": {},
   "outputs": [],
   "source": [
    "# import skill_metrics as sm\n",
    "# import importlib\n",
    "# importlib.reload(sm)\n",
    "\n",
    "# fig, axs = pplt.subplots(ncols=1 ,nrows=1)\n",
    "fig = plt.figure(figsize=(6, 6), dpi=600)\n",
    "\n",
    "first_plot = False # 用作后续overlay设置\n",
    "\n",
    "# 创建风格的dict,之后传入每个单独的点来进行绘制\n",
    "# # Define markers\n",
    "# kind = ['+','o','x','s','d','^','v','p','h','*']\n",
    "# colorm = ['b','r','g','c','m','y','k']\n",
    "imodiseason_color = {'vr am':\"darkorange\", 'vr jja':\"red\",'rcm am':'cyan', \"rcm jja\":\"blue\"}\n",
    "# iregion_style_color = {\"NE\":\"m\", \"NC\":\"y\", \"YZ\":\"c\", \"SC\":\"b\",'SW':\"g\",'NWC':\"tab:gray\"}\n",
    "# iseason_style_marker = {'am':'.',\"jja\":'v'}\n",
    "\n",
    "count_way_marker = {'mean':\"o\",\"quantile_95\":\"X\",\"rainday\":\"d\",\"rainday_filter\":\"^\"}\n",
    "really_names     = {'mean':\"mean\",\"quantile_95\":\"95th percentile\",\"rainday\":\"rainy day\",\"rainday_filter\":\"rainy day intensity\"}\n",
    "\n",
    "\n",
    "for imod in ['vr','rcm']:\n",
    "    for iseason in ['am','jja']:\n",
    "        for count_way in  ['quantile_95', 'mean', 'rainday', 'rainday_filter']:\n",
    "            # 获取每个点的泰勒图诸要素\n",
    "            sdev_plot = taylor_space[imod][iseason][count_way]['sdev']\n",
    "            crmsd_plot = taylor_space[imod][iseason][count_way]['crmsd']\n",
    "            ccoef_plot = taylor_space[imod][iseason][count_way]['ccoef']\n",
    "\n",
    "            sm.taylor_diagram(sdev_plot,crmsd_plot,ccoef_plot, \n",
    "                #----- mark setting -----\n",
    "                MarkerDisplayed = 'marker',\n",
    "                # markerLabel = label2, \n",
    "                # numberPanels = 1,\n",
    "                # markerLabel = ['obs','vr','rcm'],\n",
    "                # markerLabel = ['obs', imod.upper()],\n",
    "                # markerLabelColor = imod_style_color[imod],\n",
    "                markerlegend = \"off\",\n",
    "                markerColor = imodiseason_color[imod + \" \" + iseason],\n",
    "                # markerColor = 'k',\n",
    "                markerSize = 6,\n",
    "                alpha = .5, \n",
    "                # -----RNSD-----\n",
    "                # tickRMS = np.arange(0,1.8,0.2),\n",
    "                tickRMS = np.arange(0,1.6,0.2),\n",
    "                tickRMSangle = 70, \n",
    "                colRMS = 'g', styleRMS = ':', widthRMS = 1.5,\n",
    "                # tickCOR = lsCOR,\n",
    "                showlabelsRMS = \"on\",\n",
    "                titleRMS = \"off\",\n",
    "                rmslabelformat = ':.1f',\n",
    "                # -----COR-----\n",
    "                colCOR = \"k\", \n",
    "                widthCOR = 1.0,\n",
    "                # -----STD------\n",
    "                tickSTD = np.arange(0,2.1,0.25), axismax = 2.1, \n",
    "                showlabelsSTD = 'on',\n",
    "                # markersymbol = iseason_style_marker[iseason],\n",
    "                # markersymbol = combine_mod_season_marker[imod + \" \" + iseason],\n",
    "                markersymbol = count_way_marker[count_way],\n",
    "                # -----marker reference-----\n",
    "                styleOBS = '-', \n",
    "                colOBS = 'k',\n",
    "                markerobs = 'o', \n",
    "                overlay = first_plot,\n",
    "                titleOBS = 'observation',\n",
    "                # ------ check -----\n",
    "                checkStats = True,\n",
    "            )\n",
    "            # break\n",
    "            first_plot = True\n",
    "\n",
    "\n",
    "# legend设置，颜色以及型号\n",
    "# custom legend\n",
    "from matplotlib.patches import Patch\n",
    "from matplotlib.lines import Line2D\n",
    "legend_elements = []\n",
    "for i in imodiseason_color.items():\n",
    "    legend_elements.append( Patch(facecolor=i[1],label=i[0].upper()))\n",
    "\n",
    "for i in count_way_marker.items():\n",
    "    legend_elements.append( Line2D([0], [0], marker=i[1], color='w', label=really_names[i[0]], linestyle=None,\n",
    "                          markerfacecolor='k', markersize=6)) \n",
    "\n",
    "fig.legend(handles=legend_elements, loc='upper right', bbox_to_anchor=(.9,0.95),prop={'size': 6}, ncol=2)\n",
    "fig.suptitle(\"daily precipitation\")\n",
    "fig.text(0.025,.95,\"(a)\", fontsize = 16, fontweight = \"bold\", color = 'k')\n",
    "#saving pics\n",
    "plt.savefig(\"./output_pic/pre_taylor_space_all.png\",dpi=600, facecolor = 'white')"
   ]
  }
 ],
 "metadata": {
  "interpreter": {
   "hash": "da0469cb1653dac5810650c6f9c12d7c46a389e85e448c305f1477fdb1af5288"
  },
  "kernelspec": {
   "display_name": "Python 3.8.2 64-bit ('proplot0528': conda)",
   "name": "python3"
  },
  "language_info": {
   "codemirror_mode": {
    "name": "ipython",
    "version": 3
   },
   "file_extension": ".py",
   "mimetype": "text/x-python",
   "name": "python",
   "nbconvert_exporter": "python",
   "pygments_lexer": "ipython3",
   "version": "3.8.2"
  },
  "orig_nbformat": 4
 },
 "nbformat": 4,
 "nbformat_minor": 2
}

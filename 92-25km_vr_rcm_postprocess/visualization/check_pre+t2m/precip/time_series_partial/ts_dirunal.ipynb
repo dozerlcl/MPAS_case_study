{
 "cells": [
  {
   "cell_type": "code",
   "execution_count": 1,
   "metadata": {},
   "outputs": [],
   "source": [
    "import xarray as xr\n",
    "import numpy  as np\n",
    "# import seaborn as sns\n",
    "import proplot as pplt\n",
    "import pandas as pd\n",
    "import matplotlib.pyplot as plt"
   ]
  },
  {
   "cell_type": "markdown",
   "metadata": {},
   "source": [
    "# 数据读入 + 预处理diurnal部分\n",
    "2021.12.26\n",
    "\n",
    "添加diurnal部分，进行日变化序列的分析，拆分到两个季节以及不同的子区域上。\n",
    "\n",
    "因为逐小时数据量较大，在前半部分数据需要进行预处理，先处理出逐小时的3D数组，存放后进行后半部分的绘图。\n",
    "\n",
    "临时数据存放在 ./nc_output/ 下\n",
    "\n",
    "RCM和VR足够相似，LBCs对于diurnal的改善效果较小。\n",
    "\n"
   ]
  },
  {
   "cell_type": "markdown",
   "metadata": {},
   "source": [
    "## 数据预处理"
   ]
  },
  {
   "cell_type": "markdown",
   "metadata": {},
   "source": [
    "### CMORPH v1.0 30km 8mins"
   ]
  },
  {
   "cell_type": "code",
   "execution_count": null,
   "metadata": {},
   "outputs": [],
   "source": [
    "path_in = \"/raid52/yycheng/MPAS/REFERENCE/CMORPH/CMORPHv1.0ADJ_30mins_8km/CMORPH_hourly_1998-2017/\"\n",
    "ds_cmorph = xr.open_mfdataset(path_in + \"CMORPH*.nc\")"
   ]
  },
  {
   "cell_type": "code",
   "execution_count": null,
   "metadata": {},
   "outputs": [],
   "source": [
    "temp_da = ds_cmorph['cmorph'][:,0,:,:].load()\n",
    "time_seasonal_ind = {}\n",
    "time_seasonal_ind['am'] = temp_da.time.dt.month.isin([4,5])\n",
    "time_seasonal_ind['jja'] = temp_da.time.dt.month.isin([6,7,8])\n",
    "\n",
    "da_out = {}\n",
    "for season in ['am', 'jja']:\n",
    "    temp_seasonal = temp_da.isel(time = time_seasonal_ind[season])\n",
    "    # 计算diurnal序列 3D\n",
    "    temp_seasonal = temp_seasonal.groupby(temp_seasonal.time.dt.hour).mean()\n",
    "    da_out[season] = temp_seasonal\n",
    "    del(temp_seasonal)"
   ]
  },
  {
   "cell_type": "code",
   "execution_count": null,
   "metadata": {},
   "outputs": [],
   "source": [
    "xr.Dataset(da_out).rename({\"am\":\"cmorph_am\",\"jja\":\"cmorph_jja\"}).to_netcdf(\"./output_nc/cmorph_diurnal.nc\")"
   ]
  },
  {
   "cell_type": "markdown",
   "metadata": {},
   "source": [
    "### MPAS VR & RCM cases"
   ]
  },
  {
   "cell_type": "code",
   "execution_count": null,
   "metadata": {},
   "outputs": [],
   "source": [
    "mod_type = \"RCM\"\n",
    "path_in = \"/raid52/yycheng/MPAS/\"+mod_type+\"_postprocess/\"+mod_type+\"_merge_large/pre_hourly/\"\n",
    "ds_temp = xr.open_mfdataset(path_in + \"merge_pre_????_*.nc\")"
   ]
  },
  {
   "cell_type": "code",
   "execution_count": null,
   "metadata": {},
   "outputs": [],
   "source": [
    "ds_temp\n",
    "time_seasonal_ind = {}\n",
    "time_seasonal_ind['am'] = ds_temp.Time.dt.month.isin([4,5])\n",
    "time_seasonal_ind['jja'] = ds_temp.Time.dt.month.isin([6,7,8])\n",
    "\n",
    "ds_out = {}\n",
    "for season in ['am', 'jja']:\n",
    "    temp_seasonal = ds_temp.isel(Time = time_seasonal_ind[season])\n",
    "    temp_seasonal = temp_seasonal.groupby(temp_seasonal.Time.dt.hour).mean()\n",
    "    ds_out[season] = temp_seasonal\n",
    "    ds_out[season].to_netcdf(\"./output_nc/\" + mod_type + \"_\" + season +\"_diurnal.nc\")"
   ]
  },
  {
   "cell_type": "markdown",
   "metadata": {},
   "source": [
    "## 整理计算部分\n",
    "拆分到不同的子区域"
   ]
  },
  {
   "cell_type": "code",
   "execution_count": 2,
   "metadata": {},
   "outputs": [],
   "source": [
    "ds_in = {}\n",
    "for season in ['am', 'jja']:\n",
    "    ds_in[season] = {}\n",
    "    ds_in[season]['cmorph'] = xr.open_dataset(\"./output_nc/cmorph_diurnal.nc\")[\"cmorph_\"+ season].rename({\"lat\":\"latitude\",\"lon\":\"longitude\"})\n",
    "    ds_in[season]['vr']     = xr.open_dataset(\"./output_nc/VR_\"+season+\"_diurnal.nc\")\n",
    "    ds_in[season]['rcm']    = xr.open_dataset(\"./output_nc/RCM_\"+season+\"_diurnal.nc\")\n"
   ]
  },
  {
   "cell_type": "code",
   "execution_count": 3,
   "metadata": {},
   "outputs": [],
   "source": [
    "select_regions = {}\n",
    "select_regions['NE'] = {\"slat\":42. , \"nlat\":53. , \"wlon\":114. , \"elon\": 134}\n",
    "select_regions['NC'] = {\"slat\":34. , \"nlat\":42. , \"wlon\":107. , \"elon\": 123.}\n",
    "select_regions['YZ'] = {\"slat\":26. , \"nlat\":34. , \"wlon\":107. , \"elon\": 123.}\n",
    "select_regions['SC'] = {\"slat\":18. , \"nlat\":26. , \"wlon\":107. , \"elon\": 126.}\n",
    "select_regions['SW'] = {\"slat\":22. , \"nlat\":28. , \"wlon\":98. , \"elon\": 107.}\n",
    "select_regions['NWC'] = {\"slat\":35. , \"nlat\":48. , \"wlon\":77. , \"elon\": 100.}\n",
    "\n",
    "ts_regional = {}\n",
    "for season in ['am', 'jja']:\n",
    "    ts_regional[season] = {}\n",
    "    for model in ['cmorph', 'vr', 'rcm']:\n",
    "        ts_regional[season][model] = {}\n",
    "        latitude = ds_in[season][model].latitude\n",
    "        longitude = ds_in[season][model].longitude\n",
    "        for region in select_regions:\n",
    "            select_dict_temp = {}\n",
    "            select_dict_temp['latitude'] = ( latitude >= select_regions[region]['slat'] ) & ( latitude <= select_regions[region]['nlat'] )\n",
    "            select_dict_temp['longitude'] = ( longitude >= select_regions[region]['wlon'] ) & ( longitude <= select_regions[region]['elon'] )\n",
    "            ts_regional[season][model][region] = ds_in[season][model].isel(select_dict_temp).mean(dim = ['latitude', 'longitude'])"
   ]
  },
  {
   "cell_type": "code",
   "execution_count": 4,
   "metadata": {},
   "outputs": [
    {
     "data": {
      "text/plain": [
       "{'am': {'NE':           Bias       RMSE     Corr.\n",
       "  vr   0.0368559  0.0380612  0.257034\n",
       "  rcm  0.0309815    0.03231  0.273526,\n",
       "  'NC':           Bias       RMSE     Corr.\n",
       "  vr   0.0139799  0.0172396 -0.416652\n",
       "  rcm  0.0136154  0.0172071 -0.543551,\n",
       "  'NWC':            Bias        RMSE     Corr.\n",
       "  vr   0.00645438    0.010246  0.166831\n",
       "  rcm  0.00468173  0.00920049  0.224743,\n",
       "  'SC':           Bias       RMSE     Corr.\n",
       "  vr   0.0426629   0.053318  0.392422\n",
       "  rcm  0.0278459  0.0394883   0.49595,\n",
       "  'SW':           Bias       RMSE     Corr.\n",
       "  vr   0.0848786   0.093136 -0.199104\n",
       "  rcm  0.0697499  0.0792471 -0.196456,\n",
       "  'YZ':           Bias       RMSE     Corr.\n",
       "  vr   0.0604271  0.0628262  0.783125\n",
       "  rcm  0.0600033  0.0631818  0.427364},\n",
       " 'jja': {'NE':           Bias       RMSE     Corr.\n",
       "  vr   0.0444633  0.0545196   0.17105\n",
       "  rcm  0.0485023  0.0584491  0.232935,\n",
       "  'NC':           Bias       RMSE     Corr.\n",
       "  vr   0.0476869  0.0656582 -0.583605\n",
       "  rcm  0.0290064  0.0481936 -0.653062,\n",
       "  'NWC':            Bias       RMSE     Corr.\n",
       "  vr  -0.00840715  0.0135773  0.341833\n",
       "  rcm  0.00495868  0.0136842  0.480479,\n",
       "  'SC':           Bias      RMSE      Corr.\n",
       "  vr    0.166318  0.183201 -0.0714543\n",
       "  rcm  0.0940041  0.121775   0.100207,\n",
       "  'SW':           Bias       RMSE      Corr.\n",
       "  vr   0.0167295  0.0810514 -0.0326231\n",
       "  rcm  0.0648389   0.106649   -0.22915,\n",
       "  'YZ':           Bias       RMSE      Corr.\n",
       "  vr  -0.0548024  0.0780059  0.0281876\n",
       "  rcm -0.0200137  0.0655591 -0.0850177}}"
      ]
     },
     "execution_count": 4,
     "metadata": {},
     "output_type": "execute_result"
    }
   ],
   "source": [
    "import skill_metrics as sm\n",
    "metrics_ts = {}\n",
    "for season in ['am', 'jja']:\n",
    "    metrics_ts[season] = {}           \n",
    "    for region in [\"NE\", \"NC\", \"NWC\", \"SC\",'SW','YZ']:\n",
    "        metrics_ts[season][region] = pd.DataFrame(index = ['vr','rcm'], columns=['Bias','RMSE','Corr.'])     \n",
    "        for model in ['vr', 'rcm']:\n",
    "            temp_obs = ts_regional[season]['cmorph'][region].values\n",
    "            temp_mod = ts_regional[season][model][region]['rainc'].values + ts_regional[season][model][region]['rainnc'].values\n",
    "\n",
    "            metrics_ts[season][region].loc[model]['Bias'] = sm.bias(temp_mod, temp_obs)\n",
    "            metrics_ts[season][region].loc[model]['RMSE'] = sm.rmsd(temp_mod, temp_obs)\n",
    "            metrics_ts[season][region].loc[model]['Corr.'] = np.corrcoef(temp_mod, temp_obs)[0,1]\n",
    "    \n",
    "metrics_ts\n",
    "#     # 对style进行调整，用于后续展示表格\n",
    "#     # https://pandas.pydata.org/pandas-docs/stable/user_guide/style.html\n",
    "#     # metrics_ts[iregion] = metrics_ts[iregion].style.format(\"{:,.3f}\")"
   ]
  },
  {
   "cell_type": "markdown",
   "metadata": {},
   "source": [
    "## 绘图部分\n",
    "注意时间坐标需要从UTC转化到Shanghai时间（作为本地时间的参考），shanghai时间 0 - 23 时 是 UTC 15-23...0-14 时"
   ]
  },
  {
   "cell_type": "code",
   "execution_count": 5,
   "metadata": {},
   "outputs": [
    {
     "data": {
      "text/plain": [
       "array([16, 17, 18, 19, 20, 21, 22, 23,  0,  1,  2,  3,  4,  5,  6,  7,  8,\n",
       "        9, 10, 11, 12, 13, 14, 15])"
      ]
     },
     "execution_count": 5,
     "metadata": {},
     "output_type": "execute_result"
    }
   ],
   "source": [
    "# 绘制时间在北京时间的 00 - 23 \n",
    "BJT_hour = pd.date_range(\"1998-04-01T00:00:00\",\"1998-04-01T23:00:00\", freq = 'H', tz = 'Asia/Shanghai')\n",
    "BJT_hourinUTC = BJT_hour.tz_convert('UTC').hour.values\n",
    "# 找到对应的UTC时间\n",
    "BJT_hourinUTC"
   ]
  },
  {
   "cell_type": "code",
   "execution_count": 9,
   "metadata": {},
   "outputs": [
    {
     "data": {
      "text/plain": [
       "<matplotlib.legend.Legend at 0x2ba2a1882af0>"
      ]
     },
     "execution_count": 9,
     "metadata": {},
     "output_type": "execute_result"
    },
    {
     "data": {
      "image/png": "[encoded data removed]",
      "text/plain": [
       "<Figure size 400x400 with 1 Axes>"
      ]
     },
     "metadata": {},
     "output_type": "display_data"
    }
   ],
   "source": [
    "plt.plot(ts_regional[season]['cmorph'][region].values, color = 'r',label = 'UTC')\n",
    "plt.plot(ts_regional[season]['cmorph'][region].sel(hour = BJT_hourinUTC).values, color = 'b', label = 'BJT')\n",
    "plt.legend()"
   ]
  },
  {
   "cell_type": "code",
   "execution_count": null,
   "metadata": {},
   "outputs": [],
   "source": [
    "from matplotlib.font_manager import FontProperties\n",
    "\n",
    "fig, axs = pplt.subplots(ncols=3 ,nrows=4, share=1)\n",
    "\n",
    "UTC_hour = pd.date_range(\"1998-04-01T00:00:00\",\"1998-04-01T23:00:00\", freq = 'H')\n",
    "\n",
    "plot_ind = 0\n",
    "for season in ['am', 'jja']:\n",
    "        for region in [\"NE\", \"NC\", \"NWC\", \"SC\",'SW','YZ']:\n",
    "                model  = 'cmorph'\n",
    "                plot_var  = ts_regional[season][model][region].sel(hour = BJT_hourinUTC).values\n",
    "                obs_plot  = axs[plot_ind].plot(UTC_hour, plot_var, color = 'k', label = 'CMORPH', lw = 2.)\n",
    "                model  = 'vr'\n",
    "                plot_rainc  = ts_regional[season][model][region].sel(hour = BJT_hourinUTC)['rainc']\n",
    "                plot_rainnc  = ts_regional[season][model][region].sel(hour = BJT_hourinUTC)['rainnc']\n",
    "                plot_var = plot_rainc.values + plot_rainnc.values\n",
    "                vr_plot  = axs[plot_ind].plot(UTC_hour, plot_var, color = 'r', label = 'VR')\n",
    "                # obs_plot  = axs[plot_ind].plot(UTC_hour, plot_rainc, color = 'r', label = 'VR', linestyle = \"dashdot\")\n",
    "                # obs_plot  = axs[plot_ind].plot(UTC_hour, plot_rainnc, color = 'r', label = 'VR', linestyle = \"--\")\n",
    "                model  = 'rcm'\n",
    "                plot_rainc  = ts_regional[season][model][region].sel(hour = BJT_hourinUTC)['rainc']\n",
    "                plot_rainnc  = ts_regional[season][model][region].sel(hour = BJT_hourinUTC)['rainnc']\n",
    "                plot_var = plot_rainc.values + plot_rainnc.values\n",
    "                rcm_plot  = axs[plot_ind].plot(UTC_hour, plot_var, color = 'b', label = 'RCM')\n",
    "                # obs_plot  = axs[plot_ind].plot(UTC_hour, plot_rainc, color = 'b', label = 'RCM', linestyle = \"dashdot\")\n",
    "                # obs_plot  = axs[plot_ind].plot(UTC_hour, plot_rainnc, color = 'b', label = 'RCM', linestyle = \"--\")\n",
    "                axs[plot_ind].format(title = region, titleloc = 'uc')\n",
    "\n",
    "\n",
    "                # ----- add table on axis -----\n",
    "                # 参考回答：https://stackoverflow.com/questions/54150557/how-to-show-dataframe-index-name-on-a-matplotlib-table\n",
    "                # 使用bbox调整表格的大小\n",
    "                plot_table = metrics_ts[season][region]\n",
    "                table = axs[plot_ind].table(cellText=np.matrix.round(plot_table.values.astype('float'),3),\\\n",
    "                rowLabels=[\"$\\\\bf{VR}$\",\"$\\\\bf{RCM}$\"], colLabels=plot_table.columns, loc = 'upper left',colColours=['gainsboro'] * 3,\\\n",
    "                colWidths = [0.13]*3, bbox = [0.1, 0., 0.35, 0.15])\n",
    "                # table.set_fontweight('roman')\n",
    "                #  colColours=['gainsboro'] * len(plot_table), colLabels=plot_table.columns, loc='center',\n",
    "                #  colWidths= [0.12]*(len(plot_table.columns)))\n",
    "                for (row, col), cell in table.get_celld().items():\n",
    "                        if ((row == 0)):\n",
    "                                cell.set_text_props(fontproperties=FontProperties(weight='bold'))\n",
    "\n",
    "                plot_ind = plot_ind + 1\n",
    "\n",
    "# ----- limit setting ----- #\n",
    "# ----- NE & NC  ----- #\n",
    "axs[0, 0:2].format(ylim = (0.0,0.1))\n",
    "axs[2, 0:2].format(ylim = (0.05,0.25))\n",
    "# ----- NWC      ----- #\n",
    "axs[0, 2].format(ylim = (0.0,0.05))\n",
    "axs[2, 2].format(ylim = (0.0,0.07))\n",
    "# ----- SC SW YZ ----- #\n",
    "axs[1, 0:3].format(ylim = (0.0,0.35))\n",
    "axs[3, 0:3].format(ylim = (0.1,0.55))\n",
    "\n",
    "\n",
    "axs[0:2,:].format(ltitle = 'AM')\n",
    "axs[2:4,:].format(ltitle = 'JJA')                \n",
    "axs.format(\n",
    "        abc = True,\n",
    "        abcloc = 'ul',\n",
    "# ----- title format       -----\n",
    "        suptitle = 'diurnal precipitation [mm/hr]',\n",
    "        xlabel  = 'hour [local time]',\n",
    "        # leftlabels=('AM', 'AM','JJA', 'JJA'),\n",
    "# ----- time ticks setting -----\n",
    "        xlim=(np.datetime64('1998-04-01T00:00:00'), np.datetime64('1998-04-01T23:00:00')),\n",
    "        xrotation = False,\n",
    "        xgrid = True,\n",
    "        xgridminor = True,\n",
    "        ygridminor = True,\n",
    "        xminorlocator=('hour',range(0,24,1)),\n",
    "        xlocator=('hour',range(0,24,3)),\n",
    "        xformatter = '%H', #title='Ticks every N units',\n",
    ")\n",
    "\n",
    "# ----- add legend -----\n",
    "axs[3,2].legend([obs_plot,vr_plot,rcm_plot], loc='ur', ncols=1, frame=False)"
   ]
  },
  {
   "cell_type": "code",
   "execution_count": null,
   "metadata": {},
   "outputs": [],
   "source": [
    "# saving figs\n",
    "fig.savefig(\"./output_pic/hourlypre_ts_6region_12.27.png\", dpi = 600, facecolor = \"white\")"
   ]
  }
 ],
 "metadata": {
  "interpreter": {
   "hash": "5d125e8d1f62ef65bf14791ddcc54379be6b4b51969987cfa8a226a16aec3b4e"
  },
  "kernelspec": {
   "display_name": "Python 3.8.2 64-bit ('proplot0528': conda)",
   "language": "python",
   "name": "python3"
  },
  "language_info": {
   "codemirror_mode": {
    "name": "ipython",
    "version": 3
   },
   "file_extension": ".py",
   "mimetype": "text/x-python",
   "name": "python",
   "nbconvert_exporter": "python",
   "pygments_lexer": "ipython3",
   "version": "3.8.2"
  },
  "orig_nbformat": 4
 },
 "nbformat": 4,
 "nbformat_minor": 2
}

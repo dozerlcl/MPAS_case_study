{
 "cells": [
  {
   "cell_type": "code",
   "execution_count": null,
   "metadata": {},
   "outputs": [],
   "source": [
    "import xarray as xr\n",
    "import numpy  as np\n",
    "import pandas as pd\n",
    "import proplot as pplt\n",
    "import matplotlib.pyplot as plt\n",
    "from sklearn.neighbors import KernelDensity\n",
    "import copy"
   ]
  },
  {
   "cell_type": "markdown",
   "metadata": {},
   "source": [
    "# 进行空间pattern的PDF分布的绘制\n",
    "2021.07.15\n",
    "\n",
    "需要先计算四个区域的平均的时间序列，将AM和JJA拆分开来，之后计算AM JJA各自的经验分布函数，并绘图"
   ]
  },
  {
   "cell_type": "markdown",
   "metadata": {},
   "source": [
    "读取数据计算平均的函数\n",
    "\n",
    "-   计算am jja两个时间段\n",
    "-   处理为空间pattern\n",
    "\n",
    "2022.01.30\n",
    "\n",
    "-   计算整体的MJJA时间段的情况"
   ]
  },
  {
   "cell_type": "code",
   "execution_count": null,
   "metadata": {},
   "outputs": [],
   "source": [
    "# 提取AM & JJA的降水的时间序列\n",
    "# get partial mask_res collect into a dict\n",
    "partial_list = [\"NE\", \"NC\",\"NWC\", \"YZ\", \"SC\",\"SW\"]\n",
    "path_in = \"/raid52/yycheng/MPAS/REFERENCE/TEMP_DATA_large/partial_pre\"\n",
    "file_ref= \"obsmerge_pre_98-17.nc\"\n",
    "file_vr = \"vr_pre_98-17.nc\"\n",
    "file_rcm = \"rcm_pre_98-17.nc\"\n",
    "\n",
    "partial_mean = {} # partial mask_res\n",
    "\n",
    "for iregion in partial_list:\n",
    "    partial_mean[iregion] = {}\n",
    "    path_in_partial = path_in + \"/\" + iregion + \"/ordata\" # refine path\n",
    "    print(path_in_partial)\n",
    "\n",
    "    # obs\n",
    "    partial_mean[iregion]['obs'] = {}\n",
    "    xr_obs = xr.open_dataset(path_in_partial + \"/\" + file_ref)['premerge']\n",
    "    xr_obs = xr_obs.reset_coords(names = 'lev', drop = True) # 去除掉obs中多余的lev coords\n",
    "    partial_mean[iregion]['obs']['mjja'] = xr_obs.sel(time = xr_obs.time.dt.month.isin([5,6,7,8])).mean(['time'])\n",
    "\n",
    "    # vr\n",
    "    partial_mean[iregion]['vr'] = {}\n",
    "    xr_vr = xr.open_dataset(path_in_partial + \"/\" + file_vr)['precip_MPAS']\n",
    "    partial_mean[iregion]['vr']['mjja'] = xr_vr.sel(Time = xr_vr.Time.dt.month.isin([5,6,7,8])).mean(['Time'])\n",
    "\n",
    "    # rcm\n",
    "    partial_mean[iregion]['rcm'] = {}\n",
    "    xr_rcm = xr.open_dataset(path_in_partial + \"/\" + file_rcm)['precip_MPAS']\n",
    "    partial_mean[iregion]['rcm']['mjja'] = xr_rcm.sel(Time = xr_rcm.Time.dt.month.isin([5,6,7,8])).mean(['Time'])"
   ]
  },
  {
   "cell_type": "markdown",
   "metadata": {},
   "source": [
    " 弃用！使用的是时间序列的PDFs\n",
    "-   计算逐个月份 "
   ]
  },
  {
   "cell_type": "code",
   "execution_count": null,
   "metadata": {},
   "outputs": [],
   "source": [
    "# 提取各月份降水的时间序列\n",
    "# get partial mask_res collect into a dict\n",
    "partial_list = [\"NE\", \"NC\", \"YZ\", \"SW\"]\n",
    "path_in = \"/raid52/yycheng/MPAS/REFERENCE/TEMP_DATA/partial_pre\"\n",
    "file_ref= \"mask_sel_CN05.1_Pre_1961_2018_daily_025x025.nc\"\n",
    "file_vr = \"mask_vr_pre_98-17.nc\"\n",
    "file_rcm = \"mask_rcm_pre_98-17.nc\"\n",
    "\n",
    "partial_mean = {} # partial mask_res\n",
    "\n",
    "for iregion in partial_list:\n",
    "    partial_mean[iregion] = {}\n",
    "    path_in_partial = path_in + \"/\" + iregion + \"/mask_res\" # refine path\n",
    "    print(path_in_partial)\n",
    "\n",
    "    # obs\n",
    "    partial_mean[iregion]['obs'] = {}\n",
    "    xr_obs = xr.open_dataset(path_in_partial + \"/\" + file_ref)['pre']\n",
    "    for imonth in [4,5,6,7,8]:\n",
    "        partial_mean[iregion]['obs'][imonth] = xr_obs.sel(time = xr_obs.time.dt.month.isin(imonth)).mean(['lat','lon'])\n",
    "\n",
    "    # vr\n",
    "    partial_mean[iregion]['vr'] = {}\n",
    "    xr_vr = xr.open_dataset(path_in_partial + \"/\" + file_vr)['precip_MPAS']\n",
    "    for imonth in [4,5,6,7,8]:\n",
    "        partial_mean[iregion]['vr'][imonth] = xr_vr.sel(Time = xr_vr.Time.dt.month.isin(imonth)).mean(['latitude','longitude'])\n",
    "\n",
    "    # rcm\n",
    "    partial_mean[iregion]['rcm'] = {}\n",
    "    xr_rcm = xr.open_dataset(path_in_partial + \"/\" + file_rcm)['precip_MPAS']\n",
    "    for imonth in [4,5,6,7,8]:\n",
    "        partial_mean[iregion]['rcm'][imonth] = xr_rcm.sel(Time = xr_rcm.Time.dt.month.isin(imonth)).mean(['latitude','longitude'])"
   ]
  },
  {
   "cell_type": "markdown",
   "metadata": {},
   "source": [
    "核密度估计"
   ]
  },
  {
   "cell_type": "code",
   "execution_count": null,
   "metadata": {},
   "outputs": [],
   "source": [
    "# 进行核密度估计\n",
    "var_hist   = copy.deepcopy(partial_mean) # 存放直方图\n",
    "var_kernel = copy.deepcopy(partial_mean) # 存放核密度估计结果\n",
    "var_bins   = copy.deepcopy(partial_mean) # 存放x轴 bins\n",
    "for iregion in partial_mean.keys():\n",
    "    for imod in partial_mean[iregion].keys():\n",
    "        for iseason in partial_mean[iregion][imod].keys():\n",
    "            # print(\"----- dealing : \", iregion, imod, iseason)\n",
    "            # var_np = partial_mean[iregion][imod][iseason]\n",
    "            var_np = partial_mean[iregion][imod][iseason].values\n",
    "\n",
    "            num_bins = 1000\n",
    "            kernel_bins = np.linspace(0,40,1000) # 进行核密度估计的x轴\n",
    "            histogram, bins = np.histogram(var_np, bins=num_bins, density=True) # count pdf\n",
    "            bin_centers = 0.5*(bins[1:] + bins[:-1]) #\n",
    "            kernel_test = KernelDensity(bandwidth=1., algorithm='auto', kernel='cosine', metric='euclidean').fit(var_np.reshape(-1, 1))\n",
    "            log_dens    = kernel_test.score_samples(kernel_bins.reshape(-1, 1))\n",
    "            exp_dens    = np.exp(log_dens)\n",
    "\n",
    "            # add to dict\n",
    "            var_hist[iregion][imod][iseason]   = histogram\n",
    "            var_bins[iregion][imod][iseason]   = kernel_bins\n",
    "            var_kernel[iregion][imod][iseason] = exp_dens"
   ]
  },
  {
   "cell_type": "code",
   "execution_count": null,
   "metadata": {},
   "outputs": [],
   "source": [
    "fig, axs = pplt.subplots(ncols = 3, nrows = 2, wspace=0, hspace=0, spanx=True, spany=True, share=3)\n",
    "# wspace hspace设置宽度， span share共享坐标轴\n",
    "axs_index = 0\n",
    "# partial_list = [\"NE\", \"NC\", \"YZ\", \"SW\"]\n",
    "# season_list  = [4,5,6,7,8]\n",
    "season_list  = ['mjja']\n",
    "\n",
    "for iseason in season_list:\n",
    "    for iregion in partial_list:\n",
    "        obs_plot = axs[axs_index].plot(var_bins[iregion]['obs'][iseason], var_kernel[iregion]['obs'][iseason], color='g', label = 'obs')\n",
    "        vr_plot  = axs[axs_index].plot(var_bins[iregion]['vr'][iseason], var_kernel[iregion]['vr'][iseason], color='r', label = 'vr')\n",
    "        rcm_plot = axs[axs_index].plot(var_bins[iregion]['rcm'][iseason], var_kernel[iregion]['rcm'][iseason], color='b', label = 'rcm')\n",
    "\n",
    "        # 设置title\n",
    "        axs[axs_index].format(title = f'{iregion} - {str(iseason)}' ,titleweight='bold',titleloc='uc',\\\n",
    "            ylabel = \"Frequency\",xlabel = \"units:[mm/d]\")\n",
    "        # 添加百分号标签，单独设置ticks（把小数转化成百分数）\n",
    "        # axs[axs_index].set_yticklabels(['{:.1f}%'.format(x*100) for x in axs[axs_index].get_yticks()]) \n",
    "        axs_index = axs_index + 1\n",
    "\n",
    "axs.format(\n",
    "# abc = True,\n",
    "# abcloc=\"ul\",\n",
    "ylim = (0,1),\n",
    "xlim = (0,23),\n",
    "xlocator = 5. ,\n",
    "xminorlocator = 1. ,\n",
    "suptitle = \"daily precipitation\",\n",
    "# ylabel = \"Frequency\",\n",
    "# xlabel = \"domain average precipitation (mm)\"\n",
    ")\n",
    "axs[0,:].format(ylim = (0,0.6))\n",
    "axs[1,:].format(ylim = (0,0.39))\n",
    "# ----- add legend -----\n",
    "axs[2].legend([obs_plot,vr_plot,rcm_plot], loc='lr', ncols=1, frame=False)\n",
    "fig.text(0.075,0.95,\"(a)\", fontsize = 16, fontweight = \"bold\", color = 'k')\n",
    "\n",
    "# saving figs\n",
    "plt.savefig(\"./output_pic/pre_pdf_mjja_space_2022.01.30.png\", dpi = 600, facecolor = \"white\")"
   ]
  }
 ],
 "metadata": {
  "interpreter": {
   "hash": "da0469cb1653dac5810650c6f9c12d7c46a389e85e448c305f1477fdb1af5288"
  },
  "kernelspec": {
   "display_name": "Python 3.8.2 64-bit ('proplot0528': conda)",
   "name": "python3"
  },
  "language_info": {
   "codemirror_mode": {
    "name": "ipython",
    "version": 3
   },
   "file_extension": ".py",
   "mimetype": "text/x-python",
   "name": "python",
   "nbconvert_exporter": "python",
   "pygments_lexer": "ipython3",
   "version": "3.8.2"
  },
  "orig_nbformat": 4
 },
 "nbformat": 4,
 "nbformat_minor": 2
}

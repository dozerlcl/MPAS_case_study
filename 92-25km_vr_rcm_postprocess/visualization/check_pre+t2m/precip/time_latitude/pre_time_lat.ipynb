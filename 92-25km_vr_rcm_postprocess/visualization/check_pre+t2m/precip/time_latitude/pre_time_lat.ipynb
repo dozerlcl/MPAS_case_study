{
 "cells": [
  {
   "cell_type": "code",
   "execution_count": null,
   "metadata": {},
   "outputs": [],
   "source": [
    "import numpy as np\n",
    "import matplotlib.pyplot as plt\n",
    "import xarray as xr\n",
    "import pandas as pd"
   ]
  },
  {
   "cell_type": "markdown",
   "metadata": {},
   "source": [
    "2021.07.06\n",
    "\n",
    "通过python脚本绘制时间、纬向剖面"
   ]
  },
  {
   "cell_type": "markdown",
   "metadata": {},
   "source": [
    "前处理部分，将所有降水变量处理问统一的坐标（来自CN05.1）\n",
    "\n",
    "合并到 var 字典之中，用作后续的绘图\n",
    "\n",
    "remains：\n",
    "- 调整色标\n",
    "- 将时间ticks旋转下"
   ]
  },
  {
   "cell_type": "code",
   "execution_count": null,
   "metadata": {},
   "outputs": [],
   "source": [
    "# dir_in = \"/raid52/yycheng/MPAS/REFERENCE/TEMP_DATA/mask_pre/mask_res_dayofyear/\"\n",
    "dir_in = \"/raid52/yycheng/MPAS/REFERENCE/TEMP_DATA_large/pre/ydaymean/\"\n",
    "# filename_cn051  = \"ydaymean_mask_sel_CN05.1_Pre_1961_2018_daily_025x025.nc\"\n",
    "filename_obs      = \"obsmerge_pre_98-17.nc\"\n",
    "# filename_cmorph = \"ydaymean_mask_sel_CMORPH_98-17.nc\"\n",
    "# filename_vr     = \"ydaymean_mask_vr_pre_98-17.nc\"\n",
    "# filename_rcm    = \"ydaymean_mask_rcm_pre_98-17.nc\"\n",
    "filename_vr       = \"vr_pre_98-17.nc\"\n",
    "filename_rcm      = \"rcm_pre_98-17.nc\"\n",
    "\n",
    "\n",
    "ds_or = {}\n",
    "# ds_or['cn051']  = xr.open_dataset(dir_in + filename_cn051)\n",
    "# ds_or['cmorph'] = xr.open_dataset(dir_in + filename_cmorph)\n",
    "ds_or['obs']  = xr.open_dataset(dir_in + filename_obs)\n",
    "ds_or['vr']     = xr.open_dataset(dir_in + filename_vr)\n",
    "ds_or['rcm']    = xr.open_dataset(dir_in + filename_rcm  )\n",
    "# 提取变量\n",
    "var = {}\n",
    "# var['cn051'] = ds_or['cn051']['pre']\n",
    "# var['cmorph'] = ds_or['cmorph']['cmorph'][:, 0, :, :]\n",
    "var['obs'] = ds_or['obs']['premerge'][30:,:,:]\n",
    "var['obs'] = var['obs'].reset_coords(names = 'lev', drop = True) # 去除掉obs中多余的lev coords\n",
    "var['vr'] = ds_or['vr']['precip_MPAS'][30:,:,:]\n",
    "var['rcm'] = ds_or['rcm']['precip_MPAS'][30:,:,:]\n",
    "# change coords\n",
    "# var_list = ['cn051','cmorph', 'vr', 'rcm']\n",
    "var_list = ['obs', 'vr', 'rcm']\n",
    "for i in var_list:\n",
    "    rename_dict = dict(zip(var[i].coords.keys(), var['obs'].coords.keys()))\n",
    "    # show converting coords\n",
    "    for rename_i in rename_dict:\n",
    "        print(rename_i + \" -----converting to----- \" + rename_dict[rename_i])\n",
    "\n",
    "    var[i] = var[i].rename(rename_dict)\n",
    "    var[i]._coords = var['obs']._coords\n",
    "    var[i] = var[i].rename(i)\n"
   ]
  },
  {
   "cell_type": "code",
   "execution_count": null,
   "metadata": {},
   "outputs": [],
   "source": [
    "region_dict = {}\n",
    "lat = var['obs'].lat\n",
    "lon = var['obs'].lon\n",
    "time= var['obs'].time\n",
    "region_dict['lat'] = lat[(lat>=5) & (lat<=60)]\n",
    "region_dict['lon'] = lon[(lon>=105) & (lon<=125)]\n",
    "var_lattime = {}\n",
    "for ivar in var.keys():\n",
    "    var_lattime[ivar] = var[ivar].sel(region_dict).mean('lon')"
   ]
  },
  {
   "cell_type": "markdown",
   "metadata": {},
   "source": [
    "## 修改色板"
   ]
  },
  {
   "cell_type": "code",
   "execution_count": null,
   "metadata": {},
   "outputs": [],
   "source": [
    "# 调整cmap，去掉gist_ncar 中深蓝色的部分\n",
    "# https://stackoverflow.com/questions/18926031/how-to-extract-a-subset-of-a-colormap-as-a-new-colormap-in-matplotlib\n",
    "\n",
    "import matplotlib.pyplot as plt\n",
    "import matplotlib.colors as colors\n",
    "import numpy as np\n",
    "import cmaps\n",
    "\n",
    "def truncate_colormap(cmap, minval=0.0, maxval=1.0, n=100):\n",
    "    new_cmap = colors.LinearSegmentedColormap.from_list(\n",
    "        'trunc({n},{a:.2f},{b:.2f})'.format(n=cmap.name, a=minval, b=maxval),\n",
    "        cmap(np.linspace(minval, maxval, n)))\n",
    "    return new_cmap\n",
    "\n",
    "arr = np.linspace(0, 50, 100).reshape((10, 10))\n",
    "fig, ax = plt.subplots(ncols=2)\n",
    "\n",
    "cmap = plt.get_cmap('gist_ncar')\n",
    "# cmap = cmaps.gui_default\n",
    "new_cmap = truncate_colormap(cmap, 0.2, 1.)\n",
    "ax[0].imshow(arr, interpolation='nearest', cmap=cmap)\n",
    "ax[1].imshow(arr, interpolation='nearest', cmap=new_cmap)\n",
    "plt.show()"
   ]
  },
  {
   "cell_type": "code",
   "execution_count": null,
   "metadata": {},
   "outputs": [],
   "source": [
    "mean_ticks = np.concatenate((np.linspace(2,16,29), np.linspace(18,22,2)), axis=0)\n",
    "mean_ticks"
   ]
  },
  {
   "cell_type": "code",
   "execution_count": null,
   "metadata": {},
   "outputs": [],
   "source": [
    "# import proplot as plot\n",
    "from matplotlib import pyplot as plt\n",
    "import proplot as plot\n",
    "# ----- get filter vars coords-----\n",
    "\n",
    "cmap=new_cmap\n",
    "# cmap=\"tab20\"\n",
    "\n",
    "lat_sel  = var_lattime['obs'].lat\n",
    "# time_sel = var_lattime['obs'].time.dt.strftime(\"%m-%d\")\n",
    "time_sel = var_lattime['obs'].time.values\n",
    "\n",
    "# ticks = np.arange(4,25,1.)\n",
    "# ticks = np.arange(4,20,.5)\n",
    "ticks_contour = np.arange(0,30,2.)\n",
    "ticks = mean_ticks\n",
    "#----- create plot -----\n",
    "# shapearray=[[0,1,1,0],[2,2,3,3]]\n",
    "# fig, axs = plot.subplots(shapearray, width = '190mm',height = '160mm')\n",
    "\n",
    "fig, axs = plot.subplots(ncols = 1, nrows = 3, width = '190mm',height = '200mm')\n",
    "\n",
    "#-----2012-----\n",
    "# axs[0].format(title='CN05.1_CMORPH')\n",
    "# axs[1].format(title='VR')\n",
    "# axs[2].format(title='RCM')\n",
    "# m = axs[0].contour(lon_sel, time_sel, var_lattime['obs'],\\\n",
    "# levels=ticks,color='k',\n",
    "# linewidth = .5)\n",
    "for i, ivar in enumerate(var_list):\n",
    "    m_overlay = axs[i].contourf(time_sel,  lat_sel, var_lattime[ivar].values.T, cmap=cmap,extend = 'both',\\\n",
    "    levels=ticks)\n",
    "    m_contour = axs[i].contour(time_sel,  lat_sel, var_lattime[ivar].values.T,\\\n",
    "    levels=ticks_contour,linewidth=1,color='k')\n",
    "    axs[i].clabel(m_contour, inline=True, fontsize=10, colors = 'k', fmt='%2.0f',use_clabeltext=True, inline_spacing=0)\n",
    "# format作为整个proplot集中对属性进行修改的method\n",
    "axs.format(\n",
    "abc=True, abcloc='ul',\n",
    "\n",
    "yformatter='deglat',\n",
    "ylim=(15,55),\n",
    "\n",
    "# xlocator='weekday',\n",
    "# xlocator=('month', [4,5,6,7,8]),\n",
    "# xminorlocator='day',\n",
    "# xformatter='%m-%d',\n",
    "xrotation=0,  # rotated time ticks\n",
    "xminorlocator=('day',range(0,30,5)),\n",
    "xlocator=('month',range(0,12,1)),\n",
    "xformatter = '%b', #title='Ticks every N units',\n",
    "xgridminor = True,\n",
    "titleweight = 'bold',\n",
    "leftlabels=('CN05.1_CMORPH','VR','RCM'),\n",
    "# suptitle=\"latitude-time sections of averaged daily precipitation along \" + r\"$105^{\\circ} -125^{\\circ} E$\"\n",
    "# ylabel='latitude',\n",
    "# xlabel='time',\n",
    "ylabel = '',\n",
    "xlabel = None,\n",
    ")\n",
    "\n",
    "# for tick in axs.get_xticklabels():\n",
    "    # tick.set_rotation(45)\n",
    "#----- add contour tick labels -----\n",
    "fig.colorbar(m_overlay, loc='b', length = 1., width=0.2,extend='both', label='[mm/day]',\n",
    "ticklabelsize=10,ticks=ticks[::2])\n",
    "\n",
    "fig.patch.set_facecolor('white')\n",
    "fig.savefig('./output_pic/precip_98-17_lat-time.2022.05.02.jpg', dpi=600, facecolor= \"white\", bbox_inches='tight')"
   ]
  }
 ],
 "metadata": {
  "interpreter": {
   "hash": "5d125e8d1f62ef65bf14791ddcc54379be6b4b51969987cfa8a226a16aec3b4e"
  },
  "kernelspec": {
   "display_name": "Python 3.8.2 64-bit ('proplot0528': conda)",
   "name": "python3"
  },
  "language_info": {
   "codemirror_mode": {
    "name": "ipython",
    "version": 3
   },
   "file_extension": ".py",
   "mimetype": "text/x-python",
   "name": "python",
   "nbconvert_exporter": "python",
   "pygments_lexer": "ipython3",
   "version": "3.8.2"
  },
  "orig_nbformat": 4
 },
 "nbformat": 4,
 "nbformat_minor": 2
}

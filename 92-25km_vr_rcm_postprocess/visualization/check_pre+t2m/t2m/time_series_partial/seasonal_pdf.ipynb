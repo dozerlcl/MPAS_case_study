{
 "cells": [
  {
   "cell_type": "code",
   "execution_count": null,
   "metadata": {},
   "outputs": [],
   "source": [
    "import xarray as xr\n",
    "import numpy  as np\n",
    "import pandas as pd\n",
    "import proplot as pplt\n",
    "import matplotlib.pyplot as plt\n",
    "from sklearn.neighbors import KernelDensity\n",
    "import copy # 用字典进行深拷贝"
   ]
  },
  {
   "cell_type": "markdown",
   "metadata": {},
   "source": [
    "# 进行时间序列的PDF分布的绘制\n",
    "2021.07.15\n",
    "\n",
    "需要先计算四个区域的平均的时间序列，将AM和JJA拆分开来，之后计算AM JJA各自的经验分布函数，并绘图\n",
    "\n",
    "2021.08.17\n",
    "\n",
    "修改为空间pattern，并且使用在更大范围上\n",
    "\n",
    "2022.01.30\n",
    "\n",
    "修改为MJJA的空间pattern的结果"
   ]
  },
  {
   "cell_type": "markdown",
   "metadata": {},
   "source": [
    "# 读取数据计算时间平均"
   ]
  },
  {
   "cell_type": "markdown",
   "metadata": {},
   "source": [
    "-   计算am jja两个时间段"
   ]
  },
  {
   "cell_type": "code",
   "execution_count": null,
   "metadata": {},
   "outputs": [],
   "source": [
    "# 提取AM & JJA的降水的时间序列\n",
    "# get partial mask_res collect into a dict\n",
    "partial_list = [\"NE\", \"NC\", \"YZ\", \"SC\",'SW','NWC']\n",
    "path_in = \"/raid52/yycheng/MPAS/REFERENCE/TEMP_DATA_large/partial_t2m\"\n",
    "file_ref= \"ydaymean_mask_sel_CN05.1_Tm_1961_2018_daily_025x025.nc\"\n",
    "file_vr = \"ydaymean_mask_mean_t2m_98-17_VR.nc\"\n",
    "file_rcm = \"ydaymean_mask_mean_t2m_98-17_RCM.nc\"\n",
    "\n",
    "partial_mean = {} # partial mask_res\n",
    "\n",
    "for iregion in partial_list:\n",
    "    partial_mean[iregion] = {}\n",
    "    path_in_partial = path_in + \"/\" + iregion + \"/ydaymean\" # refine path\n",
    "    print(path_in_partial)\n",
    "\n",
    "    # obs\n",
    "    partial_mean[iregion]['obs'] = {}\n",
    "    xr_obs = xr.open_dataset(path_in_partial + \"/\" + file_ref)['tm']\n",
    "    partial_mean[iregion]['obs']['mjja'] = xr_obs.sel(time = xr_obs.time.dt.month.isin([5,6,7,8])).mean(['time'])\n",
    "\n",
    "    # vr\n",
    "    partial_mean[iregion]['vr'] = {}\n",
    "    xr_vr = xr.open_dataset(path_in_partial + \"/\" + file_vr)['t2m']\n",
    "    partial_mean[iregion]['vr']['mjja'] = xr_vr.sel(Time = xr_vr.Time.dt.month.isin([5,6,7,8])).mean(['Time']) - 273.15\n",
    "\n",
    "    # rcm\n",
    "    partial_mean[iregion]['rcm'] = {}\n",
    "    xr_rcm = xr.open_dataset(path_in_partial + \"/\" + file_rcm)['t2m']\n",
    "    partial_mean[iregion]['rcm']['mjja'] = xr_rcm.sel(Time = xr_rcm.Time.dt.month.isin([5,6,7,8])).mean(['Time']) - 273.15"
   ]
  },
  {
   "cell_type": "markdown",
   "metadata": {},
   "source": [
    "-   计算逐个月份\n",
    "-   弃用，进行空间patterns PDFs的计算"
   ]
  },
  {
   "cell_type": "code",
   "execution_count": null,
   "metadata": {},
   "outputs": [],
   "source": [
    "# 提取各月份降水的时间序列\n",
    "# get partial mask_res collect into a dict\n",
    "partial_list = [\"NE\", \"NC\", \"YZ\", \"SW\"]\n",
    "path_in = \"/raid52/yycheng/MPAS/REFERENCE/TEMP_DATA/partial_t2m\"\n",
    "file_ref= \"mask_sel_CN05.1_Tm_1961_2018_daily_025x025.nc\"\n",
    "file_vr = \"mask_mean_t2m_98-17_VR.nc\"\n",
    "file_rcm = \"mask_mean_t2m_98-17_RCM.nc\"\n",
    "\n",
    "partial_mean = {} # partial mask_res\n",
    "\n",
    "for iregion in partial_list:\n",
    "    partial_mean[iregion] = {}\n",
    "    path_in_partial = path_in + \"/\" + iregion + \"/mask_res\" # refine path\n",
    "    print(path_in_partial)\n",
    "\n",
    "    # obs\n",
    "    partial_mean[iregion]['obs'] = {}\n",
    "    xr_obs = xr.open_dataset(path_in_partial + \"/\" + file_ref)['tm']\n",
    "    for imonth in [4,5,6,7,8]:\n",
    "        partial_mean[iregion]['obs'][imonth] = xr_obs.sel(time = xr_obs.time.dt.month.isin(imonth)).mean(['lat','lon'])\n",
    "\n",
    "    # vr\n",
    "    partial_mean[iregion]['vr'] = {}\n",
    "    xr_vr = xr.open_dataset(path_in_partial + \"/\" + file_vr)['t2m']\n",
    "    for imonth in [4,5,6,7,8]:\n",
    "        partial_mean[iregion]['vr'][imonth] = xr_vr.sel(Time = xr_vr.Time.dt.month.isin(imonth)).mean(['latitude','longitude']) - 273.15\n",
    "\n",
    "    # rcm\n",
    "    partial_mean[iregion]['rcm'] = {}\n",
    "    xr_rcm = xr.open_dataset(path_in_partial + \"/\" + file_rcm)['t2m']\n",
    "    for imonth in [4,5,6,7,8]:\n",
    "        partial_mean[iregion]['rcm'][imonth] = xr_rcm.sel(Time = xr_rcm.Time.dt.month.isin(imonth)).mean(['latitude','longitude']) - 273.15"
   ]
  },
  {
   "cell_type": "markdown",
   "metadata": {},
   "source": [
    "## 核密度估计"
   ]
  },
  {
   "cell_type": "code",
   "execution_count": null,
   "metadata": {},
   "outputs": [],
   "source": [
    "# 进行核密度估计\n",
    "var_hist   = copy.deepcopy(partial_mean) # 存放直方图\n",
    "var_kernel = copy.deepcopy(partial_mean) # 存放核密度估计结果\n",
    "var_bins   = copy.deepcopy(partial_mean) # 存放x轴 bins\n",
    "for iregion in partial_mean.keys():\n",
    "    for imod in partial_mean[iregion].keys():\n",
    "        for iseason in partial_mean[iregion][imod].keys():\n",
    "            # print(\"----- dealing : \", iregion, imod, iseason)\n",
    "            # var_np = partial_mean[iregion][imod][iseason]\n",
    "            var_np = partial_mean[iregion][imod][iseason].values\n",
    "            var_np_1d = var_np.reshape(-1, 1)\n",
    "            var_np_1d_rmnan = var_np_1d[~np.isnan(var_np_1d)]\n",
    "\n",
    "            num_bins = 1000\n",
    "            kernel_bins = np.linspace(-20,40,1000) # 进行核密度估计的x轴\n",
    "            histogram, bins = np.histogram(var_np_1d_rmnan, bins=num_bins, density=True) # count pdf\n",
    "            bin_centers = 0.5*(bins[1:] + bins[:-1]) #\n",
    "            kernel_test = KernelDensity(bandwidth=2., algorithm='auto', kernel='cosine', metric='euclidean').fit(var_np_1d_rmnan.reshape(-1,1))\n",
    "            log_dens    = kernel_test.score_samples(kernel_bins.reshape(-1, 1))\n",
    "            exp_dens    = np.exp(log_dens)\n",
    "\n",
    "            # add to dict\n",
    "            # var_hist[iregion][imod][iseason]   = histogram\n",
    "            var_bins[iregion][imod][iseason]   = kernel_bins\n",
    "            var_kernel[iregion][imod][iseason] = exp_dens"
   ]
  },
  {
   "cell_type": "code",
   "execution_count": null,
   "metadata": {},
   "outputs": [],
   "source": [
    "fig, axs = pplt.subplots(ncols = 3, nrows = 2, wspace=0, hspace=0, spanx=True, spany=True, share=3)\n",
    "# wspace hspace设置宽度， span share共享坐标轴\n",
    "axs_index = 0\n",
    "# partial_list = [\"NE\", \"NC\", \"YZ\", \"SW\"]\n",
    "# season_list  = [4,5,6,7,8]\n",
    "season_list  = ['mjja']\n",
    "partial_list = ['NE', 'NC', 'NWC', 'YZ', 'SC', 'SW']\n",
    "\n",
    "for iseason in season_list:\n",
    "    for iregion in partial_list:\n",
    "        obs_plot = axs[axs_index].plot(var_bins[iregion]['obs'][iseason], var_kernel[iregion]['obs'][iseason], color='g',label='obs')\n",
    "        vr_plot  = axs[axs_index].plot(var_bins[iregion]['vr'][iseason], var_kernel[iregion]['vr'][iseason], color='r',label='vr')\n",
    "        rcm_plot = axs[axs_index].plot(var_bins[iregion]['rcm'][iseason], var_kernel[iregion]['rcm'][iseason], color='b',label='rcm')\n",
    "\n",
    "        # 设置title\n",
    "        axs[axs_index].format(title = f'{iregion} - {str(iseason)}' ,titleweight='bold',titleloc='uc',\\\n",
    "            ylabel = \"Frequency\",xlabel = \"units:[\" + r\"$^{\\circ}C$\" + \"]\")\n",
    "        # 添加百分号标签，单独设置ticks（把小数转化成百分数）\n",
    "        # axs[axs_index].set_yticklabels(['{:.1f}%'.format(x*100) for x in axs[axs_index].get_yticks()]) \n",
    "        axs_index = axs_index + 1\n",
    "\n",
    "axs.format(\n",
    "# abc = True,\n",
    "# abc = 'e.',\n",
    "# abcloc=\"ul\",\n",
    "ylim = (0,0.26),\n",
    "xlim = (10,34),\n",
    "xlocator = 5. ,\n",
    "xtickminor = True,\n",
    "xminorlocator = 1. ,\n",
    "suptitle = \"surface air temperature\",\n",
    "# ylabel = \"Frequency\",\n",
    "# xlabel = \"domain average precipitation (mm)\"\n",
    ")\n",
    "\n",
    "axs[0:3].format(ylim = (0,0.18), xlim = (-5,35))\n",
    "axs[3:6].format(ylim = (0,0.26))\n",
    "\n",
    "fig.text(0.075,0.95,\"(b)\", fontsize = 16, fontweight = \"bold\", color = 'k')\n",
    "# axs[7].format(ylim = (0,0.31))\n",
    "# saving figs\n",
    "# plt.savefig(\"./output_pic/t2m_pdf_5months.png\", dpi = 600, facecolor = \"white\")\n",
    "plt.savefig(\"./output_pic/t2m_pdf_mjja_space.2022.01.30.png\", dpi = 600, facecolor = \"white\")"
   ]
  }
 ],
 "metadata": {
  "interpreter": {
   "hash": "5d125e8d1f62ef65bf14791ddcc54379be6b4b51969987cfa8a226a16aec3b4e"
  },
  "kernelspec": {
   "display_name": "Python 3.8.2 64-bit ('proplot0528': conda)",
   "name": "python3"
  },
  "language_info": {
   "codemirror_mode": {
    "name": "ipython",
    "version": 3
   },
   "file_extension": ".py",
   "mimetype": "text/x-python",
   "name": "python",
   "nbconvert_exporter": "python",
   "pygments_lexer": "ipython3",
   "version": "3.8.2"
  },
  "orig_nbformat": 4
 },
 "nbformat": 4,
 "nbformat_minor": 2
}

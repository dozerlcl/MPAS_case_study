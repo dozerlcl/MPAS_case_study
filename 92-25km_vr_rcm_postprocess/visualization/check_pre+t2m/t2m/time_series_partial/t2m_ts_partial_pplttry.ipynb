{
 "cells": [
  {
   "cell_type": "code",
   "execution_count": null,
   "metadata": {},
   "outputs": [],
   "source": [
    "import xarray as xr\n",
    "import numpy  as np\n",
    "# import seaborn as sns\n",
    "import proplot as pplt\n",
    "import pandas as pd\n",
    "import matplotlib.pyplot as plt"
   ]
  },
  {
   "cell_type": "markdown",
   "metadata": {},
   "source": [
    "2021.04.19\n",
    "\n",
    "进行分区之后的绘制脚本，分区在此前已经由cdo完成\n",
    "\n",
    "计算采用同目录下的 timeseries_count.py 使用import进行导入之后使用，其中进行了五天的滑动平均\n",
    "\n",
    "将计算结果保存到 partial_mean partial_std 之中，作为字典整理为pandas，进行timeseries的绘图\n",
    "\n",
    "2021.08.16\n",
    "\n",
    "更大区域，新增两个分区，考虑使用proplot进行绘图\n",
    "\n",
    "2022.02.07\n",
    "\n",
    "将分析的时间范围缩小到 MJJA"
   ]
  },
  {
   "cell_type": "code",
   "execution_count": null,
   "metadata": {},
   "outputs": [],
   "source": [
    "# from timeseries_count import *\n",
    "\n",
    "# get partial mask_res collect into a dict\n",
    "partial_list = [\"NE\", \"NC\", \"YZ\", \"SC\",'SW','NWC']\n",
    "path_in = \"/raid52/yycheng/MPAS/REFERENCE/TEMP_DATA_large/partial_t2m\"\n",
    "file_ref= \"ydaymean_mask_sel_CN05.1_Tm_1961_2018_daily_025x025.nc\"\n",
    "file_vr = \"ydaymean_mask_mean_t2m_98-17_VR.nc\"\n",
    "file_rcm = \"ydaymean_mask_mean_t2m_98-17_RCM.nc\"\n",
    "partial_mean = {} # partial mask_res\n",
    "partial_std = {} # partial mask_res\n",
    "var = {}\n",
    "for iregion in partial_list:\n",
    "    ds_or = {}\n",
    "    var[iregion] = {}\n",
    "    path_in_partial = path_in + \"/\" + iregion + \"/ydaymean/\" # refine path\n",
    "    print(path_in_partial)\n",
    "    ds_or['obs'] = xr.open_dataset(path_in_partial + file_ref)\n",
    "    ds_or['vr']     = xr.open_dataset(path_in_partial + file_vr)\n",
    "    ds_or['rcm']    = xr.open_dataset(path_in_partial + file_rcm  )\n",
    "    # 提取变量\n",
    "    var[iregion]['obs'] = ds_or['obs']['tm'][30:,:,:]\n",
    "    var[iregion]['vr'] = ds_or['vr']['t2m'][30:,:,:] - 273.15\n",
    "    var[iregion]['rcm'] = ds_or['rcm']['t2m'][30:,:,:] - 273.15\n",
    "\n",
    "    # var[iregion]['obs'] = var[iregion]['obs'].reset_coords(names = 'lev', drop = True) # 去除掉obs中多余的lev coords\n",
    "\n",
    "    # change coords\n",
    "    var_list = ['obs', 'vr', 'rcm']\n",
    "    for i in var_list:\n",
    "        rename_dict = dict(zip(var[iregion][i].coords.keys(), var[iregion]['obs'].coords.keys()))\n",
    "    #     # show converting coords\n",
    "        for rename_i in rename_dict:\n",
    "            print(rename_i + \" -----converting to----- \" + rename_dict[rename_i])\n",
    "\n",
    "        var[iregion][i] = var[iregion][i].rename(rename_dict)\n",
    "        var[iregion][i]._coords = var[iregion]['obs']._coords\n",
    "        var[iregion][i] = var[iregion][i].rename(i)\n"
   ]
  },
  {
   "cell_type": "markdown",
   "metadata": {},
   "source": [
    "## 计算指标"
   ]
  },
  {
   "cell_type": "markdown",
   "metadata": {},
   "source": [
    "### 计算制图表格"
   ]
  },
  {
   "cell_type": "code",
   "execution_count": null,
   "metadata": {},
   "outputs": [],
   "source": [
    "import skill_metrics as sm\n",
    "metrics_ts = {}\n",
    "var_list = ['vr', 'rcm']\n",
    "for iregion in partial_list:\n",
    "    metrics_ts[iregion] = pd.DataFrame(index = ['vr','rcm'], columns=['Bias','RMSE','Corr.']) \n",
    "    for imod in var_list:\n",
    "        temp_obs = var[iregion]['obs'].mean(dim=['lat','lon']).values\n",
    "        temp_mod = var[iregion][imod].mean(dim=['lat','lon']).values\n",
    "\n",
    "        metrics_ts[iregion].loc[imod]['Bias'] = sm.bias(temp_mod, temp_obs)\n",
    "        metrics_ts[iregion].loc[imod]['RMSE'] = sm.rmsd(temp_mod, temp_obs)\n",
    "        metrics_ts[iregion].loc[imod]['Corr.'] = np.corrcoef(temp_mod, temp_obs)[0,1]\n",
    "    \n",
    "    # 对style进行调整，用于后续展示表格\n",
    "    # https://pandas.pydata.org/pandas-docs/stable/user_guide/style.html\n",
    "    # metrics_ts[iregion] = metrics_ts[iregion].style.format(\"{:,.3f}\")"
   ]
  },
  {
   "cell_type": "markdown",
   "metadata": {},
   "source": [
    "### 计算时间序列"
   ]
  },
  {
   "cell_type": "code",
   "execution_count": null,
   "metadata": {},
   "outputs": [],
   "source": [
    "var_ts_rmean = {}\n",
    "var_list = ['obs', 'vr', 'rcm']\n",
    "for iregion in partial_list:\n",
    "    var_ts_rmean[iregion] = {}\n",
    "    for imod in var_list:\n",
    "        var_ts_rmean[iregion][imod] = var[iregion][imod].mean(dim=['lat','lon'])#.rolling(time=5, center=True).mean()\n"
   ]
  },
  {
   "cell_type": "code",
   "execution_count": null,
   "metadata": {},
   "outputs": [],
   "source": [
    "from matplotlib import pyplot as plt\n",
    "import proplot as pplt\n",
    "from matplotlib.font_manager import FontProperties\n",
    "# ----- get filter vars coords-----\n",
    "\n",
    "#----- create plot -----\n",
    "partial_list = [\"NE\", \"NC\", \"NWC\", \"SC\",'SW','YZ']\n",
    "fig, axs = pplt.subplots(ncols=3 ,nrows=2, share=1)\n",
    "for axs_idx, iregion in enumerate( partial_list ):\n",
    "    obs_plot = axs[axs_idx].plot(var_ts_rmean[iregion]['obs'].time, var_ts_rmean[iregion]['obs'].values, color = 'k', label = 'obs')\n",
    "    vr_plot  = axs[axs_idx].plot(var_ts_rmean[iregion]['vr'].time, var_ts_rmean[iregion]['vr'].values, color = 'r', label = 'vr')\n",
    "    rcm_plot = axs[axs_idx].plot(var_ts_rmean[iregion]['rcm'].time, var_ts_rmean[iregion]['rcm'].values, color = 'b', label = 'rcm')\n",
    "\n",
    "    # ----- add table on axis -----\n",
    "    # 参考回答：https://stackoverflow.com/questions/54150557/how-to-show-dataframe-index-name-on-a-matplotlib-table\n",
    "    # 使用bbox调整表格的大小\n",
    "    plot_table = metrics_ts[iregion]\n",
    "    table = axs[axs_idx].table(cellText=np.matrix.round(plot_table.values.astype('float'),3),\\\n",
    "         rowLabels=[\"$\\\\bf{VR}$\",\"$\\\\bf{RCM}$\"], colLabels=plot_table.columns, loc = 'upper left',colColours=['gainsboro'] * 3,\\\n",
    "             colWidths = [0.13]*3, bbox = [0.1, 0.80, 0.35, 0.15])\n",
    "    # table.set_fontweight('roman')\n",
    "                #  colColours=['gainsboro'] * len(plot_table), colLabels=plot_table.columns, loc='center',\n",
    "                #  colWidths= [0.12]*(len(plot_table.columns)))\n",
    "    for (row, col), cell in table.get_celld().items():\n",
    "        if ((row == 0)):\n",
    "            cell.set_text_props(fontproperties=FontProperties(weight='bold'))\n",
    "\n",
    "    axs[axs_idx].format(\n",
    "        abc = True,\n",
    "        abcloc = 'ul',\n",
    "        # -----\n",
    "        xlim=(np.datetime64('2017-05-01'), np.datetime64('2017-08-31')),\n",
    "        ylim = (-10,40.),\n",
    "        ylocator = 2.,\n",
    "        # yminorlocator = np.arange(0,1.4,0.1),\n",
    "        yminorlocator = 0.5,\n",
    "        # ----- time ticks setting -----\n",
    "        xrotation = False,\n",
    "        xgrid = True,\n",
    "        xgridminor = True,\n",
    "        ygridminor = True,\n",
    "        xminorlocator=('day',range(0,30,5)),\n",
    "        xlocator=('month',range(0,12,1)),\n",
    "        xformatter = '%b', #title='Ticks every N units',\n",
    "        title = iregion,\n",
    "        suptitle = 'surface air temperature ' + r'[$^\\circ C$]'\n",
    "    )\n",
    "# ----- add legend -----\n",
    "axs[5].legend([obs_plot,vr_plot,rcm_plot], loc='lr', ncols=1, frame=False)\n",
    "# ----- setting limit -----\n",
    "axs[0:2].format(ylim = (5,30))\n",
    "# axs[1].format(ylim = (0,30))\n",
    "# axs[2].format(ylim = (0,30))\n",
    "axs[3:6].format(ylim = (13,30))\n",
    "# axs[5].format(ylim = (0,25))\n",
    "\n",
    "# saving figs\n",
    "plt.savefig(\"./output_pic/t2m_ts_6region_pplt_addtable.2022.02.07.png\", dpi = 600, facecolor = \"white\")"
   ]
  }
 ],
 "metadata": {
  "interpreter": {
   "hash": "da0469cb1653dac5810650c6f9c12d7c46a389e85e448c305f1477fdb1af5288"
  },
  "kernelspec": {
   "display_name": "Python 3.8.2 64-bit ('proplot0528': conda)",
   "name": "python3"
  },
  "language_info": {
   "codemirror_mode": {
    "name": "ipython",
    "version": 3
   },
   "file_extension": ".py",
   "mimetype": "text/x-python",
   "name": "python",
   "nbconvert_exporter": "python",
   "pygments_lexer": "ipython3",
   "version": "3.8.2"
  },
  "metadata": {
   "interpreter": {
    "hash": "cf76c667a4237489b4b1ec2fcd3b74093597186816c0203f0439927789bdc800"
   }
  },
  "orig_nbformat": 2
 },
 "nbformat": 4,
 "nbformat_minor": 2
}

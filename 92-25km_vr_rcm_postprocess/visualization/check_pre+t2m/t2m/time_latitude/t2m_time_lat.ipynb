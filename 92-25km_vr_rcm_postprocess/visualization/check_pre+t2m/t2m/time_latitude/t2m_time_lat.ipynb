{
 "cells": [
  {
   "cell_type": "code",
   "execution_count": null,
   "metadata": {},
   "outputs": [],
   "source": [
    "import numpy as np\n",
    "import matplotlib.pyplot as plt\n",
    "import xarray as xr\n",
    "import pandas as pd"
   ]
  },
  {
   "cell_type": "markdown",
   "metadata": {},
   "source": [
    "2021.07.06\n",
    "\n",
    "通过python脚本绘制时间、纬向剖面"
   ]
  },
  {
   "cell_type": "markdown",
   "metadata": {},
   "source": [
    "前处理部分，将所有降水变量处理问统一的坐标（来自CN05.1）\n",
    "\n",
    "合并到 var 字典之中，用作后续的绘图\n",
    "\n",
    "remains：\n",
    "- 调整色标\n",
    "- 将时间ticks旋转下"
   ]
  },
  {
   "cell_type": "code",
   "execution_count": null,
   "metadata": {},
   "outputs": [],
   "source": [
    "dir_in = \"/raid52/yycheng/MPAS/REFERENCE/TEMP_DATA/mask_t2m/mask_res_dayofyear/\"\n",
    "filename_cn051  = \"ydaymean_mask_sel_CN05.1_Tm_1961_2018_daily_025x025.nc\"\n",
    "# filename_cmorph = \"ydaymean_mask_sel_CMORPH_98-17.nc\"\n",
    "filename_vr     = \"ydaymean_mask_mean_t2m_98-17_VR.nc\"\n",
    "filename_rcm    = \"ydaymean_mask_mean_t2m_98-17_RCM.nc\"\n",
    "\n",
    "ds_or = {}\n",
    "ds_or['cn051']  = xr.open_dataset(dir_in + filename_cn051)\n",
    "# ds_or['cmorph'] = xr.open_dataset(dir_in + filename_cmorph)\n",
    "ds_or['vr']     = xr.open_dataset(dir_in + filename_vr)\n",
    "ds_or['rcm']    = xr.open_dataset(dir_in + filename_rcm  )\n",
    "# 提取变量\n",
    "var = {}\n",
    "var['cn051'] = ds_or['cn051']['tm'][30:,:,:]\n",
    "# var['cmorph'] = ds_or['cmorph']['cmorph'][:, 0, :, :]\n",
    "var['vr'] = ds_or['vr']['t2m'][30:,:,:] - 273.15\n",
    "var['rcm'] = ds_or['rcm']['t2m'][30:,:,:] - 273.15\n",
    "# change coords\n",
    "var_list = ['cn051', 'vr', 'rcm']\n",
    "for i in var_list:\n",
    "    rename_dict = dict(zip(var[i].coords.keys(), var['cn051'].coords.keys()))\n",
    "    # show converting coords\n",
    "    for rename_i in rename_dict:\n",
    "        print(rename_i + \" -----converting to----- \" + rename_dict[rename_i])\n",
    "\n",
    "    var[i] = var[i].rename(rename_dict)\n",
    "    var[i]._coords = var['cn051']._coords\n",
    "    var[i] = var[i].rename(i)\n"
   ]
  },
  {
   "cell_type": "code",
   "execution_count": null,
   "metadata": {},
   "outputs": [],
   "source": [
    "region_dict = {}\n",
    "lat = var['cn051'].lat\n",
    "lon = var['cn051'].lon\n",
    "time= var['cn051'].time\n",
    "region_dict['lat'] = lat[(lat>=5) & (lat<=60)]\n",
    "region_dict['lon'] = lon[(lon>=105) & (lon<=125)]\n",
    "var_lattime = {}\n",
    "for ivar in var.keys():\n",
    "    var_lattime[ivar] = var[ivar].sel(region_dict).mean('lon')"
   ]
  },
  {
   "cell_type": "code",
   "execution_count": null,
   "metadata": {},
   "outputs": [],
   "source": [
    "# import proplot as plot\n",
    "from matplotlib import pyplot as plt\n",
    "import proplot as plot\n",
    "# ----- get filter vars coords-----\n",
    "\n",
    "cmap=\"gist_ncar\"\n",
    "# cmap=\"tab20\"\n",
    "\n",
    "lat_sel  = var_lattime['cn051'].lat\n",
    "# time_sel = var_lattime['cn051'].time.dt.strftime(\"%m-%d\")\n",
    "time_sel = var_lattime['cn051'].time.values\n",
    "\n",
    "ticks = np.arange(4,34,2.)\n",
    "ticks_contour = np.arange(4,34,2.)\n",
    "#----- create plot -----\n",
    "shapearray=[[0,1,1,0],[2,2,3,3]]\n",
    "fig, axs = plot.subplots(shapearray,figsize=(16,8))\n",
    "\n",
    "#-----2012-----\n",
    "axs[0].format(title='CN05.1')\n",
    "# axs[1].format(title='CMORPH')\n",
    "axs[1].format(title='VR')\n",
    "axs[2].format(title='RCM')\n",
    "# m = axs[0].contour(lon_sel, time_sel, var_lattime['cn051'],\\\n",
    "# levels=ticks,color='k',\n",
    "# linewidth = .5)\n",
    "for i, ivar in enumerate(var_list):\n",
    "    m_overlay = axs[i].contourf(time_sel,  lat_sel, var_lattime[ivar].values.T, cmap=cmap,\\\n",
    "    levels=ticks)\n",
    "    m_contour = axs[i].contour(time_sel,  lat_sel, var_lattime[ivar].values.T,\\\n",
    "    levels=ticks_contour,linewidth=1,color='k')\n",
    "    axs[i].clabel(m_contour, inline=True, fontsize=10, colors = 'k', fmt='%2.0f',use_clabeltext=True, inline_spacing=0)\n",
    "# format作为整个proplot集中对属性进行修改的method\n",
    "axs.format(\n",
    "\n",
    "abc=True, abcloc='ul',\n",
    "\n",
    "yformatter='deglat',\n",
    "ylim=(20,55),\n",
    "ylabel='latitude',\n",
    "\n",
    "# xlocator='weekday',\n",
    "# xlocator=('month', [4,5,6,7,8]),\n",
    "# xminorlocator='day',\n",
    "# xformatter='%m-%d',\n",
    "xrotation=0,  # rotated time ticks\n",
    "xlabel='time',\n",
    "xminorlocator=('day',range(0,30,5)),\n",
    "xlocator=('month',range(0,12,1)),\n",
    "xformatter = '%b', #title='Ticks every N units',\n",
    "xgridminor = True,\n",
    "\n",
    "suptitle=\"latitude-time sections of averaged daaily mean surface air temperature along \" + r\"$105^{\\circ} -125^{\\circ} E$\"\n",
    ")\n",
    "\n",
    "# for tick in axs.get_xticklabels():\n",
    "    # tick.set_rotation(45)\n",
    "#----- add contour tick labels -----\n",
    "fig.colorbar(m_overlay, loc='r', length = 1., width=0.2,extend='both', label= \"[\" + r'$^{\\circ} C$' + \"]\",\n",
    "ticklabelsize=10,ticks=ticks)\n",
    "\n",
    "fig.patch.set_facecolor('white')\n",
    "plt.savefig('./output_pic/t2m_98-17_lat-time_py.2022.02.07.png', dpi=600, facecolor= \"white\")"
   ]
  }
 ],
 "metadata": {
  "interpreter": {
   "hash": "5d125e8d1f62ef65bf14791ddcc54379be6b4b51969987cfa8a226a16aec3b4e"
  },
  "kernelspec": {
   "display_name": "Python 3.8.2 64-bit ('proplot0528': conda)",
   "name": "python3"
  },
  "language_info": {
   "codemirror_mode": {
    "name": "ipython",
    "version": 3
   },
   "file_extension": ".py",
   "mimetype": "text/x-python",
   "name": "python",
   "nbconvert_exporter": "python",
   "pygments_lexer": "ipython3",
   "version": "3.8.2"
  },
  "orig_nbformat": 4
 },
 "nbformat": 4,
 "nbformat_minor": 2
}

{
 "cells": [
  {
   "cell_type": "code",
   "execution_count": null,
   "metadata": {},
   "outputs": [],
   "source": [
    "import xarray as xr\n",
    "import numpy  as np\n",
    "import pandas as pd\n",
    "import matplotlib.pyplot as plt\n",
    "import skill_metrics as sm\n",
    "# import proplot as pplt"
   ]
  },
  {
   "cell_type": "markdown",
   "metadata": {},
   "source": [
    "# 泰勒图绘制\n",
    "\n",
    "2021.08.15\n",
    "\n",
    "计算年际变化（时间序列）的taylor 图\n",
    "\n",
    "2021.08.16\n",
    "\n",
    "继续使用skillmetics包进行\n",
    "\n",
    "将数据处理为字典，便于按照某个特征进行索引\n",
    "\n",
    "泰勒图上的每个小点会单独绘制，按照特征给予不同的风格"
   ]
  },
  {
   "cell_type": "markdown",
   "metadata": {},
   "source": [
    "## 数据读入\n",
    "\n",
    "读入分区之后的数据"
   ]
  },
  {
   "cell_type": "code",
   "execution_count": null,
   "metadata": {},
   "outputs": [],
   "source": [
    "# get partial mask_res collect into a dict\n",
    "partial_list = [\"NE\", \"NC\", \"YZ\", \"SC\",'SW','NWC']\n",
    "path_in = \"/raid52/yycheng/MPAS/REFERENCE/TEMP_DATA_large/partial_t2m\"\n",
    "file_ref = \"mask_sel_CN05.1_Tm_1961_2018_daily_025x025.nc\"\n",
    "file_vr = \"mask_mean_t2m_98-17_VR.nc\"\n",
    "file_rcm = \"mask_mean_t2m_98-17_RCM.nc\"\n",
    "\n",
    "var_partial = {}\n",
    "for iregion in partial_list:\n",
    "    path_in_partial = path_in + \"/\" + iregion + \"/ordata/\" # refine path\n",
    "    var_partial[iregion] = {}\n",
    "    var_partial[iregion]['obs'] = xr.open_dataset(path_in_partial + file_ref)['tm']\n",
    "    var_partial[iregion]['vr'] = xr.open_dataset(path_in_partial + file_vr)['t2m'] - 273.15\n",
    "    var_partial[iregion]['rcm'] = xr.open_dataset(path_in_partial + file_rcm)['t2m'] - 273.15\n",
    "    # print(path_in_partial)\n",
    "    # partial_res[i] = taylor_count(path_in_partial, file_ref, \"pre\", file_vr, \"precip_MPAS\", file_rcm, \"precip_MPAS\")\n",
    "\n",
    "    # change coords\n",
    "    var_list = ['obs', 'vr', 'rcm']\n",
    "    for i in var_list:\n",
    "        rename_dict = dict(zip(var_partial[iregion][i].coords.keys(), var_partial[iregion]['obs'].coords.keys()))\n",
    "    #     # show converting coords\n",
    "        for rename_i in rename_dict:\n",
    "            print(rename_i + \" -----converting to----- \" + rename_dict[rename_i])\n",
    "\n",
    "        var_partial[iregion][i] = var_partial[iregion][i].rename(rename_dict)\n",
    "        var_partial[iregion][i]._coords = var_partial[iregion]['obs']._coords\n",
    "        var_partial[iregion][i] = var_partial[iregion][i].rename(i)"
   ]
  },
  {
   "cell_type": "markdown",
   "metadata": {},
   "source": [
    "## 计算年际时间序列 var_partial_ts"
   ]
  },
  {
   "cell_type": "code",
   "execution_count": null,
   "metadata": {},
   "outputs": [],
   "source": [
    "time_sel = {}\n",
    "time_sel['mjja'] = var_partial['NC']['obs'].time.dt.month.isin([5,6,7,8])"
   ]
  },
  {
   "cell_type": "code",
   "execution_count": null,
   "metadata": {},
   "outputs": [],
   "source": [
    "# 计算年际时间序列：\n",
    "var_partial_ts = {}\n",
    "for iregion in partial_list:\n",
    "    var_partial_ts[iregion] = {}\n",
    "    for imod in ['obs','vr','rcm']:\n",
    "        var_partial_ts[iregion][imod] = {}\n",
    "        for iseason in ['mjja']:\n",
    "            var_partial_ts[iregion][imod][iseason] = var_partial[iregion][imod].isel(time = time_sel[iseason]).mean(dim = ['lat','lon'])\n",
    "            var_partial_ts[iregion][imod][iseason] = \\\n",
    "                var_partial_ts[iregion][imod][iseason].groupby(var_partial_ts[iregion][imod][iseason].time.dt.year).mean()"
   ]
  },
  {
   "cell_type": "markdown",
   "metadata": {},
   "source": [
    "## 计算泰勒图诸要素，并整理进行绘图"
   ]
  },
  {
   "cell_type": "code",
   "execution_count": null,
   "metadata": {},
   "outputs": [],
   "source": [
    "# 计算泰勒图诸要素 到字典taylor_ts中\n",
    "taylor_ts = {}\n",
    "for iregion in partial_list:\n",
    "    taylor_ts[iregion] = {}\n",
    "    for imod in ['obs','vr','rcm']:\n",
    "        taylor_ts[iregion][imod] = {}\n",
    "        for iseason in ['mjja']:\n",
    "            taylor_ts[iregion][imod][iseason] = {}\n",
    "            temp_obs = var_partial_ts[iregion]['obs'][iseason].values\n",
    "            temp_mod = var_partial_ts[iregion][imod][iseason].values\n",
    "            taylor_ts[iregion][imod][iseason] = sm.taylor_statistics(temp_mod, temp_obs)\n",
    "            # normalized\n",
    "            taylor_ts[iregion][imod][iseason]['crmsd'] = taylor_ts[iregion][imod][iseason]['crmsd'] / taylor_ts[iregion][imod][iseason]['sdev'][0]\n",
    "            taylor_ts[iregion][imod][iseason]['sdev'] = taylor_ts[iregion][imod][iseason]['sdev'] / taylor_ts[iregion][imod][iseason]['sdev'][0]"
   ]
  },
  {
   "cell_type": "markdown",
   "metadata": {},
   "source": [
    "### 从metrics中提取并且制表，用于和taylor定量化地分析"
   ]
  },
  {
   "cell_type": "code",
   "execution_count": null,
   "metadata": {},
   "outputs": [],
   "source": [
    "# 计算泰勒图诸要素 到字典taylor_ts中\n",
    "taylor_table = []\n",
    "for iregion in partial_list:\n",
    "    for imod in ['vr','rcm']:\n",
    "        for iseason in ['mjja']:\n",
    "            # 读入表格dict，去掉多余的观测\n",
    "            taylor_table_temp = taylor_ts[iregion][imod][iseason].copy()\n",
    "            for item in taylor_table_temp:\n",
    "                taylor_table_temp[item] = taylor_table_temp[item][1] \n",
    "            # 转化为表格\n",
    "            taylor_table_df = pd.DataFrame.from_dict(taylor_table_temp, orient='index', columns=['values'])\n",
    "            taylor_table_df['season'] = iseason\n",
    "            taylor_table_df['model'] = imod\n",
    "            taylor_table_df['region'] = iregion\n",
    "            # 整理到 list 中\n",
    "            taylor_table.append(taylor_table_df)\n",
    "# 合并list中的所有pd.dataframe\n",
    "taylor_table = pd.concat(taylor_table)\n",
    "# taylor_table\n",
    "taylor_table.to_csv(\"./output_table/t2m_interannual_metrics.2022.01.30.csv\")\n",
    "\n",
    "# # 检查两个季节做差的状况\n",
    "# taylor_table_oneseason = pd.DataFrame()\n",
    "# taylor_table_oneseason['model'] = taylor_table.loc[taylor_table['season']=='jja']['model']\n",
    "# taylor_table_oneseason['region'] = taylor_table.loc[taylor_table['season']=='jja']['region']\n",
    "# taylor_table_oneseason['minus_values'] = taylor_table.loc[taylor_table['season']=='jja']['values'] - taylor_table.loc[taylor_table['season']=='am']['values']\n",
    "# taylor_table_oneseason.to_csv(\"./output_table/t2m_interannual_metrics_oneseaon.csv\")\n",
    "\n",
    "# # 检查两个模式的状况\n",
    "# taylor_table_modeldiff = pd.DataFrame()\n",
    "# taylor_table_modeldiff['season'] = taylor_table.loc[taylor_table['model']=='rcm']['season']\n",
    "# taylor_table_modeldiff['region'] = taylor_table.loc[taylor_table['model']=='rcm']['region']\n",
    "# taylor_table_modeldiff['minus_values'] = taylor_table.loc[taylor_table['model']=='rcm']['values'] - taylor_table.loc[taylor_table['model']=='vr']['values']\n",
    "# taylor_table_modeldiff.to_csv(\"./output_table/t2m_interannual_metrics_modeldiff.csv\")"
   ]
  },
  {
   "cell_type": "markdown",
   "metadata": {},
   "source": [
    "## PLOT\n",
    "逐个点的绘制泰勒图，单独为每个点的属性设置相应的特征"
   ]
  },
  {
   "cell_type": "code",
   "execution_count": null,
   "metadata": {},
   "outputs": [],
   "source": [
    "import skill_metrics as sm\n",
    "import importlib\n",
    "\n",
    "# fig, axs = pplt.subplots(ncols=1 ,nrows=1)\n",
    "fig = plt.figure(figsize=(8, 8), dpi=600)\n",
    "\n",
    "first_plot = False # 用作后续overlay设置\n",
    "\n",
    "# 创建风格的dict,之后传入每个单独的点来进行绘制\n",
    "# # Define markers\n",
    "# kind = ['+','o','x','s','d','^','v','p','h','*']\n",
    "# colorm = ['b','r','g','c','m','y','k']\n",
    "imod_style_color = {'vr':\"r\", 'rcm':'b'}\n",
    "iregion_style_color = {\"NE\":\"m\", \"NC\":\"y\", \"YZ\":\"c\", \"SC\":\"b\",'SW':\"g\",'NWC':\"tab:gray\"}\n",
    "iseason_style_marker = {\"mjja\":'v'}\n",
    "\n",
    "combine_mod_season_marker = {'vr mjja':\"o\",\"rcm mjja\":\"d\"}\n",
    "\n",
    "for iregion in partial_list:\n",
    "    for imod in ['vr','rcm']:\n",
    "        for iseason in ['mjja']:\n",
    "            # 获取每个点的泰勒图诸要素\n",
    "            sdev_plot = taylor_ts[iregion][imod][iseason]['sdev']\n",
    "            crmsd_plot = taylor_ts[iregion][imod][iseason]['crmsd']\n",
    "            ccoef_plot = taylor_ts[iregion][imod][iseason]['ccoef']\n",
    "\n",
    "            sm.taylor_diagram(sdev_plot,crmsd_plot,ccoef_plot, \n",
    "                #----- pannel setting -----\n",
    "                numberPanels = 2,\n",
    "                #----- mark setting -----\n",
    "                MarkerDisplayed = 'marker',\n",
    "                # markerLabel = label2, \n",
    "                # numberPanels = 1,\n",
    "                # markerLabel = ['obs','vr','rcm'],\n",
    "                # markerLabel = ['obs', imod.upper()],\n",
    "                # markerLabelColor = imod_style_color[imod],\n",
    "                markerlegend = \"off\",\n",
    "                markerColor = iregion_style_color[iregion],\n",
    "                markerSize = 6,\n",
    "                alpha = .5, \n",
    "                # -----RNSD-----\n",
    "                # tickRMS = np.arange(0,1.8,0.2),\n",
    "                tickRMS = [0, 0.5,1., 1.5],\n",
    "                tickRMSangle = 110, \n",
    "                colRMS = 'g', styleRMS = ':', widthRMS = 1.5,\n",
    "                # tickCOR = lsCOR,\n",
    "                showlabelsRMS = \"on\",\n",
    "                titleRMS = \"off\",\n",
    "                rmslabelformat = ':.1f',\n",
    "                # -----COR-----\n",
    "                colCOR = \"k\", \n",
    "                widthCOR = 1.0,\n",
    "                # -----STD------\n",
    "                tickSTD = [0, 0.5, 1. ,1.5 , 1.8], axismax = 1.8, \n",
    "                showlabelsSTD = 'on',\n",
    "                # markersymbol = iseason_style_marker[iseason],\n",
    "                markersymbol = combine_mod_season_marker[imod + \" \" + iseason],\n",
    "                # -----marker reference-----\n",
    "                styleOBS = '-', \n",
    "                colOBS = 'k',\n",
    "                markerobs = 'o', \n",
    "                overlay = first_plot,\n",
    "                titleOBS = 'observation',\n",
    "                # ------ check -----\n",
    "                # checkStats = True,\n",
    "            )\n",
    "\n",
    "            first_plot = True\n",
    "\n",
    "\n",
    "# legend设置，颜色以及型号\n",
    "# custom legend\n",
    "from matplotlib.patches import Patch\n",
    "from matplotlib.lines import Line2D\n",
    "legend_elements = []\n",
    "for i in iregion_style_color.items():\n",
    "    legend_elements.append( Patch(facecolor=i[1],label=i[0]))\n",
    "for i in combine_mod_season_marker.items():\n",
    "    legend_elements.append( Line2D([0], [0], marker=i[1], color='w', label=i[0].upper(),\n",
    "                          markerfacecolor='k', markersize=6)) \n",
    "\n",
    "fig.legend(handles=legend_elements, loc='upper right', bbox_to_anchor=(.92,0.8),prop={'size': 6}, ncol = 2)\n",
    "fig.suptitle(\"surface air temperature\", y=0.8)\n",
    "fig.text(0.025,.75,\"(b)\", fontsize = 16, fontweight = \"bold\", color = 'k')\n",
    "#saving pics\n",
    "plt.savefig(\"./output_pic/t2m_taylor_interannual_ts.2022.01.30.png\",dpi=600, facecolor = 'white')"
   ]
  }
 ],
 "metadata": {
  "interpreter": {
   "hash": "da0469cb1653dac5810650c6f9c12d7c46a389e85e448c305f1477fdb1af5288"
  },
  "kernelspec": {
   "display_name": "Python 3.8.2 64-bit ('proplot0528': conda)",
   "name": "python3"
  },
  "language_info": {
   "codemirror_mode": {
    "name": "ipython",
    "version": 3
   },
   "file_extension": ".py",
   "mimetype": "text/x-python",
   "name": "python",
   "nbconvert_exporter": "python",
   "pygments_lexer": "ipython3",
   "version": "3.8.2"
  },
  "orig_nbformat": 4
 },
 "nbformat": 4,
 "nbformat_minor": 2
}

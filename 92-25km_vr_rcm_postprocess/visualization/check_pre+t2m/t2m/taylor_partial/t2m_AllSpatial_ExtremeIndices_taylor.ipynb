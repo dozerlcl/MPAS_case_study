{
 "cells": [
  {
   "cell_type": "code",
   "execution_count": null,
   "metadata": {},
   "outputs": [],
   "source": [
    "import xarray as xr\n",
    "import numpy  as np\n",
    "import pandas as pd\n",
    "import matplotlib.pyplot as plt\n",
    "import skill_metrics as sm\n",
    "# import proplot as pplt"
   ]
  },
  {
   "cell_type": "markdown",
   "metadata": {},
   "source": [
    "## 读入数据\n",
    "\n",
    "2022.01.08\n",
    "\n",
    "- 因为xarray会将读入nc文件含有units = days 的数据识别为日期，decode_times 需要关闭，从而读入dtype为float64的 天数，而非一个时间dtype"
   ]
  },
  {
   "cell_type": "code",
   "execution_count": null,
   "metadata": {},
   "outputs": [],
   "source": [
    "dir_in = \"/raid52/yycheng/MPAS/REFERENCE/TEMP_DATA/mask_t2m/mask_res/\"\n",
    "filename_obs  = \"mask_sel_CN05.1_Tm_1961_2018_daily_025x025.nc\"\n",
    "filename_vr     = \"mask_mean_t2m_98-17_VR.nc\"\n",
    "filename_rcm    = \"mask_mean_t2m_98-17_RCM.nc\"\n",
    "\n",
    "# 平均气温\n",
    "ds_or = {}\n",
    "ds_or['obs'] = xr.open_dataset(dir_in + filename_obs)\n",
    "ds_or['vr']     = xr.open_dataset(dir_in + filename_vr)\n",
    "ds_or['rcm']    = xr.open_dataset(dir_in + filename_rcm  )\n",
    "# 提取变量\n",
    "var = {}\n",
    "var['obs'] = ds_or['obs']['tm']#[:,  :, :]\n",
    "var['vr'] = ds_or['vr']['t2m'] - 273.15\n",
    "var['rcm'] = ds_or['rcm']['t2m'] - 273.15\n",
    "\n",
    "# var['obs'] = var['obs'].reset_coords(names = 'lev', drop = True) # 去除掉obs中多余的lev coords\n",
    "\n",
    "# change coords\n",
    "var_list = ['obs', 'vr', 'rcm']\n",
    "for i in var_list:\n",
    "    rename_dict = dict(zip(var[i].coords.keys(), var['obs'].coords.keys()))\n",
    "#     # show converting coords\n",
    "    for rename_i in rename_dict:\n",
    "        print(rename_i + \" -----converting to----- \" + rename_dict[rename_i])\n",
    "\n",
    "    var[i] = var[i].rename(rename_dict)\n",
    "    var[i]._coords = var['obs']._coords\n",
    "    var[i] = var[i].rename(i)"
   ]
  },
  {
   "cell_type": "code",
   "execution_count": null,
   "metadata": {},
   "outputs": [],
   "source": [
    "ds_in_extreme = {}\n",
    "for mod_name in ['obs','vr', 'rcm']:\n",
    "    ds_in_extreme[mod_name] = {}\n",
    "    ds_in_extreme[mod_name]['am'] = xr.open_dataset(\"/raid52/yycheng/MPAS/REFERENCE/TEMP_DATA_large/t2m/extreme/extreme_\"+mod_name+\"_4-5.nc\", decode_times = False)\n",
    "    ds_in_extreme[mod_name]['jja'] = xr.open_dataset(\"/raid52/yycheng/MPAS/REFERENCE/TEMP_DATA_large/t2m/extreme/extreme_\"+mod_name+\"_6-8.nc\", decode_times = False)\n",
    "    ds_in_extreme[mod_name]['amjja'] = xr.open_dataset(\"/raid52/yycheng/MPAS/REFERENCE/TEMP_DATA_large/t2m/extreme/heatwave_\"+mod_name+\"_4-8.nc\", decode_times = False)\n",
    "vars_names = list(ds_in_extreme[mod_name]['am'].variables)[3:]\n",
    "vars_names"
   ]
  },
  {
   "cell_type": "markdown",
   "metadata": {},
   "source": [
    "## 计算部分"
   ]
  },
  {
   "cell_type": "markdown",
   "metadata": {},
   "source": [
    "### 平均态计算"
   ]
  },
  {
   "cell_type": "code",
   "execution_count": null,
   "metadata": {},
   "outputs": [],
   "source": [
    "indices_mean = {}\n",
    "\n",
    "time_idx = {}\n",
    "time_idx['am'] = var['obs'].time.dt.month.isin([4,5])\n",
    "time_idx['jja'] = var['obs'].time.dt.month.isin([6,7,8])\n",
    "\n",
    "for mod_name in ['obs', 'vr', 'rcm']:\n",
    "    indices_mean[mod_name] = {}\n",
    "    for iseason in ['am','jja','amjja']:\n",
    "        indices_mean[mod_name][iseason] = {}\n",
    "        if (iseason in ['am','jja']):\n",
    "            # 平均态\n",
    "            var_selmonth = var[mod_name].isel(time = time_idx[iseason]) # 选取月份的mod变量，后续通过它计算指标\n",
    "            indices_mean[mod_name][iseason]['mean'] =  var_selmonth.mean(dim = \"time\")\n",
    "            # 计算出的极端指数\n",
    "            for index_name in vars_names:\n",
    "                indices_mean[mod_name][iseason][index_name] = ds_in_extreme[mod_name][iseason][index_name].mean(dim = 'time')\n",
    "        if (iseason in ['amjja']):\n",
    "            for index_name in ['heat_wave_total_length','heat_wave_max_length']:\n",
    "                indices_mean[mod_name][iseason][index_name] = ds_in_extreme[mod_name][iseason][index_name].mean(dim = 'time')"
   ]
  },
  {
   "cell_type": "markdown",
   "metadata": {},
   "source": [
    "### 泰勒图诸要素计算"
   ]
  },
  {
   "cell_type": "code",
   "execution_count": null,
   "metadata": {},
   "outputs": [],
   "source": [
    "def nested_dict():\n",
    "    from collections import defaultdict\n",
    "    return defaultdict(nested_dict)\n",
    "# 进行mask，并且整理成1D数组，得到1D-pattern，用于后续的计算\n",
    "# 计算指数的平均值\n",
    "\n",
    "indices_mean_1d = nested_dict()\n",
    "for mod_name in ['obs', 'vr', 'rcm']:\n",
    "    for iseason in ['am','jja','amjja']:\n",
    "        indices_names = list(indices_mean['obs'][iseason].keys())\n",
    "        for count_way in indices_names:\n",
    "            # 获取1D的平均态 并以RCM为基础进行NAN的MASK\n",
    "            rcm_not_nan = ( ~np.isnan(indices_mean['rcm'][iseason][count_way])) &\\\n",
    "                 (~np.isnan(indices_mean['obs'][iseason][count_way])) &\\\n",
    "                 (~np.isnan(indices_mean['vr'][iseason][count_way]) )\n",
    "            var_1d_temp = xr.where(rcm_not_nan, indices_mean[mod_name][iseason][count_way], np.nan).values.ravel()\n",
    "            indices_mean_1d[mod_name][iseason][count_way] = var_1d_temp[~np.isnan(var_1d_temp)]\n",
    "# shape check\n",
    "# for iseason in ['am','jja']:\n",
    "#     for count_way in indices_names:\n",
    "#         print(\"shape check!\\n OBS     VR     RCM\")\n",
    "#         print(str(indices_mean_1d['obs'][iseason][count_way].shape) +' '\\\n",
    "#         +str(indices_mean_1d['vr'][iseason][count_way].shape) +' ' \\\n",
    "#         +str(indices_mean_1d['rcm'][iseason][count_way].shape))"
   ]
  },
  {
   "cell_type": "code",
   "execution_count": null,
   "metadata": {},
   "outputs": [],
   "source": [
    "# 计算泰勒图诸要素 到字典taylor_ts中\n",
    "\n",
    "# 进行mask，并且整理成1D数组，得到1D-pattern，用于后续的计算\n",
    "# 计算指数的平均值\n",
    "taylor_space = nested_dict()\n",
    "\n",
    "for mod_name in ['obs', 'vr', 'rcm']:\n",
    "    for iseason in ['am','jja','amjja']:\n",
    "        indices_names = list(indices_mean['obs'][iseason].keys())\n",
    "        for count_way in indices_names:\n",
    "            taylor_space[mod_name][iseason][count_way] = {} \n",
    "            temp_obs = indices_mean_1d['obs'][iseason][count_way]\n",
    "            temp_mod = indices_mean_1d[mod_name][iseason][count_way]\n",
    "            # remove nan\n",
    "            temp_obs = temp_obs[~np.isnan(temp_obs)]\n",
    "            temp_mod = temp_mod[~np.isnan(temp_mod)]\n",
    "            # taylor count\n",
    "            taylor_space[mod_name][iseason][count_way] = sm.taylor_statistics(temp_mod, temp_obs)\n",
    "            # normalized 注意先后顺序，先归一化CRMSD，再SDEV，否则用归一化后的SDEV计算RMSD会出现问题\n",
    "            taylor_space[mod_name][iseason][count_way]['crmsd'] = taylor_space[mod_name][iseason][count_way]['crmsd'] / taylor_space[mod_name][iseason][count_way]['sdev'][0]\n",
    "            taylor_space[mod_name][iseason][count_way]['sdev'] = taylor_space[mod_name][iseason][count_way]['sdev'] / taylor_space[mod_name][iseason][count_way]['sdev'][0]"
   ]
  },
  {
   "cell_type": "markdown",
   "metadata": {},
   "source": [
    "## 绘图部分\n",
    "\n",
    "逐个点的绘制泰勒图，单独为每个点的属性设置相应的特征"
   ]
  },
  {
   "cell_type": "markdown",
   "metadata": {},
   "source": [
    "### 检查数据-制表"
   ]
  },
  {
   "cell_type": "code",
   "execution_count": null,
   "metadata": {},
   "outputs": [],
   "source": [
    "table_taylor_metrics[i].values[7]"
   ]
  },
  {
   "cell_type": "code",
   "execution_count": null,
   "metadata": {},
   "outputs": [],
   "source": [
    "table_taylor_metrics = []\n",
    "for model in ['vr', 'rcm']:\n",
    "    for season in ['am','jja','amjja']:\n",
    "        table_temp = pd.DataFrame.from_dict( taylor_space[model][season] ) \n",
    "        table_temp['model']  = model\n",
    "        table_temp['season'] = season\n",
    "        table_taylor_metrics.append(table_temp)\n",
    "\n",
    "table_taylor_metrics = pd.concat(table_taylor_metrics)\n",
    "# table_taylor_metrics\n",
    "# table_taylor_metrics.loc['crmse']\n",
    "\n",
    "indices_names = list(indices_mean['obs']['am'].keys())\n",
    "for i in indices_names:\n",
    "\n",
    "    real_values_list = []\n",
    "    for single_value in table_taylor_metrics[i].values:\n",
    "        if ( (type(single_value) != float) ):\n",
    "            real_single_values = single_value[1]\n",
    "        else:\n",
    "            real_single_values = single_value\n",
    "        real_values_list.append(real_single_values)\n",
    "    real_values = np.array(real_values_list)\n",
    "\n",
    "    table_taylor_metrics[i] = real_values\n",
    "    \n",
    "# table_taylor_metrics.loc['sdev']\n",
    "table_taylor_metrics.to_csv(\"./output_table/t2m_SpatialTaylor_Indices_2022.01.12.csv\")\n",
    "table_taylor_metrics.loc['sdev']"
   ]
  },
  {
   "cell_type": "code",
   "execution_count": null,
   "metadata": {},
   "outputs": [],
   "source": [
    "indices_names"
   ]
  },
  {
   "cell_type": "code",
   "execution_count": null,
   "metadata": {},
   "outputs": [],
   "source": [
    "\n",
    "# fig, axs = pplt.subplots(ncols=1 ,nrows=1)\n",
    "fig = plt.figure(figsize=(6, 6), dpi = 600)\n",
    "\n",
    "first_plot = False # 用作后续overlay设置\n",
    "\n",
    "# 创建风格的dict,之后传入每个单独的点来进行绘制\n",
    "# # Define markers\n",
    "# kind = ['+','o','x','s','d','^','v','p','h','*']\n",
    "# colorm = ['b','r','g','c','m','y','k']\n",
    "imodiseason_color = {'vr am':\"darkorange\", 'vr jja':\"red\",'vr amjja':\"red\",'rcm am':'cyan', \"rcm jja\":\"blue\", \"rcm amjja\":\"blue\"}\n",
    "# iregion_style_color = {\"NE\":\"m\", \"NC\":\"y\", \"YZ\":\"c\", \"SC\":\"b\",'SW':\"g\",'NWC':\"tab:gray\"}\n",
    "# iseason_style_marker = {'am':'.',\"jja\":'v'}\n",
    "\n",
    "count_way_marker = {'mean':\"o\",\"daily_temperature_range\":\"X\",\"daily_temperature_range_variability\":\"d\",\"heat_wave_total_length\":\"^\",\"heat_wave_max_length\":\"v\"}\n",
    "\n",
    "count_way_marker_realnames = {'mean':\"mean\",\"daily_temperature_range\":\"range\",\"daily_temperature_range_variability\":\"range variability\",\\\n",
    "    \"heat_wave_total_length\":\"heat wave total length\",\"heat_wave_max_length\":\"heat wave max length\"}\n",
    "\n",
    "\n",
    "for imod in ['vr','rcm']:\n",
    "    for iseason in ['am','jja','amjja']:\n",
    "        indices_names = list(indices_mean['obs'][iseason].keys())\n",
    "        for count_way in indices_names:\n",
    "            if ( (count_way in ['heat_wave_total_length','heat_wave_max_length']) & (iseason in ['am','jja']) ):\n",
    "                break\n",
    "            # 获取每个点的泰勒图诸要素\n",
    "            sdev_plot = taylor_space[imod][iseason][count_way]['sdev']\n",
    "            crmsd_plot = taylor_space[imod][iseason][count_way]['crmsd']\n",
    "            ccoef_plot = taylor_space[imod][iseason][count_way]['ccoef']\n",
    "\n",
    "            sm.taylor_diagram(sdev_plot,crmsd_plot,ccoef_plot, \n",
    "                #----- mark setting -----\n",
    "                MarkerDisplayed = 'marker',\n",
    "                # markerLabel = label2, \n",
    "                # numberPanels = 1,\n",
    "                # markerLabel = ['obs','vr','rcm'],\n",
    "                # markerLabel = ['obs', imod.upper()],\n",
    "                # markerLabelColor = imod_style_color[imod],\n",
    "                markerlegend = \"off\",\n",
    "                markerColor = imodiseason_color[imod + \" \" + iseason],\n",
    "                # markerColor = 'k',\n",
    "                markerSize = 6,\n",
    "                alpha = .5, \n",
    "                # -----RNSD-----\n",
    "                # tickRMS = np.arange(0,1.8,0.2),\n",
    "                tickRMS = np.arange(0,2.0,0.2),\n",
    "                tickRMSangle = 70, \n",
    "                colRMS = 'g', styleRMS = ':', widthRMS = 1.5,\n",
    "                # tickCOR = lsCOR,\n",
    "                showlabelsRMS = \"on\",\n",
    "                titleRMS = \"off\",\n",
    "                rmslabelformat = ':.1f',\n",
    "                # -----COR-----\n",
    "                colCOR = \"k\", \n",
    "                widthCOR = 1.0,\n",
    "                # -----STD------\n",
    "                tickSTD = np.arange(0,2.8,.2), axismax = 2.6, \n",
    "                showlabelsSTD = 'on',\n",
    "                # markersymbol = iseason_style_marker[iseason],\n",
    "                # markersymbol = combine_mod_season_marker[imod + \" \" + iseason],\n",
    "                markersymbol = count_way_marker[count_way],\n",
    "                # -----marker reference-----\n",
    "                styleOBS = '-', \n",
    "                colOBS = 'k',\n",
    "                markerobs = 'o', \n",
    "                overlay = first_plot,\n",
    "                titleOBS = 'observation',\n",
    "                # ------ check -----\n",
    "                checkStats = True,\n",
    "            )\n",
    "\n",
    "            first_plot = True\n",
    "\n",
    "\n",
    "# legend设置，颜色以及型号\n",
    "# custom legend\n",
    "from matplotlib.patches import Patch\n",
    "from matplotlib.lines import Line2D\n",
    "legend_elements = []\n",
    "for i in imodiseason_color.items():\n",
    "    legend_elements.append( Patch(facecolor=i[1],label=i[0].upper()))\n",
    "for i in count_way_marker.items():\n",
    "    legend_elements.append( Line2D([0], [0], marker=i[1], color='w', label=count_way_marker_realnames[i[0]],linestyle=None,\n",
    "                          markerfacecolor='k', markersize=6)) \n",
    "\n",
    "fig.legend(handles=legend_elements, loc='upper right', bbox_to_anchor=(0.95,0.95),prop={'size': 6}, ncol=1)\n",
    "\n",
    "fig.suptitle(\"surface air temperature\")\n",
    "fig.text(0.025,.95,\"(b)\", fontsize = 16, fontweight = \"bold\", color = 'k')\n",
    "\n",
    "#saving pics\n",
    "# plt.savefig(\"./output_pic/t2m_SpatialTaylor_Indices_2022.01.13.png\",dpi=600, facecolor = 'white')"
   ]
  }
 ],
 "metadata": {
  "interpreter": {
   "hash": "5d125e8d1f62ef65bf14791ddcc54379be6b4b51969987cfa8a226a16aec3b4e"
  },
  "kernelspec": {
   "display_name": "Python 3.8.2 64-bit ('proplot0528': conda)",
   "language": "python",
   "name": "python3"
  },
  "language_info": {
   "codemirror_mode": {
    "name": "ipython",
    "version": 3
   },
   "file_extension": ".py",
   "mimetype": "text/x-python",
   "name": "python",
   "nbconvert_exporter": "python",
   "pygments_lexer": "ipython3",
   "version": "3.8.2"
  },
  "orig_nbformat": 4
 },
 "nbformat": 4,
 "nbformat_minor": 2
}

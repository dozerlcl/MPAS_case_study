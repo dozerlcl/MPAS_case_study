{
 "cells": [
  {
   "cell_type": "code",
   "execution_count": null,
   "metadata": {},
   "outputs": [],
   "source": [
    "import numpy as np\n",
    "import matplotlib.pyplot as plt\n",
    "import xarray as xr\n",
    "import pandas as pd\n",
    "import proplot as pplt\n",
    "from scipy.fftpack import * "
   ]
  },
  {
   "cell_type": "markdown",
   "metadata": {},
   "source": [
    "## 尝试使用MPAS数据绘制分辨率变化\n",
    "2021.08.04\n",
    "\n",
    "new：\n",
    "-   尝试修改色板的范围，让地理坐标在plt terrain的绿色部分\n",
    "-   使用tricolorf从原始的经纬度一维序列绘制大致分辨率\n",
    "-   修改投影方式，方便说明经纬度变化，使用大圆\n",
    "-   尝试添加lalonbox标注选取的区域划分部分\n",
    "-   添加分省的边界文件（包含南海的九段线）\n",
    "-   添加河流shp文件\n",
    "remains："
   ]
  },
  {
   "cell_type": "code",
   "execution_count": null,
   "metadata": {},
   "outputs": [],
   "source": [
    "# fname_rcm = \"/raid52/yycheng/MPAS/MESH/tpemip_grid/rcm_area/\" + \"china_rcm.grid.nc\"\n",
    "fname_rcm = \"/raid52/yycheng/MPAS/MESH/tpemip_grid/vr_area/\" + \"ea.grid.nc\"\n",
    "# fname_rcm = \"/raid52/yycheng/MPAS/MESH/x4.163842/\" + \"x4.163842.grid.nc\"\n",
    "ds_grid_rcm = xr.open_dataset(fname_rcm)\n",
    "\n",
    "fname_topo = \"/raid52/yycheng/MPAS/REFERENCE/MODEL_CONSTANT/\" + \"history.1998-04-01_00.00.00.nc\"\n",
    "zgrid      = xr.open_dataset(fname_topo)['zgrid'][:,0]"
   ]
  },
  {
   "cell_type": "markdown",
   "metadata": {},
   "source": [
    "## 估算分辨率"
   ]
  },
  {
   "cell_type": "markdown",
   "metadata": {},
   "source": [
    "分辨率估算方法1：直接从NCL计算resolution.ncl中摘抄；效果是非常平滑，但是最小分辨率存在问题，范围比较合适"
   ]
  },
  {
   "cell_type": "code",
   "execution_count": null,
   "metadata": {},
   "outputs": [],
   "source": [
    "areaCell = ds_grid_rcm['areaCell'] \n",
    "meshDensity = ds_grid_rcm['meshDensity']\n",
    "# meshDensity = meshDensity / meshDensity.max() # 不再进行归一化\n",
    "\n",
    "r2d = 180. / np.pi             # radians to degrees\n",
    "lonCell   = ds_grid_rcm['lonCell'] * r2d\n",
    "latCell   = ds_grid_rcm['latCell'] * r2d\n",
    "\n",
    "mod_lon    = xr.open_dataset(fname_topo)['lonCell'] * r2d\n",
    "mod_lat    = xr.open_dataset(fname_topo)['latCell'] * r2d\n",
    "\n",
    "minSpacingKm = np.sqrt(np.min(areaCell)*2.0/np.sqrt(3.0))*6371.229\n",
    "maxSpacingKm = np.sqrt(np.max(areaCell)*2.0/np.sqrt(3.0))*6371.229\n",
    "meanSpacingKm = np.sqrt(np.mean(areaCell)*2.0/np.sqrt(3.0))*6371.229\n",
    "\n",
    "fld_min = minSpacingKm / (meshDensity**0.25) # 直接使用网格最小分辨率 + Density预估出分辨率分布\n",
    "fld_spec = 25. / (meshDensity**0.25) # 直接使用25km作为最小的经纬度，再通过meshDensity预估出来\n",
    "# fld_max = maxSpacingKm / (meshDensity**0.25) # 不合理，需要从分辨率的最小值来进行估计，因此不能用max mean等方法\n",
    "# fld_mean = meanSpacingKm / (meshDensity**0.25)"
   ]
  },
  {
   "cell_type": "markdown",
   "metadata": {},
   "source": [
    "分辨率估算方法2：直接将上述方法应用在逐个mesh上，然后绘制逐个mesh的分辨率的等值线，在最小分辨率的位置不够平滑，范围会稍小"
   ]
  },
  {
   "cell_type": "code",
   "execution_count": null,
   "metadata": {},
   "outputs": [],
   "source": [
    "areaCell = ds_grid_rcm['areaCell'] \n",
    "meshDensity = ds_grid_rcm['meshDensity']\n",
    "EverySpacingKm = np.sqrt(areaCell*2.0/np.sqrt(3.0))*6371.229\n",
    "fld_everygrid = EverySpacingKm\n",
    "# fld_everygrid = EverySpacingKm / (meshDensity**0.25)"
   ]
  },
  {
   "cell_type": "markdown",
   "metadata": {},
   "source": [
    "分辨率估算方法3：严格按照PPT中的公式进行计算"
   ]
  },
  {
   "cell_type": "code",
   "execution_count": null,
   "metadata": {},
   "outputs": [],
   "source": [
    "argmax_Density = meshDensity.argmax()\n",
    "# meshDensity[argmax_Density]\n",
    "minreso = np.sqrt(areaCell[argmax_Density]*2.0/np.sqrt(3.0))*6371.229\n",
    "fld_strict =  meshDensity[argmax_Density] ** (0.25) / (meshDensity) ** (0.25) * minreso"
   ]
  },
  {
   "cell_type": "markdown",
   "metadata": {},
   "source": [
    "临时存放变量"
   ]
  },
  {
   "cell_type": "code",
   "execution_count": null,
   "metadata": {},
   "outputs": [],
   "source": [
    "import dill\n",
    "# dill.dump_session('./output_db/notebook_env.db')\n",
    "dill.load_session('./output_db/notebook_env.db')"
   ]
  },
  {
   "cell_type": "markdown",
   "metadata": {},
   "source": [
    "确认缓存是否读入正确"
   ]
  },
  {
   "cell_type": "code",
   "execution_count": null,
   "metadata": {},
   "outputs": [],
   "source": [
    "fld_strict"
   ]
  },
  {
   "cell_type": "markdown",
   "metadata": {},
   "source": [
    "## 绘图"
   ]
  },
  {
   "cell_type": "code",
   "execution_count": null,
   "metadata": {},
   "outputs": [],
   "source": [
    "import matplotlib.pyplot as plt\n",
    "import proplot as pplt\n",
    "fig, axs = pplt.subplots(nrows = 4,ncols = 1,figsize=(5,7))\n",
    "axs[0].hist(x = fld_min, bins = range(15,100,1), density=True)\n",
    "axs[1].hist(x = fld_spec, bins = range(15,100,1), density=True)\n",
    "axs[2].hist(x = fld_everygrid, bins = range(15,100,1), density=True)\n",
    "axs[3].hist(x = fld_strict, bins = range(15,100,1), density=True)\n",
    "axs[0].format(title = \"areaCell\")\n",
    "# axs[1].format(title = \"min mesh Spacing = 18.36 km\")\n",
    "# axs[2].format(title = \"min mesh Spacing = 24.00 km\")"
   ]
  },
  {
   "cell_type": "markdown",
   "metadata": {},
   "source": [
    "### 分辨率测试"
   ]
  },
  {
   "cell_type": "code",
   "execution_count": null,
   "metadata": {},
   "outputs": [],
   "source": [
    "import cartopy.io.shapereader as shpreader\n",
    "import cartopy.crs as ccrs\n",
    "import cartopy.feature as cfeature\n",
    "import matplotlib.patches as mpatches\n",
    "\n",
    "# ----- 分辨率reso，暂时用最小的 fld_min 替代，作为近似预估 -----\n",
    "# reso = (fld_min + fld_max ) / 2.\n",
    "# reso = fld_spec\n",
    "reso = fld_min\n",
    "# reso = all_spacing\n",
    "\n",
    "# ----- 绘图projection选取 -----\n",
    "# fig, axs = pplt.subplots(ncols=1,nrows=1, proj=('cyl'))\n",
    "# proj_sel = pplt.Proj('ortho', lon_0=100, lat_0=37.5) \n",
    "# proj_sel = pplt.Proj('stere', lon_0=100, lat_0=37.5) \n",
    "# proj_sel = ('cyl')\n",
    "# 使用更高精度的 proj_sel 方便后续绘制box的时候不出现明显折线 (remark!!)\n",
    "proj_sel = ccrs.Orthographic(central_latitude=32.5, central_longitude=100.0)\n",
    "# proj_sel._threshold /= 100.\n",
    "# proj_sel = ccrs.LambertCylindrical()\n",
    "\n",
    "fig, axs = pplt.subplots(ncols=4, nrows=1, proj=proj_sel)\n",
    "\n",
    "#----- 等值线ticks -----\n",
    "# reso_ticks = [18, 20, 25, 45, 90]\n",
    "reso_ticks = [30, 45, 70]\n",
    "m_contour  = axs[0].tricontour(lonCell, latCell, fld_min, levels  = reso_ticks,color='r',linewidth = 1.5, linestyle = '-.')\n",
    "axs[0].clabel(m_contour, inline=True, fontsize=10, colors = 'r', fmt='%2.0f',use_clabeltext=True, inline_spacing=0.2)\n",
    "\n",
    "m_contour  = axs[1].tricontour(lonCell, latCell, fld_spec, levels  = reso_ticks,color='k',linewidth = 1.5, linestyle = '-.')\n",
    "axs[1].clabel(m_contour, inline=True, fontsize=10, colors = 'k', fmt='%2.0f',use_clabeltext=True, inline_spacing=0.2)\n",
    "\n",
    "m_contour  = axs[2].tricontour(lonCell, latCell, fld_everygrid, levels  = reso_ticks,color='b',linewidth = 1.5, linestyle = '-.')\n",
    "axs[2].clabel(m_contour, inline=True, fontsize=10, colors = 'b', fmt='%2.0f',use_clabeltext=True, inline_spacing=0.2)\n",
    "\n",
    "m_contour  = axs[3].tricontour(lonCell, latCell, fld_strict, levels  = reso_ticks,color='b',linewidth = 1.5, linestyle = '-.')\n",
    "axs[3].clabel(m_contour, inline=True, fontsize=10, colors = 'b', fmt='%2.0f',use_clabeltext=True, inline_spacing=0.2)\n",
    "\n",
    "# ----- format setting -----\n",
    "\n",
    "axs.format(\n",
    "abc=False,\n",
    "# lonlim=(55, 150), latlim=(-5, 70),\n",
    "# lonlim=(60, 100), latlim=(10, 40),\n",
    "#----- 地图底图设置 -----\n",
    "reso = 'x-hi',\n",
    "coast = True,\n",
    "borders = False,\n",
    "lakes = False,\n",
    "land  = False,\n",
    "ocean = False,\n",
    "oceancolor = 'b',\n",
    "\n",
    "#-----GEO axis-----\n",
    "labels = True,\n",
    "gridlabelsize = 5,\n",
    "\n",
    "longrid  = False,\n",
    "latgrid  = False,\n",
    "\n",
    "latlines = 10,\n",
    "lonlines = 10,\n",
    "suptitle=\"resolution\",\n",
    ")\n",
    "\n",
    "\n",
    "\n",
    "#----- save figure -----\n",
    "fig.patch.set_facecolor('white')\n",
    "# plt.savefig('./output_pic/domain_reso_add.png', dpi=600, facecolor= \"white\")"
   ]
  },
  {
   "cell_type": "markdown",
   "metadata": {},
   "source": [
    "### 地形图叠加分辨率"
   ]
  },
  {
   "cell_type": "code",
   "execution_count": null,
   "metadata": {},
   "outputs": [],
   "source": [
    "zgrid_rmnan = zgrid.fillna(0)\n",
    "zgrid_rmnan = np.where(zgrid_rmnan<0, 0 , zgrid_rmnan)"
   ]
  },
  {
   "cell_type": "code",
   "execution_count": null,
   "metadata": {},
   "outputs": [],
   "source": [
    "# 调整CMAP\n",
    "# https://stackoverflow.com/questions/18926031/how-to-extract-a-subset-of-a-colormap-as-a-new-colormap-in-matplotlib\n",
    "\n",
    "import matplotlib.pyplot as plt\n",
    "import matplotlib.colors as colors\n",
    "import numpy as np\n",
    "\n",
    "def truncate_colormap(cmap, minval=0.0, maxval=1.0, n=100):\n",
    "    new_cmap = colors.LinearSegmentedColormap.from_list(\n",
    "        'trunc({n},{a:.2f},{b:.2f})'.format(n=cmap.name, a=minval, b=maxval),\n",
    "        cmap(np.linspace(minval, maxval, n)))\n",
    "    return new_cmap\n",
    "\n",
    "arr = np.linspace(0, 50, 100).reshape((10, 10))\n",
    "fig, ax = plt.subplots(ncols=2)\n",
    "\n",
    "cmap = plt.get_cmap('terrain')\n",
    "new_cmap = truncate_colormap(cmap, 0.2, 1.)\n",
    "ax[0].imshow(arr, interpolation='nearest', cmap=cmap)\n",
    "ax[1].imshow(arr, interpolation='nearest', cmap=new_cmap)\n",
    "plt.show()"
   ]
  },
  {
   "cell_type": "code",
   "execution_count": null,
   "metadata": {},
   "outputs": [],
   "source": [
    "# 从边界文件 border 进行省界绘制的部分\n",
    "# Load the border data, CN-border-La.dat is download from\n",
    "# https://gmt-china.org/data/CN-border-La.dat\n",
    "import cartopy.crs as ccrs\n",
    "cn_border_file = \"/m2data2/yycheng/data_stage/CN-border/CN-border_line/CN-border-La.dat\"\n",
    "with open(cn_border_file) as src:\n",
    "    context = src.read()\n",
    "    blocks = [cnt for cnt in context.split('>') if len(cnt) > 0]\n",
    "    borders = [np.fromstring(block, dtype=float, sep=' ') for block in blocks]"
   ]
  },
  {
   "cell_type": "code",
   "execution_count": null,
   "metadata": {},
   "outputs": [],
   "source": [
    "import cartopy.io.shapereader as shpreader\n",
    "import cartopy.crs as ccrs\n",
    "import cartopy.feature as cfeature\n",
    "import matplotlib.patches as mpatches\n",
    "\n",
    "#----- change font -----\n",
    "pplt.rc['font.serif'] = 'Arial'\n",
    "\n",
    "## shapefile数据下载的位置：\n",
    "## http://gaohr.win/site/blogs/2017/2017-04-18-GIS-basic-data-of-China.html\n",
    "# world_border_shapefile = \"/m2data2/yycheng/data_stage/CN-border/World/country.shp\"\n",
    "world_border_shapefile = \"/m2data2/yycheng/data_stage/CN-border/世界国家/\" + \"世界国家.shp\"\n",
    "river_border_shapefile =  \"/raid52/yycheng/MPAS/REFERENCE/MODEL_CONSTANT/R1/\" + \"hyd1_4l.shp\"\n",
    "province_2015_changeproj_shapefile    = \"/m2data2/yycheng/data_stage/CN-border/CN-sheng/\" + \"change_proj_CN-sheng-A.shp\"\n",
    "# 南海九段线\n",
    "ninelines_shapefile     = \"/m2data2/yycheng/data_stage/CN-border/SouthSea/\" + \"nine_lines.shp\"\n",
    "\n",
    "# ----- 分辨率reso，暂时用最小的 fld_min 替代，作为近似预估 -----\n",
    "# reso = (fld_min + fld_max ) / 2.\n",
    "reso = fld_strict\n",
    "\n",
    "# ----- 绘图projection选取 -----\n",
    "# fig, axs = pplt.subplots(ncols=1,nrows=1, proj=('cyl'))\n",
    "# proj_sel = pplt.Proj('ortho', lon_0=100, lat_0=37.5) \n",
    "# proj_sel = pplt.Proj('stere', lon_0=100, lat_0=37.5) \n",
    "# proj_sel = ('cyl')\n",
    "# 使用更高精度的 proj_sel 方便后续绘制box的时候不出现明显折线 (remark!!)\n",
    "proj_sel = ccrs.Orthographic(central_latitude=37.5, central_longitude=100.0)\n",
    "proj_sel._threshold /= 100.\n",
    "\n",
    "# fig, axs = pplt.subplots(ncols=1,nrows=1, proj=proj_sel, journal = 'agu1')\n",
    "fig, axs = pplt.subplots(ncols=1,nrows=1, proj=proj_sel, width = '95mm', height = '115mm')\n",
    "# plt.style.use(['science', 'no-latex']) # 采用 安装的scinence绘图风格，matplotlib风格拓展\n",
    "\n",
    "#----- 添加海洋以及行政区划 -----\n",
    "\n",
    "#---- 直接绘图，从边界文件添加\n",
    "# for ax_ind in axs:\n",
    "# for line in borders:\n",
    "    # axs.plot(line[0::100], line[1::100], lw = 0.5, color='gray',transform=ccrs.Geodetic())\n",
    "    # axs.plot(line[0::10], line[1::10], lw = 0.3, color='black',transform=ccrs.Geodetic())\n",
    "#---- 使用shp文件添加\n",
    "for ax in axs:\n",
    "    world = shpreader.Reader(world_border_shapefile).geometries()\n",
    "    river = shpreader.Reader(river_border_shapefile).geometries()\n",
    "    province_2015_change_proj = shpreader.Reader(province_2015_changeproj_shapefile , encoding = 'UTF8').geometries() # 地资所的shp，需要转换proj单位\n",
    "    ninelines  = shpreader.Reader(ninelines_shapefile, encoding = 'utf8').geometries()\n",
    " \n",
    "    ax.add_geometries(world, ccrs.PlateCarree(), facecolor='none', edgecolor='k', linewidth=0.4, zorder=1)\n",
    "    ax.add_geometries(river, ccrs.PlateCarree(), facecolor='none', edgecolor='b', linewidth=0.4, zorder=1)\n",
    "    ax.add_geometries(province_2015_change_proj , ccrs.PlateCarree(), facecolor='none', edgecolor='k', linewidth=0.1,\n",
    "    linestyle = \"-\", zorder=1)\n",
    "    ax.add_geometries(ninelines, ccrs.PlateCarree(), facecolor='none', edgecolor='k', linewidth=0.4, zorder=1)\n",
    "    # ax.add_feature(cfeature.NaturalEarthFeature('physical', 'ocean', '50m', edgecolor='face', facecolor='b'))\n",
    "    ax.add_feature(cfeature.OCEAN, color = 'b') # 添加海洋填色\n",
    "    # ax.set_global() # added following an answer to my question 并不知道有什么用，先加着\n",
    "    # ax.gridlines()\n",
    "\n",
    "#----- 等值线ticks -----\n",
    "reso_ticks = [30, 45, 80]\n",
    "m_contour  = axs[0].tricontour(lonCell, latCell, reso, levels  = reso_ticks,color='k',linewidth = 1.5, linestyle = '-.')\n",
    "# (latCell, lonCell, fld_min)\n",
    "# 添加 color bar\n",
    "# axs[0].colorbar(m_mean, loc='b', width=0.1,ticklabelsize=5,ticks=reso_ticks)\n",
    "# 添加 contour 标注线\n",
    "axs[0].clabel(m_contour, inline=True, fontsize=10, colors = 'k', fmt='%2.0f',use_clabeltext=True, inline_spacing=0.2)\n",
    "\n",
    "\n",
    "\n",
    "#----- 添加地形等值线 -----\n",
    "topo_ticks = np.linspace(0, 5000, 101)\n",
    "topo = axs[0].tricontourf(mod_lon, mod_lat, zgrid_rmnan,\\\n",
    "levels=topo_ticks,cmap=new_cmap)\n",
    "axs[0].colorbar(topo, loc='b', width=0.1,ticklabelsize=5,ticks=topo_ticks[::10], title='terrain height [m]')\n",
    "\n",
    "#----- 添加 latlonbox -----\n",
    "    # Build a rectangle in axes coords\n",
    "\n",
    "lonlatbox =[\n",
    "        [107, 98, 28, 22],\n",
    "        [123, 107, 26, 18],\n",
    "        [123, 107, 34, 26],\n",
    "        [123, 107, 42, 34],\n",
    "        [134, 114, 53, 42],  \n",
    "        [100, 77, 48, 35],\n",
    "        [140, 70, 60, 5]\n",
    "            ]\n",
    "boxname = [\"SW\", \"SC\", \"YZ\", \"NC\", \"NE\",\"NWC\", \"PLOT\"]\n",
    "for ind_box in range(0,7):\n",
    "    # slon, slat, elon, elat = 70, 15, 140, 55\n",
    "    elon, slon, elat, slat = lonlatbox[ind_box][0],lonlatbox[ind_box][1],lonlatbox[ind_box][2],lonlatbox[ind_box][3]\n",
    "\n",
    "    if (boxname[ind_box]=='PLOT'):\n",
    "        lw_sel = 1\n",
    "    else:\n",
    "        lw_sel = 0.5\n",
    "    axs[0].add_patch(mpatches.Rectangle(xy=[slon, slat], width=(elon - slon), height=(elat - slat),\n",
    "                                        fill=False,lw = lw_sel,\n",
    "                                        transform=ccrs.PlateCarree()))\n",
    "    # 填写区域名称 到区域的中心位置\n",
    "    # 凭经验将区域名称移动了一下 -4 -4\n",
    "    if(boxname[ind_box]!='PLOT'):\n",
    "        text_lon = (slon + elon) / 2. - 3.\n",
    "        text_lat = (slat + elat) / 2. - 1.\n",
    "    else:\n",
    "        text_lon = slon + 4.\n",
    "        text_lat = slat + 4.\n",
    "    axs[0].text(text_lon, text_lat, boxname[ind_box], fontsize = 6,fontweight='bold',\n",
    "            transform=ccrs.PlateCarree())\n",
    "\n",
    "\n",
    "\n",
    "# ----- format setting -----\n",
    "\n",
    "axs.format(\n",
    "abc=False,\n",
    "# lonlim=(55, 150), latlim=(-5, 70),\n",
    "# lonlim=(60, 100), latlim=(10, 40),\n",
    "#----- 地图底图设置 -----\n",
    "reso = 'x-hi',\n",
    "coast = False,\n",
    "borders = False,\n",
    "lakes = False,\n",
    "land  = False,\n",
    "ocean = False,\n",
    "oceancolor = 'b',\n",
    "cartopyautoextent = True, \n",
    "# borderslinewidth=.5,\n",
    "#-----GEO axis-----\n",
    "labels = True,\n",
    "gridlabelsize = 5,\n",
    "# gridminor = False,\n",
    "# ticklen = 10,\n",
    "longrid  = False,\n",
    "latgrid  = False,\n",
    "# longridminor= False,\n",
    "# latgridminor= False,\n",
    "# lonminorlocator = \n",
    "# longrid  = True,\n",
    "# latgrid  = True,\n",
    "latlines = 10,\n",
    "lonlines = 10,\n",
    "# lonlocator = 20,\n",
    "# latlocator = 10,\n",
    "# lonlocator = np.arange(70,140,10),\n",
    "# latlocator = np.arange(15,65,10),\n",
    "# lonminorlocator = np.arange(70,140+2,5),\n",
    "# latminorlocator = np.arange(15,55+2,5),\n",
    "#-----line label-----\n",
    "# linewidth = 0.5,\n",
    "# suptitle=\"3000km-2000km bandpass 500hPa height(1998-06 timemean)\",\n",
    "# suptitle=\"model domain\",\n",
    ")\n",
    "\n",
    "#----- save figure -----\n",
    "fig.patch.set_facecolor('white')\n",
    "plt.savefig('./output_pic/domain_reso_add.2022.05.01.jpg', facecolor= \"white\", format = 'jpg', dpi = 600)"
   ]
  }
 ],
 "metadata": {
  "interpreter": {
   "hash": "da0469cb1653dac5810650c6f9c12d7c46a389e85e448c305f1477fdb1af5288"
  },
  "kernelspec": {
   "display_name": "Python 3.8.2 64-bit ('proplot0528': conda)",
   "name": "python3"
  },
  "language_info": {
   "codemirror_mode": {
    "name": "ipython",
    "version": 3
   },
   "file_extension": ".py",
   "mimetype": "text/x-python",
   "name": "python",
   "nbconvert_exporter": "python",
   "pygments_lexer": "ipython3",
   "version": "3.8.2"
  },
  "orig_nbformat": 4
 },
 "nbformat": 4,
 "nbformat_minor": 2
}

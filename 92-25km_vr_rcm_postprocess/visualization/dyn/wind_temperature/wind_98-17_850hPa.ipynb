{
 "cells": [
  {
   "cell_type": "code",
   "execution_count": 1,
   "source": [
    "import numpy as np\n",
    "import matplotlib.pyplot as plt\n",
    "import xarray as xr\n",
    "import pandas as pd\n",
    "import cmaps\n",
    "\n",
    "# 国内政区图的绘制\n",
    "# Load the border data, CN-border-La.dat is download from\n",
    "# https://gmt-china.org/data/CN-border-La.dat\n",
    "import cartopy.crs as ccrs\n",
    "import cartopy.io.shapereader as shpreader\n",
    "import cartopy.crs as ccrs\n",
    "import cartopy.feature as cfeature\n",
    "import matplotlib.patches as mpatches"
   ],
   "outputs": [],
   "metadata": {}
  },
  {
   "cell_type": "markdown",
   "source": [
    "# 进行风和比湿拆分的绘制\n",
    "\n",
    "使用shumflux中进行前处理的脚本，将VR,RCM,OBS读作相同坐标的变量，之后再使用dict进行变量区域的筛选，筛选出850hPa风以及比湿之后放入REFERENCE中待下一步绘制"
   ],
   "metadata": {}
  },
  {
   "cell_type": "markdown",
   "source": [
    "## 数据读取、筛选部分"
   ],
   "metadata": {}
  },
  {
   "cell_type": "code",
   "execution_count": 2,
   "source": [
    "ds_wind = {}\n",
    "ds_qv   = {}\n",
    "\n",
    "# diag数据包含9-1，需要去掉尾部\n",
    "dir_in = \"/raid52/yycheng/MPAS/VR_postprocess/VR_merge_large/ke_daily_vi/\"\n",
    "ds_wind['vr'] = xr.open_mfdataset(dir_in + \"????_VR_ke_daily_vi.nc\", parallel=True, chunks={\"Time\": 3060})\n",
    "ds_wind['vr'] = ds_wind['vr'].sel(Time = ds_wind['vr'].Time.dt.month.isin([4,5,6,7,8]))\n",
    "dir_in = \"/raid52/yycheng/MPAS/VR_postprocess/VR_merge_large/hum_theta_daily_vi/\"\n",
    "ds_qv['vr'] = xr.open_mfdataset(dir_in + \"????_VR_hum_theta_daily_vi.nc\", parallel=True)\n",
    "ds_qv['vr'] = ds_qv['vr'].sel(Time = ds_qv['vr'].Time.dt.month.isin([4,5,6,7,8]))\n",
    "\n",
    "dir_in = \"/raid52/yycheng/MPAS/RCM_postprocess/RCM_merge_large/ke_daily_vi/\"\n",
    "ds_wind['rcm'] = xr.open_mfdataset(dir_in + \"????_RCM_ke_daily_vi.nc\", parallel=True, chunks={\"time\": 3060})\n",
    "ds_wind['rcm'] = ds_wind['rcm'].sel(Time = ds_wind['rcm'].Time.dt.month.isin([4,5,6,7,8]))\n",
    "dir_in = \"/raid52/yycheng/MPAS/RCM_postprocess/RCM_merge_large/hum_theta_daily_vi/\"\n",
    "ds_qv['rcm'] = xr.open_mfdataset(dir_in + \"????_RCM_hum_theta_daily_vi.nc\", parallel=True)\n",
    "ds_qv['rcm'] = ds_qv['rcm'].sel(Time = ds_qv['rcm'].Time.dt.month.isin([4,5,6,7,8]))"
   ],
   "outputs": [],
   "metadata": {}
  },
  {
   "cell_type": "code",
   "execution_count": 3,
   "source": [
    "# 添加ERA5I观测数据\n",
    "ds_wind['obs'] = {}\n",
    "\n",
    "# 切换 ERA5I 坐标到MPAS输出结果，方便转换\n",
    "\n",
    "rename_dict = {\"level\":\"plevels\", \"lon\":\"longitude\", \"lat\":\"latitude\", \"time\":\"Time\"}\n",
    "# ds_wind['obs']['uReconstructZonal'].assign_coords(Time = Time)\n",
    "# show converting coords\n",
    "for rename_i in rename_dict:\n",
    "    print(rename_i + \" -----converting to----- \" + rename_dict[rename_i])\n",
    "# 读取数据后就整理坐标，和RCM的坐标一致，之后再进行计算\n",
    "dir_in = \"/raid52/yycheng/MPAS/REFERENCE/ERA5I_NC/ERA5I_NC_daily_large/u_98-17_daily/\"\n",
    "ds_wind['obs'][\"uReconstructZonal\"] = xr.open_dataset(dir_in + \"merge_uwnd_98-17_daily.nc\")\\\n",
    "    .rename(rename_dict).assign_coords(ds_qv['rcm']['qv'].coords)['uwnd']\n",
    "\n",
    "dir_in = \"/raid52/yycheng/MPAS/REFERENCE/ERA5I_NC/ERA5I_NC_daily_large/v_98-17_daily/\"\n",
    "ds_wind['obs'][\"uReconstructMeridional\"] = xr.open_dataset(dir_in + \"merge_vwnd_98-17_daily.nc\")\\\n",
    "    .rename(rename_dict).assign_coords(ds_qv['rcm']['qv'].coords)['vwnd']\n",
    "\n",
    "dir_in = \"/raid52/yycheng/MPAS/REFERENCE/ERA5I_NC/ERA5I_NC_daily_large/shum_98-17_daily/\"\n",
    "ds_qv['obs'] = xr.open_dataset(dir_in + \"merge_shum_98-17_daily.nc\").rename(rename_dict).assign_coords(ds_qv['rcm']['qv'].coords)\n",
    "ds_qv['obs'] = ds_qv['obs'].rename({\"shum\":\"qv\"})"
   ],
   "outputs": [
    {
     "output_type": "stream",
     "name": "stdout",
     "text": [
      "level -----converting to----- plevels\n",
      "lon -----converting to----- longitude\n",
      "lat -----converting to----- latitude\n",
      "time -----converting to----- Time\n"
     ]
    }
   ],
   "metadata": {}
  },
  {
   "cell_type": "code",
   "execution_count": 4,
   "source": [
    "# ----- select data range -----\n",
    "lat_sel     = (ds_qv['vr'].latitude >= 5) & (ds_qv['vr'].latitude <= 60)\n",
    "lon_sel     = (ds_qv['vr'].longitude >= 70) & (ds_qv['vr'].longitude <= 140)\n",
    "plevels_sel = (ds_qv['vr'].plevels == 850) #(ds_qv['vr'].plevels >= 200) & (ds_qv['vr'].plevels <= 925)\n",
    "\n",
    "# plevels_sel = (ds_qv['vr'].plevels == 100)\n",
    "time_year    = (ds_qv['vr'].Time.dt.year >= 1998) # 时次相对较长，一开始使用1998年一年进行尝试\n",
    "time_sel_am     = ds_qv['vr'].Time.dt.month.isin([4,5])\n",
    "time_sel_jja    = ds_qv['vr'].Time.dt.month.isin([6,7,8])\n",
    "\n",
    "sel_dict = {}\n",
    "sel_dict['alltime'] = {'longitude':lon_sel, \"latitude\":lat_sel, \"plevels\":plevels_sel, \"Time\":(time_year)}\n",
    "# sel_dict['am']    = {'longitude':lon_sel, \"latitude\":lat_sel, \"plevels\":plevels_sel, \"Time\":(time_sel_am & time_year)}\n",
    "# sel_dict['jja']   = {'longitude':lon_sel, \"latitude\":lat_sel, \"plevels\":plevels_sel, \"Time\":(time_sel_jja & time_year)}\n",
    "# sel_dict['jja']   = {'longitude':lon_sel, \"latitude\":lat_sel, \"plevels\":plevels_sel, \"Time\":(time_sel_jja & time_year)}"
   ],
   "outputs": [],
   "metadata": {}
  },
  {
   "cell_type": "code",
   "execution_count": 5,
   "source": [
    "# ----- 选取变量 -----\n",
    "mod_list    = ['obs', 'vr', 'rcm']\n",
    "season_list = ['am', 'jja']\n",
    "\n",
    "u_sel = {}\n",
    "v_sel = {}\n",
    "qv_sel = {}\n",
    "\n",
    "for imod in mod_list:\n",
    "    u_sel[imod]  = ds_wind[imod]['uReconstructZonal'].isel(sel_dict['alltime'])\n",
    "    v_sel[imod]  = ds_wind[imod]['uReconstructMeridional'].isel(sel_dict['alltime'])\n",
    "    qv_sel[imod] = ds_qv[imod]['qv'].isel(sel_dict['alltime'])"
   ],
   "outputs": [],
   "metadata": {}
  },
  {
   "cell_type": "code",
   "execution_count": 10,
   "source": [
    "# chunks_test_rechunked.to_netcdf(\"./test_1.nc\")"
   ],
   "outputs": [],
   "metadata": {}
  },
  {
   "cell_type": "markdown",
   "source": [
    "## 创建临时输出\n",
    "受到运算服务器cpu的限制，两个模拟的数据不方便从200G以上的NC文件中读出，在更闲48.151的服务器上计算。之后再挪过来"
   ],
   "metadata": {}
  },
  {
   "cell_type": "code",
   "execution_count": null,
   "source": [
    "dir_out = \"/raid52/yycheng/MPAS/REFERENCE/TEMP_DATA_large/dyn/wind_shum_850hPa/\"\n",
    "\n",
    "for imod in ['obs']:\n",
    "    u_sel[imod].to_netcdf(dir_out + 'uwnd/'  + imod + \"_uwind.nc\")\n",
    "    v_sel[imod].to_netcdf(dir_out + 'vwnd/'  + imod + \"_vwind.nc\")\n",
    "    qv_sel[imod].to_netcdf(dir_out + 'shum/' + imod + \"_shum.nc\")"
   ],
   "outputs": [],
   "metadata": {}
  },
  {
   "cell_type": "markdown",
   "source": [
    "## 绘图变量的绘制"
   ],
   "metadata": {}
  },
  {
   "cell_type": "code",
   "execution_count": null,
   "source": [
    "# # 存放绘图变量的字典文件\n",
    "# u_sel_mean = {}\n",
    "# v_sel_mean = {}\n",
    "# qv_sel_mean = {}\n",
    "\n",
    "# # 筛选季节的index\n",
    "# sel_dict = {}\n",
    "# time_sel_am     = u_sel['vr'].Time.dt.month.isin([4,5])\n",
    "# time_sel_jja    = u_sel['vr'].Time.dt.month.isin([6,7,8])\n",
    "# sel_dict['am']    = {\"Time\":(time_sel_am)}\n",
    "# sel_dict['jja']   = {\"Time\":(time_sel_jja)}\n",
    "\n",
    "# for imod in mod_list:\n",
    "#     u_sel_mean[imod]  = {}\n",
    "#     v_sel_mean[imod]  = {} \n",
    "#     qv_sel_mean[imod] = {}\n",
    "#     # 计算平均,顺便去除单独的维度 plevels \n",
    "#     for iseason in season_list:\n",
    "#         u_sel_mean[imod][iseason]  = u_sel[imod].sel(sel_dict[iseason]).mean(dim = ['Time','plevels']).copy(deep = True)\n",
    "#         v_sel_mean[imod][iseason]  = v_sel[imod].sel(sel_dict[iseason]).mean(dim = ['Time','plevels']).copy(deep = True) \n",
    "#         qv_sel_mean[imod][iseason] = qv_sel[imod].sel(sel_dict[iseason]).mean(dim = ['Time','plevels']).copy(deep = True) "
   ],
   "outputs": [],
   "metadata": {}
  }
 ],
 "metadata": {
  "orig_nbformat": 4,
  "language_info": {
   "name": "python",
   "version": "3.8.2",
   "mimetype": "text/x-python",
   "codemirror_mode": {
    "name": "ipython",
    "version": 3
   },
   "pygments_lexer": "ipython3",
   "nbconvert_exporter": "python",
   "file_extension": ".py"
  },
  "kernelspec": {
   "name": "python3",
   "display_name": "Python 3.8.2 64-bit ('proplot0528': conda)"
  },
  "interpreter": {
   "hash": "da0469cb1653dac5810650c6f9c12d7c46a389e85e448c305f1477fdb1af5288"
  }
 },
 "nbformat": 4,
 "nbformat_minor": 2
}
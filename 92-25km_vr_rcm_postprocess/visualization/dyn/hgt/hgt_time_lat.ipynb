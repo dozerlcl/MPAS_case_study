{
 "cells": [
  {
   "cell_type": "code",
   "execution_count": null,
   "metadata": {},
   "outputs": [],
   "source": [
    "import numpy as np\n",
    "import matplotlib.pyplot as plt\n",
    "import xarray as xr\n",
    "import pandas as pd"
   ]
  },
  {
   "cell_type": "markdown",
   "metadata": {},
   "source": [
    "2021.07.19\n",
    "\n",
    "# 计算位势高度的纬向、时间平均\n",
    "\n",
    "采用和此前NCL脚本相似的方式读入数据，即ERA5I从筛选的ERA5I读入，VR\\RCM数据从diag中选取（不太适合进行垂直剖面的绘制）\n",
    "\n",
    "2022.02.07\n",
    "\n",
    "将绘制时间改到MJJA"
   ]
  },
  {
   "cell_type": "markdown",
   "metadata": {},
   "source": [
    "- 读入day of year数据"
   ]
  },
  {
   "cell_type": "code",
   "execution_count": null,
   "metadata": {},
   "outputs": [],
   "source": [
    "\n",
    "filename_era5i = \"ydaymean_hgt_daily.nc\"\n",
    "filename_vr     = \"ydaymean_hgt_VR_98-17.nc\"\n",
    "filename_rcm    = \"ydaymean_hgt_RCM_98-17.nc\"\n",
    "\n",
    "ds_or = {}\n",
    "dir_in = \"/raid52/yycheng/MPAS/REFERENCE/ERA5I_NC/ERA5I_NC_daily/hgt/\"\n",
    "ds_or['era5i']  = xr.open_dataset(dir_in + filename_era5i)\n",
    "dir_in = \"/raid52/yycheng/MPAS/VR_postprocess/VR_merge/diag_daily_selected/hgt/\"\n",
    "ds_or['vr']     = xr.open_dataset(dir_in + filename_vr)\n",
    "dir_in = \"/raid52/yycheng/MPAS/RCM_postprocess/RCM_merge/diag_daily_selected/hgt/\"\n",
    "ds_or['rcm']    = xr.open_dataset(dir_in + filename_rcm  )\n",
    "# 提取变量\n",
    "var = {}\n",
    "var['era5i'] = ds_or['era5i']['hgt'].sel(level=500)[30:,:,:]\n",
    "var['vr'] = ds_or['vr']['height_500hPa'][30:,:,:]\n",
    "var['rcm'] = ds_or['rcm']['height_500hPa'][30:,:,:]\n",
    "# change coords\n",
    "var_list = ['era5i', 'vr', 'rcm']\n",
    "for i in var_list:\n",
    "    rename_dict = dict(zip(var[i].coords.keys(), var['era5i'].coords.keys()))\n",
    "    # show converting coords\n",
    "    for rename_i in rename_dict:\n",
    "        print(rename_i + \" -----converting to----- \" + rename_dict[rename_i])\n",
    "\n",
    "    var[i] = var[i].rename(rename_dict)\n",
    "    var[i]._coords = var['era5i']._coords\n",
    "    var[i] = var[i].rename(i)\n"
   ]
  },
  {
   "cell_type": "code",
   "execution_count": null,
   "metadata": {},
   "outputs": [],
   "source": [
    "region_dict = {}\n",
    "lat = var['era5i'].lat\n",
    "lon = var['era5i'].lon\n",
    "time= var['era5i'].time\n",
    "region_dict['lat'] = lat[(lat>=10) & (lat<=60)]\n",
    "region_dict['lon'] = lon[(lon>=110) & (lon<=140)]\n",
    "var_lattime = {}\n",
    "for ivar in var.keys():\n",
    "    var_lattime[ivar] = var[ivar].sel(region_dict).mean('lon')"
   ]
  },
  {
   "cell_type": "markdown",
   "metadata": {},
   "source": [
    "## 绘图部分"
   ]
  },
  {
   "cell_type": "markdown",
   "metadata": {},
   "source": [
    "- time-lat sections"
   ]
  },
  {
   "cell_type": "code",
   "execution_count": null,
   "metadata": {},
   "outputs": [],
   "source": [
    "# import proplot as plot\n",
    "from matplotlib import pyplot as plt\n",
    "import proplot as plot\n",
    "# ----- get filter vars coords-----\n",
    "\n",
    "cmap=\"gist_ncar\"\n",
    "# cmap=\"tab20\"\n",
    "# cmap = \"tab20b\"\n",
    "\n",
    "lat_sel  = var_lattime['era5i'].lat\n",
    "# time_sel = var_lattime['cn051'].time.dt.strftime(\"%m-%d\")\n",
    "time_sel = var_lattime['era5i'].time.values\n",
    "# 500hPa\n",
    "ticks = np.concatenate([np.arange(5300, 5700, 40), np.arange(5700, 5900, 10)])\n",
    "ticks_contour = np.arange(5800, 5920, 20)\n",
    "\n",
    "# 850hPa\n",
    "# ticks = np.arange(1300, 1580, 20)\n",
    "# ticks_contour = np.arange(1300, 1580, 20)\n",
    "\n",
    "\n",
    "#----- create plot -----\n",
    "shape_array = [[0,1,1,0],[2,2,3,3]]\n",
    "fig, axs = plot.subplots(shape_array,figsize=(16,8))\n",
    "\n",
    "axs[0].format(title='ERA-Interim')\n",
    "axs[1].format(title='VR')\n",
    "axs[2].format(title='RCM')\n",
    "# m = axs[0].contour(lon_sel, time_sel, var_lattime['cn051'],\\\n",
    "# levels=ticks,color='k',\n",
    "# linewidth = .5)\n",
    "for i, ivar in enumerate(var_list):\n",
    "    m_overlay = axs[i].contourf(time_sel,  lat_sel, var_lattime[ivar].values.T, cmap=cmap,\\\n",
    "    levels=ticks)\n",
    "    m_contour = axs[i].contour(time_sel,  lat_sel, var_lattime[ivar].values.T,\\\n",
    "    levels=ticks_contour,linewidth=1,color='k')\n",
    "    axs[i].clabel(m_contour, inline=True, fontsize=10, colors = 'k', fmt='%4.0f',use_clabeltext=True, inline_spacing=0)\n",
    "# format作为整个proplot集中对属性进行修改的method\n",
    "axs.format(\n",
    "abc=True, abcloc='ul',\n",
    "xrotation=0,  # rotated time ticks\n",
    "xlabel='time',\n",
    "yformatter='deglat',\n",
    "ylabel='latitude',\n",
    "ylim=(18,50),\n",
    "xminorlocator=('day',range(0,30,5)),\n",
    "xlocator=('month',range(5,12,1)),\n",
    "xformatter = '%b', #title='Ticks every N units',\n",
    "xgridminor = True,\n",
    "suptitle=\"time-latitude cross-section of 500hPa mean height averaged over \" + r\"$110^{\\circ}-140^{\\circ}E$\"\n",
    ")\n",
    "\n",
    "# for tick in axs.get_xticklabels():\n",
    "    # tick.set_rotation(45)\n",
    "#----- add contour tick labels -----\n",
    "fig.colorbar(m_overlay, loc='r', length = 1., width=0.1,extend='both', label='[gpm]',\n",
    "ticklabelsize=5,ticks=ticks)\n",
    "\n",
    "fig.patch.set_facecolor('white')\n",
    "plt.savefig('./output_pic/hgt_500_98-17_lat-time.2022.02.07.png', dpi=600, facecolor= \"white\")"
   ]
  }
 ],
 "metadata": {
  "interpreter": {
   "hash": "5d125e8d1f62ef65bf14791ddcc54379be6b4b51969987cfa8a226a16aec3b4e"
  },
  "kernelspec": {
   "display_name": "Python 3.8.2 64-bit ('proplot0528': conda)",
   "name": "python3"
  },
  "language_info": {
   "codemirror_mode": {
    "name": "ipython",
    "version": 3
   },
   "file_extension": ".py",
   "mimetype": "text/x-python",
   "name": "python",
   "nbconvert_exporter": "python",
   "pygments_lexer": "ipython3",
   "version": "3.8.2"
  },
  "orig_nbformat": 4
 },
 "nbformat": 4,
 "nbformat_minor": 2
}

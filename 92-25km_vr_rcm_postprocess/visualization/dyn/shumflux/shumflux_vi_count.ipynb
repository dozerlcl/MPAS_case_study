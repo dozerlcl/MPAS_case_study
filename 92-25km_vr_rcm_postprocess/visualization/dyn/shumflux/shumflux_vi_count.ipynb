{
 "cells": [
  {
   "cell_type": "code",
   "execution_count": null,
   "metadata": {},
   "outputs": [],
   "source": [
    "# %matplotlib inlineb\n",
    "import numpy as np\n",
    "import matplotlib.pyplot as plt\n",
    "import xarray as xr\n",
    "import pandas as pd"
   ]
  },
  {
   "cell_type": "markdown",
   "metadata": {},
   "source": [
    "2021.07.06\n",
    "\n",
    "计算水汽通量的积分值，在等压面上计算并积分\n",
    "\n",
    "有冗长的整理部分，通过dict选取变量，并且整理到相应的am，jja上，再进行计算，绘制平均"
   ]
  },
  {
   "cell_type": "markdown",
   "metadata": {},
   "source": [
    "# 数据读取"
   ]
  },
  {
   "cell_type": "code",
   "execution_count": null,
   "metadata": {},
   "outputs": [],
   "source": [
    "ds_wind = {}\n",
    "ds_qv   = {}\n",
    "\n",
    "# diag数据包含9-1，需要去掉尾部\n",
    "dir_in = \"/raid52/yycheng/MPAS/VR_postprocess/VR_merge/ke_daily_vi/\"\n",
    "ds_wind['vr'] = xr.open_mfdataset(dir_in + \"*_VR_ke_daily_vi.nc\")\n",
    "ds_wind['vr'] = ds_wind['vr'].sel(Time = ds_wind['vr'].Time.dt.month.isin([4,5,6,7,8]))\n",
    "dir_in = \"/raid52/yycheng/MPAS/VR_postprocess/VR_merge/hum_theta_daily_vi/\"\n",
    "ds_qv['vr'] = xr.open_mfdataset(dir_in + \"*_VR_hum_theta_daily_vi.nc\")\n",
    "ds_qv['vr'] = ds_qv['vr'].sel(Time = ds_qv['vr'].Time.dt.month.isin([4,5,6,7,8]))\n",
    "\n",
    "dir_in = \"/raid52/yycheng/MPAS/RCM_postprocess/RCM_merge/ke_daily_vi/\"\n",
    "ds_wind['rcm'] = xr.open_mfdataset(dir_in + \"*_RCM_ke_daily_vi.nc\")\n",
    "ds_wind['rcm'] = ds_wind['rcm'].sel(Time = ds_wind['rcm'].Time.dt.month.isin([4,5,6,7,8]))\n",
    "dir_in = \"/raid52/yycheng/MPAS/RCM_postprocess/RCM_merge/hum_theta_daily_vi/\"\n",
    "ds_qv['rcm'] = xr.open_mfdataset(dir_in + \"*_RCM_hum_theta_daily_vi.nc\")\n",
    "ds_qv['rcm'] = ds_qv['rcm'].sel(Time = ds_qv['rcm'].Time.dt.month.isin([4,5,6,7,8]))"
   ]
  },
  {
   "cell_type": "code",
   "execution_count": null,
   "metadata": {},
   "outputs": [],
   "source": [
    "# 添加ERA5I观测数据\n",
    "ds_wind['obs'] = {}\n",
    "\n",
    "# 切换 ERA5I 坐标到MPAS输出结果，方便转换\n",
    "\n",
    "rename_dict = {\"level\":\"plevels\", \"lon\":\"longitude\", \"lat\":\"latitude\", \"time\":\"Time\"}\n",
    "# ds_wind['obs']['uReconstructZonal'].assign_coords(Time = Time)\n",
    "# show converting coords\n",
    "for rename_i in rename_dict:\n",
    "    print(rename_i + \" -----converting to----- \" + rename_dict[rename_i])\n",
    "# 读取数据后就整理坐标，和RCM的坐标一致，之后再进行计算\n",
    "dir_in = \"/raid52/yycheng/MPAS/REFERENCE/ERA5I_NC/ERA5I_NC_daily/u_98-17_daily/\"\n",
    "ds_wind['obs'][\"uReconstructZonal\"] = xr.open_dataset(dir_in + \"merge_u_daily.nc\")\\\n",
    "    .rename(rename_dict).assign_coords(ds_qv['rcm']['qv'].coords)['uwnd']\n",
    "\n",
    "dir_in = \"/raid52/yycheng/MPAS/REFERENCE/ERA5I_NC/ERA5I_NC_daily/v_98-17_daily/\"\n",
    "ds_wind['obs'][\"uReconstructMeridional\"] = xr.open_dataset(dir_in + \"merge_v_daily.nc\")\\\n",
    "    .rename(rename_dict).assign_coords(ds_qv['rcm']['qv'].coords)['vwnd']\n",
    "\n",
    "dir_in = \"/raid52/yycheng/MPAS/REFERENCE/ERA5I_NC/ERA5I_NC_daily/shum_98-17_daily/\"\n",
    "ds_qv['obs'] = xr.open_dataset(dir_in + \"merge_shum_daily.nc\").rename(rename_dict).assign_coords(ds_qv['rcm']['qv'].coords)\n",
    "ds_qv['obs'] = ds_qv['obs'].rename({\"shum\":\"qv\"})"
   ]
  },
  {
   "cell_type": "code",
   "execution_count": null,
   "metadata": {},
   "outputs": [],
   "source": [
    "# ----- select data range -----\n",
    "lat_sel     = (ds_qv['vr'].latitude >= 10) & (ds_qv['vr'].latitude <= 60)\n",
    "lon_sel     = (ds_qv['vr'].longitude >= 70) & (ds_qv['vr'].longitude <= 140)\n",
    "plevels_sel = (ds_qv['vr'].plevels >= 500) & (ds_qv['vr'].plevels <= 925)\n",
    "\n",
    "# plevels_sel = (ds_qv['vr'].plevels == 100)\n",
    "time_year    = (ds_qv['vr'].Time.dt.year >= 1998) # 时次相对较长，一开始使用1998年一年进行尝试\n",
    "time_sel_am     = ds_qv['vr'].Time.dt.month.isin([4,5])\n",
    "time_sel_jja    = ds_qv['vr'].Time.dt.month.isin([6,7,8])\n",
    "\n",
    "sel_dict = {}\n",
    "sel_dict['am']    = {'longitude':lon_sel, \"latitude\":lat_sel, \"plevels\":plevels_sel, \"Time\":(time_sel_am & time_year)}\n",
    "sel_dict['jja']   = {'longitude':lon_sel, \"latitude\":lat_sel, \"plevels\":plevels_sel, \"Time\":(time_sel_jja & time_year)}"
   ]
  },
  {
   "cell_type": "code",
   "execution_count": null,
   "metadata": {},
   "outputs": [],
   "source": [
    "# ----- 选取变量 -----\n",
    "mod_list    = ['obs', 'vr', 'rcm']\n",
    "season_list = ['am', 'jja']\n",
    "u_sel = {}\n",
    "# u_sel['vr'] = {}\n",
    "# u_sel['rcm'] = {}\n",
    "# u_sel['vr']['am']  = ds_wind['vr']['uReconstructZonal'].isel(sel_dict_am)        # 读入选取数据到 vr_wind_sel\n",
    "# u_sel['vr']['jja'] = ds_wind['vr']['uReconstructZonal'].isel(sel_dict_jja)        # 读入选取数据到 vr_wind_sel\n",
    "\n",
    "v_sel = {}\n",
    "# v_sel['vr'] = {}\n",
    "# v_sel['rcm'] = {}\n",
    "# v_sel['vr']['am']  = ds_wind['vr']['uReconstructMeridional'].isel(sel_dict_am)        # 读入选取数据到 vr_wind_sel\n",
    "# v_sel['vr']['jja'] = ds_wind['vr']['uReconstructMeridional'].isel(sel_dict_jja)        # 读入选取数据到 vr_wind_sel\n",
    "\n",
    "qv_sel = {}\n",
    "# qv_sel['vr'] = {}\n",
    "# qv_sel['rcm'] = {}\n",
    "# qv_sel['vr']['am']  = ds_qv['vr']['qv'].isel(sel_dict_am)\n",
    "# qv_sel['vr']['jja'] = ds_qv['vr']['qv'].isel(sel_dict_jja)\n",
    "\n",
    "for imod in mod_list:\n",
    "    # print(imod)\n",
    "    u_sel[imod]  = {}\n",
    "    v_sel[imod]  = {}\n",
    "    qv_sel[imod] = {}\n",
    "    for iseason in season_list:\n",
    "        # print(iseason)\n",
    "        u_sel[imod][iseason]  = ds_wind[imod]['uReconstructZonal'].isel(sel_dict[iseason])\n",
    "        v_sel[imod][iseason]  = ds_wind[imod]['uReconstructMeridional'].isel(sel_dict[iseason])\n",
    "        qv_sel[imod][iseason] = ds_qv[imod]['qv'].isel(sel_dict[iseason])"
   ]
  },
  {
   "cell_type": "markdown",
   "metadata": {},
   "source": [
    "# 计算垂直积分\n",
    "\n",
    "保存到变量 uflux_vi 和 vflux_vi 之中"
   ]
  },
  {
   "cell_type": "code",
   "execution_count": null,
   "metadata": {},
   "outputs": [],
   "source": [
    "# count flux\n",
    "uflux = {}\n",
    "vflux = {}\n",
    "# count flux vertical integration\n",
    "uflux_vi = {}\n",
    "vflux_vi = {}\n",
    "sel_plevels_val = u_sel['vr']['am'].plevels\n",
    "\n",
    "for imod in mod_list:\n",
    "    print(imod)\n",
    "    uflux[imod] = {}\n",
    "    vflux[imod] = {}\n",
    "    uflux_vi[imod] = {}\n",
    "    vflux_vi[imod] = {}\n",
    "    for iseason in season_list:\n",
    "        print(iseason)\n",
    "        uflux[imod][iseason] = u_sel[imod][iseason] * qv_sel[imod][iseason]\n",
    "        vflux[imod][iseason] = v_sel[imod][iseason] * qv_sel[imod][iseason]\n",
    "\n",
    "        # find plevels axis location\n",
    "        plevels_axis = list(uflux[imod][iseason].dims).index('plevels')\n",
    "        uflux_vi[imod][iseason] = np.trapz(uflux[imod][iseason], sel_plevels_val, axis = plevels_axis)\n",
    "        vflux_vi[imod][iseason] = np.trapz(vflux[imod][iseason], sel_plevels_val, axis = plevels_axis)\n",
    "# "
   ]
  },
  {
   "cell_type": "code",
   "execution_count": null,
   "metadata": {},
   "outputs": [],
   "source": [
    "# 计算绘图的平均值\n",
    "uflux_vi_mean = {} # 平均u方向水汽通量\n",
    "vflux_vi_mean = {} # 平均v方向水汽通量\n",
    "absflux_vi_mean = {} # 水汽通量大小，平均图\n",
    "for imod in mod_list:\n",
    "    uflux_vi_mean[imod] = {}\n",
    "    vflux_vi_mean[imod] = {}\n",
    "    absflux_vi_mean[imod] = {}\n",
    "    for iseason in season_list:\n",
    "        uflux_vi_mean[imod][iseason] = uflux_vi[imod][iseason].mean(axis=0)\n",
    "        vflux_vi_mean[imod][iseason] = vflux_vi[imod][iseason].mean(axis=0)\n",
    "        absflux_vi_mean[imod][iseason] = np.sqrt(uflux_vi_mean[imod][iseason] ** 2 + vflux_vi_mean[imod][iseason] **2) \n",
    "# flux 等值线绘制大小"
   ]
  },
  {
   "cell_type": "code",
   "execution_count": null,
   "metadata": {},
   "outputs": [],
   "source": [
    "# 整理绘图所使用的坐标变量\n",
    "lat  = u_sel['vr']['jja'].latitude\n",
    "lon  = u_sel['vr']['jja'].longitude\n",
    "time = u_sel['vr']['jja'].Time\n",
    "time_am = u_sel['vr']['am'].Time\n",
    "time_jja = u_sel['vr']['jja'].Time\n",
    "# vr_uflux_sum_addcoords = xr.DataArray(vr_uflux_sum, coords=[time,lat,lon], name = \"qv uflux\").mean('Time')\n",
    "# vr_vflux_sum_addcoords = xr.DataArray(vr_vflux_sum, coords=[time,lat,lon], name = \"qv vflux\").mean('Time')\n",
    "# vr_flux_all = np.sqrt(vr_uflux_sum_addcoords ** 2 + vr_vflux_sum_addcoords ** 2 )"
   ]
  },
  {
   "cell_type": "markdown",
   "metadata": {},
   "source": [
    "# 临时文件\n",
    "\n",
    "进行文件的输出部分 计算时间太长 需要一个半小时\n",
    "\n",
    "进行flux垂直积分之后结果的输出，放置到 /raid52/yycheng/MPAS/REFERENCE/TEMP_DATA/dyn/shum_flux 之中\n",
    "\n",
    "合并了RCM的边界上的空缺，但是文件输出都是手动进行的，注意对变量、时次进行调整"
   ]
  },
  {
   "cell_type": "code",
   "execution_count": null,
   "metadata": {},
   "outputs": [],
   "source": [
    "# 处理RCM 中边界的NAN的问题，合并成同样的fillvalues，之后赋值为 -1e30\n",
    "for iseason in season_list:\n",
    "    rcm_nan_index = (uflux_vi['rcm'][iseason][:,:,:] > 1e10)\n",
    "    uflux_vi['rcm'][iseason][rcm_nan_index] = -1e30\n",
    "    vflux_vi['rcm'][iseason][rcm_nan_index] = -1e30"
   ]
  },
  {
   "cell_type": "code",
   "execution_count": null,
   "metadata": {},
   "outputs": [],
   "source": [
    "# 临时存放变量\n",
    "# uflux_vi['obs']['am'].shape\n",
    "iseason = 'jja'\n",
    "uflux_vi_tonc = {}\n",
    "vflux_vi_tonc = {}\n",
    "encoding = {}\n",
    "for imod in mod_list:\n",
    "    # uflux_vi_tonc[imod] = xr.DataArray(uflux_vi[imod][iseason], coords=[time_jja,lat,lon], name=imod)\n",
    "    vflux_vi_tonc[imod] = xr.DataArray(vflux_vi[imod][iseason], coords=[time_jja,lat,lon], name=imod)\n",
    "    # 添加NAN时需要\n",
    "    encoding[imod] = {\"_FillValue\":-1e30}\n",
    "\n",
    "ds_out = xr.merge(list( vflux_vi_tonc.values() ))\n",
    "ds_out.fillna(-1e30)"
   ]
  },
  {
   "cell_type": "code",
   "execution_count": null,
   "metadata": {},
   "outputs": [],
   "source": [
    "dir_out = \"/raid52/yycheng/MPAS/REFERENCE/TEMP_DATA/dyn/shum_flux/\"\n",
    "ds_out.to_netcdf(\"shum_vflux_\"+iseason+\".nc\", encoding = encoding)\n",
    "ds_out.close()"
   ]
  },
  {
   "cell_type": "markdown",
   "metadata": {},
   "source": [
    "# 绘图部分"
   ]
  },
  {
   "cell_type": "code",
   "execution_count": null,
   "metadata": {},
   "outputs": [],
   "source": [
    "# import proplot as plot\n",
    "from matplotlib import pyplot as plt\n",
    "import proplot as plot\n",
    "\n",
    "# cmap = \"coolwarm\"\n",
    "cmap = \"gist_ncar\"\n",
    "# ----- get filter vars coords-----\n",
    "\n",
    "cticks = np.arange(0,48,2)\n",
    "\n",
    "#----- create plot -----\n",
    "fig, axs = plot.subplots(ncols=3,nrows=2, proj=('cyl'))\n",
    "\n",
    "#-----vr-----\n",
    "axs[0].format(title='ERA5I AM')\n",
    "m_contour= axs[0].contourf(lon, lat, absflux_vi_mean['obs']['am'], levels = cticks, cmap=cmap)\n",
    "m_quiver = axs[0].quiver(lon[::10], lat[::10], uflux_vi_mean['obs']['am'][::10,::10], vflux_vi_mean['obs']['am'][::10,::10],scale = 400.)\n",
    "\n",
    "axs[1].format(title='VR AM')\n",
    "m_contour= axs[1].contourf(lon, lat, absflux_vi_mean['vr']['am'], levels = cticks, cmap=cmap)\n",
    "m_quiver = axs[1].quiver(lon[::10], lat[::10], uflux_vi_mean['vr']['am'][::10,::10], vflux_vi_mean['vr']['am'][::10,::10],scale = 400.)\n",
    "#-----rcm -----\n",
    "axs[2].format(title='RCM AM')\n",
    "m_contour= axs[2].contourf(lon, lat, absflux_vi_mean['rcm']['am'], levels = cticks, cmap=cmap)\n",
    "m_quiver = axs[2].quiver(lon[::10], lat[::10], uflux_vi_mean['rcm']['am'][::10,::10], vflux_vi_mean['rcm']['am'][::10,::10],scale = 400.)\n",
    "axs[2].quiverkey(m_quiver, 0.5, 1.2, label=\"20 (kg*m*hPa)/(s*kg)\", U=20, labelpos=\"E\")\n",
    "\n",
    "axs[3].format(title='ERA5I JJA')\n",
    "m_contour= axs[3].contourf(lon, lat, absflux_vi_mean['obs']['jja'], levels = cticks, cmap=cmap)\n",
    "m_quiver = axs[3].quiver(lon[::10], lat[::10], uflux_vi_mean['obs']['jja'][::10,::10], vflux_vi_mean['obs']['am'][::10,::10],scale = 400.)\n",
    "\n",
    "axs[4].format(title='VR JJA')\n",
    "m_contour= axs[4].contourf(lon, lat, absflux_vi_mean['vr']['jja'], levels = cticks, cmap=cmap)\n",
    "m_quiver = axs[4].quiver(lon[::10], lat[::10], uflux_vi_mean['vr']['jja'][::10,::10], vflux_vi_mean['vr']['am'][::10,::10],scale = 400.)\n",
    "\n",
    "axs[5].format(title='RCM JJA')\n",
    "m_contour= axs[5].contourf(lon, lat, absflux_vi_mean['rcm']['jja'], levels = cticks, cmap=cmap)\n",
    "m_quiver = axs[5].quiver(lon[::10], lat[::10], uflux_vi_mean['rcm']['jja'][::10,::10], vflux_vi_mean['rcm']['am'][::10,::10],scale = 400.)\n",
    "\n",
    "\n",
    "fig.colorbar(m_contour, cmap=cmap,loc='b', width=0.1,ticklabelsize=5,ticks=cticks,label=\"units : (kg*m*hPa)/(s*kg)\")\n",
    "# format作为整个proplot集中对属性进行修改的method\n",
    "axs.format(\n",
    "abc=True,\n",
    "lonlim=(70, 140), latlim=(15, 55), coast=True,\n",
    "#-----GEO axis-----\n",
    "borders = True,\n",
    "labels = True,\n",
    "gridlabelsize = 5,\n",
    "gridminor = False,\n",
    "\n",
    "longrid  = True,\n",
    "latgrid  = True,\n",
    "# latlines = 10,\n",
    "# lonlines = 10,\n",
    "lonlocator = np.arange(70,150,10),\n",
    "latlocator = np.arange(15,65,10),\n",
    "lonminorlocator = np.arange(70,140+2,2),\n",
    "latminorlocator = np.arange(15,55+2,2),\n",
    "#-----line label-----\n",
    "# linewidth = 0.5,\n",
    "suptitle=\"925-500hPa vertical specific humidity flux integration\",\n",
    ")\n",
    "# #----- add contour tick labels -----\n",
    "# # axs.clabel(m, inline=True, fontsize=5, colors = 'k', fmt='%4.0f',use_clabeltext=True, inline_spacing=0)\n",
    "# fig.colorbar(m_contour, loc='b', cmap=cmap, width=0.1)\n",
    "\n",
    "fig.patch.set_facecolor('white')\n",
    "plt.savefig('./output_pic/water_flux_vi_98-17.png', dpi=600, facecolor= \"white\")"
   ]
  }
 ],
 "metadata": {
  "interpreter": {
   "hash": "da0469cb1653dac5810650c6f9c12d7c46a389e85e448c305f1477fdb1af5288"
  },
  "kernelspec": {
   "display_name": "Python 3.8.2 64-bit ('proplot0528': conda)",
   "name": "python3"
  },
  "language_info": {
   "codemirror_mode": {
    "name": "ipython",
    "version": 3
   },
   "file_extension": ".py",
   "mimetype": "text/x-python",
   "name": "python",
   "nbconvert_exporter": "python",
   "pygments_lexer": "ipython3",
   "version": "3.8.2"
  },
  "orig_nbformat": 4
 },
 "nbformat": 4,
 "nbformat_minor": 2
}
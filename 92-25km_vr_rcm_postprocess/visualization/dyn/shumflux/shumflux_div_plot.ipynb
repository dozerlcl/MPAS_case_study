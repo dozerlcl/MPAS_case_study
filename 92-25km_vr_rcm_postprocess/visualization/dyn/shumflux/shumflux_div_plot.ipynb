{
 "cells": [
  {
   "cell_type": "code",
   "execution_count": 1,
   "source": [
    "import numpy as np\n",
    "import matplotlib.pyplot as plt\n",
    "import xarray as xr\n",
    "import pandas as pd"
   ],
   "outputs": [],
   "metadata": {}
  },
  {
   "cell_type": "markdown",
   "source": [
    "2021.07.21\n",
    "\n",
    "水汽通量垂直积分的绘图部分，计算散度并绘制\n",
    "\n",
    "从 shumflux_vi_count.ipynb 的预存数据中读取，进行绘图"
   ],
   "metadata": {}
  },
  {
   "cell_type": "code",
   "execution_count": 2,
   "source": [
    "dir_in = \"/raid52/yycheng/MPAS/REFERENCE/TEMP_DATA/dyn/shum_flux/\"\n",
    "mod_list    = ['obs', 'vr', 'rcm']\n",
    "season_list = ['am', 'jja']\n",
    "# 读取水汽通量的垂直积分\n",
    "uflux_vi = {}\n",
    "vflux_vi = {}\n",
    "\n",
    "for imod in mod_list:\n",
    "    uflux_vi[imod]  = {}\n",
    "    vflux_vi[imod]  = {}\n",
    "    \n",
    "    for iseason in season_list:\n",
    "        uflux_vi[imod][iseason]  = xr.open_dataset(dir_in + \"shum_uflux_\"+iseason+\".nc\")[imod]\n",
    "        vflux_vi[imod][iseason]  = xr.open_dataset(dir_in + \"shum_vflux_\"+iseason+\".nc\")[imod]"
   ],
   "outputs": [],
   "metadata": {}
  },
  {
   "cell_type": "code",
   "execution_count": 5,
   "source": [
    "uflux_vi['obs']"
   ],
   "outputs": [
    {
     "output_type": "execute_result",
     "data": {
      "text/plain": [
       "{'am': <xarray.DataArray 'obs' (Time: 1220, latitude: 160, longitude: 280)>\n",
       " [54656000 values with dtype=float64]\n",
       " Coordinates:\n",
       "   * Time       (Time) datetime64[ns] 1998-04-01 1998-04-02 ... 2017-05-31\n",
       "   * latitude   (latitude) float32 15.12 15.37 15.62 15.87 ... 54.37 54.62 54.87\n",
       "   * longitude  (longitude) float32 70.12 70.37 70.62 70.87 ... 139.4 139.6 139.9,\n",
       " 'jja': <xarray.DataArray 'obs' (Time: 1840, latitude: 160, longitude: 280)>\n",
       " [82432000 values with dtype=float64]\n",
       " Coordinates:\n",
       "   * Time       (Time) datetime64[ns] 1998-06-01 1998-06-02 ... 2017-08-31\n",
       "   * latitude   (latitude) float32 15.12 15.37 15.62 15.87 ... 54.37 54.62 54.87\n",
       "   * longitude  (longitude) float32 70.12 70.37 70.62 70.87 ... 139.4 139.6 139.9}"
      ]
     },
     "metadata": {},
     "execution_count": 5
    }
   ],
   "metadata": {}
  }
 ],
 "metadata": {
  "orig_nbformat": 4,
  "language_info": {
   "name": "python",
   "version": "3.8.2",
   "mimetype": "text/x-python",
   "codemirror_mode": {
    "name": "ipython",
    "version": 3
   },
   "pygments_lexer": "ipython3",
   "nbconvert_exporter": "python",
   "file_extension": ".py"
  },
  "kernelspec": {
   "name": "python3",
   "display_name": "Python 3.8.2 64-bit ('proplot0528': conda)"
  },
  "interpreter": {
   "hash": "da0469cb1653dac5810650c6f9c12d7c46a389e85e448c305f1477fdb1af5288"
  }
 },
 "nbformat": 4,
 "nbformat_minor": 2
}
{
 "cells": [
  {
   "cell_type": "code",
   "execution_count": 1,
   "source": [
    "import numpy as np\n",
    "import matplotlib.pyplot as plt\n",
    "import xarray as xr\n",
    "import pandas as pd\n",
    "import cmaps"
   ],
   "outputs": [],
   "metadata": {}
  },
  {
   "cell_type": "markdown",
   "source": [
    "## 分开检查比湿以及wind\n",
    "\n",
    "2021.08.24"
   ],
   "metadata": {}
  },
  {
   "cell_type": "code",
   "execution_count": null,
   "source": [
    "dir_hum_mod = \"/raid52/yycheng/MPAS/VR_postprocess/VR_merge_large/hum_theta_daily_vi/\"\n",
    "dir_hum_obs = \"/raid52/yycheng/MPAS/REFERENCE/ERA5I_NC/ERA5I_NC_daily_large/shum_98-17_daily/\"\n",
    "filename_hum_obs  = \"merge_shum_98-17_daily.nc\"\n",
    "filename_hum_vr     = \"*VR_hum_theta_daily_vi.nc\"\n",
    "filename_hum_rcm    = \"*RCM_hum_theta_daily_vi.nc\"\n",
    "\n",
    "da_hum = {}\n",
    "da_hum['obs'] = xr.open_mfdataset(dir_hum_obs + filename_hum_obs)\n",
    "da_hum['vr']     = xr.open_mfdataset(dir_hum_mod + filename_hum_vr)\n",
    "da_hum['rcm']    = xr.open_mfdataset(dir_hum_mod + filename_hum_rcm  )\n",
    "# 提取变量\n",
    "# var = {}\n",
    "# var['obs'] = ds_or['obs']['premerge']#[:,  :, :]\n",
    "# var['vr'] = ds_or['vr']['precip_MPAS']\n",
    "# var['rcm'] = ds_or['rcm']['precip_MPAS']\n",
    "\n",
    "# var['obs'] = var['obs'].reset_coords(names = 'lev', drop = True) # 去除掉obs中多余的lev coords\n",
    "\n",
    "# # change coords\n",
    "# var_list = ['obs', 'vr', 'rcm']\n",
    "# for i in var_list:\n",
    "#     rename_dict = dict(zip(var[i].coords.keys(), var['obs'].coords.keys()))\n",
    "# #     # show converting coords\n",
    "#     for rename_i in rename_dict:\n",
    "#         print(rename_i + \" -----converting to----- \" + rename_dict[rename_i])\n",
    "\n",
    "#     var[i] = var[i].rename(rename_dict)\n",
    "#     var[i]._coords = var['obs']._coords\n",
    "#     var[i] = var[i].rename(i)\n"
   ],
   "outputs": [],
   "metadata": {}
  }
 ],
 "metadata": {
  "orig_nbformat": 4,
  "language_info": {
   "name": "python",
   "version": "3.8.2",
   "mimetype": "text/x-python",
   "codemirror_mode": {
    "name": "ipython",
    "version": 3
   },
   "pygments_lexer": "ipython3",
   "nbconvert_exporter": "python",
   "file_extension": ".py"
  },
  "kernelspec": {
   "name": "python3",
   "display_name": "Python 3.8.2 64-bit ('proplot0528': conda)"
  },
  "interpreter": {
   "hash": "da0469cb1653dac5810650c6f9c12d7c46a389e85e448c305f1477fdb1af5288"
  }
 },
 "nbformat": 4,
 "nbformat_minor": 2
}